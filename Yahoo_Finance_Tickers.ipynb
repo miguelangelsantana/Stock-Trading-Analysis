{
 "cells": [
  {
   "cell_type": "markdown",
   "metadata": {},
   "source": [
    "# Stock Trading Analysis\n",
    "\n",
    "#### Using Twitter Data to Observe Trends in Financial Markets\n",
    "\n",
    "#### Project Methodology | Notebook Two\n",
    "\n",
    "There are several popular investors that gain notoriety by sharing a few of their stock picks on Twitter. The goal of this project is to extract popular Tweets to identify ticker symbols for further analysis. The stock data in this project will come from Yahoo finance. The project will follow the OSEMN framework.  \n",
    "\n",
    "#### Notebook Structure\n",
    "* Notebook 1 will focus on Twitter data and introductory ticker symbol analysis. \n",
    "* **Notebook 2 will dive deeper into the most frequently tweeted ticker symbols and their performance since January 1st of 2021.** \n",
    "\n",
    "## Important Note\n",
    "#### None of the following is meant to be financial advice. This is simply an observation of trends in the market."
   ]
  },
  {
   "cell_type": "code",
   "execution_count": 1,
   "metadata": {
    "ExecuteTime": {
     "end_time": "2021-07-12T21:21:19.080068Z",
     "start_time": "2021-07-12T21:21:18.287111Z"
    }
   },
   "outputs": [],
   "source": [
    "import pandas as pd\n",
    "import numpy as np\n",
    "import seaborn as sns\n",
    "import matplotlib.pyplot as plt\n",
    "%matplotlib inline\n",
    "# plt.style.use('seaborn-poster') \n",
    "sns.set_style('whitegrid')\n",
    "pd.set_option('mode.chained_assignment', None)"
   ]
  },
  {
   "cell_type": "code",
   "execution_count": 2,
   "metadata": {
    "ExecuteTime": {
     "end_time": "2021-07-12T21:21:19.848705Z",
     "start_time": "2021-07-12T21:21:19.081544Z"
    }
   },
   "outputs": [],
   "source": [
    "from pandas_datareader import data, wb\n",
    "import datetime\n",
    "import plotly.graph_objects as go\n",
    "import chart_studio"
   ]
  },
  {
   "cell_type": "code",
   "execution_count": 23,
   "metadata": {
    "ExecuteTime": {
     "end_time": "2021-07-12T21:29:48.069570Z",
     "start_time": "2021-07-12T21:29:48.064971Z"
    }
   },
   "outputs": [
    {
     "data": {
      "text/html": [
       "        <script type=\"text/javascript\">\n",
       "        window.PlotlyConfig = {MathJaxConfig: 'local'};\n",
       "        if (window.MathJax) {MathJax.Hub.Config({SVG: {font: \"STIX-Web\"}});}\n",
       "        if (typeof require !== 'undefined') {\n",
       "        require.undef(\"plotly\");\n",
       "        requirejs.config({\n",
       "            paths: {\n",
       "                'plotly': ['https://cdn.plot.ly/plotly-latest.min']\n",
       "            }\n",
       "        });\n",
       "        require(['plotly'], function(Plotly) {\n",
       "            window._Plotly = Plotly;\n",
       "        });\n",
       "        }\n",
       "        </script>\n",
       "        "
      ]
     },
     "metadata": {},
     "output_type": "display_data"
    }
   ],
   "source": [
    "# import chart_studio.plotly as py\n",
    "from plotly.offline import plot\n",
    "import cufflinks as cf\n",
    "cf.go_offline()"
   ]
  },
  {
   "cell_type": "markdown",
   "metadata": {},
   "source": [
    "# Obtain | Stock Data \n",
    "Stock data will be pulled via Yahoo Finance. Notebook one observed the 15 most mentioned stock tickers by traderstewie on Twitter.\n",
    "\n",
    "* MVIS: Microvision, Inc\n",
    "* SOL: ReneSola\n",
    "* SOLO: ElectraMeccanica\n",
    "* KOPN: Kopin Corporation\n",
    "* VERU: Veru Company\n",
    "* HIMX: Himax Technologies, Inc\n",
    "* SM: SM Energy Co\n",
    "* SPWR: SunPower Corporation\n",
    "* WISH: ContextLogic, Inc\n",
    "* COTY: Coty Company\n",
    "* TAN: Invesco Solar ETF\n",
    "* GEVO: Gevo Biofuel company\n",
    "* UAVS: Ageagle Aerial Systems, Inc\n",
    "* NNDM: Nano Dimension Company\n",
    "* PLTR: Palantir Technologies Software company\n",
    "\n",
    "**Note: Yahoo finance may not be able to pull data on each of these so we may lose a few ticker symbols along the way. In either case, the analysis will narrow down the list to the top 5 performing symbols in 2021**"
   ]
  },
  {
   "cell_type": "markdown",
   "metadata": {
    "ExecuteTime": {
     "end_time": "2021-07-09T18:15:31.717535Z",
     "start_time": "2021-07-09T18:15:31.714898Z"
    }
   },
   "source": [
    "## Note | API Issues\n",
    "\n",
    "The Yahoo finance API is currently down but does allow you to download single csv files individually. When you run each individual cell, the resulting error provides a URL you can use to view and download your prepared data. Downloading, importing and concatenating files to continue."
   ]
  },
  {
   "cell_type": "markdown",
   "metadata": {},
   "source": [
    "```python\n",
    "# preferred, but doesn't provide a link, must call individual tickers for now\n",
    "df = data.DataReader(['COTY','HIMX','KOPN','MVIS','SM','SOL','SOLO',\n",
    "                      'SPWR','TAN','VERU'],'yahoo', start, end)\n",
    "```"
   ]
  },
  {
   "cell_type": "markdown",
   "metadata": {
    "ExecuteTime": {
     "end_time": "2021-07-09T18:18:55.636774Z",
     "start_time": "2021-07-09T18:18:55.634515Z"
    }
   },
   "source": [
    "```python\n",
    "# working option, link provided | top 10 stock mentions\n",
    "start = datetime.datetime(2021, 1, 1)\n",
    "end = datetime.datetime(2021, 7, 8)\n",
    "\n",
    "MVIS = data.DataReader(\"MVIS\", 'yahoo', start, end)\n",
    "SOL = data.DataReader(\"SOL\", 'yahoo', start, end)\n",
    "SOLO = data.DataReader(\"SOLO\", 'yahoo', start, end)\n",
    "KOPN = data.DataReader(\"KOPN\", 'yahoo', start, end)\n",
    "VERU = data.DataReader(\"VERU\", 'yahoo', start, end)\n",
    "HIMX = data.DataReader(\"HIMX\", 'yahoo', start, end)\n",
    "SM = data.DataReader(\"SM\", 'yahoo', start, end)\n",
    "SPWR = data.DataReader(\"SPWR\", 'yahoo', start, end)\n",
    "COTY = data.DataReader(\"COTY\", 'yahoo', start, end)\n",
    "TAN = data.DataReader(\"TAN\", 'yahoo', start, end)\n",
    "```"
   ]
  },
  {
   "cell_type": "markdown",
   "metadata": {},
   "source": [
    "# Scrub \n",
    "#### Importing and Combining Stock Files"
   ]
  },
  {
   "cell_type": "code",
   "execution_count": 4,
   "metadata": {
    "ExecuteTime": {
     "end_time": "2021-07-12T21:21:20.015736Z",
     "start_time": "2021-07-12T21:21:19.986111Z"
    }
   },
   "outputs": [],
   "source": [
    "# importing files / unfortunately one at a time\n",
    "MVIS = pd.read_csv('yahoo/MVIS.csv',index_col='Date')\n",
    "SOL = pd.read_csv('yahoo/SOL.csv',index_col='Date')\n",
    "SOLO = pd.read_csv('yahoo/SOLO.csv',index_col='Date')\n",
    "KOPN = pd.read_csv('yahoo/KOPN.csv',index_col='Date')\n",
    "VERU = pd.read_csv('yahoo/VERU.csv',index_col='Date')\n",
    "HIMX = pd.read_csv('yahoo/HIMX.csv',index_col='Date')\n",
    "SM = pd.read_csv('yahoo/SM.csv',index_col='Date')\n",
    "SPWR = pd.read_csv('yahoo/SPWR.csv',index_col='Date')\n",
    "COTY = pd.read_csv('yahoo/COTY.csv',index_col='Date')\n",
    "TAN = pd.read_csv('yahoo/TAN.csv',index_col='Date')"
   ]
  },
  {
   "cell_type": "code",
   "execution_count": 5,
   "metadata": {
    "ExecuteTime": {
     "end_time": "2021-07-12T21:21:20.023041Z",
     "start_time": "2021-07-12T21:21:20.017193Z"
    }
   },
   "outputs": [],
   "source": [
    "# tickers in alphabetical order / tickers.sort()\n",
    "tickers = ['COTY', 'HIMX', 'KOPN', 'MVIS', 'SM', 'SOL', 'SOLO', \n",
    "           'SPWR', 'TAN', 'VERU']\n",
    "# combining csv files\n",
    "df = pd.concat([COTY,HIMX,KOPN,MVIS,SM,SOL,SOLO,SPWR,TAN,VERU],axis=1,keys=tickers)\n",
    "df.columns.names = ['Stock Ticker','Stock Info']"
   ]
  },
  {
   "cell_type": "code",
   "execution_count": 6,
   "metadata": {
    "ExecuteTime": {
     "end_time": "2021-07-12T21:21:20.055615Z",
     "start_time": "2021-07-12T21:21:20.024349Z"
    }
   },
   "outputs": [
    {
     "data": {
      "text/html": [
       "<div>\n",
       "<style scoped>\n",
       "    .dataframe tbody tr th:only-of-type {\n",
       "        vertical-align: middle;\n",
       "    }\n",
       "\n",
       "    .dataframe tbody tr th {\n",
       "        vertical-align: top;\n",
       "    }\n",
       "\n",
       "    .dataframe thead tr th {\n",
       "        text-align: left;\n",
       "    }\n",
       "\n",
       "    .dataframe thead tr:last-of-type th {\n",
       "        text-align: right;\n",
       "    }\n",
       "</style>\n",
       "<table border=\"1\" class=\"dataframe\">\n",
       "  <thead>\n",
       "    <tr>\n",
       "      <th>Stock Ticker</th>\n",
       "      <th colspan=\"6\" halign=\"left\">COTY</th>\n",
       "      <th colspan=\"4\" halign=\"left\">HIMX</th>\n",
       "      <th>...</th>\n",
       "      <th colspan=\"4\" halign=\"left\">TAN</th>\n",
       "      <th colspan=\"6\" halign=\"left\">VERU</th>\n",
       "    </tr>\n",
       "    <tr>\n",
       "      <th>Stock Info</th>\n",
       "      <th>Open</th>\n",
       "      <th>High</th>\n",
       "      <th>Low</th>\n",
       "      <th>Close</th>\n",
       "      <th>Adj Close</th>\n",
       "      <th>Volume</th>\n",
       "      <th>Open</th>\n",
       "      <th>High</th>\n",
       "      <th>Low</th>\n",
       "      <th>Close</th>\n",
       "      <th>...</th>\n",
       "      <th>Low</th>\n",
       "      <th>Close</th>\n",
       "      <th>Adj Close</th>\n",
       "      <th>Volume</th>\n",
       "      <th>Open</th>\n",
       "      <th>High</th>\n",
       "      <th>Low</th>\n",
       "      <th>Close</th>\n",
       "      <th>Adj Close</th>\n",
       "      <th>Volume</th>\n",
       "    </tr>\n",
       "    <tr>\n",
       "      <th>Date</th>\n",
       "      <th></th>\n",
       "      <th></th>\n",
       "      <th></th>\n",
       "      <th></th>\n",
       "      <th></th>\n",
       "      <th></th>\n",
       "      <th></th>\n",
       "      <th></th>\n",
       "      <th></th>\n",
       "      <th></th>\n",
       "      <th></th>\n",
       "      <th></th>\n",
       "      <th></th>\n",
       "      <th></th>\n",
       "      <th></th>\n",
       "      <th></th>\n",
       "      <th></th>\n",
       "      <th></th>\n",
       "      <th></th>\n",
       "      <th></th>\n",
       "      <th></th>\n",
       "    </tr>\n",
       "  </thead>\n",
       "  <tbody>\n",
       "    <tr>\n",
       "      <th>2021-01-04</th>\n",
       "      <td>7.05</td>\n",
       "      <td>7.05</td>\n",
       "      <td>6.64</td>\n",
       "      <td>6.76</td>\n",
       "      <td>6.76</td>\n",
       "      <td>9424800</td>\n",
       "      <td>7.64</td>\n",
       "      <td>7.69</td>\n",
       "      <td>7.01</td>\n",
       "      <td>7.14</td>\n",
       "      <td>...</td>\n",
       "      <td>103.000000</td>\n",
       "      <td>104.959999</td>\n",
       "      <td>104.959999</td>\n",
       "      <td>2978200</td>\n",
       "      <td>8.55</td>\n",
       "      <td>8.56</td>\n",
       "      <td>7.85</td>\n",
       "      <td>8.05</td>\n",
       "      <td>8.05</td>\n",
       "      <td>2846800</td>\n",
       "    </tr>\n",
       "    <tr>\n",
       "      <th>2021-01-05</th>\n",
       "      <td>6.76</td>\n",
       "      <td>6.96</td>\n",
       "      <td>6.76</td>\n",
       "      <td>6.89</td>\n",
       "      <td>6.89</td>\n",
       "      <td>7097200</td>\n",
       "      <td>7.14</td>\n",
       "      <td>7.44</td>\n",
       "      <td>7.11</td>\n",
       "      <td>7.37</td>\n",
       "      <td>...</td>\n",
       "      <td>103.720001</td>\n",
       "      <td>106.070000</td>\n",
       "      <td>106.070000</td>\n",
       "      <td>2112800</td>\n",
       "      <td>7.92</td>\n",
       "      <td>9.70</td>\n",
       "      <td>7.77</td>\n",
       "      <td>9.49</td>\n",
       "      <td>9.49</td>\n",
       "      <td>11719000</td>\n",
       "    </tr>\n",
       "    <tr>\n",
       "      <th>2021-01-06</th>\n",
       "      <td>6.95</td>\n",
       "      <td>7.26</td>\n",
       "      <td>6.82</td>\n",
       "      <td>6.96</td>\n",
       "      <td>6.96</td>\n",
       "      <td>10631100</td>\n",
       "      <td>7.40</td>\n",
       "      <td>7.69</td>\n",
       "      <td>7.14</td>\n",
       "      <td>7.32</td>\n",
       "      <td>...</td>\n",
       "      <td>111.699997</td>\n",
       "      <td>115.269997</td>\n",
       "      <td>115.269997</td>\n",
       "      <td>7216500</td>\n",
       "      <td>9.35</td>\n",
       "      <td>9.85</td>\n",
       "      <td>9.03</td>\n",
       "      <td>9.23</td>\n",
       "      <td>9.23</td>\n",
       "      <td>5271800</td>\n",
       "    </tr>\n",
       "  </tbody>\n",
       "</table>\n",
       "<p>3 rows × 60 columns</p>\n",
       "</div>"
      ],
      "text/plain": [
       "Stock Ticker  COTY                                        HIMX              \\\n",
       "Stock Info    Open  High   Low Close Adj Close    Volume  Open  High   Low   \n",
       "Date                                                                         \n",
       "2021-01-04    7.05  7.05  6.64  6.76      6.76   9424800  7.64  7.69  7.01   \n",
       "2021-01-05    6.76  6.96  6.76  6.89      6.89   7097200  7.14  7.44  7.11   \n",
       "2021-01-06    6.95  7.26  6.82  6.96      6.96  10631100  7.40  7.69  7.14   \n",
       "\n",
       "Stock Ticker        ...         TAN                                   VERU  \\\n",
       "Stock Info   Close  ...         Low       Close   Adj Close   Volume  Open   \n",
       "Date                ...                                                      \n",
       "2021-01-04    7.14  ...  103.000000  104.959999  104.959999  2978200  8.55   \n",
       "2021-01-05    7.37  ...  103.720001  106.070000  106.070000  2112800  7.92   \n",
       "2021-01-06    7.32  ...  111.699997  115.269997  115.269997  7216500  9.35   \n",
       "\n",
       "Stock Ticker                                        \n",
       "Stock Info    High   Low Close Adj Close    Volume  \n",
       "Date                                                \n",
       "2021-01-04    8.56  7.85  8.05      8.05   2846800  \n",
       "2021-01-05    9.70  7.77  9.49      9.49  11719000  \n",
       "2021-01-06    9.85  9.03  9.23      9.23   5271800  \n",
       "\n",
       "[3 rows x 60 columns]"
      ]
     },
     "execution_count": 6,
     "metadata": {},
     "output_type": "execute_result"
    }
   ],
   "source": [
    "df.head(3)"
   ]
  },
  {
   "cell_type": "markdown",
   "metadata": {
    "ExecuteTime": {
     "end_time": "2021-07-09T16:37:31.472376Z",
     "start_time": "2021-07-09T16:37:31.468526Z"
    }
   },
   "source": [
    "# Exploratory Data Analysis\n",
    "\n",
    "Multi-level indexing using .xs for stock analysis"
   ]
  },
  {
   "cell_type": "code",
   "execution_count": 7,
   "metadata": {
    "ExecuteTime": {
     "end_time": "2021-07-12T21:21:20.836194Z",
     "start_time": "2021-07-12T21:21:20.057234Z"
    }
   },
   "outputs": [
    {
     "data": {
      "image/png": "[encoded data removed]",
      "text/plain": [
       "<Figure size 1080x576 with 1 Axes>"
      ]
     },
     "metadata": {},
     "output_type": "display_data"
    }
   ],
   "source": [
    "# df.xs(key='Close',axis=1,level='Stock Info').plot()\n",
    "\n",
    "for tick in tickers:\n",
    "    df[tick]['Close'].plot(figsize=(15,8),label=tick)\n",
    "plt.legend(loc='upper center');\n",
    "plt.title('Ticker Symbol | Closing Prices 2021')\n",
    "plt.xticks(rotation=0,fontsize=14);\n",
    "plt.savefig('closingprices2021.jpg', dpi=300)"
   ]
  },
  {
   "cell_type": "markdown",
   "metadata": {},
   "source": [
    "## Max Closing Price per Stock"
   ]
  },
  {
   "cell_type": "code",
   "execution_count": 8,
   "metadata": {
    "ExecuteTime": {
     "end_time": "2021-07-12T21:21:20.846480Z",
     "start_time": "2021-07-12T21:21:20.840979Z"
    }
   },
   "outputs": [
    {
     "data": {
      "text/plain": [
       "Stock Ticker\n",
       "COTY     10.340000\n",
       "HIMX     16.660000\n",
       "KOPN     13.560000\n",
       "MVIS     26.440001\n",
       "SM       26.650000\n",
       "SOL      33.549999\n",
       "SOLO      9.480000\n",
       "SPWR     54.009998\n",
       "TAN     121.940002\n",
       "VERU     20.780001\n",
       "dtype: float64"
      ]
     },
     "execution_count": 8,
     "metadata": {},
     "output_type": "execute_result"
    }
   ],
   "source": [
    "df.xs(key='Close',axis=1,level='Stock Info').max() #.plot(kind='bar')"
   ]
  },
  {
   "cell_type": "markdown",
   "metadata": {},
   "source": [
    "## Stock Returns 2021"
   ]
  },
  {
   "cell_type": "code",
   "execution_count": 9,
   "metadata": {
    "ExecuteTime": {
     "end_time": "2021-07-12T21:21:20.875064Z",
     "start_time": "2021-07-12T21:21:20.848634Z"
    }
   },
   "outputs": [],
   "source": [
    "rdf = pd.DataFrame()\n",
    "\n",
    "for tick in tickers:\n",
    "    rdf[tick] = df[tick]['Close'].pct_change()\n",
    "# rdf.head()"
   ]
  },
  {
   "cell_type": "code",
   "execution_count": 10,
   "metadata": {
    "ExecuteTime": {
     "end_time": "2021-07-12T21:21:20.878557Z",
     "start_time": "2021-07-12T21:21:20.876704Z"
    }
   },
   "outputs": [],
   "source": [
    "# sns.pairplot(rdf[1:]);"
   ]
  },
  {
   "cell_type": "markdown",
   "metadata": {},
   "source": [
    "It looks like there is a bit of a correlation between returns on a few stocks."
   ]
  },
  {
   "cell_type": "markdown",
   "metadata": {},
   "source": [
    "#### Best & Worst Returns"
   ]
  },
  {
   "cell_type": "code",
   "execution_count": 11,
   "metadata": {
    "ExecuteTime": {
     "end_time": "2021-07-12T21:21:21.285003Z",
     "start_time": "2021-07-12T21:21:20.880202Z"
    }
   },
   "outputs": [
    {
     "data": {
      "image/png": "[encoded data removed]",
      "text/plain": [
       "<Figure size 720x432 with 1 Axes>"
      ]
     },
     "metadata": {},
     "output_type": "display_data"
    }
   ],
   "source": [
    "# best single day returns\n",
    "rdf.max().plot(kind='bar',figsize=(10,6),title='Best Single Day Return Percentage',ylabel='Return');\n",
    "plt.xticks(rotation=0);\n",
    "plt.savefig('bestsingleday.jpg', dpi=300)\n",
    "# date of best single day returns\n",
    "# rdf.idxmax()"
   ]
  },
  {
   "cell_type": "code",
   "execution_count": 12,
   "metadata": {
    "ExecuteTime": {
     "end_time": "2021-07-12T21:21:21.291925Z",
     "start_time": "2021-07-12T21:21:21.287017Z"
    }
   },
   "outputs": [
    {
     "data": {
      "text/plain": [
       "COTY   -0.151134\n",
       "HIMX   -0.171763\n",
       "KOPN   -0.157369\n",
       "MVIS   -0.237519\n",
       "SM     -0.210526\n",
       "SOL    -0.219374\n",
       "SOLO   -0.119843\n",
       "SPWR   -0.166934\n",
       "TAN    -0.087581\n",
       "VERU   -0.236695\n",
       "dtype: float64"
      ]
     },
     "execution_count": 12,
     "metadata": {},
     "output_type": "execute_result"
    }
   ],
   "source": [
    "# worst single day returns\n",
    "rdf.min()\n",
    "# date of worst single day returns\n",
    "# rdf.idxmin()"
   ]
  },
  {
   "cell_type": "markdown",
   "metadata": {},
   "source": [
    "#### The Riskiest Stock"
   ]
  },
  {
   "cell_type": "code",
   "execution_count": 13,
   "metadata": {
    "ExecuteTime": {
     "end_time": "2021-07-12T21:21:21.680533Z",
     "start_time": "2021-07-12T21:21:21.293475Z"
    }
   },
   "outputs": [
    {
     "data": {
      "image/png": "[encoded data removed]",
      "text/plain": [
       "<Figure size 720x432 with 1 Axes>"
      ]
     },
     "metadata": {},
     "output_type": "display_data"
    }
   ],
   "source": [
    "rdf.std().plot(kind='bar',figsize=(10,6),title='Volatility of Stock Returns',ylabel='Standard Deviation');\n",
    "plt.xticks(rotation=0);\n",
    "plt.savefig('volreturns.jpg', dpi=300)\n",
    "# MVIS"
   ]
  },
  {
   "cell_type": "markdown",
   "metadata": {},
   "source": [
    "## Top Two Long Term Performers\n",
    "Assumption: You entered the market on January first and stayed in\n",
    "\n",
    "**Keep in mind, these are volatile stocks, and the idea is to play short term for larger gains. It's interesting to see that these two stocks did continue to grow over the long term.** "
   ]
  },
  {
   "cell_type": "code",
   "execution_count": 14,
   "metadata": {
    "ExecuteTime": {
     "end_time": "2021-07-12T21:21:21.690107Z",
     "start_time": "2021-07-12T21:21:21.682143Z"
    }
   },
   "outputs": [
    {
     "data": {
      "text/html": [
       "<div>\n",
       "<style scoped>\n",
       "    .dataframe tbody tr th:only-of-type {\n",
       "        vertical-align: middle;\n",
       "    }\n",
       "\n",
       "    .dataframe tbody tr th {\n",
       "        vertical-align: top;\n",
       "    }\n",
       "\n",
       "    .dataframe thead th {\n",
       "        text-align: right;\n",
       "    }\n",
       "</style>\n",
       "<table border=\"1\" class=\"dataframe\">\n",
       "  <thead>\n",
       "    <tr style=\"text-align: right;\">\n",
       "      <th>Date</th>\n",
       "      <th>index</th>\n",
       "      <th>Cumulative Return</th>\n",
       "    </tr>\n",
       "  </thead>\n",
       "  <tbody>\n",
       "    <tr>\n",
       "      <th>0</th>\n",
       "      <td>SOLO</td>\n",
       "      <td>0.010554</td>\n",
       "    </tr>\n",
       "    <tr>\n",
       "      <th>1</th>\n",
       "      <td>MVIS</td>\n",
       "      <td>0.010499</td>\n",
       "    </tr>\n",
       "  </tbody>\n",
       "</table>\n",
       "</div>"
      ],
      "text/plain": [
       "Date index  Cumulative Return\n",
       "0     SOLO           0.010554\n",
       "1     MVIS           0.010499"
      ]
     },
     "execution_count": 14,
     "metadata": {},
     "output_type": "execute_result"
    }
   ],
   "source": [
    "rdf.tail(1).T.sort_values(by='2021-07-08',ascending=False)[:2].reset_index().rename(columns={'2021-07-08':'Cumulative Return'})"
   ]
  },
  {
   "cell_type": "markdown",
   "metadata": {},
   "source": [
    "# Analyzing Growth Stocks\n",
    "https://pythonrepo.com/repo/santosjorge-cufflinks-python-data-validation"
   ]
  },
  {
   "cell_type": "markdown",
   "metadata": {},
   "source": [
    "## Candle Stick Charts"
   ]
  },
  {
   "cell_type": "code",
   "execution_count": 15,
   "metadata": {
    "ExecuteTime": {
     "end_time": "2021-07-12T21:21:22.588633Z",
     "start_time": "2021-07-12T21:21:21.691835Z"
    }
   },
   "outputs": [
    {
     "data": {
      "application/vnd.plotly.v1+json": {
       "config": {
        "linkText": "Export to plotly.com",
        "plotlyServerURL": "https://plotly.com",
        "showLink": true
       },
       "data": [
        {
         "close": [
          5.21,
          5.52,
          5.23,
          5.91,
          5.9,
          5.85,
          5.6,
          6.55,
          6.6,
          6.61,
          7.05,
          6.87,
          6.79,
          6.76,
          7.25,
          8.14,
          7.43,
          7.24,
          7.11,
          7.37,
          7.63,
          9.26,
          10.33,
          11.54,
          14.72,
          14.9,
          14,
          18.309998999999998,
          18.33,
          23.719998999999998,
          19.75,
          18.040001,
          20.5,
          18.07,
          16.190001000000002,
          17.959999,
          16.18,
          14.87,
          17.59,
          16.950001,
          15.36,
          13.25,
          12.82,
          11.77,
          14.08,
          14.35,
          14.83,
          17.469998999999998,
          17.83,
          16.83,
          17.440001000000002,
          15.94,
          17.35,
          17.969998999999998,
          15.82,
          13.2,
          14.01,
          13.45,
          12.13,
          12.31,
          18.549999,
          15.54,
          15.69,
          15.32,
          14.6,
          14.15,
          14.22,
          12.92,
          12.91,
          12.34,
          11.35,
          11.03,
          10.5,
          10.39,
          12.5,
          13.14,
          17.969998999999998,
          26.440001000000002,
          20.16,
          20.99,
          18,
          15.25,
          13.86,
          15.4,
          14.48,
          14,
          14.1,
          13.86,
          14.67,
          13.34,
          12.48,
          14.04,
          15.19,
          15.08,
          13.98,
          14.34,
          13.87,
          14.33,
          15.63,
          14.76,
          15.83,
          15.6,
          17.950001,
          19.049999,
          18.02,
          20.25,
          22.33,
          22.25,
          21.25,
          22.58,
          21.6,
          21.370001000000002,
          20.42,
          20.629998999999998,
          20.59,
          18.84,
          19.559998999999998,
          17.49,
          17.5,
          17.5,
          17.209999,
          18.24,
          18.389999,
          16.75,
          16.379998999999998,
          15.99,
          15.83,
          15.24,
          15.4
         ],
         "high": [
          6.06,
          5.6,
          5.75,
          6.31,
          6.24,
          6.29,
          5.97,
          6.98,
          7,
          7.48,
          7.18,
          7.45,
          6.89,
          6.82,
          7.61,
          8.48,
          8.41,
          8.09,
          7.45,
          7.58,
          8.13,
          9.84,
          10.88,
          12.4,
          15.53,
          16.190001000000002,
          15.65,
          21.75,
          19.379998999999998,
          24.18,
          22.379998999999998,
          20.959999,
          20.9,
          21.360001,
          17.15,
          18.969998999999998,
          18.24,
          16.17,
          17.940001000000002,
          19.25,
          17.290001,
          15.58,
          13.75,
          13.26,
          14.62,
          15.62,
          15.73,
          18.219998999999998,
          18.65,
          18.15,
          17.75,
          17.65,
          17.74,
          19.280001000000002,
          18.959999,
          16.290001,
          14.18,
          14,
          13.73,
          12.62,
          19.370001000000002,
          17.389999,
          16.32,
          15.74,
          16.200001,
          14.84,
          14.48,
          14.32,
          13.38,
          14.79,
          12.48,
          11.64,
          11.15,
          12.12,
          12.66,
          14.93,
          19.139999,
          27.799999,
          28,
          25.75,
          20.6,
          15.94,
          15.59,
          16.76,
          15.91,
          14.54,
          15.36,
          14.63,
          14.93,
          14.42,
          13.95,
          14.34,
          15.19,
          16.27,
          14.62,
          14.49,
          14.55,
          14.64,
          15.99,
          16.75,
          15.95,
          18.48,
          18.379998999999998,
          19.67,
          18.700001,
          23,
          23.459999,
          23.26,
          22.09,
          24.690001000000002,
          22.389999,
          21.77,
          21.75,
          20.809998999999998,
          21.24,
          21.07,
          19.67,
          18.299999,
          17.98,
          18.360001,
          17.67,
          18.559998999999998,
          18.93,
          18.25,
          17.32,
          16.59,
          16.33,
          15.96,
          15.63
         ],
         "low": [
          5.11,
          4.86,
          5.06,
          5.38,
          5.65,
          5.78,
          5.48,
          5.37,
          6.06,
          6.46,
          6.51,
          6.62,
          6.28,
          6.54,
          6.66,
          7.21,
          7.3,
          7.11,
          6.82,
          6.85,
          7.1,
          8,
          8.82,
          9.83,
          12.18,
          14.06,
          13.08,
          17,
          16.85,
          19.549999,
          19,
          17.5,
          18.299999,
          17.75,
          13.91,
          16.450001,
          15.8,
          14.19,
          16,
          16.65,
          15.09,
          12.2,
          10.12,
          11.51,
          12.1,
          13.69,
          13.96,
          14.71,
          17.26,
          16.370001000000002,
          15.3,
          15.78,
          15.56,
          16.67,
          15.55,
          13.12,
          12.56,
          12.6,
          12.03,
          11.33,
          12.78,
          15.2,
          15.15,
          14.37,
          14.45,
          13.95,
          13.6,
          12.79,
          12.55,
          12.25,
          10.4,
          10.56,
          10.32,
          10.08,
          10.12,
          12.81,
          13.53,
          19.75,
          19.190001000000002,
          20.709999,
          17.530001000000002,
          13.87,
          13.4,
          12.8,
          14.15,
          13.21,
          13.91,
          13.28,
          12.76,
          13.18,
          12.22,
          12.41,
          13.77,
          14.95,
          13.51,
          13.72,
          13.75,
          13.21,
          14.12,
          14.29,
          14.31,
          15.5,
          15.86,
          17.52,
          17.5,
          18.02,
          20.719998999999998,
          21.120001000000002,
          20.610001,
          21.65,
          20.91,
          19.610001,
          20.41,
          19.66,
          20.110001,
          18.559998999999998,
          18.57,
          16.65,
          17.1,
          17.209999,
          17.049999,
          17.219998999999998,
          17.959999,
          16.73,
          15.9,
          15.68,
          15.36,
          14.61,
          14.21
         ],
         "open": [
          5.5,
          4.94,
          5.54,
          5.4,
          6.16,
          5.83,
          5.89,
          5.59,
          6.56,
          6.59,
          6.9,
          7.07,
          6.89,
          6.64,
          6.8,
          7.33,
          7.71,
          7.91,
          7.29,
          7.31,
          7.44,
          8.05,
          9.15,
          10.5,
          12.54,
          14.06,
          15.31,
          19.68,
          17.52,
          19.950001,
          22.35,
          19.16,
          19.51,
          20.040001,
          17.110001,
          17.23,
          17.17,
          15.16,
          16.200001,
          19.15,
          17.08,
          14.51,
          13.58,
          12.76,
          12.1,
          15.11,
          14.77,
          15.2,
          18.58,
          17.700001,
          15.68,
          16.9,
          15.8,
          17.870001000000002,
          17.870001000000002,
          16.26,
          12.96,
          13.77,
          13.15,
          11.9,
          12.96,
          17.16,
          16.059998999999998,
          15.5,
          14.92,
          14.79,
          13.87,
          14.09,
          13.19,
          13.26,
          12.41,
          10.95,
          10.8,
          10.94,
          10.33,
          14.05,
          13.94,
          19.99,
          27.629998999999998,
          22.23,
          20.32,
          13.98,
          14.74,
          13.38,
          15.41,
          14.2,
          13.97,
          14.04,
          12.95,
          14.12,
          13.4,
          12.67,
          14,
          15.5,
          14.15,
          14.22,
          14.29,
          13.89,
          14.15,
          16,
          14.78,
          16.07,
          15.95,
          18.9,
          18.139999,
          18.15,
          21.629998999999998,
          22.9,
          21.73,
          22.74,
          22.01,
          21.4,
          21.370001000000002,
          19.75,
          20.35,
          20.57,
          18.809998999999998,
          17.68,
          17.83,
          17.709999,
          17.379998999999998,
          17.290001,
          18.280001000000002,
          18.15,
          16.84,
          16.299999,
          15.84,
          15.7,
          14.34
         ],
         "showlegend": false,
         "type": "candlestick",
         "x": [
          "2021-01-04",
          "2021-01-05",
          "2021-01-06",
          "2021-01-07",
          "2021-01-08",
          "2021-01-11",
          "2021-01-12",
          "2021-01-13",
          "2021-01-14",
          "2021-01-15",
          "2021-01-19",
          "2021-01-20",
          "2021-01-21",
          "2021-01-22",
          "2021-01-25",
          "2021-01-26",
          "2021-01-27",
          "2021-01-28",
          "2021-01-29",
          "2021-02-01",
          "2021-02-02",
          "2021-02-03",
          "2021-02-04",
          "2021-02-05",
          "2021-02-08",
          "2021-02-09",
          "2021-02-10",
          "2021-02-11",
          "2021-02-12",
          "2021-02-16",
          "2021-02-17",
          "2021-02-18",
          "2021-02-19",
          "2021-02-22",
          "2021-02-23",
          "2021-02-24",
          "2021-02-25",
          "2021-02-26",
          "2021-03-01",
          "2021-03-02",
          "2021-03-03",
          "2021-03-04",
          "2021-03-05",
          "2021-03-08",
          "2021-03-09",
          "2021-03-10",
          "2021-03-11",
          "2021-03-12",
          "2021-03-15",
          "2021-03-16",
          "2021-03-17",
          "2021-03-18",
          "2021-03-19",
          "2021-03-22",
          "2021-03-23",
          "2021-03-24",
          "2021-03-25",
          "2021-03-26",
          "2021-03-29",
          "2021-03-30",
          "2021-03-31",
          "2021-04-01",
          "2021-04-05",
          "2021-04-06",
          "2021-04-07",
          "2021-04-08",
          "2021-04-09",
          "2021-04-12",
          "2021-04-13",
          "2021-04-14",
          "2021-04-15",
          "2021-04-16",
          "2021-04-19",
          "2021-04-20",
          "2021-04-21",
          "2021-04-22",
          "2021-04-23",
          "2021-04-26",
          "2021-04-27",
          "2021-04-28",
          "2021-04-29",
          "2021-04-30",
          "2021-05-03",
          "2021-05-04",
          "2021-05-05",
          "2021-05-06",
          "2021-05-07",
          "2021-05-10",
          "2021-05-11",
          "2021-05-12",
          "2021-05-13",
          "2021-05-14",
          "2021-05-17",
          "2021-05-18",
          "2021-05-19",
          "2021-05-20",
          "2021-05-21",
          "2021-05-24",
          "2021-05-25",
          "2021-05-26",
          "2021-05-27",
          "2021-05-28",
          "2021-06-01",
          "2021-06-02",
          "2021-06-03",
          "2021-06-04",
          "2021-06-07",
          "2021-06-08",
          "2021-06-09",
          "2021-06-10",
          "2021-06-11",
          "2021-06-14",
          "2021-06-15",
          "2021-06-16",
          "2021-06-17",
          "2021-06-18",
          "2021-06-21",
          "2021-06-22",
          "2021-06-23",
          "2021-06-24",
          "2021-06-25",
          "2021-06-28",
          "2021-06-29",
          "2021-06-30",
          "2021-07-01",
          "2021-07-02",
          "2021-07-06",
          "2021-07-07",
          "2021-07-08"
         ],
         "yaxis": "y2"
        }
       ],
       "layout": {
        "legend": {
         "bgcolor": "#F5F6F9",
         "font": {
          "color": "#4D5663"
         }
        },
        "paper_bgcolor": "#F5F6F9",
        "plot_bgcolor": "#F5F6F9",
        "template": {
         "data": {
          "bar": [
           {
            "error_x": {
             "color": "#2a3f5f"
            },
            "error_y": {
             "color": "#2a3f5f"
            },
            "marker": {
             "line": {
              "color": "#E5ECF6",
              "width": 0.5
             }
            },
            "type": "bar"
           }
          ],
          "barpolar": [
           {
            "marker": {
             "line": {
              "color": "#E5ECF6",
              "width": 0.5
             }
            },
            "type": "barpolar"
           }
          ],
          "carpet": [
           {
            "aaxis": {
             "endlinecolor": "#2a3f5f",
             "gridcolor": "white",
             "linecolor": "white",
             "minorgridcolor": "white",
             "startlinecolor": "#2a3f5f"
            },
            "baxis": {
             "endlinecolor": "#2a3f5f",
             "gridcolor": "white",
             "linecolor": "white",
             "minorgridcolor": "white",
             "startlinecolor": "#2a3f5f"
            },
            "type": "carpet"
           }
          ],
          "choropleth": [
           {
            "colorbar": {
             "outlinewidth": 0,
             "ticks": ""
            },
            "type": "choropleth"
           }
          ],
          "contour": [
           {
            "colorbar": {
             "outlinewidth": 0,
             "ticks": ""
            },
            "colorscale": [
             [
              0,
              "#0d0887"
             ],
             [
              0.1111111111111111,
              "#46039f"
             ],
             [
              0.2222222222222222,
              "#7201a8"
             ],
             [
              0.3333333333333333,
              "#9c179e"
             ],
             [
              0.4444444444444444,
              "#bd3786"
             ],
             [
              0.5555555555555556,
              "#d8576b"
             ],
             [
              0.6666666666666666,
              "#ed7953"
             ],
             [
              0.7777777777777778,
              "#fb9f3a"
             ],
             [
              0.8888888888888888,
              "#fdca26"
             ],
             [
              1,
              "#f0f921"
             ]
            ],
            "type": "contour"
           }
          ],
          "contourcarpet": [
           {
            "colorbar": {
             "outlinewidth": 0,
             "ticks": ""
            },
            "type": "contourcarpet"
           }
          ],
          "heatmap": [
           {
            "colorbar": {
             "outlinewidth": 0,
             "ticks": ""
            },
            "colorscale": [
             [
              0,
              "#0d0887"
             ],
             [
              0.1111111111111111,
              "#46039f"
             ],
             [
              0.2222222222222222,
              "#7201a8"
             ],
             [
              0.3333333333333333,
              "#9c179e"
             ],
             [
              0.4444444444444444,
              "#bd3786"
             ],
             [
              0.5555555555555556,
              "#d8576b"
             ],
             [
              0.6666666666666666,
              "#ed7953"
             ],
             [
              0.7777777777777778,
              "#fb9f3a"
             ],
             [
              0.8888888888888888,
              "#fdca26"
             ],
             [
              1,
              "#f0f921"
             ]
            ],
            "type": "heatmap"
           }
          ],
          "heatmapgl": [
           {
            "colorbar": {
             "outlinewidth": 0,
             "ticks": ""
            },
            "colorscale": [
             [
              0,
              "#0d0887"
             ],
             [
              0.1111111111111111,
              "#46039f"
             ],
             [
              0.2222222222222222,
              "#7201a8"
             ],
             [
              0.3333333333333333,
              "#9c179e"
             ],
             [
              0.4444444444444444,
              "#bd3786"
             ],
             [
              0.5555555555555556,
              "#d8576b"
             ],
             [
              0.6666666666666666,
              "#ed7953"
             ],
             [
              0.7777777777777778,
              "#fb9f3a"
             ],
             [
              0.8888888888888888,
              "#fdca26"
             ],
             [
              1,
              "#f0f921"
             ]
            ],
            "type": "heatmapgl"
           }
          ],
          "histogram": [
           {
            "marker": {
             "colorbar": {
              "outlinewidth": 0,
              "ticks": ""
             }
            },
            "type": "histogram"
           }
          ],
          "histogram2d": [
           {
            "colorbar": {
             "outlinewidth": 0,
             "ticks": ""
            },
            "colorscale": [
             [
              0,
              "#0d0887"
             ],
             [
              0.1111111111111111,
              "#46039f"
             ],
             [
              0.2222222222222222,
              "#7201a8"
             ],
             [
              0.3333333333333333,
              "#9c179e"
             ],
             [
              0.4444444444444444,
              "#bd3786"
             ],
             [
              0.5555555555555556,
              "#d8576b"
             ],
             [
              0.6666666666666666,
              "#ed7953"
             ],
             [
              0.7777777777777778,
              "#fb9f3a"
             ],
             [
              0.8888888888888888,
              "#fdca26"
             ],
             [
              1,
              "#f0f921"
             ]
            ],
            "type": "histogram2d"
           }
          ],
          "histogram2dcontour": [
           {
            "colorbar": {
             "outlinewidth": 0,
             "ticks": ""
            },
            "colorscale": [
             [
              0,
              "#0d0887"
             ],
             [
              0.1111111111111111,
              "#46039f"
             ],
             [
              0.2222222222222222,
              "#7201a8"
             ],
             [
              0.3333333333333333,
              "#9c179e"
             ],
             [
              0.4444444444444444,
              "#bd3786"
             ],
             [
              0.5555555555555556,
              "#d8576b"
             ],
             [
              0.6666666666666666,
              "#ed7953"
             ],
             [
              0.7777777777777778,
              "#fb9f3a"
             ],
             [
              0.8888888888888888,
              "#fdca26"
             ],
             [
              1,
              "#f0f921"
             ]
            ],
            "type": "histogram2dcontour"
           }
          ],
          "mesh3d": [
           {
            "colorbar": {
             "outlinewidth": 0,
             "ticks": ""
            },
            "type": "mesh3d"
           }
          ],
          "parcoords": [
           {
            "line": {
             "colorbar": {
              "outlinewidth": 0,
              "ticks": ""
             }
            },
            "type": "parcoords"
           }
          ],
          "pie": [
           {
            "automargin": true,
            "type": "pie"
           }
          ],
          "scatter": [
           {
            "marker": {
             "colorbar": {
              "outlinewidth": 0,
              "ticks": ""
             }
            },
            "type": "scatter"
           }
          ],
          "scatter3d": [
           {
            "line": {
             "colorbar": {
              "outlinewidth": 0,
              "ticks": ""
             }
            },
            "marker": {
             "colorbar": {
              "outlinewidth": 0,
              "ticks": ""
             }
            },
            "type": "scatter3d"
           }
          ],
          "scattercarpet": [
           {
            "marker": {
             "colorbar": {
              "outlinewidth": 0,
              "ticks": ""
             }
            },
            "type": "scattercarpet"
           }
          ],
          "scattergeo": [
           {
            "marker": {
             "colorbar": {
              "outlinewidth": 0,
              "ticks": ""
             }
            },
            "type": "scattergeo"
           }
          ],
          "scattergl": [
           {
            "marker": {
             "colorbar": {
              "outlinewidth": 0,
              "ticks": ""
             }
            },
            "type": "scattergl"
           }
          ],
          "scattermapbox": [
           {
            "marker": {
             "colorbar": {
              "outlinewidth": 0,
              "ticks": ""
             }
            },
            "type": "scattermapbox"
           }
          ],
          "scatterpolar": [
           {
            "marker": {
             "colorbar": {
              "outlinewidth": 0,
              "ticks": ""
             }
            },
            "type": "scatterpolar"
           }
          ],
          "scatterpolargl": [
           {
            "marker": {
             "colorbar": {
              "outlinewidth": 0,
              "ticks": ""
             }
            },
            "type": "scatterpolargl"
           }
          ],
          "scatterternary": [
           {
            "marker": {
             "colorbar": {
              "outlinewidth": 0,
              "ticks": ""
             }
            },
            "type": "scatterternary"
           }
          ],
          "surface": [
           {
            "colorbar": {
             "outlinewidth": 0,
             "ticks": ""
            },
            "colorscale": [
             [
              0,
              "#0d0887"
             ],
             [
              0.1111111111111111,
              "#46039f"
             ],
             [
              0.2222222222222222,
              "#7201a8"
             ],
             [
              0.3333333333333333,
              "#9c179e"
             ],
             [
              0.4444444444444444,
              "#bd3786"
             ],
             [
              0.5555555555555556,
              "#d8576b"
             ],
             [
              0.6666666666666666,
              "#ed7953"
             ],
             [
              0.7777777777777778,
              "#fb9f3a"
             ],
             [
              0.8888888888888888,
              "#fdca26"
             ],
             [
              1,
              "#f0f921"
             ]
            ],
            "type": "surface"
           }
          ],
          "table": [
           {
            "cells": {
             "fill": {
              "color": "#EBF0F8"
             },
             "line": {
              "color": "white"
             }
            },
            "header": {
             "fill": {
              "color": "#C8D4E3"
             },
             "line": {
              "color": "white"
             }
            },
            "type": "table"
           }
          ]
         },
         "layout": {
          "annotationdefaults": {
           "arrowcolor": "#2a3f5f",
           "arrowhead": 0,
           "arrowwidth": 1
          },
          "coloraxis": {
           "colorbar": {
            "outlinewidth": 0,
            "ticks": ""
           }
          },
          "colorscale": {
           "diverging": [
            [
             0,
             "#8e0152"
            ],
            [
             0.1,
             "#c51b7d"
            ],
            [
             0.2,
             "#de77ae"
            ],
            [
             0.3,
             "#f1b6da"
            ],
            [
             0.4,
             "#fde0ef"
            ],
            [
             0.5,
             "#f7f7f7"
            ],
            [
             0.6,
             "#e6f5d0"
            ],
            [
             0.7,
             "#b8e186"
            ],
            [
             0.8,
             "#7fbc41"
            ],
            [
             0.9,
             "#4d9221"
            ],
            [
             1,
             "#276419"
            ]
           ],
           "sequential": [
            [
             0,
             "#0d0887"
            ],
            [
             0.1111111111111111,
             "#46039f"
            ],
            [
             0.2222222222222222,
             "#7201a8"
            ],
            [
             0.3333333333333333,
             "#9c179e"
            ],
            [
             0.4444444444444444,
             "#bd3786"
            ],
            [
             0.5555555555555556,
             "#d8576b"
            ],
            [
             0.6666666666666666,
             "#ed7953"
            ],
            [
             0.7777777777777778,
             "#fb9f3a"
            ],
            [
             0.8888888888888888,
             "#fdca26"
            ],
            [
             1,
             "#f0f921"
            ]
           ],
           "sequentialminus": [
            [
             0,
             "#0d0887"
            ],
            [
             0.1111111111111111,
             "#46039f"
            ],
            [
             0.2222222222222222,
             "#7201a8"
            ],
            [
             0.3333333333333333,
             "#9c179e"
            ],
            [
             0.4444444444444444,
             "#bd3786"
            ],
            [
             0.5555555555555556,
             "#d8576b"
            ],
            [
             0.6666666666666666,
             "#ed7953"
            ],
            [
             0.7777777777777778,
             "#fb9f3a"
            ],
            [
             0.8888888888888888,
             "#fdca26"
            ],
            [
             1,
             "#f0f921"
            ]
           ]
          },
          "colorway": [
           "#636efa",
           "#EF553B",
           "#00cc96",
           "#ab63fa",
           "#FFA15A",
           "#19d3f3",
           "#FF6692",
           "#B6E880",
           "#FF97FF",
           "#FECB52"
          ],
          "font": {
           "color": "#2a3f5f"
          },
          "geo": {
           "bgcolor": "white",
           "lakecolor": "white",
           "landcolor": "#E5ECF6",
           "showlakes": true,
           "showland": true,
           "subunitcolor": "white"
          },
          "hoverlabel": {
           "align": "left"
          },
          "hovermode": "closest",
          "mapbox": {
           "style": "light"
          },
          "paper_bgcolor": "white",
          "plot_bgcolor": "#E5ECF6",
          "polar": {
           "angularaxis": {
            "gridcolor": "white",
            "linecolor": "white",
            "ticks": ""
           },
           "bgcolor": "#E5ECF6",
           "radialaxis": {
            "gridcolor": "white",
            "linecolor": "white",
            "ticks": ""
           }
          },
          "scene": {
           "xaxis": {
            "backgroundcolor": "#E5ECF6",
            "gridcolor": "white",
            "gridwidth": 2,
            "linecolor": "white",
            "showbackground": true,
            "ticks": "",
            "zerolinecolor": "white"
           },
           "yaxis": {
            "backgroundcolor": "#E5ECF6",
            "gridcolor": "white",
            "gridwidth": 2,
            "linecolor": "white",
            "showbackground": true,
            "ticks": "",
            "zerolinecolor": "white"
           },
           "zaxis": {
            "backgroundcolor": "#E5ECF6",
            "gridcolor": "white",
            "gridwidth": 2,
            "linecolor": "white",
            "showbackground": true,
            "ticks": "",
            "zerolinecolor": "white"
           }
          },
          "shapedefaults": {
           "line": {
            "color": "#2a3f5f"
           }
          },
          "ternary": {
           "aaxis": {
            "gridcolor": "white",
            "linecolor": "white",
            "ticks": ""
           },
           "baxis": {
            "gridcolor": "white",
            "linecolor": "white",
            "ticks": ""
           },
           "bgcolor": "#E5ECF6",
           "caxis": {
            "gridcolor": "white",
            "linecolor": "white",
            "ticks": ""
           }
          },
          "title": {
           "x": 0.05
          },
          "xaxis": {
           "automargin": true,
           "gridcolor": "white",
           "linecolor": "white",
           "ticks": "",
           "title": {
            "standoff": 15
           },
           "zerolinecolor": "white",
           "zerolinewidth": 2
          },
          "yaxis": {
           "automargin": true,
           "gridcolor": "white",
           "linecolor": "white",
           "ticks": "",
           "title": {
            "standoff": 15
           },
           "zerolinecolor": "white",
           "zerolinewidth": 2
          }
         }
        },
        "title": {
         "font": {
          "color": "#4D5663"
         },
         "text": "MVIS | Microvision Stock Price"
        },
        "xaxis": {
         "gridcolor": "#E1E5ED",
         "rangeslider": {
          "visible": false
         },
         "showgrid": true,
         "tickfont": {
          "color": "#4D5663"
         },
         "title": {
          "font": {
           "color": "#4D5663"
          },
          "text": ""
         },
         "zerolinecolor": "#E1E5ED"
        },
        "yaxis": {
         "gridcolor": "#E1E5ED",
         "showgrid": true,
         "showticklabels": false,
         "tickfont": {
          "color": "#4D5663"
         },
         "title": {
          "font": {
           "color": "#4D5663"
          },
          "text": ""
         },
         "zerolinecolor": "#E1E5ED"
        },
        "yaxis2": {
         "gridcolor": "#E1E5ED",
         "showgrid": true,
         "tickfont": {
          "color": "#4D5663"
         },
         "title": {
          "font": {
           "color": "#4D5663"
          },
          "text": ""
         },
         "zerolinecolor": "#E1E5ED"
        }
       }
      },
      "text/html": [
       "<div>                            <div id=\"9f1c2b3c-0a35-44b0-b3f9-b45a7a0dcf2b\" class=\"plotly-graph-div\" style=\"height:525px; width:100%;\"></div>            <script type=\"text/javascript\">                require([\"plotly\"], function(Plotly) {                    window.PLOTLYENV=window.PLOTLYENV || {};\n",
       "                    window.PLOTLYENV.BASE_URL='https://plotly.com';                                    if (document.getElementById(\"9f1c2b3c-0a35-44b0-b3f9-b45a7a0dcf2b\")) {                    Plotly.newPlot(                        \"9f1c2b3c-0a35-44b0-b3f9-b45a7a0dcf2b\",                        [{\"close\": [5.21, 5.52, 5.23, 5.91, 5.9, 5.85, 5.6, 6.55, 6.6, 6.61, 7.05, 6.87, 6.79, 6.76, 7.25, 8.14, 7.43, 7.24, 7.11, 7.37, 7.63, 9.26, 10.33, 11.54, 14.72, 14.9, 14.0, 18.309998999999998, 18.33, 23.719998999999998, 19.75, 18.040001, 20.5, 18.07, 16.190001000000002, 17.959999, 16.18, 14.87, 17.59, 16.950001, 15.36, 13.25, 12.82, 11.77, 14.08, 14.35, 14.83, 17.469998999999998, 17.83, 16.83, 17.440001000000002, 15.94, 17.35, 17.969998999999998, 15.82, 13.2, 14.01, 13.45, 12.13, 12.31, 18.549999, 15.54, 15.69, 15.32, 14.6, 14.15, 14.22, 12.92, 12.91, 12.34, 11.35, 11.03, 10.5, 10.39, 12.5, 13.14, 17.969998999999998, 26.440001000000002, 20.16, 20.99, 18.0, 15.25, 13.86, 15.4, 14.48, 14.0, 14.1, 13.86, 14.67, 13.34, 12.48, 14.04, 15.19, 15.08, 13.98, 14.34, 13.87, 14.33, 15.63, 14.76, 15.83, 15.6, 17.950001, 19.049999, 18.02, 20.25, 22.33, 22.25, 21.25, 22.58, 21.6, 21.370001000000002, 20.42, 20.629998999999998, 20.59, 18.84, 19.559998999999998, 17.49, 17.5, 17.5, 17.209999, 18.24, 18.389999, 16.75, 16.379998999999998, 15.99, 15.83, 15.24, 15.4], \"high\": [6.06, 5.6, 5.75, 6.31, 6.24, 6.29, 5.97, 6.98, 7.0, 7.48, 7.18, 7.45, 6.89, 6.82, 7.61, 8.48, 8.41, 8.09, 7.45, 7.58, 8.13, 9.84, 10.88, 12.4, 15.53, 16.190001000000002, 15.65, 21.75, 19.379998999999998, 24.18, 22.379998999999998, 20.959999, 20.9, 21.360001, 17.15, 18.969998999999998, 18.24, 16.17, 17.940001000000002, 19.25, 17.290001, 15.58, 13.75, 13.26, 14.62, 15.62, 15.73, 18.219998999999998, 18.65, 18.15, 17.75, 17.65, 17.74, 19.280001000000002, 18.959999, 16.290001, 14.18, 14.0, 13.73, 12.62, 19.370001000000002, 17.389999, 16.32, 15.74, 16.200001, 14.84, 14.48, 14.32, 13.38, 14.79, 12.48, 11.64, 11.15, 12.12, 12.66, 14.93, 19.139999, 27.799999, 28.0, 25.75, 20.6, 15.94, 15.59, 16.76, 15.91, 14.54, 15.36, 14.63, 14.93, 14.42, 13.95, 14.34, 15.19, 16.27, 14.62, 14.49, 14.55, 14.64, 15.99, 16.75, 15.95, 18.48, 18.379998999999998, 19.67, 18.700001, 23.0, 23.459999, 23.26, 22.09, 24.690001000000002, 22.389999, 21.77, 21.75, 20.809998999999998, 21.24, 21.07, 19.67, 18.299999, 17.98, 18.360001, 17.67, 18.559998999999998, 18.93, 18.25, 17.32, 16.59, 16.33, 15.96, 15.63], \"low\": [5.11, 4.86, 5.06, 5.38, 5.65, 5.78, 5.48, 5.37, 6.06, 6.46, 6.51, 6.62, 6.28, 6.54, 6.66, 7.21, 7.3, 7.11, 6.82, 6.85, 7.1, 8.0, 8.82, 9.83, 12.18, 14.06, 13.08, 17.0, 16.85, 19.549999, 19.0, 17.5, 18.299999, 17.75, 13.91, 16.450001, 15.8, 14.19, 16.0, 16.65, 15.09, 12.2, 10.12, 11.51, 12.1, 13.69, 13.96, 14.71, 17.26, 16.370001000000002, 15.3, 15.78, 15.56, 16.67, 15.55, 13.12, 12.56, 12.6, 12.03, 11.33, 12.78, 15.2, 15.15, 14.37, 14.45, 13.95, 13.6, 12.79, 12.55, 12.25, 10.4, 10.56, 10.32, 10.08, 10.12, 12.81, 13.53, 19.75, 19.190001000000002, 20.709999, 17.530001000000002, 13.87, 13.4, 12.8, 14.15, 13.21, 13.91, 13.28, 12.76, 13.18, 12.22, 12.41, 13.77, 14.95, 13.51, 13.72, 13.75, 13.21, 14.12, 14.29, 14.31, 15.5, 15.86, 17.52, 17.5, 18.02, 20.719998999999998, 21.120001000000002, 20.610001, 21.65, 20.91, 19.610001, 20.41, 19.66, 20.110001, 18.559998999999998, 18.57, 16.65, 17.1, 17.209999, 17.049999, 17.219998999999998, 17.959999, 16.73, 15.9, 15.68, 15.36, 14.61, 14.21], \"open\": [5.5, 4.94, 5.54, 5.4, 6.16, 5.83, 5.89, 5.59, 6.56, 6.59, 6.9, 7.07, 6.89, 6.64, 6.8, 7.33, 7.71, 7.91, 7.29, 7.31, 7.44, 8.05, 9.15, 10.5, 12.54, 14.06, 15.31, 19.68, 17.52, 19.950001, 22.35, 19.16, 19.51, 20.040001, 17.110001, 17.23, 17.17, 15.16, 16.200001, 19.15, 17.08, 14.51, 13.58, 12.76, 12.1, 15.11, 14.77, 15.2, 18.58, 17.700001, 15.68, 16.9, 15.8, 17.870001000000002, 17.870001000000002, 16.26, 12.96, 13.77, 13.15, 11.9, 12.96, 17.16, 16.059998999999998, 15.5, 14.92, 14.79, 13.87, 14.09, 13.19, 13.26, 12.41, 10.95, 10.8, 10.94, 10.33, 14.05, 13.94, 19.99, 27.629998999999998, 22.23, 20.32, 13.98, 14.74, 13.38, 15.41, 14.2, 13.97, 14.04, 12.95, 14.12, 13.4, 12.67, 14.0, 15.5, 14.15, 14.22, 14.29, 13.89, 14.15, 16.0, 14.78, 16.07, 15.95, 18.9, 18.139999, 18.15, 21.629998999999998, 22.9, 21.73, 22.74, 22.01, 21.4, 21.370001000000002, 19.75, 20.35, 20.57, 18.809998999999998, 17.68, 17.83, 17.709999, 17.379998999999998, 17.290001, 18.280001000000002, 18.15, 16.84, 16.299999, 15.84, 15.7, 14.34], \"showlegend\": false, \"type\": \"candlestick\", \"x\": [\"2021-01-04\", \"2021-01-05\", \"2021-01-06\", \"2021-01-07\", \"2021-01-08\", \"2021-01-11\", \"2021-01-12\", \"2021-01-13\", \"2021-01-14\", \"2021-01-15\", \"2021-01-19\", \"2021-01-20\", \"2021-01-21\", \"2021-01-22\", \"2021-01-25\", \"2021-01-26\", \"2021-01-27\", \"2021-01-28\", \"2021-01-29\", \"2021-02-01\", \"2021-02-02\", \"2021-02-03\", \"2021-02-04\", \"2021-02-05\", \"2021-02-08\", \"2021-02-09\", \"2021-02-10\", \"2021-02-11\", \"2021-02-12\", \"2021-02-16\", \"2021-02-17\", \"2021-02-18\", \"2021-02-19\", \"2021-02-22\", \"2021-02-23\", \"2021-02-24\", \"2021-02-25\", \"2021-02-26\", \"2021-03-01\", \"2021-03-02\", \"2021-03-03\", \"2021-03-04\", \"2021-03-05\", \"2021-03-08\", \"2021-03-09\", \"2021-03-10\", \"2021-03-11\", \"2021-03-12\", \"2021-03-15\", \"2021-03-16\", \"2021-03-17\", \"2021-03-18\", \"2021-03-19\", \"2021-03-22\", \"2021-03-23\", \"2021-03-24\", \"2021-03-25\", \"2021-03-26\", \"2021-03-29\", \"2021-03-30\", \"2021-03-31\", \"2021-04-01\", \"2021-04-05\", \"2021-04-06\", \"2021-04-07\", \"2021-04-08\", \"2021-04-09\", \"2021-04-12\", \"2021-04-13\", \"2021-04-14\", \"2021-04-15\", \"2021-04-16\", \"2021-04-19\", \"2021-04-20\", \"2021-04-21\", \"2021-04-22\", \"2021-04-23\", \"2021-04-26\", \"2021-04-27\", \"2021-04-28\", \"2021-04-29\", \"2021-04-30\", \"2021-05-03\", \"2021-05-04\", \"2021-05-05\", \"2021-05-06\", \"2021-05-07\", \"2021-05-10\", \"2021-05-11\", \"2021-05-12\", \"2021-05-13\", \"2021-05-14\", \"2021-05-17\", \"2021-05-18\", \"2021-05-19\", \"2021-05-20\", \"2021-05-21\", \"2021-05-24\", \"2021-05-25\", \"2021-05-26\", \"2021-05-27\", \"2021-05-28\", \"2021-06-01\", \"2021-06-02\", \"2021-06-03\", \"2021-06-04\", \"2021-06-07\", \"2021-06-08\", \"2021-06-09\", \"2021-06-10\", \"2021-06-11\", \"2021-06-14\", \"2021-06-15\", \"2021-06-16\", \"2021-06-17\", \"2021-06-18\", \"2021-06-21\", \"2021-06-22\", \"2021-06-23\", \"2021-06-24\", \"2021-06-25\", \"2021-06-28\", \"2021-06-29\", \"2021-06-30\", \"2021-07-01\", \"2021-07-02\", \"2021-07-06\", \"2021-07-07\", \"2021-07-08\"], \"yaxis\": \"y2\"}],                        {\"legend\": {\"bgcolor\": \"#F5F6F9\", \"font\": {\"color\": \"#4D5663\"}}, \"paper_bgcolor\": \"#F5F6F9\", \"plot_bgcolor\": \"#F5F6F9\", \"template\": {\"data\": {\"bar\": [{\"error_x\": {\"color\": \"#2a3f5f\"}, \"error_y\": {\"color\": \"#2a3f5f\"}, \"marker\": {\"line\": {\"color\": \"#E5ECF6\", \"width\": 0.5}}, \"type\": \"bar\"}], \"barpolar\": [{\"marker\": {\"line\": {\"color\": \"#E5ECF6\", \"width\": 0.5}}, \"type\": \"barpolar\"}], \"carpet\": [{\"aaxis\": {\"endlinecolor\": \"#2a3f5f\", \"gridcolor\": \"white\", \"linecolor\": \"white\", \"minorgridcolor\": \"white\", \"startlinecolor\": \"#2a3f5f\"}, \"baxis\": {\"endlinecolor\": \"#2a3f5f\", \"gridcolor\": \"white\", \"linecolor\": \"white\", \"minorgridcolor\": \"white\", \"startlinecolor\": \"#2a3f5f\"}, \"type\": \"carpet\"}], \"choropleth\": [{\"colorbar\": {\"outlinewidth\": 0, \"ticks\": \"\"}, \"type\": \"choropleth\"}], \"contour\": [{\"colorbar\": {\"outlinewidth\": 0, \"ticks\": \"\"}, \"colorscale\": [[0.0, \"#0d0887\"], [0.1111111111111111, \"#46039f\"], [0.2222222222222222, \"#7201a8\"], [0.3333333333333333, \"#9c179e\"], [0.4444444444444444, \"#bd3786\"], [0.5555555555555556, \"#d8576b\"], [0.6666666666666666, \"#ed7953\"], [0.7777777777777778, \"#fb9f3a\"], [0.8888888888888888, \"#fdca26\"], [1.0, \"#f0f921\"]], \"type\": \"contour\"}], \"contourcarpet\": [{\"colorbar\": {\"outlinewidth\": 0, \"ticks\": \"\"}, \"type\": \"contourcarpet\"}], \"heatmap\": [{\"colorbar\": {\"outlinewidth\": 0, \"ticks\": \"\"}, \"colorscale\": [[0.0, \"#0d0887\"], [0.1111111111111111, \"#46039f\"], [0.2222222222222222, \"#7201a8\"], [0.3333333333333333, \"#9c179e\"], [0.4444444444444444, \"#bd3786\"], [0.5555555555555556, \"#d8576b\"], [0.6666666666666666, \"#ed7953\"], [0.7777777777777778, \"#fb9f3a\"], [0.8888888888888888, \"#fdca26\"], [1.0, \"#f0f921\"]], \"type\": \"heatmap\"}], \"heatmapgl\": [{\"colorbar\": {\"outlinewidth\": 0, \"ticks\": \"\"}, \"colorscale\": [[0.0, \"#0d0887\"], [0.1111111111111111, \"#46039f\"], [0.2222222222222222, \"#7201a8\"], [0.3333333333333333, \"#9c179e\"], [0.4444444444444444, \"#bd3786\"], [0.5555555555555556, \"#d8576b\"], [0.6666666666666666, \"#ed7953\"], [0.7777777777777778, \"#fb9f3a\"], [0.8888888888888888, \"#fdca26\"], [1.0, \"#f0f921\"]], \"type\": \"heatmapgl\"}], \"histogram\": [{\"marker\": {\"colorbar\": {\"outlinewidth\": 0, \"ticks\": \"\"}}, \"type\": \"histogram\"}], \"histogram2d\": [{\"colorbar\": {\"outlinewidth\": 0, \"ticks\": \"\"}, \"colorscale\": [[0.0, \"#0d0887\"], [0.1111111111111111, \"#46039f\"], [0.2222222222222222, \"#7201a8\"], [0.3333333333333333, \"#9c179e\"], [0.4444444444444444, \"#bd3786\"], [0.5555555555555556, \"#d8576b\"], [0.6666666666666666, \"#ed7953\"], [0.7777777777777778, \"#fb9f3a\"], [0.8888888888888888, \"#fdca26\"], [1.0, \"#f0f921\"]], \"type\": \"histogram2d\"}], \"histogram2dcontour\": [{\"colorbar\": {\"outlinewidth\": 0, \"ticks\": \"\"}, \"colorscale\": [[0.0, \"#0d0887\"], [0.1111111111111111, \"#46039f\"], [0.2222222222222222, \"#7201a8\"], [0.3333333333333333, \"#9c179e\"], [0.4444444444444444, \"#bd3786\"], [0.5555555555555556, \"#d8576b\"], [0.6666666666666666, \"#ed7953\"], [0.7777777777777778, \"#fb9f3a\"], [0.8888888888888888, \"#fdca26\"], [1.0, \"#f0f921\"]], \"type\": \"histogram2dcontour\"}], \"mesh3d\": [{\"colorbar\": {\"outlinewidth\": 0, \"ticks\": \"\"}, \"type\": \"mesh3d\"}], \"parcoords\": [{\"line\": {\"colorbar\": {\"outlinewidth\": 0, \"ticks\": \"\"}}, \"type\": \"parcoords\"}], \"pie\": [{\"automargin\": true, \"type\": \"pie\"}], \"scatter\": [{\"marker\": {\"colorbar\": {\"outlinewidth\": 0, \"ticks\": \"\"}}, \"type\": \"scatter\"}], \"scatter3d\": [{\"line\": {\"colorbar\": {\"outlinewidth\": 0, \"ticks\": \"\"}}, \"marker\": {\"colorbar\": {\"outlinewidth\": 0, \"ticks\": \"\"}}, \"type\": \"scatter3d\"}], \"scattercarpet\": [{\"marker\": {\"colorbar\": {\"outlinewidth\": 0, \"ticks\": \"\"}}, \"type\": \"scattercarpet\"}], \"scattergeo\": [{\"marker\": {\"colorbar\": {\"outlinewidth\": 0, \"ticks\": \"\"}}, \"type\": \"scattergeo\"}], \"scattergl\": [{\"marker\": {\"colorbar\": {\"outlinewidth\": 0, \"ticks\": \"\"}}, \"type\": \"scattergl\"}], \"scattermapbox\": [{\"marker\": {\"colorbar\": {\"outlinewidth\": 0, \"ticks\": \"\"}}, \"type\": \"scattermapbox\"}], \"scatterpolar\": [{\"marker\": {\"colorbar\": {\"outlinewidth\": 0, \"ticks\": \"\"}}, \"type\": \"scatterpolar\"}], \"scatterpolargl\": [{\"marker\": {\"colorbar\": {\"outlinewidth\": 0, \"ticks\": \"\"}}, \"type\": \"scatterpolargl\"}], \"scatterternary\": [{\"marker\": {\"colorbar\": {\"outlinewidth\": 0, \"ticks\": \"\"}}, \"type\": \"scatterternary\"}], \"surface\": [{\"colorbar\": {\"outlinewidth\": 0, \"ticks\": \"\"}, \"colorscale\": [[0.0, \"#0d0887\"], [0.1111111111111111, \"#46039f\"], [0.2222222222222222, \"#7201a8\"], [0.3333333333333333, \"#9c179e\"], [0.4444444444444444, \"#bd3786\"], [0.5555555555555556, \"#d8576b\"], [0.6666666666666666, \"#ed7953\"], [0.7777777777777778, \"#fb9f3a\"], [0.8888888888888888, \"#fdca26\"], [1.0, \"#f0f921\"]], \"type\": \"surface\"}], \"table\": [{\"cells\": {\"fill\": {\"color\": \"#EBF0F8\"}, \"line\": {\"color\": \"white\"}}, \"header\": {\"fill\": {\"color\": \"#C8D4E3\"}, \"line\": {\"color\": \"white\"}}, \"type\": \"table\"}]}, \"layout\": {\"annotationdefaults\": {\"arrowcolor\": \"#2a3f5f\", \"arrowhead\": 0, \"arrowwidth\": 1}, \"coloraxis\": {\"colorbar\": {\"outlinewidth\": 0, \"ticks\": \"\"}}, \"colorscale\": {\"diverging\": [[0, \"#8e0152\"], [0.1, \"#c51b7d\"], [0.2, \"#de77ae\"], [0.3, \"#f1b6da\"], [0.4, \"#fde0ef\"], [0.5, \"#f7f7f7\"], [0.6, \"#e6f5d0\"], [0.7, \"#b8e186\"], [0.8, \"#7fbc41\"], [0.9, \"#4d9221\"], [1, \"#276419\"]], \"sequential\": [[0.0, \"#0d0887\"], [0.1111111111111111, \"#46039f\"], [0.2222222222222222, \"#7201a8\"], [0.3333333333333333, \"#9c179e\"], [0.4444444444444444, \"#bd3786\"], [0.5555555555555556, \"#d8576b\"], [0.6666666666666666, \"#ed7953\"], [0.7777777777777778, \"#fb9f3a\"], [0.8888888888888888, \"#fdca26\"], [1.0, \"#f0f921\"]], \"sequentialminus\": [[0.0, \"#0d0887\"], [0.1111111111111111, \"#46039f\"], [0.2222222222222222, \"#7201a8\"], [0.3333333333333333, \"#9c179e\"], [0.4444444444444444, \"#bd3786\"], [0.5555555555555556, \"#d8576b\"], [0.6666666666666666, \"#ed7953\"], [0.7777777777777778, \"#fb9f3a\"], [0.8888888888888888, \"#fdca26\"], [1.0, \"#f0f921\"]]}, \"colorway\": [\"#636efa\", \"#EF553B\", \"#00cc96\", \"#ab63fa\", \"#FFA15A\", \"#19d3f3\", \"#FF6692\", \"#B6E880\", \"#FF97FF\", \"#FECB52\"], \"font\": {\"color\": \"#2a3f5f\"}, \"geo\": {\"bgcolor\": \"white\", \"lakecolor\": \"white\", \"landcolor\": \"#E5ECF6\", \"showlakes\": true, \"showland\": true, \"subunitcolor\": \"white\"}, \"hoverlabel\": {\"align\": \"left\"}, \"hovermode\": \"closest\", \"mapbox\": {\"style\": \"light\"}, \"paper_bgcolor\": \"white\", \"plot_bgcolor\": \"#E5ECF6\", \"polar\": {\"angularaxis\": {\"gridcolor\": \"white\", \"linecolor\": \"white\", \"ticks\": \"\"}, \"bgcolor\": \"#E5ECF6\", \"radialaxis\": {\"gridcolor\": \"white\", \"linecolor\": \"white\", \"ticks\": \"\"}}, \"scene\": {\"xaxis\": {\"backgroundcolor\": \"#E5ECF6\", \"gridcolor\": \"white\", \"gridwidth\": 2, \"linecolor\": \"white\", \"showbackground\": true, \"ticks\": \"\", \"zerolinecolor\": \"white\"}, \"yaxis\": {\"backgroundcolor\": \"#E5ECF6\", \"gridcolor\": \"white\", \"gridwidth\": 2, \"linecolor\": \"white\", \"showbackground\": true, \"ticks\": \"\", \"zerolinecolor\": \"white\"}, \"zaxis\": {\"backgroundcolor\": \"#E5ECF6\", \"gridcolor\": \"white\", \"gridwidth\": 2, \"linecolor\": \"white\", \"showbackground\": true, \"ticks\": \"\", \"zerolinecolor\": \"white\"}}, \"shapedefaults\": {\"line\": {\"color\": \"#2a3f5f\"}}, \"ternary\": {\"aaxis\": {\"gridcolor\": \"white\", \"linecolor\": \"white\", \"ticks\": \"\"}, \"baxis\": {\"gridcolor\": \"white\", \"linecolor\": \"white\", \"ticks\": \"\"}, \"bgcolor\": \"#E5ECF6\", \"caxis\": {\"gridcolor\": \"white\", \"linecolor\": \"white\", \"ticks\": \"\"}}, \"title\": {\"x\": 0.05}, \"xaxis\": {\"automargin\": true, \"gridcolor\": \"white\", \"linecolor\": \"white\", \"ticks\": \"\", \"title\": {\"standoff\": 15}, \"zerolinecolor\": \"white\", \"zerolinewidth\": 2}, \"yaxis\": {\"automargin\": true, \"gridcolor\": \"white\", \"linecolor\": \"white\", \"ticks\": \"\", \"title\": {\"standoff\": 15}, \"zerolinecolor\": \"white\", \"zerolinewidth\": 2}}}, \"title\": {\"font\": {\"color\": \"#4D5663\"}, \"text\": \"MVIS | Microvision Stock Price\"}, \"xaxis\": {\"gridcolor\": \"#E1E5ED\", \"rangeslider\": {\"visible\": false}, \"showgrid\": true, \"tickfont\": {\"color\": \"#4D5663\"}, \"title\": {\"font\": {\"color\": \"#4D5663\"}, \"text\": \"\"}, \"zerolinecolor\": \"#E1E5ED\"}, \"yaxis\": {\"gridcolor\": \"#E1E5ED\", \"showgrid\": true, \"showticklabels\": false, \"tickfont\": {\"color\": \"#4D5663\"}, \"title\": {\"font\": {\"color\": \"#4D5663\"}, \"text\": \"\"}, \"zerolinecolor\": \"#E1E5ED\"}, \"yaxis2\": {\"gridcolor\": \"#E1E5ED\", \"showgrid\": true, \"tickfont\": {\"color\": \"#4D5663\"}, \"title\": {\"font\": {\"color\": \"#4D5663\"}, \"text\": \"\"}, \"zerolinecolor\": \"#E1E5ED\"}},                        {\"showLink\": true, \"linkText\": \"Export to plotly.com\", \"plotlyServerURL\": \"https://plotly.com\", \"responsive\": true}                    ).then(function(){\n",
       "                            \n",
       "var gd = document.getElementById('9f1c2b3c-0a35-44b0-b3f9-b45a7a0dcf2b');\n",
       "var x = new MutationObserver(function (mutations, observer) {{\n",
       "        var display = window.getComputedStyle(gd).display;\n",
       "        if (!display || display === 'none') {{\n",
       "            console.log([gd, 'removed!']);\n",
       "            Plotly.purge(gd);\n",
       "            observer.disconnect();\n",
       "        }}\n",
       "}});\n",
       "\n",
       "// Listen for the removal of the full notebook cells\n",
       "var notebookContainer = gd.closest('#notebook-container');\n",
       "if (notebookContainer) {{\n",
       "    x.observe(notebookContainer, {childList: true});\n",
       "}}\n",
       "\n",
       "// Listen for the clearing of the current output cell\n",
       "var outputEl = gd.closest('.output');\n",
       "if (outputEl) {{\n",
       "    x.observe(outputEl, {childList: true});\n",
       "}}\n",
       "\n",
       "                        })                };                });            </script>        </div>"
      ]
     },
     "metadata": {},
     "output_type": "display_data"
    }
   ],
   "source": [
    "MVIS[['Open', 'High', 'Low', 'Close']].iplot(kind='candle',title='MVIS | Microvision Stock Price')"
   ]
  },
  {
   "cell_type": "code",
   "execution_count": 16,
   "metadata": {
    "ExecuteTime": {
     "end_time": "2021-07-12T21:21:22.632462Z",
     "start_time": "2021-07-12T21:21:22.589929Z"
    }
   },
   "outputs": [
    {
     "data": {
      "application/vnd.plotly.v1+json": {
       "config": {
        "linkText": "Export to plotly.com",
        "plotlyServerURL": "https://plotly.com",
        "showLink": true
       },
       "data": [
        {
         "close": [
          6.58,
          6.71,
          6.65,
          6.94,
          6.74,
          7.23,
          8.87,
          8.15,
          7.91,
          7.55,
          7.59,
          7.55,
          8.29,
          8.16,
          8.15,
          8.63,
          7.99,
          7.85,
          7.69,
          7.65,
          8.01,
          8.13,
          9.48,
          8.69,
          8.53,
          8.83,
          8.39,
          7.92,
          7.94,
          7.93,
          7.75,
          7.28,
          7.27,
          6.89,
          6.45,
          6.68,
          6.28,
          6.17,
          6.45,
          6.15,
          5.66,
          5.37,
          5.05,
          4.88,
          5.77,
          5.74,
          5.84,
          5.83,
          5.75,
          5.51,
          5.71,
          5.38,
          5.57,
          5.46,
          5.09,
          4.48,
          4.75,
          4.62,
          4.43,
          4.67,
          4.7,
          4.93,
          4.79,
          4.98,
          4.76,
          4.85,
          4.74,
          4.56,
          4.6,
          4.4,
          4.16,
          4.2,
          4.06,
          3.93,
          4.24,
          4.16,
          4.32,
          4.39,
          4.3,
          4.34,
          4.19,
          4.15,
          3.98,
          3.83,
          3.76,
          3.52,
          3.61,
          3.26,
          3.33,
          3.22,
          3.05,
          3.31,
          3.31,
          3.42,
          3.35,
          3.35,
          3.37,
          3.34,
          3.37,
          3.76,
          3.81,
          3.75,
          4.03,
          4.13,
          4.47,
          4.31,
          4.63,
          4.62,
          4.69,
          4.41,
          4.49,
          4.3,
          4.1,
          4.34,
          4.38,
          4.52,
          4.27,
          4.21,
          4.39,
          4.27,
          4.36,
          4.47,
          4.41,
          4.27,
          4.04,
          3.93,
          3.91,
          3.79,
          3.83
         ],
         "high": [
          6.95,
          6.8,
          7.23,
          7.41,
          7.23,
          7.57,
          8.98,
          8.87,
          8.34,
          8.49,
          7.78,
          7.79,
          8.43,
          8.35,
          9.21,
          8.77,
          8.43,
          8.2,
          8.49,
          7.9,
          8.22,
          8.63,
          9.74,
          9.4,
          8.95,
          9.23,
          9.11,
          8.75,
          8.15,
          8.24,
          8,
          7.74,
          7.53,
          7.19,
          6.53,
          6.83,
          6.68,
          6.3,
          6.48,
          6.54,
          6.25,
          5.85,
          5.33,
          5.43,
          6.05,
          6.15,
          5.95,
          5.86,
          6.04,
          5.89,
          5.78,
          5.69,
          5.57,
          5.7,
          5.46,
          5.09,
          4.78,
          4.78,
          4.58,
          4.67,
          4.8,
          5.3,
          5.14,
          5.08,
          5.02,
          4.91,
          4.82,
          4.73,
          4.61,
          4.6,
          4.46,
          4.21,
          4.2,
          4.08,
          4.28,
          4.36,
          4.32,
          4.44,
          4.43,
          4.47,
          4.4,
          4.27,
          4.18,
          3.96,
          3.93,
          3.76,
          3.73,
          3.62,
          3.39,
          3.38,
          3.32,
          3.37,
          3.36,
          3.53,
          3.35,
          3.38,
          3.41,
          3.38,
          3.47,
          3.88,
          3.82,
          3.95,
          4.08,
          4.13,
          4.78,
          4.61,
          4.66,
          4.74,
          4.95,
          4.75,
          4.61,
          4.58,
          4.35,
          4.34,
          4.55,
          4.56,
          4.5,
          4.33,
          4.51,
          4.46,
          4.4,
          4.71,
          4.51,
          4.37,
          4.32,
          4.09,
          4.11,
          3.98,
          3.98
         ],
         "low": [
          6.26,
          6.4,
          6.5,
          6.81,
          6.56,
          6.66,
          7.13,
          7.87,
          7.61,
          7.46,
          7.26,
          7.08,
          7.22,
          7.77,
          7.52,
          7.93,
          7.7,
          7.7,
          7.63,
          7.16,
          7.38,
          8.06,
          7.98,
          8.33,
          8.47,
          8.09,
          8.16,
          7.67,
          7.85,
          7.77,
          7.33,
          7.2,
          7.21,
          6.81,
          5.3,
          6.37,
          6.16,
          5.76,
          6.05,
          6.14,
          5.61,
          5,
          4.34,
          4.82,
          5.19,
          5.57,
          5.75,
          5.62,
          5.65,
          5.37,
          5.24,
          5.32,
          5.25,
          5.45,
          5.02,
          4.46,
          4.28,
          4.41,
          4.35,
          4.24,
          4.63,
          4.86,
          4.72,
          4.69,
          4.74,
          4.69,
          4.62,
          4.46,
          4.4,
          4.37,
          4.04,
          3.94,
          3.94,
          3.87,
          3.79,
          4.1,
          4.13,
          4.18,
          4.25,
          4.24,
          4.07,
          4.1,
          3.96,
          3.72,
          3.71,
          3.46,
          3.51,
          3.26,
          3,
          3.15,
          2.97,
          3.12,
          3.2,
          3.26,
          3.18,
          3.25,
          3.27,
          3.22,
          3.27,
          3.33,
          3.57,
          3.73,
          3.84,
          3.82,
          3.97,
          4.22,
          4.25,
          4.48,
          4.64,
          4.38,
          4.39,
          4.23,
          4.1,
          4.03,
          4.27,
          4.24,
          4.25,
          4.16,
          4.16,
          4.26,
          4.26,
          4.37,
          4.27,
          4.25,
          4.02,
          3.87,
          3.84,
          3.69,
          3.62
         ],
         "open": [
          6.38,
          6.57,
          6.8,
          6.89,
          7.12,
          6.67,
          7.35,
          8.73,
          8.34,
          8.17,
          7.64,
          7.67,
          7.58,
          8.05,
          8.38,
          8.25,
          8.13,
          8,
          7.95,
          7.88,
          7.74,
          8.22,
          8.18,
          9.24,
          8.82,
          8.52,
          8.79,
          8.51,
          7.95,
          8.08,
          7.94,
          7.53,
          7.45,
          7.14,
          6.24,
          6.59,
          6.6,
          6.17,
          6.22,
          6.45,
          6.21,
          5.56,
          5.32,
          5.19,
          5.21,
          6.05,
          5.94,
          5.7,
          5.94,
          5.85,
          5.39,
          5.62,
          5.41,
          5.64,
          5.46,
          5.06,
          4.31,
          4.69,
          4.54,
          4.4,
          4.77,
          4.99,
          5.13,
          4.75,
          5,
          4.83,
          4.8,
          4.71,
          4.57,
          4.52,
          4.46,
          4.05,
          4.17,
          4.01,
          3.86,
          4.25,
          4.19,
          4.35,
          4.4,
          4.28,
          4.4,
          4.11,
          4.15,
          3.96,
          3.87,
          3.71,
          3.58,
          3.6,
          3.02,
          3.38,
          3.26,
          3.12,
          3.26,
          3.33,
          3.24,
          3.38,
          3.38,
          3.37,
          3.32,
          3.37,
          3.8,
          3.88,
          3.91,
          4.12,
          4.1,
          4.55,
          4.38,
          4.7,
          4.75,
          4.72,
          4.45,
          4.5,
          4.35,
          4.06,
          4.28,
          4.34,
          4.43,
          4.25,
          4.17,
          4.42,
          4.29,
          4.39,
          4.46,
          4.32,
          4.3,
          4.09,
          3.96,
          3.98,
          3.63
         ],
         "showlegend": false,
         "type": "candlestick",
         "x": [
          "2021-01-04",
          "2021-01-05",
          "2021-01-06",
          "2021-01-07",
          "2021-01-08",
          "2021-01-11",
          "2021-01-12",
          "2021-01-13",
          "2021-01-14",
          "2021-01-15",
          "2021-01-19",
          "2021-01-20",
          "2021-01-21",
          "2021-01-22",
          "2021-01-25",
          "2021-01-26",
          "2021-01-27",
          "2021-01-28",
          "2021-01-29",
          "2021-02-01",
          "2021-02-02",
          "2021-02-03",
          "2021-02-04",
          "2021-02-05",
          "2021-02-08",
          "2021-02-09",
          "2021-02-10",
          "2021-02-11",
          "2021-02-12",
          "2021-02-16",
          "2021-02-17",
          "2021-02-18",
          "2021-02-19",
          "2021-02-22",
          "2021-02-23",
          "2021-02-24",
          "2021-02-25",
          "2021-02-26",
          "2021-03-01",
          "2021-03-02",
          "2021-03-03",
          "2021-03-04",
          "2021-03-05",
          "2021-03-08",
          "2021-03-09",
          "2021-03-10",
          "2021-03-11",
          "2021-03-12",
          "2021-03-15",
          "2021-03-16",
          "2021-03-17",
          "2021-03-18",
          "2021-03-19",
          "2021-03-22",
          "2021-03-23",
          "2021-03-24",
          "2021-03-25",
          "2021-03-26",
          "2021-03-29",
          "2021-03-30",
          "2021-03-31",
          "2021-04-01",
          "2021-04-05",
          "2021-04-06",
          "2021-04-07",
          "2021-04-08",
          "2021-04-09",
          "2021-04-12",
          "2021-04-13",
          "2021-04-14",
          "2021-04-15",
          "2021-04-16",
          "2021-04-19",
          "2021-04-20",
          "2021-04-21",
          "2021-04-22",
          "2021-04-23",
          "2021-04-26",
          "2021-04-27",
          "2021-04-28",
          "2021-04-29",
          "2021-04-30",
          "2021-05-03",
          "2021-05-04",
          "2021-05-05",
          "2021-05-06",
          "2021-05-07",
          "2021-05-10",
          "2021-05-11",
          "2021-05-12",
          "2021-05-13",
          "2021-05-14",
          "2021-05-17",
          "2021-05-18",
          "2021-05-19",
          "2021-05-20",
          "2021-05-21",
          "2021-05-24",
          "2021-05-25",
          "2021-05-26",
          "2021-05-27",
          "2021-05-28",
          "2021-06-01",
          "2021-06-02",
          "2021-06-03",
          "2021-06-04",
          "2021-06-07",
          "2021-06-08",
          "2021-06-09",
          "2021-06-10",
          "2021-06-11",
          "2021-06-14",
          "2021-06-15",
          "2021-06-16",
          "2021-06-17",
          "2021-06-18",
          "2021-06-21",
          "2021-06-22",
          "2021-06-23",
          "2021-06-24",
          "2021-06-25",
          "2021-06-28",
          "2021-06-29",
          "2021-06-30",
          "2021-07-01",
          "2021-07-02",
          "2021-07-06",
          "2021-07-07",
          "2021-07-08"
         ],
         "yaxis": "y2"
        }
       ],
       "layout": {
        "legend": {
         "bgcolor": "#F5F6F9",
         "font": {
          "color": "#4D5663"
         }
        },
        "paper_bgcolor": "#F5F6F9",
        "plot_bgcolor": "#F5F6F9",
        "template": {
         "data": {
          "bar": [
           {
            "error_x": {
             "color": "#2a3f5f"
            },
            "error_y": {
             "color": "#2a3f5f"
            },
            "marker": {
             "line": {
              "color": "#E5ECF6",
              "width": 0.5
             }
            },
            "type": "bar"
           }
          ],
          "barpolar": [
           {
            "marker": {
             "line": {
              "color": "#E5ECF6",
              "width": 0.5
             }
            },
            "type": "barpolar"
           }
          ],
          "carpet": [
           {
            "aaxis": {
             "endlinecolor": "#2a3f5f",
             "gridcolor": "white",
             "linecolor": "white",
             "minorgridcolor": "white",
             "startlinecolor": "#2a3f5f"
            },
            "baxis": {
             "endlinecolor": "#2a3f5f",
             "gridcolor": "white",
             "linecolor": "white",
             "minorgridcolor": "white",
             "startlinecolor": "#2a3f5f"
            },
            "type": "carpet"
           }
          ],
          "choropleth": [
           {
            "colorbar": {
             "outlinewidth": 0,
             "ticks": ""
            },
            "type": "choropleth"
           }
          ],
          "contour": [
           {
            "colorbar": {
             "outlinewidth": 0,
             "ticks": ""
            },
            "colorscale": [
             [
              0,
              "#0d0887"
             ],
             [
              0.1111111111111111,
              "#46039f"
             ],
             [
              0.2222222222222222,
              "#7201a8"
             ],
             [
              0.3333333333333333,
              "#9c179e"
             ],
             [
              0.4444444444444444,
              "#bd3786"
             ],
             [
              0.5555555555555556,
              "#d8576b"
             ],
             [
              0.6666666666666666,
              "#ed7953"
             ],
             [
              0.7777777777777778,
              "#fb9f3a"
             ],
             [
              0.8888888888888888,
              "#fdca26"
             ],
             [
              1,
              "#f0f921"
             ]
            ],
            "type": "contour"
           }
          ],
          "contourcarpet": [
           {
            "colorbar": {
             "outlinewidth": 0,
             "ticks": ""
            },
            "type": "contourcarpet"
           }
          ],
          "heatmap": [
           {
            "colorbar": {
             "outlinewidth": 0,
             "ticks": ""
            },
            "colorscale": [
             [
              0,
              "#0d0887"
             ],
             [
              0.1111111111111111,
              "#46039f"
             ],
             [
              0.2222222222222222,
              "#7201a8"
             ],
             [
              0.3333333333333333,
              "#9c179e"
             ],
             [
              0.4444444444444444,
              "#bd3786"
             ],
             [
              0.5555555555555556,
              "#d8576b"
             ],
             [
              0.6666666666666666,
              "#ed7953"
             ],
             [
              0.7777777777777778,
              "#fb9f3a"
             ],
             [
              0.8888888888888888,
              "#fdca26"
             ],
             [
              1,
              "#f0f921"
             ]
            ],
            "type": "heatmap"
           }
          ],
          "heatmapgl": [
           {
            "colorbar": {
             "outlinewidth": 0,
             "ticks": ""
            },
            "colorscale": [
             [
              0,
              "#0d0887"
             ],
             [
              0.1111111111111111,
              "#46039f"
             ],
             [
              0.2222222222222222,
              "#7201a8"
             ],
             [
              0.3333333333333333,
              "#9c179e"
             ],
             [
              0.4444444444444444,
              "#bd3786"
             ],
             [
              0.5555555555555556,
              "#d8576b"
             ],
             [
              0.6666666666666666,
              "#ed7953"
             ],
             [
              0.7777777777777778,
              "#fb9f3a"
             ],
             [
              0.8888888888888888,
              "#fdca26"
             ],
             [
              1,
              "#f0f921"
             ]
            ],
            "type": "heatmapgl"
           }
          ],
          "histogram": [
           {
            "marker": {
             "colorbar": {
              "outlinewidth": 0,
              "ticks": ""
             }
            },
            "type": "histogram"
           }
          ],
          "histogram2d": [
           {
            "colorbar": {
             "outlinewidth": 0,
             "ticks": ""
            },
            "colorscale": [
             [
              0,
              "#0d0887"
             ],
             [
              0.1111111111111111,
              "#46039f"
             ],
             [
              0.2222222222222222,
              "#7201a8"
             ],
             [
              0.3333333333333333,
              "#9c179e"
             ],
             [
              0.4444444444444444,
              "#bd3786"
             ],
             [
              0.5555555555555556,
              "#d8576b"
             ],
             [
              0.6666666666666666,
              "#ed7953"
             ],
             [
              0.7777777777777778,
              "#fb9f3a"
             ],
             [
              0.8888888888888888,
              "#fdca26"
             ],
             [
              1,
              "#f0f921"
             ]
            ],
            "type": "histogram2d"
           }
          ],
          "histogram2dcontour": [
           {
            "colorbar": {
             "outlinewidth": 0,
             "ticks": ""
            },
            "colorscale": [
             [
              0,
              "#0d0887"
             ],
             [
              0.1111111111111111,
              "#46039f"
             ],
             [
              0.2222222222222222,
              "#7201a8"
             ],
             [
              0.3333333333333333,
              "#9c179e"
             ],
             [
              0.4444444444444444,
              "#bd3786"
             ],
             [
              0.5555555555555556,
              "#d8576b"
             ],
             [
              0.6666666666666666,
              "#ed7953"
             ],
             [
              0.7777777777777778,
              "#fb9f3a"
             ],
             [
              0.8888888888888888,
              "#fdca26"
             ],
             [
              1,
              "#f0f921"
             ]
            ],
            "type": "histogram2dcontour"
           }
          ],
          "mesh3d": [
           {
            "colorbar": {
             "outlinewidth": 0,
             "ticks": ""
            },
            "type": "mesh3d"
           }
          ],
          "parcoords": [
           {
            "line": {
             "colorbar": {
              "outlinewidth": 0,
              "ticks": ""
             }
            },
            "type": "parcoords"
           }
          ],
          "pie": [
           {
            "automargin": true,
            "type": "pie"
           }
          ],
          "scatter": [
           {
            "marker": {
             "colorbar": {
              "outlinewidth": 0,
              "ticks": ""
             }
            },
            "type": "scatter"
           }
          ],
          "scatter3d": [
           {
            "line": {
             "colorbar": {
              "outlinewidth": 0,
              "ticks": ""
             }
            },
            "marker": {
             "colorbar": {
              "outlinewidth": 0,
              "ticks": ""
             }
            },
            "type": "scatter3d"
           }
          ],
          "scattercarpet": [
           {
            "marker": {
             "colorbar": {
              "outlinewidth": 0,
              "ticks": ""
             }
            },
            "type": "scattercarpet"
           }
          ],
          "scattergeo": [
           {
            "marker": {
             "colorbar": {
              "outlinewidth": 0,
              "ticks": ""
             }
            },
            "type": "scattergeo"
           }
          ],
          "scattergl": [
           {
            "marker": {
             "colorbar": {
              "outlinewidth": 0,
              "ticks": ""
             }
            },
            "type": "scattergl"
           }
          ],
          "scattermapbox": [
           {
            "marker": {
             "colorbar": {
              "outlinewidth": 0,
              "ticks": ""
             }
            },
            "type": "scattermapbox"
           }
          ],
          "scatterpolar": [
           {
            "marker": {
             "colorbar": {
              "outlinewidth": 0,
              "ticks": ""
             }
            },
            "type": "scatterpolar"
           }
          ],
          "scatterpolargl": [
           {
            "marker": {
             "colorbar": {
              "outlinewidth": 0,
              "ticks": ""
             }
            },
            "type": "scatterpolargl"
           }
          ],
          "scatterternary": [
           {
            "marker": {
             "colorbar": {
              "outlinewidth": 0,
              "ticks": ""
             }
            },
            "type": "scatterternary"
           }
          ],
          "surface": [
           {
            "colorbar": {
             "outlinewidth": 0,
             "ticks": ""
            },
            "colorscale": [
             [
              0,
              "#0d0887"
             ],
             [
              0.1111111111111111,
              "#46039f"
             ],
             [
              0.2222222222222222,
              "#7201a8"
             ],
             [
              0.3333333333333333,
              "#9c179e"
             ],
             [
              0.4444444444444444,
              "#bd3786"
             ],
             [
              0.5555555555555556,
              "#d8576b"
             ],
             [
              0.6666666666666666,
              "#ed7953"
             ],
             [
              0.7777777777777778,
              "#fb9f3a"
             ],
             [
              0.8888888888888888,
              "#fdca26"
             ],
             [
              1,
              "#f0f921"
             ]
            ],
            "type": "surface"
           }
          ],
          "table": [
           {
            "cells": {
             "fill": {
              "color": "#EBF0F8"
             },
             "line": {
              "color": "white"
             }
            },
            "header": {
             "fill": {
              "color": "#C8D4E3"
             },
             "line": {
              "color": "white"
             }
            },
            "type": "table"
           }
          ]
         },
         "layout": {
          "annotationdefaults": {
           "arrowcolor": "#2a3f5f",
           "arrowhead": 0,
           "arrowwidth": 1
          },
          "coloraxis": {
           "colorbar": {
            "outlinewidth": 0,
            "ticks": ""
           }
          },
          "colorscale": {
           "diverging": [
            [
             0,
             "#8e0152"
            ],
            [
             0.1,
             "#c51b7d"
            ],
            [
             0.2,
             "#de77ae"
            ],
            [
             0.3,
             "#f1b6da"
            ],
            [
             0.4,
             "#fde0ef"
            ],
            [
             0.5,
             "#f7f7f7"
            ],
            [
             0.6,
             "#e6f5d0"
            ],
            [
             0.7,
             "#b8e186"
            ],
            [
             0.8,
             "#7fbc41"
            ],
            [
             0.9,
             "#4d9221"
            ],
            [
             1,
             "#276419"
            ]
           ],
           "sequential": [
            [
             0,
             "#0d0887"
            ],
            [
             0.1111111111111111,
             "#46039f"
            ],
            [
             0.2222222222222222,
             "#7201a8"
            ],
            [
             0.3333333333333333,
             "#9c179e"
            ],
            [
             0.4444444444444444,
             "#bd3786"
            ],
            [
             0.5555555555555556,
             "#d8576b"
            ],
            [
             0.6666666666666666,
             "#ed7953"
            ],
            [
             0.7777777777777778,
             "#fb9f3a"
            ],
            [
             0.8888888888888888,
             "#fdca26"
            ],
            [
             1,
             "#f0f921"
            ]
           ],
           "sequentialminus": [
            [
             0,
             "#0d0887"
            ],
            [
             0.1111111111111111,
             "#46039f"
            ],
            [
             0.2222222222222222,
             "#7201a8"
            ],
            [
             0.3333333333333333,
             "#9c179e"
            ],
            [
             0.4444444444444444,
             "#bd3786"
            ],
            [
             0.5555555555555556,
             "#d8576b"
            ],
            [
             0.6666666666666666,
             "#ed7953"
            ],
            [
             0.7777777777777778,
             "#fb9f3a"
            ],
            [
             0.8888888888888888,
             "#fdca26"
            ],
            [
             1,
             "#f0f921"
            ]
           ]
          },
          "colorway": [
           "#636efa",
           "#EF553B",
           "#00cc96",
           "#ab63fa",
           "#FFA15A",
           "#19d3f3",
           "#FF6692",
           "#B6E880",
           "#FF97FF",
           "#FECB52"
          ],
          "font": {
           "color": "#2a3f5f"
          },
          "geo": {
           "bgcolor": "white",
           "lakecolor": "white",
           "landcolor": "#E5ECF6",
           "showlakes": true,
           "showland": true,
           "subunitcolor": "white"
          },
          "hoverlabel": {
           "align": "left"
          },
          "hovermode": "closest",
          "mapbox": {
           "style": "light"
          },
          "paper_bgcolor": "white",
          "plot_bgcolor": "#E5ECF6",
          "polar": {
           "angularaxis": {
            "gridcolor": "white",
            "linecolor": "white",
            "ticks": ""
           },
           "bgcolor": "#E5ECF6",
           "radialaxis": {
            "gridcolor": "white",
            "linecolor": "white",
            "ticks": ""
           }
          },
          "scene": {
           "xaxis": {
            "backgroundcolor": "#E5ECF6",
            "gridcolor": "white",
            "gridwidth": 2,
            "linecolor": "white",
            "showbackground": true,
            "ticks": "",
            "zerolinecolor": "white"
           },
           "yaxis": {
            "backgroundcolor": "#E5ECF6",
            "gridcolor": "white",
            "gridwidth": 2,
            "linecolor": "white",
            "showbackground": true,
            "ticks": "",
            "zerolinecolor": "white"
           },
           "zaxis": {
            "backgroundcolor": "#E5ECF6",
            "gridcolor": "white",
            "gridwidth": 2,
            "linecolor": "white",
            "showbackground": true,
            "ticks": "",
            "zerolinecolor": "white"
           }
          },
          "shapedefaults": {
           "line": {
            "color": "#2a3f5f"
           }
          },
          "ternary": {
           "aaxis": {
            "gridcolor": "white",
            "linecolor": "white",
            "ticks": ""
           },
           "baxis": {
            "gridcolor": "white",
            "linecolor": "white",
            "ticks": ""
           },
           "bgcolor": "#E5ECF6",
           "caxis": {
            "gridcolor": "white",
            "linecolor": "white",
            "ticks": ""
           }
          },
          "title": {
           "x": 0.05
          },
          "xaxis": {
           "automargin": true,
           "gridcolor": "white",
           "linecolor": "white",
           "ticks": "",
           "title": {
            "standoff": 15
           },
           "zerolinecolor": "white",
           "zerolinewidth": 2
          },
          "yaxis": {
           "automargin": true,
           "gridcolor": "white",
           "linecolor": "white",
           "ticks": "",
           "title": {
            "standoff": 15
           },
           "zerolinecolor": "white",
           "zerolinewidth": 2
          }
         }
        },
        "title": {
         "font": {
          "color": "#4D5663"
         },
         "text": "SOLO | ElectraMeccanica Stock Price"
        },
        "xaxis": {
         "gridcolor": "#E1E5ED",
         "rangeslider": {
          "visible": false
         },
         "showgrid": true,
         "tickfont": {
          "color": "#4D5663"
         },
         "title": {
          "font": {
           "color": "#4D5663"
          },
          "text": ""
         },
         "zerolinecolor": "#E1E5ED"
        },
        "yaxis": {
         "gridcolor": "#E1E5ED",
         "showgrid": true,
         "showticklabels": false,
         "tickfont": {
          "color": "#4D5663"
         },
         "title": {
          "font": {
           "color": "#4D5663"
          },
          "text": ""
         },
         "zerolinecolor": "#E1E5ED"
        },
        "yaxis2": {
         "gridcolor": "#E1E5ED",
         "showgrid": true,
         "tickfont": {
          "color": "#4D5663"
         },
         "title": {
          "font": {
           "color": "#4D5663"
          },
          "text": ""
         },
         "zerolinecolor": "#E1E5ED"
        }
       }
      },
      "text/html": [
       "<div>                            <div id=\"c4398ca7-0124-4be8-a766-a8521685d8a2\" class=\"plotly-graph-div\" style=\"height:525px; width:100%;\"></div>            <script type=\"text/javascript\">                require([\"plotly\"], function(Plotly) {                    window.PLOTLYENV=window.PLOTLYENV || {};\n",
       "                    window.PLOTLYENV.BASE_URL='https://plotly.com';                                    if (document.getElementById(\"c4398ca7-0124-4be8-a766-a8521685d8a2\")) {                    Plotly.newPlot(                        \"c4398ca7-0124-4be8-a766-a8521685d8a2\",                        [{\"close\": [6.58, 6.71, 6.65, 6.94, 6.74, 7.23, 8.87, 8.15, 7.91, 7.55, 7.59, 7.55, 8.29, 8.16, 8.15, 8.63, 7.99, 7.85, 7.69, 7.65, 8.01, 8.13, 9.48, 8.69, 8.53, 8.83, 8.39, 7.92, 7.94, 7.93, 7.75, 7.28, 7.27, 6.89, 6.45, 6.68, 6.28, 6.17, 6.45, 6.15, 5.66, 5.37, 5.05, 4.88, 5.77, 5.74, 5.84, 5.83, 5.75, 5.51, 5.71, 5.38, 5.57, 5.46, 5.09, 4.48, 4.75, 4.62, 4.43, 4.67, 4.7, 4.93, 4.79, 4.98, 4.76, 4.85, 4.74, 4.56, 4.6, 4.4, 4.16, 4.2, 4.06, 3.93, 4.24, 4.16, 4.32, 4.39, 4.3, 4.34, 4.19, 4.15, 3.98, 3.83, 3.76, 3.52, 3.61, 3.26, 3.33, 3.22, 3.05, 3.31, 3.31, 3.42, 3.35, 3.35, 3.37, 3.34, 3.37, 3.76, 3.81, 3.75, 4.03, 4.13, 4.47, 4.31, 4.63, 4.62, 4.69, 4.41, 4.49, 4.3, 4.1, 4.34, 4.38, 4.52, 4.27, 4.21, 4.39, 4.27, 4.36, 4.47, 4.41, 4.27, 4.04, 3.93, 3.91, 3.79, 3.83], \"high\": [6.95, 6.8, 7.23, 7.41, 7.23, 7.57, 8.98, 8.87, 8.34, 8.49, 7.78, 7.79, 8.43, 8.35, 9.21, 8.77, 8.43, 8.2, 8.49, 7.9, 8.22, 8.63, 9.74, 9.4, 8.95, 9.23, 9.11, 8.75, 8.15, 8.24, 8.0, 7.74, 7.53, 7.19, 6.53, 6.83, 6.68, 6.3, 6.48, 6.54, 6.25, 5.85, 5.33, 5.43, 6.05, 6.15, 5.95, 5.86, 6.04, 5.89, 5.78, 5.69, 5.57, 5.7, 5.46, 5.09, 4.78, 4.78, 4.58, 4.67, 4.8, 5.3, 5.14, 5.08, 5.02, 4.91, 4.82, 4.73, 4.61, 4.6, 4.46, 4.21, 4.2, 4.08, 4.28, 4.36, 4.32, 4.44, 4.43, 4.47, 4.4, 4.27, 4.18, 3.96, 3.93, 3.76, 3.73, 3.62, 3.39, 3.38, 3.32, 3.37, 3.36, 3.53, 3.35, 3.38, 3.41, 3.38, 3.47, 3.88, 3.82, 3.95, 4.08, 4.13, 4.78, 4.61, 4.66, 4.74, 4.95, 4.75, 4.61, 4.58, 4.35, 4.34, 4.55, 4.56, 4.5, 4.33, 4.51, 4.46, 4.4, 4.71, 4.51, 4.37, 4.32, 4.09, 4.11, 3.98, 3.98], \"low\": [6.26, 6.4, 6.5, 6.81, 6.56, 6.66, 7.13, 7.87, 7.61, 7.46, 7.26, 7.08, 7.22, 7.77, 7.52, 7.93, 7.7, 7.7, 7.63, 7.16, 7.38, 8.06, 7.98, 8.33, 8.47, 8.09, 8.16, 7.67, 7.85, 7.77, 7.33, 7.2, 7.21, 6.81, 5.3, 6.37, 6.16, 5.76, 6.05, 6.14, 5.61, 5.0, 4.34, 4.82, 5.19, 5.57, 5.75, 5.62, 5.65, 5.37, 5.24, 5.32, 5.25, 5.45, 5.02, 4.46, 4.28, 4.41, 4.35, 4.24, 4.63, 4.86, 4.72, 4.69, 4.74, 4.69, 4.62, 4.46, 4.4, 4.37, 4.04, 3.94, 3.94, 3.87, 3.79, 4.1, 4.13, 4.18, 4.25, 4.24, 4.07, 4.1, 3.96, 3.72, 3.71, 3.46, 3.51, 3.26, 3.0, 3.15, 2.97, 3.12, 3.2, 3.26, 3.18, 3.25, 3.27, 3.22, 3.27, 3.33, 3.57, 3.73, 3.84, 3.82, 3.97, 4.22, 4.25, 4.48, 4.64, 4.38, 4.39, 4.23, 4.1, 4.03, 4.27, 4.24, 4.25, 4.16, 4.16, 4.26, 4.26, 4.37, 4.27, 4.25, 4.02, 3.87, 3.84, 3.69, 3.62], \"open\": [6.38, 6.57, 6.8, 6.89, 7.12, 6.67, 7.35, 8.73, 8.34, 8.17, 7.64, 7.67, 7.58, 8.05, 8.38, 8.25, 8.13, 8.0, 7.95, 7.88, 7.74, 8.22, 8.18, 9.24, 8.82, 8.52, 8.79, 8.51, 7.95, 8.08, 7.94, 7.53, 7.45, 7.14, 6.24, 6.59, 6.6, 6.17, 6.22, 6.45, 6.21, 5.56, 5.32, 5.19, 5.21, 6.05, 5.94, 5.7, 5.94, 5.85, 5.39, 5.62, 5.41, 5.64, 5.46, 5.06, 4.31, 4.69, 4.54, 4.4, 4.77, 4.99, 5.13, 4.75, 5.0, 4.83, 4.8, 4.71, 4.57, 4.52, 4.46, 4.05, 4.17, 4.01, 3.86, 4.25, 4.19, 4.35, 4.4, 4.28, 4.4, 4.11, 4.15, 3.96, 3.87, 3.71, 3.58, 3.6, 3.02, 3.38, 3.26, 3.12, 3.26, 3.33, 3.24, 3.38, 3.38, 3.37, 3.32, 3.37, 3.8, 3.88, 3.91, 4.12, 4.1, 4.55, 4.38, 4.7, 4.75, 4.72, 4.45, 4.5, 4.35, 4.06, 4.28, 4.34, 4.43, 4.25, 4.17, 4.42, 4.29, 4.39, 4.46, 4.32, 4.3, 4.09, 3.96, 3.98, 3.63], \"showlegend\": false, \"type\": \"candlestick\", \"x\": [\"2021-01-04\", \"2021-01-05\", \"2021-01-06\", \"2021-01-07\", \"2021-01-08\", \"2021-01-11\", \"2021-01-12\", \"2021-01-13\", \"2021-01-14\", \"2021-01-15\", \"2021-01-19\", \"2021-01-20\", \"2021-01-21\", \"2021-01-22\", \"2021-01-25\", \"2021-01-26\", \"2021-01-27\", \"2021-01-28\", \"2021-01-29\", \"2021-02-01\", \"2021-02-02\", \"2021-02-03\", \"2021-02-04\", \"2021-02-05\", \"2021-02-08\", \"2021-02-09\", \"2021-02-10\", \"2021-02-11\", \"2021-02-12\", \"2021-02-16\", \"2021-02-17\", \"2021-02-18\", \"2021-02-19\", \"2021-02-22\", \"2021-02-23\", \"2021-02-24\", \"2021-02-25\", \"2021-02-26\", \"2021-03-01\", \"2021-03-02\", \"2021-03-03\", \"2021-03-04\", \"2021-03-05\", \"2021-03-08\", \"2021-03-09\", \"2021-03-10\", \"2021-03-11\", \"2021-03-12\", \"2021-03-15\", \"2021-03-16\", \"2021-03-17\", \"2021-03-18\", \"2021-03-19\", \"2021-03-22\", \"2021-03-23\", \"2021-03-24\", \"2021-03-25\", \"2021-03-26\", \"2021-03-29\", \"2021-03-30\", \"2021-03-31\", \"2021-04-01\", \"2021-04-05\", \"2021-04-06\", \"2021-04-07\", \"2021-04-08\", \"2021-04-09\", \"2021-04-12\", \"2021-04-13\", \"2021-04-14\", \"2021-04-15\", \"2021-04-16\", \"2021-04-19\", \"2021-04-20\", \"2021-04-21\", \"2021-04-22\", \"2021-04-23\", \"2021-04-26\", \"2021-04-27\", \"2021-04-28\", \"2021-04-29\", \"2021-04-30\", \"2021-05-03\", \"2021-05-04\", \"2021-05-05\", \"2021-05-06\", \"2021-05-07\", \"2021-05-10\", \"2021-05-11\", \"2021-05-12\", \"2021-05-13\", \"2021-05-14\", \"2021-05-17\", \"2021-05-18\", \"2021-05-19\", \"2021-05-20\", \"2021-05-21\", \"2021-05-24\", \"2021-05-25\", \"2021-05-26\", \"2021-05-27\", \"2021-05-28\", \"2021-06-01\", \"2021-06-02\", \"2021-06-03\", \"2021-06-04\", \"2021-06-07\", \"2021-06-08\", \"2021-06-09\", \"2021-06-10\", \"2021-06-11\", \"2021-06-14\", \"2021-06-15\", \"2021-06-16\", \"2021-06-17\", \"2021-06-18\", \"2021-06-21\", \"2021-06-22\", \"2021-06-23\", \"2021-06-24\", \"2021-06-25\", \"2021-06-28\", \"2021-06-29\", \"2021-06-30\", \"2021-07-01\", \"2021-07-02\", \"2021-07-06\", \"2021-07-07\", \"2021-07-08\"], \"yaxis\": \"y2\"}],                        {\"legend\": {\"bgcolor\": \"#F5F6F9\", \"font\": {\"color\": \"#4D5663\"}}, \"paper_bgcolor\": \"#F5F6F9\", \"plot_bgcolor\": \"#F5F6F9\", \"template\": {\"data\": {\"bar\": [{\"error_x\": {\"color\": \"#2a3f5f\"}, \"error_y\": {\"color\": \"#2a3f5f\"}, \"marker\": {\"line\": {\"color\": \"#E5ECF6\", \"width\": 0.5}}, \"type\": \"bar\"}], \"barpolar\": [{\"marker\": {\"line\": {\"color\": \"#E5ECF6\", \"width\": 0.5}}, \"type\": \"barpolar\"}], \"carpet\": [{\"aaxis\": {\"endlinecolor\": \"#2a3f5f\", \"gridcolor\": \"white\", \"linecolor\": \"white\", \"minorgridcolor\": \"white\", \"startlinecolor\": \"#2a3f5f\"}, \"baxis\": {\"endlinecolor\": \"#2a3f5f\", \"gridcolor\": \"white\", \"linecolor\": \"white\", \"minorgridcolor\": \"white\", \"startlinecolor\": \"#2a3f5f\"}, \"type\": \"carpet\"}], \"choropleth\": [{\"colorbar\": {\"outlinewidth\": 0, \"ticks\": \"\"}, \"type\": \"choropleth\"}], \"contour\": [{\"colorbar\": {\"outlinewidth\": 0, \"ticks\": \"\"}, \"colorscale\": [[0.0, \"#0d0887\"], [0.1111111111111111, \"#46039f\"], [0.2222222222222222, \"#7201a8\"], [0.3333333333333333, \"#9c179e\"], [0.4444444444444444, \"#bd3786\"], [0.5555555555555556, \"#d8576b\"], [0.6666666666666666, \"#ed7953\"], [0.7777777777777778, \"#fb9f3a\"], [0.8888888888888888, \"#fdca26\"], [1.0, \"#f0f921\"]], \"type\": \"contour\"}], \"contourcarpet\": [{\"colorbar\": {\"outlinewidth\": 0, \"ticks\": \"\"}, \"type\": \"contourcarpet\"}], \"heatmap\": [{\"colorbar\": {\"outlinewidth\": 0, \"ticks\": \"\"}, \"colorscale\": [[0.0, \"#0d0887\"], [0.1111111111111111, \"#46039f\"], [0.2222222222222222, \"#7201a8\"], [0.3333333333333333, \"#9c179e\"], [0.4444444444444444, \"#bd3786\"], [0.5555555555555556, \"#d8576b\"], [0.6666666666666666, \"#ed7953\"], [0.7777777777777778, \"#fb9f3a\"], [0.8888888888888888, \"#fdca26\"], [1.0, \"#f0f921\"]], \"type\": \"heatmap\"}], \"heatmapgl\": [{\"colorbar\": {\"outlinewidth\": 0, \"ticks\": \"\"}, \"colorscale\": [[0.0, \"#0d0887\"], [0.1111111111111111, \"#46039f\"], [0.2222222222222222, \"#7201a8\"], [0.3333333333333333, \"#9c179e\"], [0.4444444444444444, \"#bd3786\"], [0.5555555555555556, \"#d8576b\"], [0.6666666666666666, \"#ed7953\"], [0.7777777777777778, \"#fb9f3a\"], [0.8888888888888888, \"#fdca26\"], [1.0, \"#f0f921\"]], \"type\": \"heatmapgl\"}], \"histogram\": [{\"marker\": {\"colorbar\": {\"outlinewidth\": 0, \"ticks\": \"\"}}, \"type\": \"histogram\"}], \"histogram2d\": [{\"colorbar\": {\"outlinewidth\": 0, \"ticks\": \"\"}, \"colorscale\": [[0.0, \"#0d0887\"], [0.1111111111111111, \"#46039f\"], [0.2222222222222222, \"#7201a8\"], [0.3333333333333333, \"#9c179e\"], [0.4444444444444444, \"#bd3786\"], [0.5555555555555556, \"#d8576b\"], [0.6666666666666666, \"#ed7953\"], [0.7777777777777778, \"#fb9f3a\"], [0.8888888888888888, \"#fdca26\"], [1.0, \"#f0f921\"]], \"type\": \"histogram2d\"}], \"histogram2dcontour\": [{\"colorbar\": {\"outlinewidth\": 0, \"ticks\": \"\"}, \"colorscale\": [[0.0, \"#0d0887\"], [0.1111111111111111, \"#46039f\"], [0.2222222222222222, \"#7201a8\"], [0.3333333333333333, \"#9c179e\"], [0.4444444444444444, \"#bd3786\"], [0.5555555555555556, \"#d8576b\"], [0.6666666666666666, \"#ed7953\"], [0.7777777777777778, \"#fb9f3a\"], [0.8888888888888888, \"#fdca26\"], [1.0, \"#f0f921\"]], \"type\": \"histogram2dcontour\"}], \"mesh3d\": [{\"colorbar\": {\"outlinewidth\": 0, \"ticks\": \"\"}, \"type\": \"mesh3d\"}], \"parcoords\": [{\"line\": {\"colorbar\": {\"outlinewidth\": 0, \"ticks\": \"\"}}, \"type\": \"parcoords\"}], \"pie\": [{\"automargin\": true, \"type\": \"pie\"}], \"scatter\": [{\"marker\": {\"colorbar\": {\"outlinewidth\": 0, \"ticks\": \"\"}}, \"type\": \"scatter\"}], \"scatter3d\": [{\"line\": {\"colorbar\": {\"outlinewidth\": 0, \"ticks\": \"\"}}, \"marker\": {\"colorbar\": {\"outlinewidth\": 0, \"ticks\": \"\"}}, \"type\": \"scatter3d\"}], \"scattercarpet\": [{\"marker\": {\"colorbar\": {\"outlinewidth\": 0, \"ticks\": \"\"}}, \"type\": \"scattercarpet\"}], \"scattergeo\": [{\"marker\": {\"colorbar\": {\"outlinewidth\": 0, \"ticks\": \"\"}}, \"type\": \"scattergeo\"}], \"scattergl\": [{\"marker\": {\"colorbar\": {\"outlinewidth\": 0, \"ticks\": \"\"}}, \"type\": \"scattergl\"}], \"scattermapbox\": [{\"marker\": {\"colorbar\": {\"outlinewidth\": 0, \"ticks\": \"\"}}, \"type\": \"scattermapbox\"}], \"scatterpolar\": [{\"marker\": {\"colorbar\": {\"outlinewidth\": 0, \"ticks\": \"\"}}, \"type\": \"scatterpolar\"}], \"scatterpolargl\": [{\"marker\": {\"colorbar\": {\"outlinewidth\": 0, \"ticks\": \"\"}}, \"type\": \"scatterpolargl\"}], \"scatterternary\": [{\"marker\": {\"colorbar\": {\"outlinewidth\": 0, \"ticks\": \"\"}}, \"type\": \"scatterternary\"}], \"surface\": [{\"colorbar\": {\"outlinewidth\": 0, \"ticks\": \"\"}, \"colorscale\": [[0.0, \"#0d0887\"], [0.1111111111111111, \"#46039f\"], [0.2222222222222222, \"#7201a8\"], [0.3333333333333333, \"#9c179e\"], [0.4444444444444444, \"#bd3786\"], [0.5555555555555556, \"#d8576b\"], [0.6666666666666666, \"#ed7953\"], [0.7777777777777778, \"#fb9f3a\"], [0.8888888888888888, \"#fdca26\"], [1.0, \"#f0f921\"]], \"type\": \"surface\"}], \"table\": [{\"cells\": {\"fill\": {\"color\": \"#EBF0F8\"}, \"line\": {\"color\": \"white\"}}, \"header\": {\"fill\": {\"color\": \"#C8D4E3\"}, \"line\": {\"color\": \"white\"}}, \"type\": \"table\"}]}, \"layout\": {\"annotationdefaults\": {\"arrowcolor\": \"#2a3f5f\", \"arrowhead\": 0, \"arrowwidth\": 1}, \"coloraxis\": {\"colorbar\": {\"outlinewidth\": 0, \"ticks\": \"\"}}, \"colorscale\": {\"diverging\": [[0, \"#8e0152\"], [0.1, \"#c51b7d\"], [0.2, \"#de77ae\"], [0.3, \"#f1b6da\"], [0.4, \"#fde0ef\"], [0.5, \"#f7f7f7\"], [0.6, \"#e6f5d0\"], [0.7, \"#b8e186\"], [0.8, \"#7fbc41\"], [0.9, \"#4d9221\"], [1, \"#276419\"]], \"sequential\": [[0.0, \"#0d0887\"], [0.1111111111111111, \"#46039f\"], [0.2222222222222222, \"#7201a8\"], [0.3333333333333333, \"#9c179e\"], [0.4444444444444444, \"#bd3786\"], [0.5555555555555556, \"#d8576b\"], [0.6666666666666666, \"#ed7953\"], [0.7777777777777778, \"#fb9f3a\"], [0.8888888888888888, \"#fdca26\"], [1.0, \"#f0f921\"]], \"sequentialminus\": [[0.0, \"#0d0887\"], [0.1111111111111111, \"#46039f\"], [0.2222222222222222, \"#7201a8\"], [0.3333333333333333, \"#9c179e\"], [0.4444444444444444, \"#bd3786\"], [0.5555555555555556, \"#d8576b\"], [0.6666666666666666, \"#ed7953\"], [0.7777777777777778, \"#fb9f3a\"], [0.8888888888888888, \"#fdca26\"], [1.0, \"#f0f921\"]]}, \"colorway\": [\"#636efa\", \"#EF553B\", \"#00cc96\", \"#ab63fa\", \"#FFA15A\", \"#19d3f3\", \"#FF6692\", \"#B6E880\", \"#FF97FF\", \"#FECB52\"], \"font\": {\"color\": \"#2a3f5f\"}, \"geo\": {\"bgcolor\": \"white\", \"lakecolor\": \"white\", \"landcolor\": \"#E5ECF6\", \"showlakes\": true, \"showland\": true, \"subunitcolor\": \"white\"}, \"hoverlabel\": {\"align\": \"left\"}, \"hovermode\": \"closest\", \"mapbox\": {\"style\": \"light\"}, \"paper_bgcolor\": \"white\", \"plot_bgcolor\": \"#E5ECF6\", \"polar\": {\"angularaxis\": {\"gridcolor\": \"white\", \"linecolor\": \"white\", \"ticks\": \"\"}, \"bgcolor\": \"#E5ECF6\", \"radialaxis\": {\"gridcolor\": \"white\", \"linecolor\": \"white\", \"ticks\": \"\"}}, \"scene\": {\"xaxis\": {\"backgroundcolor\": \"#E5ECF6\", \"gridcolor\": \"white\", \"gridwidth\": 2, \"linecolor\": \"white\", \"showbackground\": true, \"ticks\": \"\", \"zerolinecolor\": \"white\"}, \"yaxis\": {\"backgroundcolor\": \"#E5ECF6\", \"gridcolor\": \"white\", \"gridwidth\": 2, \"linecolor\": \"white\", \"showbackground\": true, \"ticks\": \"\", \"zerolinecolor\": \"white\"}, \"zaxis\": {\"backgroundcolor\": \"#E5ECF6\", \"gridcolor\": \"white\", \"gridwidth\": 2, \"linecolor\": \"white\", \"showbackground\": true, \"ticks\": \"\", \"zerolinecolor\": \"white\"}}, \"shapedefaults\": {\"line\": {\"color\": \"#2a3f5f\"}}, \"ternary\": {\"aaxis\": {\"gridcolor\": \"white\", \"linecolor\": \"white\", \"ticks\": \"\"}, \"baxis\": {\"gridcolor\": \"white\", \"linecolor\": \"white\", \"ticks\": \"\"}, \"bgcolor\": \"#E5ECF6\", \"caxis\": {\"gridcolor\": \"white\", \"linecolor\": \"white\", \"ticks\": \"\"}}, \"title\": {\"x\": 0.05}, \"xaxis\": {\"automargin\": true, \"gridcolor\": \"white\", \"linecolor\": \"white\", \"ticks\": \"\", \"title\": {\"standoff\": 15}, \"zerolinecolor\": \"white\", \"zerolinewidth\": 2}, \"yaxis\": {\"automargin\": true, \"gridcolor\": \"white\", \"linecolor\": \"white\", \"ticks\": \"\", \"title\": {\"standoff\": 15}, \"zerolinecolor\": \"white\", \"zerolinewidth\": 2}}}, \"title\": {\"font\": {\"color\": \"#4D5663\"}, \"text\": \"SOLO | ElectraMeccanica Stock Price\"}, \"xaxis\": {\"gridcolor\": \"#E1E5ED\", \"rangeslider\": {\"visible\": false}, \"showgrid\": true, \"tickfont\": {\"color\": \"#4D5663\"}, \"title\": {\"font\": {\"color\": \"#4D5663\"}, \"text\": \"\"}, \"zerolinecolor\": \"#E1E5ED\"}, \"yaxis\": {\"gridcolor\": \"#E1E5ED\", \"showgrid\": true, \"showticklabels\": false, \"tickfont\": {\"color\": \"#4D5663\"}, \"title\": {\"font\": {\"color\": \"#4D5663\"}, \"text\": \"\"}, \"zerolinecolor\": \"#E1E5ED\"}, \"yaxis2\": {\"gridcolor\": \"#E1E5ED\", \"showgrid\": true, \"tickfont\": {\"color\": \"#4D5663\"}, \"title\": {\"font\": {\"color\": \"#4D5663\"}, \"text\": \"\"}, \"zerolinecolor\": \"#E1E5ED\"}},                        {\"showLink\": true, \"linkText\": \"Export to plotly.com\", \"plotlyServerURL\": \"https://plotly.com\", \"responsive\": true}                    ).then(function(){\n",
       "                            \n",
       "var gd = document.getElementById('c4398ca7-0124-4be8-a766-a8521685d8a2');\n",
       "var x = new MutationObserver(function (mutations, observer) {{\n",
       "        var display = window.getComputedStyle(gd).display;\n",
       "        if (!display || display === 'none') {{\n",
       "            console.log([gd, 'removed!']);\n",
       "            Plotly.purge(gd);\n",
       "            observer.disconnect();\n",
       "        }}\n",
       "}});\n",
       "\n",
       "// Listen for the removal of the full notebook cells\n",
       "var notebookContainer = gd.closest('#notebook-container');\n",
       "if (notebookContainer) {{\n",
       "    x.observe(notebookContainer, {childList: true});\n",
       "}}\n",
       "\n",
       "// Listen for the clearing of the current output cell\n",
       "var outputEl = gd.closest('.output');\n",
       "if (outputEl) {{\n",
       "    x.observe(outputEl, {childList: true});\n",
       "}}\n",
       "\n",
       "                        })                };                });            </script>        </div>"
      ]
     },
     "metadata": {},
     "output_type": "display_data"
    }
   ],
   "source": [
    "SOLO[['Open', 'High', 'Low', 'Close']].iplot(kind='candle',title='SOLO | ElectraMeccanica Stock Price')"
   ]
  },
  {
   "cell_type": "markdown",
   "metadata": {},
   "source": [
    "## Financial Statistics | Quant Figures"
   ]
  },
  {
   "cell_type": "code",
   "execution_count": 17,
   "metadata": {
    "ExecuteTime": {
     "end_time": "2021-07-12T21:21:22.637095Z",
     "start_time": "2021-07-12T21:21:22.633892Z"
    }
   },
   "outputs": [],
   "source": [
    "MVIS = MVIS[['Open', 'High', 'Low', 'Close','Volume']]"
   ]
  },
  {
   "cell_type": "code",
   "execution_count": 22,
   "metadata": {
    "ExecuteTime": {
     "end_time": "2021-07-12T21:22:51.303290Z",
     "start_time": "2021-07-12T21:22:51.131031Z"
    }
   },
   "outputs": [
    {
     "data": {
      "application/vnd.plotly.v1+json": {
       "config": {
        "linkText": "Export to plotly.com",
        "plotlyServerURL": "https://plotly.com",
        "showLink": true
       },
       "data": [
        {
         "legendgroup": "BOLL(Close,20)",
         "line": {
          "color": "rgba(255, 0, 255, 1.0)",
          "dash": "solid",
          "shape": "linear",
          "width": 1.3
         },
         "mode": "lines",
         "name": "BOLL(Close,20)",
         "showlegend": true,
         "text": "",
         "type": "scatter",
         "x": [
          "2021-01-04",
          "2021-01-05",
          "2021-01-06",
          "2021-01-07",
          "2021-01-08",
          "2021-01-11",
          "2021-01-12",
          "2021-01-13",
          "2021-01-14",
          "2021-01-15",
          "2021-01-19",
          "2021-01-20",
          "2021-01-21",
          "2021-01-22",
          "2021-01-25",
          "2021-01-26",
          "2021-01-27",
          "2021-01-28",
          "2021-01-29",
          "2021-02-01",
          "2021-02-02",
          "2021-02-03",
          "2021-02-04",
          "2021-02-05",
          "2021-02-08",
          "2021-02-09",
          "2021-02-10",
          "2021-02-11",
          "2021-02-12",
          "2021-02-16",
          "2021-02-17",
          "2021-02-18",
          "2021-02-19",
          "2021-02-22",
          "2021-02-23",
          "2021-02-24",
          "2021-02-25",
          "2021-02-26",
          "2021-03-01",
          "2021-03-02",
          "2021-03-03",
          "2021-03-04",
          "2021-03-05",
          "2021-03-08",
          "2021-03-09",
          "2021-03-10",
          "2021-03-11",
          "2021-03-12",
          "2021-03-15",
          "2021-03-16",
          "2021-03-17",
          "2021-03-18",
          "2021-03-19",
          "2021-03-22",
          "2021-03-23",
          "2021-03-24",
          "2021-03-25",
          "2021-03-26",
          "2021-03-29",
          "2021-03-30",
          "2021-03-31",
          "2021-04-01",
          "2021-04-05",
          "2021-04-06",
          "2021-04-07",
          "2021-04-08",
          "2021-04-09",
          "2021-04-12",
          "2021-04-13",
          "2021-04-14",
          "2021-04-15",
          "2021-04-16",
          "2021-04-19",
          "2021-04-20",
          "2021-04-21",
          "2021-04-22",
          "2021-04-23",
          "2021-04-26",
          "2021-04-27",
          "2021-04-28",
          "2021-04-29",
          "2021-04-30",
          "2021-05-03",
          "2021-05-04",
          "2021-05-05",
          "2021-05-06",
          "2021-05-07",
          "2021-05-10",
          "2021-05-11",
          "2021-05-12",
          "2021-05-13",
          "2021-05-14",
          "2021-05-17",
          "2021-05-18",
          "2021-05-19",
          "2021-05-20",
          "2021-05-21",
          "2021-05-24",
          "2021-05-25",
          "2021-05-26",
          "2021-05-27",
          "2021-05-28",
          "2021-06-01",
          "2021-06-02",
          "2021-06-03",
          "2021-06-04",
          "2021-06-07",
          "2021-06-08",
          "2021-06-09",
          "2021-06-10",
          "2021-06-11",
          "2021-06-14",
          "2021-06-15",
          "2021-06-16",
          "2021-06-17",
          "2021-06-18",
          "2021-06-21",
          "2021-06-22",
          "2021-06-23",
          "2021-06-24",
          "2021-06-25",
          "2021-06-28",
          "2021-06-29",
          "2021-06-30",
          "2021-07-01",
          "2021-07-02",
          "2021-07-06",
          "2021-07-07",
          "2021-07-08"
         ],
         "y": [
          "",
          "",
          "",
          "",
          "",
          "",
          "",
          "",
          "",
          "",
          "",
          "",
          "",
          "",
          "",
          "",
          "",
          "",
          "",
          6.5495,
          6.6705,
          6.857499999999999,
          7.1125,
          7.394,
          7.834999999999999,
          8.2875,
          8.7075,
          9.29549995,
          9.88199995,
          10.7374999,
          11.3724999,
          11.930999949999999,
          12.616499950000001,
          13.181999950000002,
          13.629000000000001,
          14.119999950000002,
          14.557499950000002,
          14.938999950000001,
          15.46299995,
          15.941999999999998,
          16.3285,
          16.528,
          16.6525,
          16.663999999999998,
          16.631999999999998,
          16.604499999999998,
          16.645999999999997,
          16.603999999999996,
          16.578999999999997,
          16.234500049999998,
          16.119000099999997,
          16.014000049999996,
          15.856500049999998,
          15.851499999999996,
          15.832999949999996,
          15.594999999999995,
          15.486499999999996,
          15.415499999999994,
          15.142499999999995,
          14.910499949999997,
          15.069999899999996,
          15.184499899999997,
          15.327999899999998,
          15.505499899999998,
          15.5314999,
          15.521499899999998,
          15.4909999,
          15.263499950000002,
          15.017499950000005,
          14.792999950000004,
          14.488499900000004,
          14.242999900000004,
          13.900499900000003,
          13.521499950000003,
          13.355499950000004,
          13.352499950000004,
          13.550499900000002,
          14.199999950000002,
          14.601499950000004,
          15.035499950000005,
          15.008000000000004,
          14.993500000000003,
          14.902000000000005,
          14.906000000000002,
          14.900000000000002,
          14.892500000000004,
          14.886500000000003,
          14.933500000000004,
          15.021500000000003,
          15.071500000000004,
          15.128000000000004,
          15.278500000000005,
          15.513000000000005,
          15.747500000000006,
          15.821500000000006,
          15.881500000000006,
          15.676500050000007,
          15.071000000000007,
          14.844500000000005,
          14.533000000000005,
          14.424500000000004,
          14.442000000000004,
          14.646500050000004,
          14.829000000000004,
          15.006000000000004,
          15.318500000000004,
          15.73,
          16.1495,
          16.4785,
          16.9405,
          17.3965,
          17.76300005,
          18.02450005,
          18.302,
          18.6325,
          18.857499999999998,
          19.14199995,
          19.29999995,
          19.39349995,
          19.53049995,
          19.5994999,
          19.7314999,
          19.7534998,
          19.63849985,
          19.5564998,
          19.3434998,
          19.0184998,
          18.6679998,
          18.3754998
         ],
         "yaxis": "y2"
        },
        {
         "legendgroup": "BOLL(Close,20)",
         "line": {
          "color": "rgba(128, 128, 128, 1.0)",
          "dash": "solid",
          "shape": "linear",
          "width": 1.3
         },
         "mode": "lines",
         "name": "UPPER(Close,20)",
         "showlegend": false,
         "text": "",
         "type": "scatter",
         "x": [
          "2021-01-04",
          "2021-01-05",
          "2021-01-06",
          "2021-01-07",
          "2021-01-08",
          "2021-01-11",
          "2021-01-12",
          "2021-01-13",
          "2021-01-14",
          "2021-01-15",
          "2021-01-19",
          "2021-01-20",
          "2021-01-21",
          "2021-01-22",
          "2021-01-25",
          "2021-01-26",
          "2021-01-27",
          "2021-01-28",
          "2021-01-29",
          "2021-02-01",
          "2021-02-02",
          "2021-02-03",
          "2021-02-04",
          "2021-02-05",
          "2021-02-08",
          "2021-02-09",
          "2021-02-10",
          "2021-02-11",
          "2021-02-12",
          "2021-02-16",
          "2021-02-17",
          "2021-02-18",
          "2021-02-19",
          "2021-02-22",
          "2021-02-23",
          "2021-02-24",
          "2021-02-25",
          "2021-02-26",
          "2021-03-01",
          "2021-03-02",
          "2021-03-03",
          "2021-03-04",
          "2021-03-05",
          "2021-03-08",
          "2021-03-09",
          "2021-03-10",
          "2021-03-11",
          "2021-03-12",
          "2021-03-15",
          "2021-03-16",
          "2021-03-17",
          "2021-03-18",
          "2021-03-19",
          "2021-03-22",
          "2021-03-23",
          "2021-03-24",
          "2021-03-25",
          "2021-03-26",
          "2021-03-29",
          "2021-03-30",
          "2021-03-31",
          "2021-04-01",
          "2021-04-05",
          "2021-04-06",
          "2021-04-07",
          "2021-04-08",
          "2021-04-09",
          "2021-04-12",
          "2021-04-13",
          "2021-04-14",
          "2021-04-15",
          "2021-04-16",
          "2021-04-19",
          "2021-04-20",
          "2021-04-21",
          "2021-04-22",
          "2021-04-23",
          "2021-04-26",
          "2021-04-27",
          "2021-04-28",
          "2021-04-29",
          "2021-04-30",
          "2021-05-03",
          "2021-05-04",
          "2021-05-05",
          "2021-05-06",
          "2021-05-07",
          "2021-05-10",
          "2021-05-11",
          "2021-05-12",
          "2021-05-13",
          "2021-05-14",
          "2021-05-17",
          "2021-05-18",
          "2021-05-19",
          "2021-05-20",
          "2021-05-21",
          "2021-05-24",
          "2021-05-25",
          "2021-05-26",
          "2021-05-27",
          "2021-05-28",
          "2021-06-01",
          "2021-06-02",
          "2021-06-03",
          "2021-06-04",
          "2021-06-07",
          "2021-06-08",
          "2021-06-09",
          "2021-06-10",
          "2021-06-11",
          "2021-06-14",
          "2021-06-15",
          "2021-06-16",
          "2021-06-17",
          "2021-06-18",
          "2021-06-21",
          "2021-06-22",
          "2021-06-23",
          "2021-06-24",
          "2021-06-25",
          "2021-06-28",
          "2021-06-29",
          "2021-06-30",
          "2021-07-01",
          "2021-07-02",
          "2021-07-06",
          "2021-07-07",
          "2021-07-08"
         ],
         "y": [
          "",
          "",
          "",
          "",
          "",
          "",
          "",
          "",
          "",
          "",
          "",
          "",
          "",
          "",
          "",
          "",
          "",
          "",
          "",
          8.174197218755417,
          8.234482433607099,
          8.710018911047733,
          9.379432775916905,
          10.331312771188912,
          12.15217987872444,
          13.527218252770952,
          14.36977729897842,
          16.298204344446493,
          17.83457918263696,
          20.64818880154253,
          21.896820970038842,
          22.633296367439456,
          23.682432804847835,
          24.14324170047799,
          24.296907251979793,
          24.626909723748195,
          24.61037440245604,
          24.383322759949237,
          24.215989206681407,
          23.83664978563939,
          23.200377662350892,
          22.735386133173705,
          22.420822886429526,
          22.39017006898579,
          22.41082345300962,
          22.423124857979428,
          22.397866742838346,
          22.316841749491946,
          22.264348928050556,
          20.82810416260805,
          20.44902700897209,
          20.24868585259953,
          19.59377329147899,
          19.576551730054273,
          19.554646830672887,
          19.352555137390173,
          19.29786397466437,
          19.326814031451903,
          19.175071933642467,
          19.0380017768606,
          19.505677909765442,
          19.539863988666184,
          19.542174182909736,
          19.373508606298493,
          19.366009242824905,
          19.370000468875173,
          19.372105788627337,
          19.189329325786762,
          18.882303802175464,
          18.73535327940815,
          18.50998011750574,
          18.48483177666547,
          18.191932676615647,
          17.634837561209398,
          17.344355071618676,
          17.341937705004206,
          18.039177495954245,
          21.503873590458895,
          22.298510498094274,
          23.155698351918957,
          23.08167570291191,
          23.064193858386034,
          22.98093605475639,
          22.985886619058633,
          22.98102152140893,
          22.97673015818618,
          22.9730095188156,
          22.98272581357334,
          23.015875285029804,
          23.007555920059815,
          22.9680072091804,
          22.89978973668676,
          22.796336958463954,
          22.627154090753525,
          22.584932201572204,
          22.565596946287442,
          22.342364017014127,
          19.416300667932777,
          18.48856640993275,
          16.751373989636306,
          16.066212520510263,
          16.127637158934004,
          16.92349999716047,
          17.83020599619212,
          18.321624186690798,
          19.33826309330741,
          20.77803448566089,
          21.890149015206383,
          22.60347652498191,
          23.450526158893236,
          23.868516732786947,
          24.26481234818601,
          24.51126551582596,
          24.73300252935983,
          24.802378857123525,
          24.687100948336262,
          24.481519314216527,
          24.209693878931887,
          24.074828010486243,
          23.781471212912326,
          23.63700562137138,
          23.37150162544801,
          23.353261958459207,
          23.47224102104003,
          23.600397603175487,
          23.672322859884833,
          23.379133881077415,
          23.0617591960431,
          22.824066698842245
         ],
         "yaxis": "y2"
        },
        {
         "fill": "tonexty",
         "fillcolor": "rgba(128, 128, 128, 0.1)",
         "legendgroup": "BOLL(Close,20)",
         "line": {
          "color": "rgba(128, 128, 128, 0.8999999999999999)",
          "dash": "solid",
          "shape": "linear",
          "width": 1.3
         },
         "mode": "lines",
         "name": "LOWER(Close,20)",
         "showlegend": false,
         "text": "",
         "type": "scatter",
         "x": [
          "2021-01-04",
          "2021-01-05",
          "2021-01-06",
          "2021-01-07",
          "2021-01-08",
          "2021-01-11",
          "2021-01-12",
          "2021-01-13",
          "2021-01-14",
          "2021-01-15",
          "2021-01-19",
          "2021-01-20",
          "2021-01-21",
          "2021-01-22",
          "2021-01-25",
          "2021-01-26",
          "2021-01-27",
          "2021-01-28",
          "2021-01-29",
          "2021-02-01",
          "2021-02-02",
          "2021-02-03",
          "2021-02-04",
          "2021-02-05",
          "2021-02-08",
          "2021-02-09",
          "2021-02-10",
          "2021-02-11",
          "2021-02-12",
          "2021-02-16",
          "2021-02-17",
          "2021-02-18",
          "2021-02-19",
          "2021-02-22",
          "2021-02-23",
          "2021-02-24",
          "2021-02-25",
          "2021-02-26",
          "2021-03-01",
          "2021-03-02",
          "2021-03-03",
          "2021-03-04",
          "2021-03-05",
          "2021-03-08",
          "2021-03-09",
          "2021-03-10",
          "2021-03-11",
          "2021-03-12",
          "2021-03-15",
          "2021-03-16",
          "2021-03-17",
          "2021-03-18",
          "2021-03-19",
          "2021-03-22",
          "2021-03-23",
          "2021-03-24",
          "2021-03-25",
          "2021-03-26",
          "2021-03-29",
          "2021-03-30",
          "2021-03-31",
          "2021-04-01",
          "2021-04-05",
          "2021-04-06",
          "2021-04-07",
          "2021-04-08",
          "2021-04-09",
          "2021-04-12",
          "2021-04-13",
          "2021-04-14",
          "2021-04-15",
          "2021-04-16",
          "2021-04-19",
          "2021-04-20",
          "2021-04-21",
          "2021-04-22",
          "2021-04-23",
          "2021-04-26",
          "2021-04-27",
          "2021-04-28",
          "2021-04-29",
          "2021-04-30",
          "2021-05-03",
          "2021-05-04",
          "2021-05-05",
          "2021-05-06",
          "2021-05-07",
          "2021-05-10",
          "2021-05-11",
          "2021-05-12",
          "2021-05-13",
          "2021-05-14",
          "2021-05-17",
          "2021-05-18",
          "2021-05-19",
          "2021-05-20",
          "2021-05-21",
          "2021-05-24",
          "2021-05-25",
          "2021-05-26",
          "2021-05-27",
          "2021-05-28",
          "2021-06-01",
          "2021-06-02",
          "2021-06-03",
          "2021-06-04",
          "2021-06-07",
          "2021-06-08",
          "2021-06-09",
          "2021-06-10",
          "2021-06-11",
          "2021-06-14",
          "2021-06-15",
          "2021-06-16",
          "2021-06-17",
          "2021-06-18",
          "2021-06-21",
          "2021-06-22",
          "2021-06-23",
          "2021-06-24",
          "2021-06-25",
          "2021-06-28",
          "2021-06-29",
          "2021-06-30",
          "2021-07-01",
          "2021-07-02",
          "2021-07-06",
          "2021-07-07",
          "2021-07-08"
         ],
         "y": [
          "",
          "",
          "",
          "",
          "",
          "",
          "",
          "",
          "",
          "",
          "",
          "",
          "",
          "",
          "",
          "",
          "",
          "",
          "",
          4.924802781244584,
          5.1065175663929,
          5.004981088952265,
          4.845567224083094,
          4.456687228811088,
          3.517820121275558,
          3.047781747229047,
          3.04522270102158,
          2.2927955555535062,
          1.9294207173630413,
          0.8268109984574696,
          0.8481788299611566,
          1.228703532560539,
          1.5505670951521697,
          2.220758199522013,
          2.96109274802021,
          3.6130901762518093,
          4.504625497543968,
          5.494677140050765,
          6.710010693318596,
          8.047350214360605,
          9.456622337649105,
          10.320613866826294,
          10.884177113570473,
          10.937829931014205,
          10.853176546990378,
          10.785875142020569,
          10.894133257161648,
          10.891158250508045,
          10.893651071949439,
          11.640895937391946,
          11.788973191027903,
          11.779314247400464,
          12.119226808521006,
          12.126448269945719,
          12.111353069327105,
          11.837444862609818,
          11.675136025335622,
          11.504185968548086,
          11.109928066357522,
          10.782998123139393,
          10.634321890234549,
          10.829135811333808,
          11.11382561709026,
          11.637491193701504,
          11.696990557175095,
          11.672999331124824,
          11.609894011372663,
          11.337670574213243,
          11.152696097824547,
          10.850646620591855,
          10.467019682494266,
          10.00116802333454,
          9.60906712338436,
          9.408162338790607,
          9.366644828381332,
          9.363062194995802,
          9.061822304045759,
          6.896126309541109,
          6.904489401905734,
          6.915301548081054,
          6.9343242970881,
          6.92280614161397,
          6.823063945243618,
          6.826113380941374,
          6.818978478591074,
          6.808269841813827,
          6.799990481184404,
          6.884274186426669,
          7.027124714970202,
          7.135444079940193,
          7.287992790819608,
          7.657210263313249,
          8.229663041536055,
          8.867845909246487,
          9.058067798427807,
          9.197403053712572,
          9.010636082985886,
          10.725699332067236,
          11.200433590067258,
          12.314626010363703,
          12.782787479489745,
          12.756362841066002,
          12.369500102839538,
          11.827794003807888,
          11.69037581330921,
          11.298736906692595,
          10.681965514339112,
          10.408850984793617,
          10.35352347501809,
          10.430473841106764,
          10.924483267213052,
          11.261187751813988,
          11.53773458417404,
          11.87099747064017,
          12.462621142876475,
          13.027899051663734,
          13.80248058578347,
          14.390306021068113,
          14.712171889513755,
          15.279528687087673,
          15.561994178628625,
          16.09149817455199,
          16.153737641540793,
          15.804758678959969,
          15.512601996824515,
          15.014676740115167,
          14.657865718922588,
          14.274240403956902,
          13.926932901157755
         ],
         "yaxis": "y2"
        },
        {
         "legendgroup": " SMA([10])",
         "line": {
          "color": "rgba(0, 128, 0, 1.0)",
          "dash": "solid",
          "shape": "linear",
          "width": 2
         },
         "mode": "lines",
         "name": " SMA([10])",
         "showlegend": true,
         "text": "",
         "type": "scatter",
         "x": [
          "2021-01-04",
          "2021-01-05",
          "2021-01-06",
          "2021-01-07",
          "2021-01-08",
          "2021-01-11",
          "2021-01-12",
          "2021-01-13",
          "2021-01-14",
          "2021-01-15",
          "2021-01-19",
          "2021-01-20",
          "2021-01-21",
          "2021-01-22",
          "2021-01-25",
          "2021-01-26",
          "2021-01-27",
          "2021-01-28",
          "2021-01-29",
          "2021-02-01",
          "2021-02-02",
          "2021-02-03",
          "2021-02-04",
          "2021-02-05",
          "2021-02-08",
          "2021-02-09",
          "2021-02-10",
          "2021-02-11",
          "2021-02-12",
          "2021-02-16",
          "2021-02-17",
          "2021-02-18",
          "2021-02-19",
          "2021-02-22",
          "2021-02-23",
          "2021-02-24",
          "2021-02-25",
          "2021-02-26",
          "2021-03-01",
          "2021-03-02",
          "2021-03-03",
          "2021-03-04",
          "2021-03-05",
          "2021-03-08",
          "2021-03-09",
          "2021-03-10",
          "2021-03-11",
          "2021-03-12",
          "2021-03-15",
          "2021-03-16",
          "2021-03-17",
          "2021-03-18",
          "2021-03-19",
          "2021-03-22",
          "2021-03-23",
          "2021-03-24",
          "2021-03-25",
          "2021-03-26",
          "2021-03-29",
          "2021-03-30",
          "2021-03-31",
          "2021-04-01",
          "2021-04-05",
          "2021-04-06",
          "2021-04-07",
          "2021-04-08",
          "2021-04-09",
          "2021-04-12",
          "2021-04-13",
          "2021-04-14",
          "2021-04-15",
          "2021-04-16",
          "2021-04-19",
          "2021-04-20",
          "2021-04-21",
          "2021-04-22",
          "2021-04-23",
          "2021-04-26",
          "2021-04-27",
          "2021-04-28",
          "2021-04-29",
          "2021-04-30",
          "2021-05-03",
          "2021-05-04",
          "2021-05-05",
          "2021-05-06",
          "2021-05-07",
          "2021-05-10",
          "2021-05-11",
          "2021-05-12",
          "2021-05-13",
          "2021-05-14",
          "2021-05-17",
          "2021-05-18",
          "2021-05-19",
          "2021-05-20",
          "2021-05-21",
          "2021-05-24",
          "2021-05-25",
          "2021-05-26",
          "2021-05-27",
          "2021-05-28",
          "2021-06-01",
          "2021-06-02",
          "2021-06-03",
          "2021-06-04",
          "2021-06-07",
          "2021-06-08",
          "2021-06-09",
          "2021-06-10",
          "2021-06-11",
          "2021-06-14",
          "2021-06-15",
          "2021-06-16",
          "2021-06-17",
          "2021-06-18",
          "2021-06-21",
          "2021-06-22",
          "2021-06-23",
          "2021-06-24",
          "2021-06-25",
          "2021-06-28",
          "2021-06-29",
          "2021-06-30",
          "2021-07-01",
          "2021-07-02",
          "2021-07-06",
          "2021-07-07",
          "2021-07-08"
         ],
         "y": [
          "",
          "",
          "",
          "",
          "",
          "",
          "",
          "",
          "",
          5.898000000000001,
          6.082,
          6.2170000000000005,
          6.373,
          6.458000000000001,
          6.593000000000001,
          6.822000000000001,
          7.005000000000001,
          7.074000000000001,
          7.125000000000002,
          7.201000000000002,
          7.259000000000002,
          7.498000000000002,
          7.852000000000001,
          8.33,
          9.077,
          9.753,
          10.41,
          11.5169999,
          12.6389999,
          14.273999799999999,
          15.485999799999998,
          16.3639999,
          17.3809999,
          18.033999899999998,
          18.180999999999997,
          18.486999899999997,
          18.704999899999997,
          18.360999999999997,
          18.287,
          17.610000199999998,
          17.171000199999998,
          16.692000099999998,
          15.924000099999997,
          15.2940001,
          15.083000000000002,
          14.722000099999999,
          14.587000100000001,
          14.847,
          14.871,
          14.858999900000004,
          15.067000000000002,
          15.336000000000002,
          15.789000000000001,
          16.4089999,
          16.582999899999997,
          16.4679999,
          16.385999899999995,
          15.983999999999995,
          15.413999999999993,
          14.961999999999994,
          15.072999799999996,
          15.032999799999995,
          14.866999799999997,
          14.601999899999996,
          14.479999899999996,
          14.574999899999998,
          14.595999899999999,
          14.542999899999998,
          14.620999899999997,
          14.623999899999998,
          13.903999999999996,
          13.452999999999998,
          12.933999999999997,
          12.440999999999997,
          12.230999999999998,
          12.129999999999999,
          12.504999899999998,
          13.857,
          14.581999999999999,
          15.447,
          16.112000000000002,
          16.534,
          16.869999999999997,
          17.371,
          17.568999999999996,
          17.654999999999994,
          17.268000099999995,
          16.009999999999998,
          15.460999999999995,
          14.695999999999994,
          14.143999999999995,
          14.022999999999993,
          14.155999999999995,
          14.123999999999995,
          14.073999999999995,
          14.107999999999995,
          14.084999999999997,
          14.132,
          14.228,
          14.37,
          14.705000000000002,
          14.861,
          15.1370001,
          15.534,
          15.938000000000002,
          16.529000000000003,
          17.375,
          18.166999999999998,
          18.729,
          19.511000000000003,
          20.088,
          20.6650001,
          20.912,
          21.07,
          21.326999999999998,
          21.186,
          20.908999899999998,
          20.4329999,
          20.0579999,
          19.5499999,
          19.110999800000002,
          18.797999700000002,
          18.5949996,
          18.2069997,
          17.7859996,
          17.5009996,
          17.1279997,
          16.902999700000002,
          16.6929997
         ],
         "yaxis": "y2"
        },
        {
         "line": {
          "color": "rgba(55, 128, 191, 1.0)",
          "dash": "solid",
          "shape": "linear",
          "width": 1.3
         },
         "mode": "lines",
         "name": " MACD([12,26])",
         "text": "",
         "type": "scatter",
         "x": [
          "2021-01-04",
          "2021-01-05",
          "2021-01-06",
          "2021-01-07",
          "2021-01-08",
          "2021-01-11",
          "2021-01-12",
          "2021-01-13",
          "2021-01-14",
          "2021-01-15",
          "2021-01-19",
          "2021-01-20",
          "2021-01-21",
          "2021-01-22",
          "2021-01-25",
          "2021-01-26",
          "2021-01-27",
          "2021-01-28",
          "2021-01-29",
          "2021-02-01",
          "2021-02-02",
          "2021-02-03",
          "2021-02-04",
          "2021-02-05",
          "2021-02-08",
          "2021-02-09",
          "2021-02-10",
          "2021-02-11",
          "2021-02-12",
          "2021-02-16",
          "2021-02-17",
          "2021-02-18",
          "2021-02-19",
          "2021-02-22",
          "2021-02-23",
          "2021-02-24",
          "2021-02-25",
          "2021-02-26",
          "2021-03-01",
          "2021-03-02",
          "2021-03-03",
          "2021-03-04",
          "2021-03-05",
          "2021-03-08",
          "2021-03-09",
          "2021-03-10",
          "2021-03-11",
          "2021-03-12",
          "2021-03-15",
          "2021-03-16",
          "2021-03-17",
          "2021-03-18",
          "2021-03-19",
          "2021-03-22",
          "2021-03-23",
          "2021-03-24",
          "2021-03-25",
          "2021-03-26",
          "2021-03-29",
          "2021-03-30",
          "2021-03-31",
          "2021-04-01",
          "2021-04-05",
          "2021-04-06",
          "2021-04-07",
          "2021-04-08",
          "2021-04-09",
          "2021-04-12",
          "2021-04-13",
          "2021-04-14",
          "2021-04-15",
          "2021-04-16",
          "2021-04-19",
          "2021-04-20",
          "2021-04-21",
          "2021-04-22",
          "2021-04-23",
          "2021-04-26",
          "2021-04-27",
          "2021-04-28",
          "2021-04-29",
          "2021-04-30",
          "2021-05-03",
          "2021-05-04",
          "2021-05-05",
          "2021-05-06",
          "2021-05-07",
          "2021-05-10",
          "2021-05-11",
          "2021-05-12",
          "2021-05-13",
          "2021-05-14",
          "2021-05-17",
          "2021-05-18",
          "2021-05-19",
          "2021-05-20",
          "2021-05-21",
          "2021-05-24",
          "2021-05-25",
          "2021-05-26",
          "2021-05-27",
          "2021-05-28",
          "2021-06-01",
          "2021-06-02",
          "2021-06-03",
          "2021-06-04",
          "2021-06-07",
          "2021-06-08",
          "2021-06-09",
          "2021-06-10",
          "2021-06-11",
          "2021-06-14",
          "2021-06-15",
          "2021-06-16",
          "2021-06-17",
          "2021-06-18",
          "2021-06-21",
          "2021-06-22",
          "2021-06-23",
          "2021-06-24",
          "2021-06-25",
          "2021-06-28",
          "2021-06-29",
          "2021-06-30",
          "2021-07-01",
          "2021-07-02",
          "2021-07-06",
          "2021-07-07",
          "2021-07-08"
         ],
         "y": [
          0,
          0.024729344729344405,
          0.020688468437756846,
          0.07153178794220771,
          0.10975339965717978,
          0.13445975185942594,
          0.13234125570039446,
          0.20495677858775885,
          0.26350219647856754,
          0.30716596039326305,
          0.3729747103504373,
          0.4059248738741461,
          0.42073283818617657,
          0.42514668101541897,
          0.4628481626506895,
          0.5581088885740417,
          0.5697449685587301,
          0.5572120401301106,
          0.5306724290805631,
          0.5245724782117662,
          0.5345560212266776,
          0.6663145689309342,
          0.8473069972584177,
          1.0759784781730168,
          1.4965503965172413,
          1.8233625787354537,
          1.9868380767270946,
          2.436092725276364,
          2.7619066439371736,
          3.4156706697376684,
          3.572258853259564,
          3.5178222237880075,
          3.631322537178802,
          3.4850185372749642,
          3.1807061551591396,
          3.0472338312204243,
          2.7659409639610857,
          2.4095326951515066,
          2.319816442435723,
          2.1720352251520065,
          1.904661995369585,
          1.5051569065614832,
          1.1406995645430378,
          0.7583959539639942,
          0.6345011484793979,
          0.5517402479033819,
          0.5189020466212799,
          0.69785890833335,
          0.8588324961894358,
          0.8953920593679712,
          0.9624927420934011,
          0.8844377243757915,
          0.9256830783078556,
          0.9969073290716324,
          0.8698391457204995,
          0.5513687553944493,
          0.3601868968154136,
          0.16162348172567853,
          -0.10108715382013145,
          -0.291403610115907,
          0.06058659204684247,
          0.09555806562681113,
          0.13383419945012598,
          0.13278177780799538,
          0.0730081508483984,
          -0.010552475981464582,
          -0.07031590183413527,
          -0.2200414816123324,
          -0.3356379731010932,
          -0.4678501761409919,
          -0.6450779685381693,
          -0.8021074016865182,
          -0.958274537039939,
          -1.0784821269944427,
          -0.9920523797850702,
          -0.8619771945949903,
          -0.3649442695076637,
          0.7042975751562821,
          1.0330277431960546,
          1.3450182994301105,
          1.3356089825259616,
          1.0936431760338117,
          0.7807224652375808,
          0.6495085469187387,
          0.4659134992681526,
          0.2784710716300207,
          0.1364182172510855,
          0.004423323167861426,
          -0.03442650351463605,
          -0.17056894318309546,
          -0.343893430750315,
          -0.3513255115422922,
          -0.2614067655925041,
          -0.19675353995557465,
          -0.23160638551119384,
          -0.22755540826262077,
          -0.25928121915604585,
          -0.24448769527874425,
          -0.126407439303323,
          -0.10185558702282727,
          0.0038970674650009585,
          0.06835972192167539,
          0.3055500896934671,
          0.5756500748173092,
          0.6985415950731149,
          0.9647552751017603,
          1.3282588104506772,
          1.591536408681872,
          1.699898784405093,
          1.8715228818018588,
          1.9064816717075637,
          1.8937972515857453,
          1.786494024976502,
          1.6988176961518633,
          1.6075748664898022,
          1.3781672379341714,
          1.24016212453094,
          0.9527774331234937,
          0.7175583451760836,
          0.5250925828790969,
          0.3451823750067682,
          0.28245870359674896,
          0.2420630555849428,
          0.07682935921575407,
          -0.08301853804461601,
          -0.2384204457210366,
          -0.37022056773850665,
          -0.5163292608548851,
          -0.6121542567625369
         ],
         "yaxis": "y3"
        },
        {
         "line": {
          "color": "rgba(219, 64, 82, 1.0)",
          "dash": "solid",
          "shape": "linear",
          "width": 1.3
         },
         "mode": "lines",
         "name": "MACD SIGNAL(9)",
         "text": "",
         "type": "scatter",
         "x": [
          "2021-01-04",
          "2021-01-05",
          "2021-01-06",
          "2021-01-07",
          "2021-01-08",
          "2021-01-11",
          "2021-01-12",
          "2021-01-13",
          "2021-01-14",
          "2021-01-15",
          "2021-01-19",
          "2021-01-20",
          "2021-01-21",
          "2021-01-22",
          "2021-01-25",
          "2021-01-26",
          "2021-01-27",
          "2021-01-28",
          "2021-01-29",
          "2021-02-01",
          "2021-02-02",
          "2021-02-03",
          "2021-02-04",
          "2021-02-05",
          "2021-02-08",
          "2021-02-09",
          "2021-02-10",
          "2021-02-11",
          "2021-02-12",
          "2021-02-16",
          "2021-02-17",
          "2021-02-18",
          "2021-02-19",
          "2021-02-22",
          "2021-02-23",
          "2021-02-24",
          "2021-02-25",
          "2021-02-26",
          "2021-03-01",
          "2021-03-02",
          "2021-03-03",
          "2021-03-04",
          "2021-03-05",
          "2021-03-08",
          "2021-03-09",
          "2021-03-10",
          "2021-03-11",
          "2021-03-12",
          "2021-03-15",
          "2021-03-16",
          "2021-03-17",
          "2021-03-18",
          "2021-03-19",
          "2021-03-22",
          "2021-03-23",
          "2021-03-24",
          "2021-03-25",
          "2021-03-26",
          "2021-03-29",
          "2021-03-30",
          "2021-03-31",
          "2021-04-01",
          "2021-04-05",
          "2021-04-06",
          "2021-04-07",
          "2021-04-08",
          "2021-04-09",
          "2021-04-12",
          "2021-04-13",
          "2021-04-14",
          "2021-04-15",
          "2021-04-16",
          "2021-04-19",
          "2021-04-20",
          "2021-04-21",
          "2021-04-22",
          "2021-04-23",
          "2021-04-26",
          "2021-04-27",
          "2021-04-28",
          "2021-04-29",
          "2021-04-30",
          "2021-05-03",
          "2021-05-04",
          "2021-05-05",
          "2021-05-06",
          "2021-05-07",
          "2021-05-10",
          "2021-05-11",
          "2021-05-12",
          "2021-05-13",
          "2021-05-14",
          "2021-05-17",
          "2021-05-18",
          "2021-05-19",
          "2021-05-20",
          "2021-05-21",
          "2021-05-24",
          "2021-05-25",
          "2021-05-26",
          "2021-05-27",
          "2021-05-28",
          "2021-06-01",
          "2021-06-02",
          "2021-06-03",
          "2021-06-04",
          "2021-06-07",
          "2021-06-08",
          "2021-06-09",
          "2021-06-10",
          "2021-06-11",
          "2021-06-14",
          "2021-06-15",
          "2021-06-16",
          "2021-06-17",
          "2021-06-18",
          "2021-06-21",
          "2021-06-22",
          "2021-06-23",
          "2021-06-24",
          "2021-06-25",
          "2021-06-28",
          "2021-06-29",
          "2021-06-30",
          "2021-07-01",
          "2021-07-02",
          "2021-07-06",
          "2021-07-07",
          "2021-07-08"
         ],
         "y": [
          0,
          0.0049458689458688814,
          0.008094388844246476,
          0.020781868663838726,
          0.03857617486250694,
          0.05775289026189074,
          0.07267056334959149,
          0.09912780639722496,
          0.1320026844134935,
          0.16703533960944741,
          0.2082232137576454,
          0.24776354578094556,
          0.2823574042619918,
          0.31091525961267724,
          0.3413018402202797,
          0.3846632498910321,
          0.42167959362457175,
          0.44878608292567956,
          0.4651633521566563,
          0.47704517736767826,
          0.48854734613947814,
          0.5241007906977694,
          0.588742032009899,
          0.6861893212425226,
          0.8482615362974664,
          1.043281744785064,
          1.23199301117347,
          1.4728129539940489,
          1.730631691982674,
          2.067639487533673,
          2.3685633606788516,
          2.5984151333006826,
          2.8049966140763067,
          2.941000998716038,
          2.988942030004659,
          3.000600390247812,
          2.953668504990467,
          2.844841343022675,
          2.7398363629052844,
          2.626276135354629,
          2.4819533073576205,
          2.286594027198393,
          2.057415134667322,
          1.7976112985266564,
          1.5649892685172049,
          1.3623394643944404,
          1.1936519808398085,
          1.0944933663385168,
          1.0473611923087007,
          1.016967365720555,
          1.0060724409951243,
          0.9817454976712578,
          0.9705330137985775,
          0.9758078768531885,
          0.9546141306266508,
          0.8739650555802105,
          0.7712094238272512,
          0.6492922354069367,
          0.49921635756152316,
          0.34109236402603715,
          0.2849912096301982,
          0.24710458082952078,
          0.22445050455364185,
          0.20611675920451256,
          0.17949503753328974,
          0.14148553483033888,
          0.09912524749744406,
          0.03529190167548877,
          -0.038894073279827635,
          -0.1246852938520605,
          -0.22876382878928228,
          -0.34343254336872947,
          -0.46640094210297145,
          -0.5888171790812657,
          -0.6694642192220266,
          -0.7079668142966195,
          -0.6393623053388283,
          -0.37063032923980627,
          -0.08989871475263411,
          0.1970846880839148,
          0.4247895469723242,
          0.5585602727846217,
          0.6029927112752136,
          0.6122958784039186,
          0.5830194025767654,
          0.5221097363874165,
          0.44497143256015037,
          0.3568618106816926,
          0.2786041478424269,
          0.1887695296373224,
          0.08223693755979494,
          -0.004475552260622476,
          -0.0558617949269988,
          -0.08404014393271397,
          -0.11355339224840995,
          -0.13635379545125212,
          -0.16093928019221088,
          -0.17764896320951756,
          -0.16740065842827867,
          -0.1542916441471884,
          -0.12265390182475054,
          -0.08445117707546536,
          -0.006450923721678867,
          0.10996927598611876,
          0.22768373980351797,
          0.37509804686316645,
          0.5657301995806687,
          0.7708914414009094,
          0.956692910001746,
          1.1396589043617686,
          1.2930234578309276,
          1.4131782165818914,
          1.4878413782608138,
          1.5300366418390237,
          1.5455442867691795,
          1.512068877002178,
          1.4576875265079305,
          1.3567055078310433,
          1.2288760753000514,
          1.0881193768158606,
          0.9395319764540422,
          0.8081173218825836,
          0.6949064686230555,
          0.5712910467415953,
          0.440429129784353,
          0.30465921468327506,
          0.16968325819891872,
          0.032480754388157965,
          -0.096446247841981
         ],
         "yaxis": "y3"
        },
        {
         "marker": {
          "color": [
           "#808080",
           "#17BECF",
           "#808080",
           "#17BECF",
           "#808080",
           "#808080",
           "#808080",
           "#17BECF",
           "#17BECF",
           "#17BECF",
           "#17BECF",
           "#808080",
           "#808080",
           "#808080",
           "#17BECF",
           "#17BECF",
           "#808080",
           "#808080",
           "#808080",
           "#17BECF",
           "#17BECF",
           "#17BECF",
           "#17BECF",
           "#17BECF",
           "#17BECF",
           "#17BECF",
           "#808080",
           "#17BECF",
           "#17BECF",
           "#17BECF",
           "#808080",
           "#808080",
           "#17BECF",
           "#808080",
           "#808080",
           "#17BECF",
           "#808080",
           "#808080",
           "#17BECF",
           "#808080",
           "#808080",
           "#808080",
           "#808080",
           "#808080",
           "#17BECF",
           "#17BECF",
           "#17BECF",
           "#17BECF",
           "#17BECF",
           "#808080",
           "#17BECF",
           "#808080",
           "#17BECF",
           "#17BECF",
           "#808080",
           "#808080",
           "#17BECF",
           "#808080",
           "#808080",
           "#17BECF",
           "#17BECF",
           "#808080",
           "#17BECF",
           "#808080",
           "#808080",
           "#808080",
           "#17BECF",
           "#808080",
           "#808080",
           "#808080",
           "#808080",
           "#808080",
           "#808080",
           "#808080",
           "#17BECF",
           "#17BECF",
           "#17BECF",
           "#17BECF",
           "#808080",
           "#17BECF",
           "#808080",
           "#808080",
           "#808080",
           "#17BECF",
           "#808080",
           "#808080",
           "#17BECF",
           "#808080",
           "#17BECF",
           "#808080",
           "#808080",
           "#17BECF",
           "#17BECF",
           "#808080",
           "#808080",
           "#17BECF",
           "#808080",
           "#17BECF",
           "#17BECF",
           "#808080",
           "#17BECF",
           "#808080",
           "#17BECF",
           "#17BECF",
           "#808080",
           "#17BECF",
           "#17BECF",
           "#808080",
           "#808080",
           "#17BECF",
           "#808080",
           "#808080",
           "#808080",
           "#17BECF",
           "#808080",
           "#808080",
           "#17BECF",
           "#808080",
           "#17BECF",
           "#808080",
           "#808080",
           "#17BECF",
           "#17BECF",
           "#808080",
           "#808080",
           "#808080",
           "#808080",
           "#808080",
           "#17BECF"
          ],
          "line": {
           "color": [
            "#808080",
            "#17BECF",
            "#808080",
            "#17BECF",
            "#808080",
            "#808080",
            "#808080",
            "#17BECF",
            "#17BECF",
            "#17BECF",
            "#17BECF",
            "#808080",
            "#808080",
            "#808080",
            "#17BECF",
            "#17BECF",
            "#808080",
            "#808080",
            "#808080",
            "#17BECF",
            "#17BECF",
            "#17BECF",
            "#17BECF",
            "#17BECF",
            "#17BECF",
            "#17BECF",
            "#808080",
            "#17BECF",
            "#17BECF",
            "#17BECF",
            "#808080",
            "#808080",
            "#17BECF",
            "#808080",
            "#808080",
            "#17BECF",
            "#808080",
            "#808080",
            "#17BECF",
            "#808080",
            "#808080",
            "#808080",
            "#808080",
            "#808080",
            "#17BECF",
            "#17BECF",
            "#17BECF",
            "#17BECF",
            "#17BECF",
            "#808080",
            "#17BECF",
            "#808080",
            "#17BECF",
            "#17BECF",
            "#808080",
            "#808080",
            "#17BECF",
            "#808080",
            "#808080",
            "#17BECF",
            "#17BECF",
            "#808080",
            "#17BECF",
            "#808080",
            "#808080",
            "#808080",
            "#17BECF",
            "#808080",
            "#808080",
            "#808080",
            "#808080",
            "#808080",
            "#808080",
            "#808080",
            "#17BECF",
            "#17BECF",
            "#17BECF",
            "#17BECF",
            "#808080",
            "#17BECF",
            "#808080",
            "#808080",
            "#808080",
            "#17BECF",
            "#808080",
            "#808080",
            "#17BECF",
            "#808080",
            "#17BECF",
            "#808080",
            "#808080",
            "#17BECF",
            "#17BECF",
            "#808080",
            "#808080",
            "#17BECF",
            "#808080",
            "#17BECF",
            "#17BECF",
            "#808080",
            "#17BECF",
            "#808080",
            "#17BECF",
            "#17BECF",
            "#808080",
            "#17BECF",
            "#17BECF",
            "#808080",
            "#808080",
            "#17BECF",
            "#808080",
            "#808080",
            "#808080",
            "#17BECF",
            "#808080",
            "#808080",
            "#17BECF",
            "#808080",
            "#17BECF",
            "#808080",
            "#808080",
            "#17BECF",
            "#17BECF",
            "#808080",
            "#808080",
            "#808080",
            "#808080",
            "#808080",
            "#17BECF"
           ],
           "width": 1
          }
         },
         "name": "Volume",
         "opacity": 0.8,
         "orientation": "v",
         "text": "",
         "type": "bar",
         "x": [
          "2021-01-04",
          "2021-01-05",
          "2021-01-06",
          "2021-01-07",
          "2021-01-08",
          "2021-01-11",
          "2021-01-12",
          "2021-01-13",
          "2021-01-14",
          "2021-01-15",
          "2021-01-19",
          "2021-01-20",
          "2021-01-21",
          "2021-01-22",
          "2021-01-25",
          "2021-01-26",
          "2021-01-27",
          "2021-01-28",
          "2021-01-29",
          "2021-02-01",
          "2021-02-02",
          "2021-02-03",
          "2021-02-04",
          "2021-02-05",
          "2021-02-08",
          "2021-02-09",
          "2021-02-10",
          "2021-02-11",
          "2021-02-12",
          "2021-02-16",
          "2021-02-17",
          "2021-02-18",
          "2021-02-19",
          "2021-02-22",
          "2021-02-23",
          "2021-02-24",
          "2021-02-25",
          "2021-02-26",
          "2021-03-01",
          "2021-03-02",
          "2021-03-03",
          "2021-03-04",
          "2021-03-05",
          "2021-03-08",
          "2021-03-09",
          "2021-03-10",
          "2021-03-11",
          "2021-03-12",
          "2021-03-15",
          "2021-03-16",
          "2021-03-17",
          "2021-03-18",
          "2021-03-19",
          "2021-03-22",
          "2021-03-23",
          "2021-03-24",
          "2021-03-25",
          "2021-03-26",
          "2021-03-29",
          "2021-03-30",
          "2021-03-31",
          "2021-04-01",
          "2021-04-05",
          "2021-04-06",
          "2021-04-07",
          "2021-04-08",
          "2021-04-09",
          "2021-04-12",
          "2021-04-13",
          "2021-04-14",
          "2021-04-15",
          "2021-04-16",
          "2021-04-19",
          "2021-04-20",
          "2021-04-21",
          "2021-04-22",
          "2021-04-23",
          "2021-04-26",
          "2021-04-27",
          "2021-04-28",
          "2021-04-29",
          "2021-04-30",
          "2021-05-03",
          "2021-05-04",
          "2021-05-05",
          "2021-05-06",
          "2021-05-07",
          "2021-05-10",
          "2021-05-11",
          "2021-05-12",
          "2021-05-13",
          "2021-05-14",
          "2021-05-17",
          "2021-05-18",
          "2021-05-19",
          "2021-05-20",
          "2021-05-21",
          "2021-05-24",
          "2021-05-25",
          "2021-05-26",
          "2021-05-27",
          "2021-05-28",
          "2021-06-01",
          "2021-06-02",
          "2021-06-03",
          "2021-06-04",
          "2021-06-07",
          "2021-06-08",
          "2021-06-09",
          "2021-06-10",
          "2021-06-11",
          "2021-06-14",
          "2021-06-15",
          "2021-06-16",
          "2021-06-17",
          "2021-06-18",
          "2021-06-21",
          "2021-06-22",
          "2021-06-23",
          "2021-06-24",
          "2021-06-25",
          "2021-06-28",
          "2021-06-29",
          "2021-06-30",
          "2021-07-01",
          "2021-07-02",
          "2021-07-06",
          "2021-07-07",
          "2021-07-08"
         ],
         "y": [
          13473800,
          19221100,
          19778900,
          20313300,
          11316600,
          9848100,
          8302600,
          29358000,
          26727400,
          22289200,
          12545900,
          11041300,
          7605200,
          5915300,
          14233200,
          23376900,
          14663100,
          11122700,
          8711300,
          10596300,
          13461000,
          33647000,
          24668700,
          26994100,
          29250300,
          16121900,
          17372700,
          43565400,
          14541700,
          26160100,
          16020300,
          11044300,
          12016200,
          10060800,
          15169300,
          9284500,
          8026000,
          9346800,
          8547000,
          12423400,
          7110500,
          14414300,
          18999700,
          8994900,
          11833900,
          10208200,
          9720000,
          20684400,
          9632200,
          8027200,
          6942800,
          6092900,
          7904700,
          11621000,
          10830100,
          12629700,
          11953200,
          6983900,
          7266700,
          8775900,
          56686200,
          26087100,
          9009300,
          7434800,
          9514400,
          6438700,
          6310700,
          8498100,
          7040900,
          16554700,
          18721500,
          7619500,
          6171300,
          16808800,
          23527900,
          38728900,
          117641000,
          213591300,
          158525900,
          179275800,
          74629000,
          74012300,
          27284200,
          69572300,
          27034800,
          15059700,
          16022100,
          11944800,
          14959200,
          9459100,
          10509900,
          12578400,
          10314600,
          11451600,
          8291900,
          5723000,
          5106100,
          7548400,
          14039900,
          20658000,
          13821800,
          28260000,
          20135700,
          30271600,
          12714800,
          50263500,
          31235000,
          18307800,
          7238900,
          39214800,
          8668800,
          10542500,
          5700200,
          5607100,
          4729500,
          8864200,
          8757600,
          15248200,
          6462100,
          9546800,
          25551600,
          7166900,
          5257500,
          10909400,
          7439000,
          4836300,
          4726300,
          5287800,
          5416900
         ],
         "yaxis": "y4"
        },
        {
         "close": [
          5.21,
          5.52,
          5.23,
          5.91,
          5.9,
          5.85,
          5.6,
          6.55,
          6.6,
          6.61,
          7.05,
          6.87,
          6.79,
          6.76,
          7.25,
          8.14,
          7.43,
          7.24,
          7.11,
          7.37,
          7.63,
          9.26,
          10.33,
          11.54,
          14.72,
          14.9,
          14,
          18.309998999999998,
          18.33,
          23.719998999999998,
          19.75,
          18.040001,
          20.5,
          18.07,
          16.190001000000002,
          17.959999,
          16.18,
          14.87,
          17.59,
          16.950001,
          15.36,
          13.25,
          12.82,
          11.77,
          14.08,
          14.35,
          14.83,
          17.469998999999998,
          17.83,
          16.83,
          17.440001000000002,
          15.94,
          17.35,
          17.969998999999998,
          15.82,
          13.2,
          14.01,
          13.45,
          12.13,
          12.31,
          18.549999,
          15.54,
          15.69,
          15.32,
          14.6,
          14.15,
          14.22,
          12.92,
          12.91,
          12.34,
          11.35,
          11.03,
          10.5,
          10.39,
          12.5,
          13.14,
          17.969998999999998,
          26.440001000000002,
          20.16,
          20.99,
          18,
          15.25,
          13.86,
          15.4,
          14.48,
          14,
          14.1,
          13.86,
          14.67,
          13.34,
          12.48,
          14.04,
          15.19,
          15.08,
          13.98,
          14.34,
          13.87,
          14.33,
          15.63,
          14.76,
          15.83,
          15.6,
          17.950001,
          19.049999,
          18.02,
          20.25,
          22.33,
          22.25,
          21.25,
          22.58,
          21.6,
          21.370001000000002,
          20.42,
          20.629998999999998,
          20.59,
          18.84,
          19.559998999999998,
          17.49,
          17.5,
          17.5,
          17.209999,
          18.24,
          18.389999,
          16.75,
          16.379998999999998,
          15.99,
          15.83,
          15.24,
          15.4
         ],
         "decreasing": {
          "line": {
           "color": "#808080"
          }
         },
         "high": [
          6.06,
          5.6,
          5.75,
          6.31,
          6.24,
          6.29,
          5.97,
          6.98,
          7,
          7.48,
          7.18,
          7.45,
          6.89,
          6.82,
          7.61,
          8.48,
          8.41,
          8.09,
          7.45,
          7.58,
          8.13,
          9.84,
          10.88,
          12.4,
          15.53,
          16.190001000000002,
          15.65,
          21.75,
          19.379998999999998,
          24.18,
          22.379998999999998,
          20.959999,
          20.9,
          21.360001,
          17.15,
          18.969998999999998,
          18.24,
          16.17,
          17.940001000000002,
          19.25,
          17.290001,
          15.58,
          13.75,
          13.26,
          14.62,
          15.62,
          15.73,
          18.219998999999998,
          18.65,
          18.15,
          17.75,
          17.65,
          17.74,
          19.280001000000002,
          18.959999,
          16.290001,
          14.18,
          14,
          13.73,
          12.62,
          19.370001000000002,
          17.389999,
          16.32,
          15.74,
          16.200001,
          14.84,
          14.48,
          14.32,
          13.38,
          14.79,
          12.48,
          11.64,
          11.15,
          12.12,
          12.66,
          14.93,
          19.139999,
          27.799999,
          28,
          25.75,
          20.6,
          15.94,
          15.59,
          16.76,
          15.91,
          14.54,
          15.36,
          14.63,
          14.93,
          14.42,
          13.95,
          14.34,
          15.19,
          16.27,
          14.62,
          14.49,
          14.55,
          14.64,
          15.99,
          16.75,
          15.95,
          18.48,
          18.379998999999998,
          19.67,
          18.700001,
          23,
          23.459999,
          23.26,
          22.09,
          24.690001000000002,
          22.389999,
          21.77,
          21.75,
          20.809998999999998,
          21.24,
          21.07,
          19.67,
          18.299999,
          17.98,
          18.360001,
          17.67,
          18.559998999999998,
          18.93,
          18.25,
          17.32,
          16.59,
          16.33,
          15.96,
          15.63
         ],
         "increasing": {
          "line": {
           "color": "#17BECF"
          }
         },
         "low": [
          5.11,
          4.86,
          5.06,
          5.38,
          5.65,
          5.78,
          5.48,
          5.37,
          6.06,
          6.46,
          6.51,
          6.62,
          6.28,
          6.54,
          6.66,
          7.21,
          7.3,
          7.11,
          6.82,
          6.85,
          7.1,
          8,
          8.82,
          9.83,
          12.18,
          14.06,
          13.08,
          17,
          16.85,
          19.549999,
          19,
          17.5,
          18.299999,
          17.75,
          13.91,
          16.450001,
          15.8,
          14.19,
          16,
          16.65,
          15.09,
          12.2,
          10.12,
          11.51,
          12.1,
          13.69,
          13.96,
          14.71,
          17.26,
          16.370001000000002,
          15.3,
          15.78,
          15.56,
          16.67,
          15.55,
          13.12,
          12.56,
          12.6,
          12.03,
          11.33,
          12.78,
          15.2,
          15.15,
          14.37,
          14.45,
          13.95,
          13.6,
          12.79,
          12.55,
          12.25,
          10.4,
          10.56,
          10.32,
          10.08,
          10.12,
          12.81,
          13.53,
          19.75,
          19.190001000000002,
          20.709999,
          17.530001000000002,
          13.87,
          13.4,
          12.8,
          14.15,
          13.21,
          13.91,
          13.28,
          12.76,
          13.18,
          12.22,
          12.41,
          13.77,
          14.95,
          13.51,
          13.72,
          13.75,
          13.21,
          14.12,
          14.29,
          14.31,
          15.5,
          15.86,
          17.52,
          17.5,
          18.02,
          20.719998999999998,
          21.120001000000002,
          20.610001,
          21.65,
          20.91,
          19.610001,
          20.41,
          19.66,
          20.110001,
          18.559998999999998,
          18.57,
          16.65,
          17.1,
          17.209999,
          17.049999,
          17.219998999999998,
          17.959999,
          16.73,
          15.9,
          15.68,
          15.36,
          14.61,
          14.21
         ],
         "name": "GS",
         "open": [
          5.5,
          4.94,
          5.54,
          5.4,
          6.16,
          5.83,
          5.89,
          5.59,
          6.56,
          6.59,
          6.9,
          7.07,
          6.89,
          6.64,
          6.8,
          7.33,
          7.71,
          7.91,
          7.29,
          7.31,
          7.44,
          8.05,
          9.15,
          10.5,
          12.54,
          14.06,
          15.31,
          19.68,
          17.52,
          19.950001,
          22.35,
          19.16,
          19.51,
          20.040001,
          17.110001,
          17.23,
          17.17,
          15.16,
          16.200001,
          19.15,
          17.08,
          14.51,
          13.58,
          12.76,
          12.1,
          15.11,
          14.77,
          15.2,
          18.58,
          17.700001,
          15.68,
          16.9,
          15.8,
          17.870001000000002,
          17.870001000000002,
          16.26,
          12.96,
          13.77,
          13.15,
          11.9,
          12.96,
          17.16,
          16.059998999999998,
          15.5,
          14.92,
          14.79,
          13.87,
          14.09,
          13.19,
          13.26,
          12.41,
          10.95,
          10.8,
          10.94,
          10.33,
          14.05,
          13.94,
          19.99,
          27.629998999999998,
          22.23,
          20.32,
          13.98,
          14.74,
          13.38,
          15.41,
          14.2,
          13.97,
          14.04,
          12.95,
          14.12,
          13.4,
          12.67,
          14,
          15.5,
          14.15,
          14.22,
          14.29,
          13.89,
          14.15,
          16,
          14.78,
          16.07,
          15.95,
          18.9,
          18.139999,
          18.15,
          21.629998999999998,
          22.9,
          21.73,
          22.74,
          22.01,
          21.4,
          21.370001000000002,
          19.75,
          20.35,
          20.57,
          18.809998999999998,
          17.68,
          17.83,
          17.709999,
          17.379998999999998,
          17.290001,
          18.280001000000002,
          18.15,
          16.84,
          16.299999,
          15.84,
          15.7,
          14.34
         ],
         "showlegend": true,
         "type": "candlestick",
         "x": [
          "2021-01-04",
          "2021-01-05",
          "2021-01-06",
          "2021-01-07",
          "2021-01-08",
          "2021-01-11",
          "2021-01-12",
          "2021-01-13",
          "2021-01-14",
          "2021-01-15",
          "2021-01-19",
          "2021-01-20",
          "2021-01-21",
          "2021-01-22",
          "2021-01-25",
          "2021-01-26",
          "2021-01-27",
          "2021-01-28",
          "2021-01-29",
          "2021-02-01",
          "2021-02-02",
          "2021-02-03",
          "2021-02-04",
          "2021-02-05",
          "2021-02-08",
          "2021-02-09",
          "2021-02-10",
          "2021-02-11",
          "2021-02-12",
          "2021-02-16",
          "2021-02-17",
          "2021-02-18",
          "2021-02-19",
          "2021-02-22",
          "2021-02-23",
          "2021-02-24",
          "2021-02-25",
          "2021-02-26",
          "2021-03-01",
          "2021-03-02",
          "2021-03-03",
          "2021-03-04",
          "2021-03-05",
          "2021-03-08",
          "2021-03-09",
          "2021-03-10",
          "2021-03-11",
          "2021-03-12",
          "2021-03-15",
          "2021-03-16",
          "2021-03-17",
          "2021-03-18",
          "2021-03-19",
          "2021-03-22",
          "2021-03-23",
          "2021-03-24",
          "2021-03-25",
          "2021-03-26",
          "2021-03-29",
          "2021-03-30",
          "2021-03-31",
          "2021-04-01",
          "2021-04-05",
          "2021-04-06",
          "2021-04-07",
          "2021-04-08",
          "2021-04-09",
          "2021-04-12",
          "2021-04-13",
          "2021-04-14",
          "2021-04-15",
          "2021-04-16",
          "2021-04-19",
          "2021-04-20",
          "2021-04-21",
          "2021-04-22",
          "2021-04-23",
          "2021-04-26",
          "2021-04-27",
          "2021-04-28",
          "2021-04-29",
          "2021-04-30",
          "2021-05-03",
          "2021-05-04",
          "2021-05-05",
          "2021-05-06",
          "2021-05-07",
          "2021-05-10",
          "2021-05-11",
          "2021-05-12",
          "2021-05-13",
          "2021-05-14",
          "2021-05-17",
          "2021-05-18",
          "2021-05-19",
          "2021-05-20",
          "2021-05-21",
          "2021-05-24",
          "2021-05-25",
          "2021-05-26",
          "2021-05-27",
          "2021-05-28",
          "2021-06-01",
          "2021-06-02",
          "2021-06-03",
          "2021-06-04",
          "2021-06-07",
          "2021-06-08",
          "2021-06-09",
          "2021-06-10",
          "2021-06-11",
          "2021-06-14",
          "2021-06-15",
          "2021-06-16",
          "2021-06-17",
          "2021-06-18",
          "2021-06-21",
          "2021-06-22",
          "2021-06-23",
          "2021-06-24",
          "2021-06-25",
          "2021-06-28",
          "2021-06-29",
          "2021-06-30",
          "2021-07-01",
          "2021-07-02",
          "2021-07-06",
          "2021-07-07",
          "2021-07-08"
         ],
         "yaxis": "y2"
        }
       ],
       "layout": {
        "legend": {
         "bgcolor": "#F5F6F9",
         "font": {
          "color": "#4D5663"
         }
        },
        "margin": {
         "b": 30,
         "l": 30,
         "r": 30,
         "t": 30
        },
        "paper_bgcolor": "#F5F6F9",
        "plot_bgcolor": "#F5F6F9",
        "showlegend": true,
        "template": {
         "data": {
          "bar": [
           {
            "error_x": {
             "color": "#2a3f5f"
            },
            "error_y": {
             "color": "#2a3f5f"
            },
            "marker": {
             "line": {
              "color": "#E5ECF6",
              "width": 0.5
             }
            },
            "type": "bar"
           }
          ],
          "barpolar": [
           {
            "marker": {
             "line": {
              "color": "#E5ECF6",
              "width": 0.5
             }
            },
            "type": "barpolar"
           }
          ],
          "carpet": [
           {
            "aaxis": {
             "endlinecolor": "#2a3f5f",
             "gridcolor": "white",
             "linecolor": "white",
             "minorgridcolor": "white",
             "startlinecolor": "#2a3f5f"
            },
            "baxis": {
             "endlinecolor": "#2a3f5f",
             "gridcolor": "white",
             "linecolor": "white",
             "minorgridcolor": "white",
             "startlinecolor": "#2a3f5f"
            },
            "type": "carpet"
           }
          ],
          "choropleth": [
           {
            "colorbar": {
             "outlinewidth": 0,
             "ticks": ""
            },
            "type": "choropleth"
           }
          ],
          "contour": [
           {
            "colorbar": {
             "outlinewidth": 0,
             "ticks": ""
            },
            "colorscale": [
             [
              0,
              "#0d0887"
             ],
             [
              0.1111111111111111,
              "#46039f"
             ],
             [
              0.2222222222222222,
              "#7201a8"
             ],
             [
              0.3333333333333333,
              "#9c179e"
             ],
             [
              0.4444444444444444,
              "#bd3786"
             ],
             [
              0.5555555555555556,
              "#d8576b"
             ],
             [
              0.6666666666666666,
              "#ed7953"
             ],
             [
              0.7777777777777778,
              "#fb9f3a"
             ],
             [
              0.8888888888888888,
              "#fdca26"
             ],
             [
              1,
              "#f0f921"
             ]
            ],
            "type": "contour"
           }
          ],
          "contourcarpet": [
           {
            "colorbar": {
             "outlinewidth": 0,
             "ticks": ""
            },
            "type": "contourcarpet"
           }
          ],
          "heatmap": [
           {
            "colorbar": {
             "outlinewidth": 0,
             "ticks": ""
            },
            "colorscale": [
             [
              0,
              "#0d0887"
             ],
             [
              0.1111111111111111,
              "#46039f"
             ],
             [
              0.2222222222222222,
              "#7201a8"
             ],
             [
              0.3333333333333333,
              "#9c179e"
             ],
             [
              0.4444444444444444,
              "#bd3786"
             ],
             [
              0.5555555555555556,
              "#d8576b"
             ],
             [
              0.6666666666666666,
              "#ed7953"
             ],
             [
              0.7777777777777778,
              "#fb9f3a"
             ],
             [
              0.8888888888888888,
              "#fdca26"
             ],
             [
              1,
              "#f0f921"
             ]
            ],
            "type": "heatmap"
           }
          ],
          "heatmapgl": [
           {
            "colorbar": {
             "outlinewidth": 0,
             "ticks": ""
            },
            "colorscale": [
             [
              0,
              "#0d0887"
             ],
             [
              0.1111111111111111,
              "#46039f"
             ],
             [
              0.2222222222222222,
              "#7201a8"
             ],
             [
              0.3333333333333333,
              "#9c179e"
             ],
             [
              0.4444444444444444,
              "#bd3786"
             ],
             [
              0.5555555555555556,
              "#d8576b"
             ],
             [
              0.6666666666666666,
              "#ed7953"
             ],
             [
              0.7777777777777778,
              "#fb9f3a"
             ],
             [
              0.8888888888888888,
              "#fdca26"
             ],
             [
              1,
              "#f0f921"
             ]
            ],
            "type": "heatmapgl"
           }
          ],
          "histogram": [
           {
            "marker": {
             "colorbar": {
              "outlinewidth": 0,
              "ticks": ""
             }
            },
            "type": "histogram"
           }
          ],
          "histogram2d": [
           {
            "colorbar": {
             "outlinewidth": 0,
             "ticks": ""
            },
            "colorscale": [
             [
              0,
              "#0d0887"
             ],
             [
              0.1111111111111111,
              "#46039f"
             ],
             [
              0.2222222222222222,
              "#7201a8"
             ],
             [
              0.3333333333333333,
              "#9c179e"
             ],
             [
              0.4444444444444444,
              "#bd3786"
             ],
             [
              0.5555555555555556,
              "#d8576b"
             ],
             [
              0.6666666666666666,
              "#ed7953"
             ],
             [
              0.7777777777777778,
              "#fb9f3a"
             ],
             [
              0.8888888888888888,
              "#fdca26"
             ],
             [
              1,
              "#f0f921"
             ]
            ],
            "type": "histogram2d"
           }
          ],
          "histogram2dcontour": [
           {
            "colorbar": {
             "outlinewidth": 0,
             "ticks": ""
            },
            "colorscale": [
             [
              0,
              "#0d0887"
             ],
             [
              0.1111111111111111,
              "#46039f"
             ],
             [
              0.2222222222222222,
              "#7201a8"
             ],
             [
              0.3333333333333333,
              "#9c179e"
             ],
             [
              0.4444444444444444,
              "#bd3786"
             ],
             [
              0.5555555555555556,
              "#d8576b"
             ],
             [
              0.6666666666666666,
              "#ed7953"
             ],
             [
              0.7777777777777778,
              "#fb9f3a"
             ],
             [
              0.8888888888888888,
              "#fdca26"
             ],
             [
              1,
              "#f0f921"
             ]
            ],
            "type": "histogram2dcontour"
           }
          ],
          "mesh3d": [
           {
            "colorbar": {
             "outlinewidth": 0,
             "ticks": ""
            },
            "type": "mesh3d"
           }
          ],
          "parcoords": [
           {
            "line": {
             "colorbar": {
              "outlinewidth": 0,
              "ticks": ""
             }
            },
            "type": "parcoords"
           }
          ],
          "pie": [
           {
            "automargin": true,
            "type": "pie"
           }
          ],
          "scatter": [
           {
            "marker": {
             "colorbar": {
              "outlinewidth": 0,
              "ticks": ""
             }
            },
            "type": "scatter"
           }
          ],
          "scatter3d": [
           {
            "line": {
             "colorbar": {
              "outlinewidth": 0,
              "ticks": ""
             }
            },
            "marker": {
             "colorbar": {
              "outlinewidth": 0,
              "ticks": ""
             }
            },
            "type": "scatter3d"
           }
          ],
          "scattercarpet": [
           {
            "marker": {
             "colorbar": {
              "outlinewidth": 0,
              "ticks": ""
             }
            },
            "type": "scattercarpet"
           }
          ],
          "scattergeo": [
           {
            "marker": {
             "colorbar": {
              "outlinewidth": 0,
              "ticks": ""
             }
            },
            "type": "scattergeo"
           }
          ],
          "scattergl": [
           {
            "marker": {
             "colorbar": {
              "outlinewidth": 0,
              "ticks": ""
             }
            },
            "type": "scattergl"
           }
          ],
          "scattermapbox": [
           {
            "marker": {
             "colorbar": {
              "outlinewidth": 0,
              "ticks": ""
             }
            },
            "type": "scattermapbox"
           }
          ],
          "scatterpolar": [
           {
            "marker": {
             "colorbar": {
              "outlinewidth": 0,
              "ticks": ""
             }
            },
            "type": "scatterpolar"
           }
          ],
          "scatterpolargl": [
           {
            "marker": {
             "colorbar": {
              "outlinewidth": 0,
              "ticks": ""
             }
            },
            "type": "scatterpolargl"
           }
          ],
          "scatterternary": [
           {
            "marker": {
             "colorbar": {
              "outlinewidth": 0,
              "ticks": ""
             }
            },
            "type": "scatterternary"
           }
          ],
          "surface": [
           {
            "colorbar": {
             "outlinewidth": 0,
             "ticks": ""
            },
            "colorscale": [
             [
              0,
              "#0d0887"
             ],
             [
              0.1111111111111111,
              "#46039f"
             ],
             [
              0.2222222222222222,
              "#7201a8"
             ],
             [
              0.3333333333333333,
              "#9c179e"
             ],
             [
              0.4444444444444444,
              "#bd3786"
             ],
             [
              0.5555555555555556,
              "#d8576b"
             ],
             [
              0.6666666666666666,
              "#ed7953"
             ],
             [
              0.7777777777777778,
              "#fb9f3a"
             ],
             [
              0.8888888888888888,
              "#fdca26"
             ],
             [
              1,
              "#f0f921"
             ]
            ],
            "type": "surface"
           }
          ],
          "table": [
           {
            "cells": {
             "fill": {
              "color": "#EBF0F8"
             },
             "line": {
              "color": "white"
             }
            },
            "header": {
             "fill": {
              "color": "#C8D4E3"
             },
             "line": {
              "color": "white"
             }
            },
            "type": "table"
           }
          ]
         },
         "layout": {
          "annotationdefaults": {
           "arrowcolor": "#2a3f5f",
           "arrowhead": 0,
           "arrowwidth": 1
          },
          "coloraxis": {
           "colorbar": {
            "outlinewidth": 0,
            "ticks": ""
           }
          },
          "colorscale": {
           "diverging": [
            [
             0,
             "#8e0152"
            ],
            [
             0.1,
             "#c51b7d"
            ],
            [
             0.2,
             "#de77ae"
            ],
            [
             0.3,
             "#f1b6da"
            ],
            [
             0.4,
             "#fde0ef"
            ],
            [
             0.5,
             "#f7f7f7"
            ],
            [
             0.6,
             "#e6f5d0"
            ],
            [
             0.7,
             "#b8e186"
            ],
            [
             0.8,
             "#7fbc41"
            ],
            [
             0.9,
             "#4d9221"
            ],
            [
             1,
             "#276419"
            ]
           ],
           "sequential": [
            [
             0,
             "#0d0887"
            ],
            [
             0.1111111111111111,
             "#46039f"
            ],
            [
             0.2222222222222222,
             "#7201a8"
            ],
            [
             0.3333333333333333,
             "#9c179e"
            ],
            [
             0.4444444444444444,
             "#bd3786"
            ],
            [
             0.5555555555555556,
             "#d8576b"
            ],
            [
             0.6666666666666666,
             "#ed7953"
            ],
            [
             0.7777777777777778,
             "#fb9f3a"
            ],
            [
             0.8888888888888888,
             "#fdca26"
            ],
            [
             1,
             "#f0f921"
            ]
           ],
           "sequentialminus": [
            [
             0,
             "#0d0887"
            ],
            [
             0.1111111111111111,
             "#46039f"
            ],
            [
             0.2222222222222222,
             "#7201a8"
            ],
            [
             0.3333333333333333,
             "#9c179e"
            ],
            [
             0.4444444444444444,
             "#bd3786"
            ],
            [
             0.5555555555555556,
             "#d8576b"
            ],
            [
             0.6666666666666666,
             "#ed7953"
            ],
            [
             0.7777777777777778,
             "#fb9f3a"
            ],
            [
             0.8888888888888888,
             "#fdca26"
            ],
            [
             1,
             "#f0f921"
            ]
           ]
          },
          "colorway": [
           "#636efa",
           "#EF553B",
           "#00cc96",
           "#ab63fa",
           "#FFA15A",
           "#19d3f3",
           "#FF6692",
           "#B6E880",
           "#FF97FF",
           "#FECB52"
          ],
          "font": {
           "color": "#2a3f5f"
          },
          "geo": {
           "bgcolor": "white",
           "lakecolor": "white",
           "landcolor": "#E5ECF6",
           "showlakes": true,
           "showland": true,
           "subunitcolor": "white"
          },
          "hoverlabel": {
           "align": "left"
          },
          "hovermode": "closest",
          "mapbox": {
           "style": "light"
          },
          "paper_bgcolor": "white",
          "plot_bgcolor": "#E5ECF6",
          "polar": {
           "angularaxis": {
            "gridcolor": "white",
            "linecolor": "white",
            "ticks": ""
           },
           "bgcolor": "#E5ECF6",
           "radialaxis": {
            "gridcolor": "white",
            "linecolor": "white",
            "ticks": ""
           }
          },
          "scene": {
           "xaxis": {
            "backgroundcolor": "#E5ECF6",
            "gridcolor": "white",
            "gridwidth": 2,
            "linecolor": "white",
            "showbackground": true,
            "ticks": "",
            "zerolinecolor": "white"
           },
           "yaxis": {
            "backgroundcolor": "#E5ECF6",
            "gridcolor": "white",
            "gridwidth": 2,
            "linecolor": "white",
            "showbackground": true,
            "ticks": "",
            "zerolinecolor": "white"
           },
           "zaxis": {
            "backgroundcolor": "#E5ECF6",
            "gridcolor": "white",
            "gridwidth": 2,
            "linecolor": "white",
            "showbackground": true,
            "ticks": "",
            "zerolinecolor": "white"
           }
          },
          "shapedefaults": {
           "line": {
            "color": "#2a3f5f"
           }
          },
          "ternary": {
           "aaxis": {
            "gridcolor": "white",
            "linecolor": "white",
            "ticks": ""
           },
           "baxis": {
            "gridcolor": "white",
            "linecolor": "white",
            "ticks": ""
           },
           "bgcolor": "#E5ECF6",
           "caxis": {
            "gridcolor": "white",
            "linecolor": "white",
            "ticks": ""
           }
          },
          "title": {
           "x": 0.05
          },
          "xaxis": {
           "automargin": true,
           "gridcolor": "white",
           "linecolor": "white",
           "ticks": "",
           "title": {
            "standoff": 15
           },
           "zerolinecolor": "white",
           "zerolinewidth": 2
          },
          "yaxis": {
           "automargin": true,
           "gridcolor": "white",
           "linecolor": "white",
           "ticks": "",
           "title": {
            "standoff": 15
           },
           "zerolinecolor": "white",
           "zerolinewidth": 2
          }
         }
        },
        "title": {
         "font": {
          "color": "#4D5663"
         },
         "text": "MVIS | Quant Figure"
        },
        "xaxis": {
         "anchor": "y2",
         "gridcolor": "#E1E5ED",
         "rangeselector": {
          "bgcolor": "rgba(150, 200, 250, 1)",
          "buttons": [
           {
            "count": 1,
            "label": "1m",
            "step": "month",
            "stepmode": "backward"
           },
           {
            "count": 1,
            "label": "1y",
            "step": "year",
            "stepmode": "backward"
           }
          ],
          "font": {
           "size": 13
          },
          "visible": false,
          "x": 0,
          "y": 0.9
         },
         "rangeslider": {
          "visible": false
         },
         "showgrid": true,
         "tickfont": {
          "color": "#4D5663"
         },
         "title": {
          "font": {
           "color": "#4D5663"
          },
          "text": ""
         },
         "zerolinecolor": "#E1E5ED"
        },
        "yaxis": {
         "gridcolor": "#E1E5ED",
         "showgrid": true,
         "showticklabels": false,
         "tickfont": {
          "color": "#4D5663"
         },
         "title": {
          "font": {
           "color": "#4D5663"
          },
          "text": ""
         },
         "zerolinecolor": "#E1E5ED"
        },
        "yaxis2": {
         "domain": [
          0.46,
          0.9
         ],
         "gridcolor": "#E1E5ED",
         "showgrid": true,
         "tickfont": {
          "color": "#4D5663"
         },
         "title": {
          "font": {
           "color": "#4D5663"
          },
          "text": ""
         },
         "zerolinecolor": "#E1E5ED"
        },
        "yaxis3": {
         "domain": [
          0.23,
          0.38
         ],
         "gridcolor": "#E1E5ED",
         "showgrid": true,
         "tickfont": {
          "color": "#4D5663"
         },
         "title": {
          "font": {
           "color": "#4D5663"
          },
          "text": ""
         },
         "zerolinecolor": "#E1E5ED"
        },
        "yaxis4": {
         "domain": [
          0,
          0.15
         ],
         "gridcolor": "#E1E5ED",
         "showgrid": true,
         "tickfont": {
          "color": "#4D5663"
         },
         "title": {
          "font": {
           "color": "#4D5663"
          },
          "text": ""
         },
         "zerolinecolor": "#E1E5ED"
        }
       }
      },
      "text/html": [
       "<div>                            <div id=\"38b825b1-d44f-4108-abd9-ba55a18d1177\" class=\"plotly-graph-div\" style=\"height:525px; width:100%;\"></div>            <script type=\"text/javascript\">                require([\"plotly\"], function(Plotly) {                    window.PLOTLYENV=window.PLOTLYENV || {};\n",
       "                    window.PLOTLYENV.BASE_URL='https://plotly.com';                                    if (document.getElementById(\"38b825b1-d44f-4108-abd9-ba55a18d1177\")) {                    Plotly.newPlot(                        \"38b825b1-d44f-4108-abd9-ba55a18d1177\",                        [{\"legendgroup\": \"BOLL(Close,20)\", \"line\": {\"color\": \"rgba(255, 0, 255, 1.0)\", \"dash\": \"solid\", \"shape\": \"linear\", \"width\": 1.3}, \"mode\": \"lines\", \"name\": \"BOLL(Close,20)\", \"showlegend\": true, \"text\": \"\", \"type\": \"scatter\", \"x\": [\"2021-01-04\", \"2021-01-05\", \"2021-01-06\", \"2021-01-07\", \"2021-01-08\", \"2021-01-11\", \"2021-01-12\", \"2021-01-13\", \"2021-01-14\", \"2021-01-15\", \"2021-01-19\", \"2021-01-20\", \"2021-01-21\", \"2021-01-22\", \"2021-01-25\", \"2021-01-26\", \"2021-01-27\", \"2021-01-28\", \"2021-01-29\", \"2021-02-01\", \"2021-02-02\", \"2021-02-03\", \"2021-02-04\", \"2021-02-05\", \"2021-02-08\", \"2021-02-09\", \"2021-02-10\", \"2021-02-11\", \"2021-02-12\", \"2021-02-16\", \"2021-02-17\", \"2021-02-18\", \"2021-02-19\", \"2021-02-22\", \"2021-02-23\", \"2021-02-24\", \"2021-02-25\", \"2021-02-26\", \"2021-03-01\", \"2021-03-02\", \"2021-03-03\", \"2021-03-04\", \"2021-03-05\", \"2021-03-08\", \"2021-03-09\", \"2021-03-10\", \"2021-03-11\", \"2021-03-12\", \"2021-03-15\", \"2021-03-16\", \"2021-03-17\", \"2021-03-18\", \"2021-03-19\", \"2021-03-22\", \"2021-03-23\", \"2021-03-24\", \"2021-03-25\", \"2021-03-26\", \"2021-03-29\", \"2021-03-30\", \"2021-03-31\", \"2021-04-01\", \"2021-04-05\", \"2021-04-06\", \"2021-04-07\", \"2021-04-08\", \"2021-04-09\", \"2021-04-12\", \"2021-04-13\", \"2021-04-14\", \"2021-04-15\", \"2021-04-16\", \"2021-04-19\", \"2021-04-20\", \"2021-04-21\", \"2021-04-22\", \"2021-04-23\", \"2021-04-26\", \"2021-04-27\", \"2021-04-28\", \"2021-04-29\", \"2021-04-30\", \"2021-05-03\", \"2021-05-04\", \"2021-05-05\", \"2021-05-06\", \"2021-05-07\", \"2021-05-10\", \"2021-05-11\", \"2021-05-12\", \"2021-05-13\", \"2021-05-14\", \"2021-05-17\", \"2021-05-18\", \"2021-05-19\", \"2021-05-20\", \"2021-05-21\", \"2021-05-24\", \"2021-05-25\", \"2021-05-26\", \"2021-05-27\", \"2021-05-28\", \"2021-06-01\", \"2021-06-02\", \"2021-06-03\", \"2021-06-04\", \"2021-06-07\", \"2021-06-08\", \"2021-06-09\", \"2021-06-10\", \"2021-06-11\", \"2021-06-14\", \"2021-06-15\", \"2021-06-16\", \"2021-06-17\", \"2021-06-18\", \"2021-06-21\", \"2021-06-22\", \"2021-06-23\", \"2021-06-24\", \"2021-06-25\", \"2021-06-28\", \"2021-06-29\", \"2021-06-30\", \"2021-07-01\", \"2021-07-02\", \"2021-07-06\", \"2021-07-07\", \"2021-07-08\"], \"y\": [\"\", \"\", \"\", \"\", \"\", \"\", \"\", \"\", \"\", \"\", \"\", \"\", \"\", \"\", \"\", \"\", \"\", \"\", \"\", 6.5495, 6.6705, 6.857499999999999, 7.1125, 7.394, 7.834999999999999, 8.2875, 8.7075, 9.29549995, 9.88199995, 10.7374999, 11.3724999, 11.930999949999999, 12.616499950000001, 13.181999950000002, 13.629000000000001, 14.119999950000002, 14.557499950000002, 14.938999950000001, 15.46299995, 15.941999999999998, 16.3285, 16.528, 16.6525, 16.663999999999998, 16.631999999999998, 16.604499999999998, 16.645999999999997, 16.603999999999996, 16.578999999999997, 16.234500049999998, 16.119000099999997, 16.014000049999996, 15.856500049999998, 15.851499999999996, 15.832999949999996, 15.594999999999995, 15.486499999999996, 15.415499999999994, 15.142499999999995, 14.910499949999997, 15.069999899999996, 15.184499899999997, 15.327999899999998, 15.505499899999998, 15.5314999, 15.521499899999998, 15.4909999, 15.263499950000002, 15.017499950000005, 14.792999950000004, 14.488499900000004, 14.242999900000004, 13.900499900000003, 13.521499950000003, 13.355499950000004, 13.352499950000004, 13.550499900000002, 14.199999950000002, 14.601499950000004, 15.035499950000005, 15.008000000000004, 14.993500000000003, 14.902000000000005, 14.906000000000002, 14.900000000000002, 14.892500000000004, 14.886500000000003, 14.933500000000004, 15.021500000000003, 15.071500000000004, 15.128000000000004, 15.278500000000005, 15.513000000000005, 15.747500000000006, 15.821500000000006, 15.881500000000006, 15.676500050000007, 15.071000000000007, 14.844500000000005, 14.533000000000005, 14.424500000000004, 14.442000000000004, 14.646500050000004, 14.829000000000004, 15.006000000000004, 15.318500000000004, 15.73, 16.1495, 16.4785, 16.9405, 17.3965, 17.76300005, 18.02450005, 18.302, 18.6325, 18.857499999999998, 19.14199995, 19.29999995, 19.39349995, 19.53049995, 19.5994999, 19.7314999, 19.7534998, 19.63849985, 19.5564998, 19.3434998, 19.0184998, 18.6679998, 18.3754998], \"yaxis\": \"y2\"}, {\"legendgroup\": \"BOLL(Close,20)\", \"line\": {\"color\": \"rgba(128, 128, 128, 1.0)\", \"dash\": \"solid\", \"shape\": \"linear\", \"width\": 1.3}, \"mode\": \"lines\", \"name\": \"UPPER(Close,20)\", \"showlegend\": false, \"text\": \"\", \"type\": \"scatter\", \"x\": [\"2021-01-04\", \"2021-01-05\", \"2021-01-06\", \"2021-01-07\", \"2021-01-08\", \"2021-01-11\", \"2021-01-12\", \"2021-01-13\", \"2021-01-14\", \"2021-01-15\", \"2021-01-19\", \"2021-01-20\", \"2021-01-21\", \"2021-01-22\", \"2021-01-25\", \"2021-01-26\", \"2021-01-27\", \"2021-01-28\", \"2021-01-29\", \"2021-02-01\", \"2021-02-02\", \"2021-02-03\", \"2021-02-04\", \"2021-02-05\", \"2021-02-08\", \"2021-02-09\", \"2021-02-10\", \"2021-02-11\", \"2021-02-12\", \"2021-02-16\", \"2021-02-17\", \"2021-02-18\", \"2021-02-19\", \"2021-02-22\", \"2021-02-23\", \"2021-02-24\", \"2021-02-25\", \"2021-02-26\", \"2021-03-01\", \"2021-03-02\", \"2021-03-03\", \"2021-03-04\", \"2021-03-05\", \"2021-03-08\", \"2021-03-09\", \"2021-03-10\", \"2021-03-11\", \"2021-03-12\", \"2021-03-15\", \"2021-03-16\", \"2021-03-17\", \"2021-03-18\", \"2021-03-19\", \"2021-03-22\", \"2021-03-23\", \"2021-03-24\", \"2021-03-25\", \"2021-03-26\", \"2021-03-29\", \"2021-03-30\", \"2021-03-31\", \"2021-04-01\", \"2021-04-05\", \"2021-04-06\", \"2021-04-07\", \"2021-04-08\", \"2021-04-09\", \"2021-04-12\", \"2021-04-13\", \"2021-04-14\", \"2021-04-15\", \"2021-04-16\", \"2021-04-19\", \"2021-04-20\", \"2021-04-21\", \"2021-04-22\", \"2021-04-23\", \"2021-04-26\", \"2021-04-27\", \"2021-04-28\", \"2021-04-29\", \"2021-04-30\", \"2021-05-03\", \"2021-05-04\", \"2021-05-05\", \"2021-05-06\", \"2021-05-07\", \"2021-05-10\", \"2021-05-11\", \"2021-05-12\", \"2021-05-13\", \"2021-05-14\", \"2021-05-17\", \"2021-05-18\", \"2021-05-19\", \"2021-05-20\", \"2021-05-21\", \"2021-05-24\", \"2021-05-25\", \"2021-05-26\", \"2021-05-27\", \"2021-05-28\", \"2021-06-01\", \"2021-06-02\", \"2021-06-03\", \"2021-06-04\", \"2021-06-07\", \"2021-06-08\", \"2021-06-09\", \"2021-06-10\", \"2021-06-11\", \"2021-06-14\", \"2021-06-15\", \"2021-06-16\", \"2021-06-17\", \"2021-06-18\", \"2021-06-21\", \"2021-06-22\", \"2021-06-23\", \"2021-06-24\", \"2021-06-25\", \"2021-06-28\", \"2021-06-29\", \"2021-06-30\", \"2021-07-01\", \"2021-07-02\", \"2021-07-06\", \"2021-07-07\", \"2021-07-08\"], \"y\": [\"\", \"\", \"\", \"\", \"\", \"\", \"\", \"\", \"\", \"\", \"\", \"\", \"\", \"\", \"\", \"\", \"\", \"\", \"\", 8.174197218755417, 8.234482433607099, 8.710018911047733, 9.379432775916905, 10.331312771188912, 12.15217987872444, 13.527218252770952, 14.36977729897842, 16.298204344446493, 17.83457918263696, 20.64818880154253, 21.896820970038842, 22.633296367439456, 23.682432804847835, 24.14324170047799, 24.296907251979793, 24.626909723748195, 24.61037440245604, 24.383322759949237, 24.215989206681407, 23.83664978563939, 23.200377662350892, 22.735386133173705, 22.420822886429526, 22.39017006898579, 22.41082345300962, 22.423124857979428, 22.397866742838346, 22.316841749491946, 22.264348928050556, 20.82810416260805, 20.44902700897209, 20.24868585259953, 19.59377329147899, 19.576551730054273, 19.554646830672887, 19.352555137390173, 19.29786397466437, 19.326814031451903, 19.175071933642467, 19.0380017768606, 19.505677909765442, 19.539863988666184, 19.542174182909736, 19.373508606298493, 19.366009242824905, 19.370000468875173, 19.372105788627337, 19.189329325786762, 18.882303802175464, 18.73535327940815, 18.50998011750574, 18.48483177666547, 18.191932676615647, 17.634837561209398, 17.344355071618676, 17.341937705004206, 18.039177495954245, 21.503873590458895, 22.298510498094274, 23.155698351918957, 23.08167570291191, 23.064193858386034, 22.98093605475639, 22.985886619058633, 22.98102152140893, 22.97673015818618, 22.9730095188156, 22.98272581357334, 23.015875285029804, 23.007555920059815, 22.9680072091804, 22.89978973668676, 22.796336958463954, 22.627154090753525, 22.584932201572204, 22.565596946287442, 22.342364017014127, 19.416300667932777, 18.48856640993275, 16.751373989636306, 16.066212520510263, 16.127637158934004, 16.92349999716047, 17.83020599619212, 18.321624186690798, 19.33826309330741, 20.77803448566089, 21.890149015206383, 22.60347652498191, 23.450526158893236, 23.868516732786947, 24.26481234818601, 24.51126551582596, 24.73300252935983, 24.802378857123525, 24.687100948336262, 24.481519314216527, 24.209693878931887, 24.074828010486243, 23.781471212912326, 23.63700562137138, 23.37150162544801, 23.353261958459207, 23.47224102104003, 23.600397603175487, 23.672322859884833, 23.379133881077415, 23.0617591960431, 22.824066698842245], \"yaxis\": \"y2\"}, {\"fill\": \"tonexty\", \"fillcolor\": \"rgba(128, 128, 128, 0.1)\", \"legendgroup\": \"BOLL(Close,20)\", \"line\": {\"color\": \"rgba(128, 128, 128, 0.8999999999999999)\", \"dash\": \"solid\", \"shape\": \"linear\", \"width\": 1.3}, \"mode\": \"lines\", \"name\": \"LOWER(Close,20)\", \"showlegend\": false, \"text\": \"\", \"type\": \"scatter\", \"x\": [\"2021-01-04\", \"2021-01-05\", \"2021-01-06\", \"2021-01-07\", \"2021-01-08\", \"2021-01-11\", \"2021-01-12\", \"2021-01-13\", \"2021-01-14\", \"2021-01-15\", \"2021-01-19\", \"2021-01-20\", \"2021-01-21\", \"2021-01-22\", \"2021-01-25\", \"2021-01-26\", \"2021-01-27\", \"2021-01-28\", \"2021-01-29\", \"2021-02-01\", \"2021-02-02\", \"2021-02-03\", \"2021-02-04\", \"2021-02-05\", \"2021-02-08\", \"2021-02-09\", \"2021-02-10\", \"2021-02-11\", \"2021-02-12\", \"2021-02-16\", \"2021-02-17\", \"2021-02-18\", \"2021-02-19\", \"2021-02-22\", \"2021-02-23\", \"2021-02-24\", \"2021-02-25\", \"2021-02-26\", \"2021-03-01\", \"2021-03-02\", \"2021-03-03\", \"2021-03-04\", \"2021-03-05\", \"2021-03-08\", \"2021-03-09\", \"2021-03-10\", \"2021-03-11\", \"2021-03-12\", \"2021-03-15\", \"2021-03-16\", \"2021-03-17\", \"2021-03-18\", \"2021-03-19\", \"2021-03-22\", \"2021-03-23\", \"2021-03-24\", \"2021-03-25\", \"2021-03-26\", \"2021-03-29\", \"2021-03-30\", \"2021-03-31\", \"2021-04-01\", \"2021-04-05\", \"2021-04-06\", \"2021-04-07\", \"2021-04-08\", \"2021-04-09\", \"2021-04-12\", \"2021-04-13\", \"2021-04-14\", \"2021-04-15\", \"2021-04-16\", \"2021-04-19\", \"2021-04-20\", \"2021-04-21\", \"2021-04-22\", \"2021-04-23\", \"2021-04-26\", \"2021-04-27\", \"2021-04-28\", \"2021-04-29\", \"2021-04-30\", \"2021-05-03\", \"2021-05-04\", \"2021-05-05\", \"2021-05-06\", \"2021-05-07\", \"2021-05-10\", \"2021-05-11\", \"2021-05-12\", \"2021-05-13\", \"2021-05-14\", \"2021-05-17\", \"2021-05-18\", \"2021-05-19\", \"2021-05-20\", \"2021-05-21\", \"2021-05-24\", \"2021-05-25\", \"2021-05-26\", \"2021-05-27\", \"2021-05-28\", \"2021-06-01\", \"2021-06-02\", \"2021-06-03\", \"2021-06-04\", \"2021-06-07\", \"2021-06-08\", \"2021-06-09\", \"2021-06-10\", \"2021-06-11\", \"2021-06-14\", \"2021-06-15\", \"2021-06-16\", \"2021-06-17\", \"2021-06-18\", \"2021-06-21\", \"2021-06-22\", \"2021-06-23\", \"2021-06-24\", \"2021-06-25\", \"2021-06-28\", \"2021-06-29\", \"2021-06-30\", \"2021-07-01\", \"2021-07-02\", \"2021-07-06\", \"2021-07-07\", \"2021-07-08\"], \"y\": [\"\", \"\", \"\", \"\", \"\", \"\", \"\", \"\", \"\", \"\", \"\", \"\", \"\", \"\", \"\", \"\", \"\", \"\", \"\", 4.924802781244584, 5.1065175663929, 5.004981088952265, 4.845567224083094, 4.456687228811088, 3.517820121275558, 3.047781747229047, 3.04522270102158, 2.2927955555535062, 1.9294207173630413, 0.8268109984574696, 0.8481788299611566, 1.228703532560539, 1.5505670951521697, 2.220758199522013, 2.96109274802021, 3.6130901762518093, 4.504625497543968, 5.494677140050765, 6.710010693318596, 8.047350214360605, 9.456622337649105, 10.320613866826294, 10.884177113570473, 10.937829931014205, 10.853176546990378, 10.785875142020569, 10.894133257161648, 10.891158250508045, 10.893651071949439, 11.640895937391946, 11.788973191027903, 11.779314247400464, 12.119226808521006, 12.126448269945719, 12.111353069327105, 11.837444862609818, 11.675136025335622, 11.504185968548086, 11.109928066357522, 10.782998123139393, 10.634321890234549, 10.829135811333808, 11.11382561709026, 11.637491193701504, 11.696990557175095, 11.672999331124824, 11.609894011372663, 11.337670574213243, 11.152696097824547, 10.850646620591855, 10.467019682494266, 10.00116802333454, 9.60906712338436, 9.408162338790607, 9.366644828381332, 9.363062194995802, 9.061822304045759, 6.896126309541109, 6.904489401905734, 6.915301548081054, 6.9343242970881, 6.92280614161397, 6.823063945243618, 6.826113380941374, 6.818978478591074, 6.808269841813827, 6.799990481184404, 6.884274186426669, 7.027124714970202, 7.135444079940193, 7.287992790819608, 7.657210263313249, 8.229663041536055, 8.867845909246487, 9.058067798427807, 9.197403053712572, 9.010636082985886, 10.725699332067236, 11.200433590067258, 12.314626010363703, 12.782787479489745, 12.756362841066002, 12.369500102839538, 11.827794003807888, 11.69037581330921, 11.298736906692595, 10.681965514339112, 10.408850984793617, 10.35352347501809, 10.430473841106764, 10.924483267213052, 11.261187751813988, 11.53773458417404, 11.87099747064017, 12.462621142876475, 13.027899051663734, 13.80248058578347, 14.390306021068113, 14.712171889513755, 15.279528687087673, 15.561994178628625, 16.09149817455199, 16.153737641540793, 15.804758678959969, 15.512601996824515, 15.014676740115167, 14.657865718922588, 14.274240403956902, 13.926932901157755], \"yaxis\": \"y2\"}, {\"legendgroup\": \" SMA([10])\", \"line\": {\"color\": \"rgba(0, 128, 0, 1.0)\", \"dash\": \"solid\", \"shape\": \"linear\", \"width\": 2}, \"mode\": \"lines\", \"name\": \" SMA([10])\", \"showlegend\": true, \"text\": \"\", \"type\": \"scatter\", \"x\": [\"2021-01-04\", \"2021-01-05\", \"2021-01-06\", \"2021-01-07\", \"2021-01-08\", \"2021-01-11\", \"2021-01-12\", \"2021-01-13\", \"2021-01-14\", \"2021-01-15\", \"2021-01-19\", \"2021-01-20\", \"2021-01-21\", \"2021-01-22\", \"2021-01-25\", \"2021-01-26\", \"2021-01-27\", \"2021-01-28\", \"2021-01-29\", \"2021-02-01\", \"2021-02-02\", \"2021-02-03\", \"2021-02-04\", \"2021-02-05\", \"2021-02-08\", \"2021-02-09\", \"2021-02-10\", \"2021-02-11\", \"2021-02-12\", \"2021-02-16\", \"2021-02-17\", \"2021-02-18\", \"2021-02-19\", \"2021-02-22\", \"2021-02-23\", \"2021-02-24\", \"2021-02-25\", \"2021-02-26\", \"2021-03-01\", \"2021-03-02\", \"2021-03-03\", \"2021-03-04\", \"2021-03-05\", \"2021-03-08\", \"2021-03-09\", \"2021-03-10\", \"2021-03-11\", \"2021-03-12\", \"2021-03-15\", \"2021-03-16\", \"2021-03-17\", \"2021-03-18\", \"2021-03-19\", \"2021-03-22\", \"2021-03-23\", \"2021-03-24\", \"2021-03-25\", \"2021-03-26\", \"2021-03-29\", \"2021-03-30\", \"2021-03-31\", \"2021-04-01\", \"2021-04-05\", \"2021-04-06\", \"2021-04-07\", \"2021-04-08\", \"2021-04-09\", \"2021-04-12\", \"2021-04-13\", \"2021-04-14\", \"2021-04-15\", \"2021-04-16\", \"2021-04-19\", \"2021-04-20\", \"2021-04-21\", \"2021-04-22\", \"2021-04-23\", \"2021-04-26\", \"2021-04-27\", \"2021-04-28\", \"2021-04-29\", \"2021-04-30\", \"2021-05-03\", \"2021-05-04\", \"2021-05-05\", \"2021-05-06\", \"2021-05-07\", \"2021-05-10\", \"2021-05-11\", \"2021-05-12\", \"2021-05-13\", \"2021-05-14\", \"2021-05-17\", \"2021-05-18\", \"2021-05-19\", \"2021-05-20\", \"2021-05-21\", \"2021-05-24\", \"2021-05-25\", \"2021-05-26\", \"2021-05-27\", \"2021-05-28\", \"2021-06-01\", \"2021-06-02\", \"2021-06-03\", \"2021-06-04\", \"2021-06-07\", \"2021-06-08\", \"2021-06-09\", \"2021-06-10\", \"2021-06-11\", \"2021-06-14\", \"2021-06-15\", \"2021-06-16\", \"2021-06-17\", \"2021-06-18\", \"2021-06-21\", \"2021-06-22\", \"2021-06-23\", \"2021-06-24\", \"2021-06-25\", \"2021-06-28\", \"2021-06-29\", \"2021-06-30\", \"2021-07-01\", \"2021-07-02\", \"2021-07-06\", \"2021-07-07\", \"2021-07-08\"], \"y\": [\"\", \"\", \"\", \"\", \"\", \"\", \"\", \"\", \"\", 5.898000000000001, 6.082, 6.2170000000000005, 6.373, 6.458000000000001, 6.593000000000001, 6.822000000000001, 7.005000000000001, 7.074000000000001, 7.125000000000002, 7.201000000000002, 7.259000000000002, 7.498000000000002, 7.852000000000001, 8.33, 9.077, 9.753, 10.41, 11.5169999, 12.6389999, 14.273999799999999, 15.485999799999998, 16.3639999, 17.3809999, 18.033999899999998, 18.180999999999997, 18.486999899999997, 18.704999899999997, 18.360999999999997, 18.287, 17.610000199999998, 17.171000199999998, 16.692000099999998, 15.924000099999997, 15.2940001, 15.083000000000002, 14.722000099999999, 14.587000100000001, 14.847, 14.871, 14.858999900000004, 15.067000000000002, 15.336000000000002, 15.789000000000001, 16.4089999, 16.582999899999997, 16.4679999, 16.385999899999995, 15.983999999999995, 15.413999999999993, 14.961999999999994, 15.072999799999996, 15.032999799999995, 14.866999799999997, 14.601999899999996, 14.479999899999996, 14.574999899999998, 14.595999899999999, 14.542999899999998, 14.620999899999997, 14.623999899999998, 13.903999999999996, 13.452999999999998, 12.933999999999997, 12.440999999999997, 12.230999999999998, 12.129999999999999, 12.504999899999998, 13.857, 14.581999999999999, 15.447, 16.112000000000002, 16.534, 16.869999999999997, 17.371, 17.568999999999996, 17.654999999999994, 17.268000099999995, 16.009999999999998, 15.460999999999995, 14.695999999999994, 14.143999999999995, 14.022999999999993, 14.155999999999995, 14.123999999999995, 14.073999999999995, 14.107999999999995, 14.084999999999997, 14.132, 14.228, 14.37, 14.705000000000002, 14.861, 15.1370001, 15.534, 15.938000000000002, 16.529000000000003, 17.375, 18.166999999999998, 18.729, 19.511000000000003, 20.088, 20.6650001, 20.912, 21.07, 21.326999999999998, 21.186, 20.908999899999998, 20.4329999, 20.0579999, 19.5499999, 19.110999800000002, 18.797999700000002, 18.5949996, 18.2069997, 17.7859996, 17.5009996, 17.1279997, 16.902999700000002, 16.6929997], \"yaxis\": \"y2\"}, {\"line\": {\"color\": \"rgba(55, 128, 191, 1.0)\", \"dash\": \"solid\", \"shape\": \"linear\", \"width\": 1.3}, \"mode\": \"lines\", \"name\": \" MACD([12,26])\", \"text\": \"\", \"type\": \"scatter\", \"x\": [\"2021-01-04\", \"2021-01-05\", \"2021-01-06\", \"2021-01-07\", \"2021-01-08\", \"2021-01-11\", \"2021-01-12\", \"2021-01-13\", \"2021-01-14\", \"2021-01-15\", \"2021-01-19\", \"2021-01-20\", \"2021-01-21\", \"2021-01-22\", \"2021-01-25\", \"2021-01-26\", \"2021-01-27\", \"2021-01-28\", \"2021-01-29\", \"2021-02-01\", \"2021-02-02\", \"2021-02-03\", \"2021-02-04\", \"2021-02-05\", \"2021-02-08\", \"2021-02-09\", \"2021-02-10\", \"2021-02-11\", \"2021-02-12\", \"2021-02-16\", \"2021-02-17\", \"2021-02-18\", \"2021-02-19\", \"2021-02-22\", \"2021-02-23\", \"2021-02-24\", \"2021-02-25\", \"2021-02-26\", \"2021-03-01\", \"2021-03-02\", \"2021-03-03\", \"2021-03-04\", \"2021-03-05\", \"2021-03-08\", \"2021-03-09\", \"2021-03-10\", \"2021-03-11\", \"2021-03-12\", \"2021-03-15\", \"2021-03-16\", \"2021-03-17\", \"2021-03-18\", \"2021-03-19\", \"2021-03-22\", \"2021-03-23\", \"2021-03-24\", \"2021-03-25\", \"2021-03-26\", \"2021-03-29\", \"2021-03-30\", \"2021-03-31\", \"2021-04-01\", \"2021-04-05\", \"2021-04-06\", \"2021-04-07\", \"2021-04-08\", \"2021-04-09\", \"2021-04-12\", \"2021-04-13\", \"2021-04-14\", \"2021-04-15\", \"2021-04-16\", \"2021-04-19\", \"2021-04-20\", \"2021-04-21\", \"2021-04-22\", \"2021-04-23\", \"2021-04-26\", \"2021-04-27\", \"2021-04-28\", \"2021-04-29\", \"2021-04-30\", \"2021-05-03\", \"2021-05-04\", \"2021-05-05\", \"2021-05-06\", \"2021-05-07\", \"2021-05-10\", \"2021-05-11\", \"2021-05-12\", \"2021-05-13\", \"2021-05-14\", \"2021-05-17\", \"2021-05-18\", \"2021-05-19\", \"2021-05-20\", \"2021-05-21\", \"2021-05-24\", \"2021-05-25\", \"2021-05-26\", \"2021-05-27\", \"2021-05-28\", \"2021-06-01\", \"2021-06-02\", \"2021-06-03\", \"2021-06-04\", \"2021-06-07\", \"2021-06-08\", \"2021-06-09\", \"2021-06-10\", \"2021-06-11\", \"2021-06-14\", \"2021-06-15\", \"2021-06-16\", \"2021-06-17\", \"2021-06-18\", \"2021-06-21\", \"2021-06-22\", \"2021-06-23\", \"2021-06-24\", \"2021-06-25\", \"2021-06-28\", \"2021-06-29\", \"2021-06-30\", \"2021-07-01\", \"2021-07-02\", \"2021-07-06\", \"2021-07-07\", \"2021-07-08\"], \"y\": [0.0, 0.024729344729344405, 0.020688468437756846, 0.07153178794220771, 0.10975339965717978, 0.13445975185942594, 0.13234125570039446, 0.20495677858775885, 0.26350219647856754, 0.30716596039326305, 0.3729747103504373, 0.4059248738741461, 0.42073283818617657, 0.42514668101541897, 0.4628481626506895, 0.5581088885740417, 0.5697449685587301, 0.5572120401301106, 0.5306724290805631, 0.5245724782117662, 0.5345560212266776, 0.6663145689309342, 0.8473069972584177, 1.0759784781730168, 1.4965503965172413, 1.8233625787354537, 1.9868380767270946, 2.436092725276364, 2.7619066439371736, 3.4156706697376684, 3.572258853259564, 3.5178222237880075, 3.631322537178802, 3.4850185372749642, 3.1807061551591396, 3.0472338312204243, 2.7659409639610857, 2.4095326951515066, 2.319816442435723, 2.1720352251520065, 1.904661995369585, 1.5051569065614832, 1.1406995645430378, 0.7583959539639942, 0.6345011484793979, 0.5517402479033819, 0.5189020466212799, 0.69785890833335, 0.8588324961894358, 0.8953920593679712, 0.9624927420934011, 0.8844377243757915, 0.9256830783078556, 0.9969073290716324, 0.8698391457204995, 0.5513687553944493, 0.3601868968154136, 0.16162348172567853, -0.10108715382013145, -0.291403610115907, 0.06058659204684247, 0.09555806562681113, 0.13383419945012598, 0.13278177780799538, 0.0730081508483984, -0.010552475981464582, -0.07031590183413527, -0.2200414816123324, -0.3356379731010932, -0.4678501761409919, -0.6450779685381693, -0.8021074016865182, -0.958274537039939, -1.0784821269944427, -0.9920523797850702, -0.8619771945949903, -0.3649442695076637, 0.7042975751562821, 1.0330277431960546, 1.3450182994301105, 1.3356089825259616, 1.0936431760338117, 0.7807224652375808, 0.6495085469187387, 0.4659134992681526, 0.2784710716300207, 0.1364182172510855, 0.004423323167861426, -0.03442650351463605, -0.17056894318309546, -0.343893430750315, -0.3513255115422922, -0.2614067655925041, -0.19675353995557465, -0.23160638551119384, -0.22755540826262077, -0.25928121915604585, -0.24448769527874425, -0.126407439303323, -0.10185558702282727, 0.0038970674650009585, 0.06835972192167539, 0.3055500896934671, 0.5756500748173092, 0.6985415950731149, 0.9647552751017603, 1.3282588104506772, 1.591536408681872, 1.699898784405093, 1.8715228818018588, 1.9064816717075637, 1.8937972515857453, 1.786494024976502, 1.6988176961518633, 1.6075748664898022, 1.3781672379341714, 1.24016212453094, 0.9527774331234937, 0.7175583451760836, 0.5250925828790969, 0.3451823750067682, 0.28245870359674896, 0.2420630555849428, 0.07682935921575407, -0.08301853804461601, -0.2384204457210366, -0.37022056773850665, -0.5163292608548851, -0.6121542567625369], \"yaxis\": \"y3\"}, {\"line\": {\"color\": \"rgba(219, 64, 82, 1.0)\", \"dash\": \"solid\", \"shape\": \"linear\", \"width\": 1.3}, \"mode\": \"lines\", \"name\": \"MACD SIGNAL(9)\", \"text\": \"\", \"type\": \"scatter\", \"x\": [\"2021-01-04\", \"2021-01-05\", \"2021-01-06\", \"2021-01-07\", \"2021-01-08\", \"2021-01-11\", \"2021-01-12\", \"2021-01-13\", \"2021-01-14\", \"2021-01-15\", \"2021-01-19\", \"2021-01-20\", \"2021-01-21\", \"2021-01-22\", \"2021-01-25\", \"2021-01-26\", \"2021-01-27\", \"2021-01-28\", \"2021-01-29\", \"2021-02-01\", \"2021-02-02\", \"2021-02-03\", \"2021-02-04\", \"2021-02-05\", \"2021-02-08\", \"2021-02-09\", \"2021-02-10\", \"2021-02-11\", \"2021-02-12\", \"2021-02-16\", \"2021-02-17\", \"2021-02-18\", \"2021-02-19\", \"2021-02-22\", \"2021-02-23\", \"2021-02-24\", \"2021-02-25\", \"2021-02-26\", \"2021-03-01\", \"2021-03-02\", \"2021-03-03\", \"2021-03-04\", \"2021-03-05\", \"2021-03-08\", \"2021-03-09\", \"2021-03-10\", \"2021-03-11\", \"2021-03-12\", \"2021-03-15\", \"2021-03-16\", \"2021-03-17\", \"2021-03-18\", \"2021-03-19\", \"2021-03-22\", \"2021-03-23\", \"2021-03-24\", \"2021-03-25\", \"2021-03-26\", \"2021-03-29\", \"2021-03-30\", \"2021-03-31\", \"2021-04-01\", \"2021-04-05\", \"2021-04-06\", \"2021-04-07\", \"2021-04-08\", \"2021-04-09\", \"2021-04-12\", \"2021-04-13\", \"2021-04-14\", \"2021-04-15\", \"2021-04-16\", \"2021-04-19\", \"2021-04-20\", \"2021-04-21\", \"2021-04-22\", \"2021-04-23\", \"2021-04-26\", \"2021-04-27\", \"2021-04-28\", \"2021-04-29\", \"2021-04-30\", \"2021-05-03\", \"2021-05-04\", \"2021-05-05\", \"2021-05-06\", \"2021-05-07\", \"2021-05-10\", \"2021-05-11\", \"2021-05-12\", \"2021-05-13\", \"2021-05-14\", \"2021-05-17\", \"2021-05-18\", \"2021-05-19\", \"2021-05-20\", \"2021-05-21\", \"2021-05-24\", \"2021-05-25\", \"2021-05-26\", \"2021-05-27\", \"2021-05-28\", \"2021-06-01\", \"2021-06-02\", \"2021-06-03\", \"2021-06-04\", \"2021-06-07\", \"2021-06-08\", \"2021-06-09\", \"2021-06-10\", \"2021-06-11\", \"2021-06-14\", \"2021-06-15\", \"2021-06-16\", \"2021-06-17\", \"2021-06-18\", \"2021-06-21\", \"2021-06-22\", \"2021-06-23\", \"2021-06-24\", \"2021-06-25\", \"2021-06-28\", \"2021-06-29\", \"2021-06-30\", \"2021-07-01\", \"2021-07-02\", \"2021-07-06\", \"2021-07-07\", \"2021-07-08\"], \"y\": [0.0, 0.0049458689458688814, 0.008094388844246476, 0.020781868663838726, 0.03857617486250694, 0.05775289026189074, 0.07267056334959149, 0.09912780639722496, 0.1320026844134935, 0.16703533960944741, 0.2082232137576454, 0.24776354578094556, 0.2823574042619918, 0.31091525961267724, 0.3413018402202797, 0.3846632498910321, 0.42167959362457175, 0.44878608292567956, 0.4651633521566563, 0.47704517736767826, 0.48854734613947814, 0.5241007906977694, 0.588742032009899, 0.6861893212425226, 0.8482615362974664, 1.043281744785064, 1.23199301117347, 1.4728129539940489, 1.730631691982674, 2.067639487533673, 2.3685633606788516, 2.5984151333006826, 2.8049966140763067, 2.941000998716038, 2.988942030004659, 3.000600390247812, 2.953668504990467, 2.844841343022675, 2.7398363629052844, 2.626276135354629, 2.4819533073576205, 2.286594027198393, 2.057415134667322, 1.7976112985266564, 1.5649892685172049, 1.3623394643944404, 1.1936519808398085, 1.0944933663385168, 1.0473611923087007, 1.016967365720555, 1.0060724409951243, 0.9817454976712578, 0.9705330137985775, 0.9758078768531885, 0.9546141306266508, 0.8739650555802105, 0.7712094238272512, 0.6492922354069367, 0.49921635756152316, 0.34109236402603715, 0.2849912096301982, 0.24710458082952078, 0.22445050455364185, 0.20611675920451256, 0.17949503753328974, 0.14148553483033888, 0.09912524749744406, 0.03529190167548877, -0.038894073279827635, -0.1246852938520605, -0.22876382878928228, -0.34343254336872947, -0.46640094210297145, -0.5888171790812657, -0.6694642192220266, -0.7079668142966195, -0.6393623053388283, -0.37063032923980627, -0.08989871475263411, 0.1970846880839148, 0.4247895469723242, 0.5585602727846217, 0.6029927112752136, 0.6122958784039186, 0.5830194025767654, 0.5221097363874165, 0.44497143256015037, 0.3568618106816926, 0.2786041478424269, 0.1887695296373224, 0.08223693755979494, -0.004475552260622476, -0.0558617949269988, -0.08404014393271397, -0.11355339224840995, -0.13635379545125212, -0.16093928019221088, -0.17764896320951756, -0.16740065842827867, -0.1542916441471884, -0.12265390182475054, -0.08445117707546536, -0.006450923721678867, 0.10996927598611876, 0.22768373980351797, 0.37509804686316645, 0.5657301995806687, 0.7708914414009094, 0.956692910001746, 1.1396589043617686, 1.2930234578309276, 1.4131782165818914, 1.4878413782608138, 1.5300366418390237, 1.5455442867691795, 1.512068877002178, 1.4576875265079305, 1.3567055078310433, 1.2288760753000514, 1.0881193768158606, 0.9395319764540422, 0.8081173218825836, 0.6949064686230555, 0.5712910467415953, 0.440429129784353, 0.30465921468327506, 0.16968325819891872, 0.032480754388157965, -0.096446247841981], \"yaxis\": \"y3\"}, {\"marker\": {\"color\": [\"#808080\", \"#17BECF\", \"#808080\", \"#17BECF\", \"#808080\", \"#808080\", \"#808080\", \"#17BECF\", \"#17BECF\", \"#17BECF\", \"#17BECF\", \"#808080\", \"#808080\", \"#808080\", \"#17BECF\", \"#17BECF\", \"#808080\", \"#808080\", \"#808080\", \"#17BECF\", \"#17BECF\", \"#17BECF\", \"#17BECF\", \"#17BECF\", \"#17BECF\", \"#17BECF\", \"#808080\", \"#17BECF\", \"#17BECF\", \"#17BECF\", \"#808080\", \"#808080\", \"#17BECF\", \"#808080\", \"#808080\", \"#17BECF\", \"#808080\", \"#808080\", \"#17BECF\", \"#808080\", \"#808080\", \"#808080\", \"#808080\", \"#808080\", \"#17BECF\", \"#17BECF\", \"#17BECF\", \"#17BECF\", \"#17BECF\", \"#808080\", \"#17BECF\", \"#808080\", \"#17BECF\", \"#17BECF\", \"#808080\", \"#808080\", \"#17BECF\", \"#808080\", \"#808080\", \"#17BECF\", \"#17BECF\", \"#808080\", \"#17BECF\", \"#808080\", \"#808080\", \"#808080\", \"#17BECF\", \"#808080\", \"#808080\", \"#808080\", \"#808080\", \"#808080\", \"#808080\", \"#808080\", \"#17BECF\", \"#17BECF\", \"#17BECF\", \"#17BECF\", \"#808080\", \"#17BECF\", \"#808080\", \"#808080\", \"#808080\", \"#17BECF\", \"#808080\", \"#808080\", \"#17BECF\", \"#808080\", \"#17BECF\", \"#808080\", \"#808080\", \"#17BECF\", \"#17BECF\", \"#808080\", \"#808080\", \"#17BECF\", \"#808080\", \"#17BECF\", \"#17BECF\", \"#808080\", \"#17BECF\", \"#808080\", \"#17BECF\", \"#17BECF\", \"#808080\", \"#17BECF\", \"#17BECF\", \"#808080\", \"#808080\", \"#17BECF\", \"#808080\", \"#808080\", \"#808080\", \"#17BECF\", \"#808080\", \"#808080\", \"#17BECF\", \"#808080\", \"#17BECF\", \"#808080\", \"#808080\", \"#17BECF\", \"#17BECF\", \"#808080\", \"#808080\", \"#808080\", \"#808080\", \"#808080\", \"#17BECF\"], \"line\": {\"color\": [\"#808080\", \"#17BECF\", \"#808080\", \"#17BECF\", \"#808080\", \"#808080\", \"#808080\", \"#17BECF\", \"#17BECF\", \"#17BECF\", \"#17BECF\", \"#808080\", \"#808080\", \"#808080\", \"#17BECF\", \"#17BECF\", \"#808080\", \"#808080\", \"#808080\", \"#17BECF\", \"#17BECF\", \"#17BECF\", \"#17BECF\", \"#17BECF\", \"#17BECF\", \"#17BECF\", \"#808080\", \"#17BECF\", \"#17BECF\", \"#17BECF\", \"#808080\", \"#808080\", \"#17BECF\", \"#808080\", \"#808080\", \"#17BECF\", \"#808080\", \"#808080\", \"#17BECF\", \"#808080\", \"#808080\", \"#808080\", \"#808080\", \"#808080\", \"#17BECF\", \"#17BECF\", \"#17BECF\", \"#17BECF\", \"#17BECF\", \"#808080\", \"#17BECF\", \"#808080\", \"#17BECF\", \"#17BECF\", \"#808080\", \"#808080\", \"#17BECF\", \"#808080\", \"#808080\", \"#17BECF\", \"#17BECF\", \"#808080\", \"#17BECF\", \"#808080\", \"#808080\", \"#808080\", \"#17BECF\", \"#808080\", \"#808080\", \"#808080\", \"#808080\", \"#808080\", \"#808080\", \"#808080\", \"#17BECF\", \"#17BECF\", \"#17BECF\", \"#17BECF\", \"#808080\", \"#17BECF\", \"#808080\", \"#808080\", \"#808080\", \"#17BECF\", \"#808080\", \"#808080\", \"#17BECF\", \"#808080\", \"#17BECF\", \"#808080\", \"#808080\", \"#17BECF\", \"#17BECF\", \"#808080\", \"#808080\", \"#17BECF\", \"#808080\", \"#17BECF\", \"#17BECF\", \"#808080\", \"#17BECF\", \"#808080\", \"#17BECF\", \"#17BECF\", \"#808080\", \"#17BECF\", \"#17BECF\", \"#808080\", \"#808080\", \"#17BECF\", \"#808080\", \"#808080\", \"#808080\", \"#17BECF\", \"#808080\", \"#808080\", \"#17BECF\", \"#808080\", \"#17BECF\", \"#808080\", \"#808080\", \"#17BECF\", \"#17BECF\", \"#808080\", \"#808080\", \"#808080\", \"#808080\", \"#808080\", \"#17BECF\"], \"width\": 1}}, \"name\": \"Volume\", \"opacity\": 0.8, \"orientation\": \"v\", \"text\": \"\", \"type\": \"bar\", \"x\": [\"2021-01-04\", \"2021-01-05\", \"2021-01-06\", \"2021-01-07\", \"2021-01-08\", \"2021-01-11\", \"2021-01-12\", \"2021-01-13\", \"2021-01-14\", \"2021-01-15\", \"2021-01-19\", \"2021-01-20\", \"2021-01-21\", \"2021-01-22\", \"2021-01-25\", \"2021-01-26\", \"2021-01-27\", \"2021-01-28\", \"2021-01-29\", \"2021-02-01\", \"2021-02-02\", \"2021-02-03\", \"2021-02-04\", \"2021-02-05\", \"2021-02-08\", \"2021-02-09\", \"2021-02-10\", \"2021-02-11\", \"2021-02-12\", \"2021-02-16\", \"2021-02-17\", \"2021-02-18\", \"2021-02-19\", \"2021-02-22\", \"2021-02-23\", \"2021-02-24\", \"2021-02-25\", \"2021-02-26\", \"2021-03-01\", \"2021-03-02\", \"2021-03-03\", \"2021-03-04\", \"2021-03-05\", \"2021-03-08\", \"2021-03-09\", \"2021-03-10\", \"2021-03-11\", \"2021-03-12\", \"2021-03-15\", \"2021-03-16\", \"2021-03-17\", \"2021-03-18\", \"2021-03-19\", \"2021-03-22\", \"2021-03-23\", \"2021-03-24\", \"2021-03-25\", \"2021-03-26\", \"2021-03-29\", \"2021-03-30\", \"2021-03-31\", \"2021-04-01\", \"2021-04-05\", \"2021-04-06\", \"2021-04-07\", \"2021-04-08\", \"2021-04-09\", \"2021-04-12\", \"2021-04-13\", \"2021-04-14\", \"2021-04-15\", \"2021-04-16\", \"2021-04-19\", \"2021-04-20\", \"2021-04-21\", \"2021-04-22\", \"2021-04-23\", \"2021-04-26\", \"2021-04-27\", \"2021-04-28\", \"2021-04-29\", \"2021-04-30\", \"2021-05-03\", \"2021-05-04\", \"2021-05-05\", \"2021-05-06\", \"2021-05-07\", \"2021-05-10\", \"2021-05-11\", \"2021-05-12\", \"2021-05-13\", \"2021-05-14\", \"2021-05-17\", \"2021-05-18\", \"2021-05-19\", \"2021-05-20\", \"2021-05-21\", \"2021-05-24\", \"2021-05-25\", \"2021-05-26\", \"2021-05-27\", \"2021-05-28\", \"2021-06-01\", \"2021-06-02\", \"2021-06-03\", \"2021-06-04\", \"2021-06-07\", \"2021-06-08\", \"2021-06-09\", \"2021-06-10\", \"2021-06-11\", \"2021-06-14\", \"2021-06-15\", \"2021-06-16\", \"2021-06-17\", \"2021-06-18\", \"2021-06-21\", \"2021-06-22\", \"2021-06-23\", \"2021-06-24\", \"2021-06-25\", \"2021-06-28\", \"2021-06-29\", \"2021-06-30\", \"2021-07-01\", \"2021-07-02\", \"2021-07-06\", \"2021-07-07\", \"2021-07-08\"], \"y\": [13473800, 19221100, 19778900, 20313300, 11316600, 9848100, 8302600, 29358000, 26727400, 22289200, 12545900, 11041300, 7605200, 5915300, 14233200, 23376900, 14663100, 11122700, 8711300, 10596300, 13461000, 33647000, 24668700, 26994100, 29250300, 16121900, 17372700, 43565400, 14541700, 26160100, 16020300, 11044300, 12016200, 10060800, 15169300, 9284500, 8026000, 9346800, 8547000, 12423400, 7110500, 14414300, 18999700, 8994900, 11833900, 10208200, 9720000, 20684400, 9632200, 8027200, 6942800, 6092900, 7904700, 11621000, 10830100, 12629700, 11953200, 6983900, 7266700, 8775900, 56686200, 26087100, 9009300, 7434800, 9514400, 6438700, 6310700, 8498100, 7040900, 16554700, 18721500, 7619500, 6171300, 16808800, 23527900, 38728900, 117641000, 213591300, 158525900, 179275800, 74629000, 74012300, 27284200, 69572300, 27034800, 15059700, 16022100, 11944800, 14959200, 9459100, 10509900, 12578400, 10314600, 11451600, 8291900, 5723000, 5106100, 7548400, 14039900, 20658000, 13821800, 28260000, 20135700, 30271600, 12714800, 50263500, 31235000, 18307800, 7238900, 39214800, 8668800, 10542500, 5700200, 5607100, 4729500, 8864200, 8757600, 15248200, 6462100, 9546800, 25551600, 7166900, 5257500, 10909400, 7439000, 4836300, 4726300, 5287800, 5416900], \"yaxis\": \"y4\"}, {\"close\": [5.21, 5.52, 5.23, 5.91, 5.9, 5.85, 5.6, 6.55, 6.6, 6.61, 7.05, 6.87, 6.79, 6.76, 7.25, 8.14, 7.43, 7.24, 7.11, 7.37, 7.63, 9.26, 10.33, 11.54, 14.72, 14.9, 14.0, 18.309998999999998, 18.33, 23.719998999999998, 19.75, 18.040001, 20.5, 18.07, 16.190001000000002, 17.959999, 16.18, 14.87, 17.59, 16.950001, 15.36, 13.25, 12.82, 11.77, 14.08, 14.35, 14.83, 17.469998999999998, 17.83, 16.83, 17.440001000000002, 15.94, 17.35, 17.969998999999998, 15.82, 13.2, 14.01, 13.45, 12.13, 12.31, 18.549999, 15.54, 15.69, 15.32, 14.6, 14.15, 14.22, 12.92, 12.91, 12.34, 11.35, 11.03, 10.5, 10.39, 12.5, 13.14, 17.969998999999998, 26.440001000000002, 20.16, 20.99, 18.0, 15.25, 13.86, 15.4, 14.48, 14.0, 14.1, 13.86, 14.67, 13.34, 12.48, 14.04, 15.19, 15.08, 13.98, 14.34, 13.87, 14.33, 15.63, 14.76, 15.83, 15.6, 17.950001, 19.049999, 18.02, 20.25, 22.33, 22.25, 21.25, 22.58, 21.6, 21.370001000000002, 20.42, 20.629998999999998, 20.59, 18.84, 19.559998999999998, 17.49, 17.5, 17.5, 17.209999, 18.24, 18.389999, 16.75, 16.379998999999998, 15.99, 15.83, 15.24, 15.4], \"decreasing\": {\"line\": {\"color\": \"#808080\"}}, \"high\": [6.06, 5.6, 5.75, 6.31, 6.24, 6.29, 5.97, 6.98, 7.0, 7.48, 7.18, 7.45, 6.89, 6.82, 7.61, 8.48, 8.41, 8.09, 7.45, 7.58, 8.13, 9.84, 10.88, 12.4, 15.53, 16.190001000000002, 15.65, 21.75, 19.379998999999998, 24.18, 22.379998999999998, 20.959999, 20.9, 21.360001, 17.15, 18.969998999999998, 18.24, 16.17, 17.940001000000002, 19.25, 17.290001, 15.58, 13.75, 13.26, 14.62, 15.62, 15.73, 18.219998999999998, 18.65, 18.15, 17.75, 17.65, 17.74, 19.280001000000002, 18.959999, 16.290001, 14.18, 14.0, 13.73, 12.62, 19.370001000000002, 17.389999, 16.32, 15.74, 16.200001, 14.84, 14.48, 14.32, 13.38, 14.79, 12.48, 11.64, 11.15, 12.12, 12.66, 14.93, 19.139999, 27.799999, 28.0, 25.75, 20.6, 15.94, 15.59, 16.76, 15.91, 14.54, 15.36, 14.63, 14.93, 14.42, 13.95, 14.34, 15.19, 16.27, 14.62, 14.49, 14.55, 14.64, 15.99, 16.75, 15.95, 18.48, 18.379998999999998, 19.67, 18.700001, 23.0, 23.459999, 23.26, 22.09, 24.690001000000002, 22.389999, 21.77, 21.75, 20.809998999999998, 21.24, 21.07, 19.67, 18.299999, 17.98, 18.360001, 17.67, 18.559998999999998, 18.93, 18.25, 17.32, 16.59, 16.33, 15.96, 15.63], \"increasing\": {\"line\": {\"color\": \"#17BECF\"}}, \"low\": [5.11, 4.86, 5.06, 5.38, 5.65, 5.78, 5.48, 5.37, 6.06, 6.46, 6.51, 6.62, 6.28, 6.54, 6.66, 7.21, 7.3, 7.11, 6.82, 6.85, 7.1, 8.0, 8.82, 9.83, 12.18, 14.06, 13.08, 17.0, 16.85, 19.549999, 19.0, 17.5, 18.299999, 17.75, 13.91, 16.450001, 15.8, 14.19, 16.0, 16.65, 15.09, 12.2, 10.12, 11.51, 12.1, 13.69, 13.96, 14.71, 17.26, 16.370001000000002, 15.3, 15.78, 15.56, 16.67, 15.55, 13.12, 12.56, 12.6, 12.03, 11.33, 12.78, 15.2, 15.15, 14.37, 14.45, 13.95, 13.6, 12.79, 12.55, 12.25, 10.4, 10.56, 10.32, 10.08, 10.12, 12.81, 13.53, 19.75, 19.190001000000002, 20.709999, 17.530001000000002, 13.87, 13.4, 12.8, 14.15, 13.21, 13.91, 13.28, 12.76, 13.18, 12.22, 12.41, 13.77, 14.95, 13.51, 13.72, 13.75, 13.21, 14.12, 14.29, 14.31, 15.5, 15.86, 17.52, 17.5, 18.02, 20.719998999999998, 21.120001000000002, 20.610001, 21.65, 20.91, 19.610001, 20.41, 19.66, 20.110001, 18.559998999999998, 18.57, 16.65, 17.1, 17.209999, 17.049999, 17.219998999999998, 17.959999, 16.73, 15.9, 15.68, 15.36, 14.61, 14.21], \"name\": \"GS\", \"open\": [5.5, 4.94, 5.54, 5.4, 6.16, 5.83, 5.89, 5.59, 6.56, 6.59, 6.9, 7.07, 6.89, 6.64, 6.8, 7.33, 7.71, 7.91, 7.29, 7.31, 7.44, 8.05, 9.15, 10.5, 12.54, 14.06, 15.31, 19.68, 17.52, 19.950001, 22.35, 19.16, 19.51, 20.040001, 17.110001, 17.23, 17.17, 15.16, 16.200001, 19.15, 17.08, 14.51, 13.58, 12.76, 12.1, 15.11, 14.77, 15.2, 18.58, 17.700001, 15.68, 16.9, 15.8, 17.870001000000002, 17.870001000000002, 16.26, 12.96, 13.77, 13.15, 11.9, 12.96, 17.16, 16.059998999999998, 15.5, 14.92, 14.79, 13.87, 14.09, 13.19, 13.26, 12.41, 10.95, 10.8, 10.94, 10.33, 14.05, 13.94, 19.99, 27.629998999999998, 22.23, 20.32, 13.98, 14.74, 13.38, 15.41, 14.2, 13.97, 14.04, 12.95, 14.12, 13.4, 12.67, 14.0, 15.5, 14.15, 14.22, 14.29, 13.89, 14.15, 16.0, 14.78, 16.07, 15.95, 18.9, 18.139999, 18.15, 21.629998999999998, 22.9, 21.73, 22.74, 22.01, 21.4, 21.370001000000002, 19.75, 20.35, 20.57, 18.809998999999998, 17.68, 17.83, 17.709999, 17.379998999999998, 17.290001, 18.280001000000002, 18.15, 16.84, 16.299999, 15.84, 15.7, 14.34], \"showlegend\": true, \"type\": \"candlestick\", \"x\": [\"2021-01-04\", \"2021-01-05\", \"2021-01-06\", \"2021-01-07\", \"2021-01-08\", \"2021-01-11\", \"2021-01-12\", \"2021-01-13\", \"2021-01-14\", \"2021-01-15\", \"2021-01-19\", \"2021-01-20\", \"2021-01-21\", \"2021-01-22\", \"2021-01-25\", \"2021-01-26\", \"2021-01-27\", \"2021-01-28\", \"2021-01-29\", \"2021-02-01\", \"2021-02-02\", \"2021-02-03\", \"2021-02-04\", \"2021-02-05\", \"2021-02-08\", \"2021-02-09\", \"2021-02-10\", \"2021-02-11\", \"2021-02-12\", \"2021-02-16\", \"2021-02-17\", \"2021-02-18\", \"2021-02-19\", \"2021-02-22\", \"2021-02-23\", \"2021-02-24\", \"2021-02-25\", \"2021-02-26\", \"2021-03-01\", \"2021-03-02\", \"2021-03-03\", \"2021-03-04\", \"2021-03-05\", \"2021-03-08\", \"2021-03-09\", \"2021-03-10\", \"2021-03-11\", \"2021-03-12\", \"2021-03-15\", \"2021-03-16\", \"2021-03-17\", \"2021-03-18\", \"2021-03-19\", \"2021-03-22\", \"2021-03-23\", \"2021-03-24\", \"2021-03-25\", \"2021-03-26\", \"2021-03-29\", \"2021-03-30\", \"2021-03-31\", \"2021-04-01\", \"2021-04-05\", \"2021-04-06\", \"2021-04-07\", \"2021-04-08\", \"2021-04-09\", \"2021-04-12\", \"2021-04-13\", \"2021-04-14\", \"2021-04-15\", \"2021-04-16\", \"2021-04-19\", \"2021-04-20\", \"2021-04-21\", \"2021-04-22\", \"2021-04-23\", \"2021-04-26\", \"2021-04-27\", \"2021-04-28\", \"2021-04-29\", \"2021-04-30\", \"2021-05-03\", \"2021-05-04\", \"2021-05-05\", \"2021-05-06\", \"2021-05-07\", \"2021-05-10\", \"2021-05-11\", \"2021-05-12\", \"2021-05-13\", \"2021-05-14\", \"2021-05-17\", \"2021-05-18\", \"2021-05-19\", \"2021-05-20\", \"2021-05-21\", \"2021-05-24\", \"2021-05-25\", \"2021-05-26\", \"2021-05-27\", \"2021-05-28\", \"2021-06-01\", \"2021-06-02\", \"2021-06-03\", \"2021-06-04\", \"2021-06-07\", \"2021-06-08\", \"2021-06-09\", \"2021-06-10\", \"2021-06-11\", \"2021-06-14\", \"2021-06-15\", \"2021-06-16\", \"2021-06-17\", \"2021-06-18\", \"2021-06-21\", \"2021-06-22\", \"2021-06-23\", \"2021-06-24\", \"2021-06-25\", \"2021-06-28\", \"2021-06-29\", \"2021-06-30\", \"2021-07-01\", \"2021-07-02\", \"2021-07-06\", \"2021-07-07\", \"2021-07-08\"], \"yaxis\": \"y2\"}],                        {\"legend\": {\"bgcolor\": \"#F5F6F9\", \"font\": {\"color\": \"#4D5663\"}}, \"margin\": {\"b\": 30, \"l\": 30, \"r\": 30, \"t\": 30}, \"paper_bgcolor\": \"#F5F6F9\", \"plot_bgcolor\": \"#F5F6F9\", \"showlegend\": true, \"template\": {\"data\": {\"bar\": [{\"error_x\": {\"color\": \"#2a3f5f\"}, \"error_y\": {\"color\": \"#2a3f5f\"}, \"marker\": {\"line\": {\"color\": \"#E5ECF6\", \"width\": 0.5}}, \"type\": \"bar\"}], \"barpolar\": [{\"marker\": {\"line\": {\"color\": \"#E5ECF6\", \"width\": 0.5}}, \"type\": \"barpolar\"}], \"carpet\": [{\"aaxis\": {\"endlinecolor\": \"#2a3f5f\", \"gridcolor\": \"white\", \"linecolor\": \"white\", \"minorgridcolor\": \"white\", \"startlinecolor\": \"#2a3f5f\"}, \"baxis\": {\"endlinecolor\": \"#2a3f5f\", \"gridcolor\": \"white\", \"linecolor\": \"white\", \"minorgridcolor\": \"white\", \"startlinecolor\": \"#2a3f5f\"}, \"type\": \"carpet\"}], \"choropleth\": [{\"colorbar\": {\"outlinewidth\": 0, \"ticks\": \"\"}, \"type\": \"choropleth\"}], \"contour\": [{\"colorbar\": {\"outlinewidth\": 0, \"ticks\": \"\"}, \"colorscale\": [[0.0, \"#0d0887\"], [0.1111111111111111, \"#46039f\"], [0.2222222222222222, \"#7201a8\"], [0.3333333333333333, \"#9c179e\"], [0.4444444444444444, \"#bd3786\"], [0.5555555555555556, \"#d8576b\"], [0.6666666666666666, \"#ed7953\"], [0.7777777777777778, \"#fb9f3a\"], [0.8888888888888888, \"#fdca26\"], [1.0, \"#f0f921\"]], \"type\": \"contour\"}], \"contourcarpet\": [{\"colorbar\": {\"outlinewidth\": 0, \"ticks\": \"\"}, \"type\": \"contourcarpet\"}], \"heatmap\": [{\"colorbar\": {\"outlinewidth\": 0, \"ticks\": \"\"}, \"colorscale\": [[0.0, \"#0d0887\"], [0.1111111111111111, \"#46039f\"], [0.2222222222222222, \"#7201a8\"], [0.3333333333333333, \"#9c179e\"], [0.4444444444444444, \"#bd3786\"], [0.5555555555555556, \"#d8576b\"], [0.6666666666666666, \"#ed7953\"], [0.7777777777777778, \"#fb9f3a\"], [0.8888888888888888, \"#fdca26\"], [1.0, \"#f0f921\"]], \"type\": \"heatmap\"}], \"heatmapgl\": [{\"colorbar\": {\"outlinewidth\": 0, \"ticks\": \"\"}, \"colorscale\": [[0.0, \"#0d0887\"], [0.1111111111111111, \"#46039f\"], [0.2222222222222222, \"#7201a8\"], [0.3333333333333333, \"#9c179e\"], [0.4444444444444444, \"#bd3786\"], [0.5555555555555556, \"#d8576b\"], [0.6666666666666666, \"#ed7953\"], [0.7777777777777778, \"#fb9f3a\"], [0.8888888888888888, \"#fdca26\"], [1.0, \"#f0f921\"]], \"type\": \"heatmapgl\"}], \"histogram\": [{\"marker\": {\"colorbar\": {\"outlinewidth\": 0, \"ticks\": \"\"}}, \"type\": \"histogram\"}], \"histogram2d\": [{\"colorbar\": {\"outlinewidth\": 0, \"ticks\": \"\"}, \"colorscale\": [[0.0, \"#0d0887\"], [0.1111111111111111, \"#46039f\"], [0.2222222222222222, \"#7201a8\"], [0.3333333333333333, \"#9c179e\"], [0.4444444444444444, \"#bd3786\"], [0.5555555555555556, \"#d8576b\"], [0.6666666666666666, \"#ed7953\"], [0.7777777777777778, \"#fb9f3a\"], [0.8888888888888888, \"#fdca26\"], [1.0, \"#f0f921\"]], \"type\": \"histogram2d\"}], \"histogram2dcontour\": [{\"colorbar\": {\"outlinewidth\": 0, \"ticks\": \"\"}, \"colorscale\": [[0.0, \"#0d0887\"], [0.1111111111111111, \"#46039f\"], [0.2222222222222222, \"#7201a8\"], [0.3333333333333333, \"#9c179e\"], [0.4444444444444444, \"#bd3786\"], [0.5555555555555556, \"#d8576b\"], [0.6666666666666666, \"#ed7953\"], [0.7777777777777778, \"#fb9f3a\"], [0.8888888888888888, \"#fdca26\"], [1.0, \"#f0f921\"]], \"type\": \"histogram2dcontour\"}], \"mesh3d\": [{\"colorbar\": {\"outlinewidth\": 0, \"ticks\": \"\"}, \"type\": \"mesh3d\"}], \"parcoords\": [{\"line\": {\"colorbar\": {\"outlinewidth\": 0, \"ticks\": \"\"}}, \"type\": \"parcoords\"}], \"pie\": [{\"automargin\": true, \"type\": \"pie\"}], \"scatter\": [{\"marker\": {\"colorbar\": {\"outlinewidth\": 0, \"ticks\": \"\"}}, \"type\": \"scatter\"}], \"scatter3d\": [{\"line\": {\"colorbar\": {\"outlinewidth\": 0, \"ticks\": \"\"}}, \"marker\": {\"colorbar\": {\"outlinewidth\": 0, \"ticks\": \"\"}}, \"type\": \"scatter3d\"}], \"scattercarpet\": [{\"marker\": {\"colorbar\": {\"outlinewidth\": 0, \"ticks\": \"\"}}, \"type\": \"scattercarpet\"}], \"scattergeo\": [{\"marker\": {\"colorbar\": {\"outlinewidth\": 0, \"ticks\": \"\"}}, \"type\": \"scattergeo\"}], \"scattergl\": [{\"marker\": {\"colorbar\": {\"outlinewidth\": 0, \"ticks\": \"\"}}, \"type\": \"scattergl\"}], \"scattermapbox\": [{\"marker\": {\"colorbar\": {\"outlinewidth\": 0, \"ticks\": \"\"}}, \"type\": \"scattermapbox\"}], \"scatterpolar\": [{\"marker\": {\"colorbar\": {\"outlinewidth\": 0, \"ticks\": \"\"}}, \"type\": \"scatterpolar\"}], \"scatterpolargl\": [{\"marker\": {\"colorbar\": {\"outlinewidth\": 0, \"ticks\": \"\"}}, \"type\": \"scatterpolargl\"}], \"scatterternary\": [{\"marker\": {\"colorbar\": {\"outlinewidth\": 0, \"ticks\": \"\"}}, \"type\": \"scatterternary\"}], \"surface\": [{\"colorbar\": {\"outlinewidth\": 0, \"ticks\": \"\"}, \"colorscale\": [[0.0, \"#0d0887\"], [0.1111111111111111, \"#46039f\"], [0.2222222222222222, \"#7201a8\"], [0.3333333333333333, \"#9c179e\"], [0.4444444444444444, \"#bd3786\"], [0.5555555555555556, \"#d8576b\"], [0.6666666666666666, \"#ed7953\"], [0.7777777777777778, \"#fb9f3a\"], [0.8888888888888888, \"#fdca26\"], [1.0, \"#f0f921\"]], \"type\": \"surface\"}], \"table\": [{\"cells\": {\"fill\": {\"color\": \"#EBF0F8\"}, \"line\": {\"color\": \"white\"}}, \"header\": {\"fill\": {\"color\": \"#C8D4E3\"}, \"line\": {\"color\": \"white\"}}, \"type\": \"table\"}]}, \"layout\": {\"annotationdefaults\": {\"arrowcolor\": \"#2a3f5f\", \"arrowhead\": 0, \"arrowwidth\": 1}, \"coloraxis\": {\"colorbar\": {\"outlinewidth\": 0, \"ticks\": \"\"}}, \"colorscale\": {\"diverging\": [[0, \"#8e0152\"], [0.1, \"#c51b7d\"], [0.2, \"#de77ae\"], [0.3, \"#f1b6da\"], [0.4, \"#fde0ef\"], [0.5, \"#f7f7f7\"], [0.6, \"#e6f5d0\"], [0.7, \"#b8e186\"], [0.8, \"#7fbc41\"], [0.9, \"#4d9221\"], [1, \"#276419\"]], \"sequential\": [[0.0, \"#0d0887\"], [0.1111111111111111, \"#46039f\"], [0.2222222222222222, \"#7201a8\"], [0.3333333333333333, \"#9c179e\"], [0.4444444444444444, \"#bd3786\"], [0.5555555555555556, \"#d8576b\"], [0.6666666666666666, \"#ed7953\"], [0.7777777777777778, \"#fb9f3a\"], [0.8888888888888888, \"#fdca26\"], [1.0, \"#f0f921\"]], \"sequentialminus\": [[0.0, \"#0d0887\"], [0.1111111111111111, \"#46039f\"], [0.2222222222222222, \"#7201a8\"], [0.3333333333333333, \"#9c179e\"], [0.4444444444444444, \"#bd3786\"], [0.5555555555555556, \"#d8576b\"], [0.6666666666666666, \"#ed7953\"], [0.7777777777777778, \"#fb9f3a\"], [0.8888888888888888, \"#fdca26\"], [1.0, \"#f0f921\"]]}, \"colorway\": [\"#636efa\", \"#EF553B\", \"#00cc96\", \"#ab63fa\", \"#FFA15A\", \"#19d3f3\", \"#FF6692\", \"#B6E880\", \"#FF97FF\", \"#FECB52\"], \"font\": {\"color\": \"#2a3f5f\"}, \"geo\": {\"bgcolor\": \"white\", \"lakecolor\": \"white\", \"landcolor\": \"#E5ECF6\", \"showlakes\": true, \"showland\": true, \"subunitcolor\": \"white\"}, \"hoverlabel\": {\"align\": \"left\"}, \"hovermode\": \"closest\", \"mapbox\": {\"style\": \"light\"}, \"paper_bgcolor\": \"white\", \"plot_bgcolor\": \"#E5ECF6\", \"polar\": {\"angularaxis\": {\"gridcolor\": \"white\", \"linecolor\": \"white\", \"ticks\": \"\"}, \"bgcolor\": \"#E5ECF6\", \"radialaxis\": {\"gridcolor\": \"white\", \"linecolor\": \"white\", \"ticks\": \"\"}}, \"scene\": {\"xaxis\": {\"backgroundcolor\": \"#E5ECF6\", \"gridcolor\": \"white\", \"gridwidth\": 2, \"linecolor\": \"white\", \"showbackground\": true, \"ticks\": \"\", \"zerolinecolor\": \"white\"}, \"yaxis\": {\"backgroundcolor\": \"#E5ECF6\", \"gridcolor\": \"white\", \"gridwidth\": 2, \"linecolor\": \"white\", \"showbackground\": true, \"ticks\": \"\", \"zerolinecolor\": \"white\"}, \"zaxis\": {\"backgroundcolor\": \"#E5ECF6\", \"gridcolor\": \"white\", \"gridwidth\": 2, \"linecolor\": \"white\", \"showbackground\": true, \"ticks\": \"\", \"zerolinecolor\": \"white\"}}, \"shapedefaults\": {\"line\": {\"color\": \"#2a3f5f\"}}, \"ternary\": {\"aaxis\": {\"gridcolor\": \"white\", \"linecolor\": \"white\", \"ticks\": \"\"}, \"baxis\": {\"gridcolor\": \"white\", \"linecolor\": \"white\", \"ticks\": \"\"}, \"bgcolor\": \"#E5ECF6\", \"caxis\": {\"gridcolor\": \"white\", \"linecolor\": \"white\", \"ticks\": \"\"}}, \"title\": {\"x\": 0.05}, \"xaxis\": {\"automargin\": true, \"gridcolor\": \"white\", \"linecolor\": \"white\", \"ticks\": \"\", \"title\": {\"standoff\": 15}, \"zerolinecolor\": \"white\", \"zerolinewidth\": 2}, \"yaxis\": {\"automargin\": true, \"gridcolor\": \"white\", \"linecolor\": \"white\", \"ticks\": \"\", \"title\": {\"standoff\": 15}, \"zerolinecolor\": \"white\", \"zerolinewidth\": 2}}}, \"title\": {\"font\": {\"color\": \"#4D5663\"}, \"text\": \"MVIS | Quant Figure\"}, \"xaxis\": {\"anchor\": \"y2\", \"gridcolor\": \"#E1E5ED\", \"rangeselector\": {\"bgcolor\": \"rgba(150, 200, 250, 1)\", \"buttons\": [{\"count\": 1, \"label\": \"1m\", \"step\": \"month\", \"stepmode\": \"backward\"}, {\"count\": 1, \"label\": \"1y\", \"step\": \"year\", \"stepmode\": \"backward\"}], \"font\": {\"size\": 13}, \"visible\": false, \"x\": 0, \"y\": 0.9}, \"rangeslider\": {\"visible\": false}, \"showgrid\": true, \"tickfont\": {\"color\": \"#4D5663\"}, \"title\": {\"font\": {\"color\": \"#4D5663\"}, \"text\": \"\"}, \"zerolinecolor\": \"#E1E5ED\"}, \"yaxis\": {\"gridcolor\": \"#E1E5ED\", \"showgrid\": true, \"showticklabels\": false, \"tickfont\": {\"color\": \"#4D5663\"}, \"title\": {\"font\": {\"color\": \"#4D5663\"}, \"text\": \"\"}, \"zerolinecolor\": \"#E1E5ED\"}, \"yaxis2\": {\"domain\": [0.46, 0.9], \"gridcolor\": \"#E1E5ED\", \"showgrid\": true, \"tickfont\": {\"color\": \"#4D5663\"}, \"title\": {\"font\": {\"color\": \"#4D5663\"}, \"text\": \"\"}, \"zerolinecolor\": \"#E1E5ED\"}, \"yaxis3\": {\"domain\": [0.23, 0.38], \"gridcolor\": \"#E1E5ED\", \"showgrid\": true, \"tickfont\": {\"color\": \"#4D5663\"}, \"title\": {\"font\": {\"color\": \"#4D5663\"}, \"text\": \"\"}, \"zerolinecolor\": \"#E1E5ED\"}, \"yaxis4\": {\"domain\": [0.0, 0.15], \"gridcolor\": \"#E1E5ED\", \"showgrid\": true, \"tickfont\": {\"color\": \"#4D5663\"}, \"title\": {\"font\": {\"color\": \"#4D5663\"}, \"text\": \"\"}, \"zerolinecolor\": \"#E1E5ED\"}},                        {\"showLink\": true, \"linkText\": \"Export to plotly.com\", \"plotlyServerURL\": \"https://plotly.com\", \"responsive\": true}                    ).then(function(){\n",
       "                            \n",
       "var gd = document.getElementById('38b825b1-d44f-4108-abd9-ba55a18d1177');\n",
       "var x = new MutationObserver(function (mutations, observer) {{\n",
       "        var display = window.getComputedStyle(gd).display;\n",
       "        if (!display || display === 'none') {{\n",
       "            console.log([gd, 'removed!']);\n",
       "            Plotly.purge(gd);\n",
       "            observer.disconnect();\n",
       "        }}\n",
       "}});\n",
       "\n",
       "// Listen for the removal of the full notebook cells\n",
       "var notebookContainer = gd.closest('#notebook-container');\n",
       "if (notebookContainer) {{\n",
       "    x.observe(notebookContainer, {childList: true});\n",
       "}}\n",
       "\n",
       "// Listen for the clearing of the current output cell\n",
       "var outputEl = gd.closest('.output');\n",
       "if (outputEl) {{\n",
       "    x.observe(outputEl, {childList: true});\n",
       "}}\n",
       "\n",
       "                        })                };                });            </script>        </div>"
      ]
     },
     "metadata": {},
     "output_type": "display_data"
    }
   ],
   "source": [
    "qf=cf.QuantFig(MVIS,title='MVIS | Quant Figure',legend='center',name='GS')\n",
    "qf.add_bollinger_bands(periods=20,boll_std=2,colors=['magenta','grey'],fill=True)\n",
    "qf.add_sma([10],width=2,color=['green'],legendgroup=True)\n",
    "qf.add_macd()\n",
    "qf.add_volume()\n",
    "qf.iplot()"
   ]
  },
  {
   "cell_type": "code",
   "execution_count": 19,
   "metadata": {
    "ExecuteTime": {
     "end_time": "2021-07-12T21:21:22.832695Z",
     "start_time": "2021-07-12T21:21:22.829802Z"
    }
   },
   "outputs": [],
   "source": [
    "SOLO = SOLO[['Open', 'High', 'Low', 'Close','Volume']]"
   ]
  },
  {
   "cell_type": "code",
   "execution_count": 20,
   "metadata": {
    "ExecuteTime": {
     "end_time": "2021-07-12T21:21:23.014340Z",
     "start_time": "2021-07-12T21:21:22.835272Z"
    }
   },
   "outputs": [
    {
     "data": {
      "application/vnd.plotly.v1+json": {
       "config": {
        "linkText": "Export to plotly.com",
        "plotlyServerURL": "https://plotly.com",
        "showLink": true
       },
       "data": [
        {
         "legendgroup": "BOLL(Close,20)",
         "line": {
          "color": "rgba(255, 0, 255, 1.0)",
          "dash": "solid",
          "shape": "linear",
          "width": 1.3
         },
         "mode": "lines",
         "name": "BOLL(Close,20)",
         "showlegend": true,
         "text": "",
         "type": "scatter",
         "x": [
          "2021-01-04",
          "2021-01-05",
          "2021-01-06",
          "2021-01-07",
          "2021-01-08",
          "2021-01-11",
          "2021-01-12",
          "2021-01-13",
          "2021-01-14",
          "2021-01-15",
          "2021-01-19",
          "2021-01-20",
          "2021-01-21",
          "2021-01-22",
          "2021-01-25",
          "2021-01-26",
          "2021-01-27",
          "2021-01-28",
          "2021-01-29",
          "2021-02-01",
          "2021-02-02",
          "2021-02-03",
          "2021-02-04",
          "2021-02-05",
          "2021-02-08",
          "2021-02-09",
          "2021-02-10",
          "2021-02-11",
          "2021-02-12",
          "2021-02-16",
          "2021-02-17",
          "2021-02-18",
          "2021-02-19",
          "2021-02-22",
          "2021-02-23",
          "2021-02-24",
          "2021-02-25",
          "2021-02-26",
          "2021-03-01",
          "2021-03-02",
          "2021-03-03",
          "2021-03-04",
          "2021-03-05",
          "2021-03-08",
          "2021-03-09",
          "2021-03-10",
          "2021-03-11",
          "2021-03-12",
          "2021-03-15",
          "2021-03-16",
          "2021-03-17",
          "2021-03-18",
          "2021-03-19",
          "2021-03-22",
          "2021-03-23",
          "2021-03-24",
          "2021-03-25",
          "2021-03-26",
          "2021-03-29",
          "2021-03-30",
          "2021-03-31",
          "2021-04-01",
          "2021-04-05",
          "2021-04-06",
          "2021-04-07",
          "2021-04-08",
          "2021-04-09",
          "2021-04-12",
          "2021-04-13",
          "2021-04-14",
          "2021-04-15",
          "2021-04-16",
          "2021-04-19",
          "2021-04-20",
          "2021-04-21",
          "2021-04-22",
          "2021-04-23",
          "2021-04-26",
          "2021-04-27",
          "2021-04-28",
          "2021-04-29",
          "2021-04-30",
          "2021-05-03",
          "2021-05-04",
          "2021-05-05",
          "2021-05-06",
          "2021-05-07",
          "2021-05-10",
          "2021-05-11",
          "2021-05-12",
          "2021-05-13",
          "2021-05-14",
          "2021-05-17",
          "2021-05-18",
          "2021-05-19",
          "2021-05-20",
          "2021-05-21",
          "2021-05-24",
          "2021-05-25",
          "2021-05-26",
          "2021-05-27",
          "2021-05-28",
          "2021-06-01",
          "2021-06-02",
          "2021-06-03",
          "2021-06-04",
          "2021-06-07",
          "2021-06-08",
          "2021-06-09",
          "2021-06-10",
          "2021-06-11",
          "2021-06-14",
          "2021-06-15",
          "2021-06-16",
          "2021-06-17",
          "2021-06-18",
          "2021-06-21",
          "2021-06-22",
          "2021-06-23",
          "2021-06-24",
          "2021-06-25",
          "2021-06-28",
          "2021-06-29",
          "2021-06-30",
          "2021-07-01",
          "2021-07-02",
          "2021-07-06",
          "2021-07-07",
          "2021-07-08"
         ],
         "y": [
          "",
          "",
          "",
          "",
          "",
          "",
          "",
          "",
          "",
          "",
          "",
          "",
          "",
          "",
          "",
          "",
          "",
          "",
          "",
          7.644,
          7.715499999999999,
          7.786499999999998,
          7.927999999999997,
          8.015499999999998,
          8.104999999999997,
          8.184999999999999,
          8.160999999999998,
          8.149499999999998,
          8.150999999999998,
          8.169999999999998,
          8.177999999999997,
          8.164499999999997,
          8.113499999999998,
          8.049999999999997,
          7.964999999999996,
          7.867499999999997,
          7.7819999999999965,
          7.697999999999996,
          7.635999999999996,
          7.5609999999999955,
          7.443499999999996,
          7.305499999999997,
          7.083999999999998,
          6.893499999999998,
          6.755499999999998,
          6.600999999999997,
          6.473499999999999,
          6.368999999999999,
          6.2595,
          6.138499999999999,
          6.036499999999999,
          5.9415,
          5.856499999999999,
          5.784999999999998,
          5.716999999999999,
          5.606999999999999,
          5.530499999999999,
          5.452999999999999,
          5.3519999999999985,
          5.277999999999999,
          5.229999999999999,
          5.207999999999998,
          5.1949999999999985,
          5.199999999999999,
          5.1495,
          5.1049999999999995,
          5.049999999999999,
          4.9864999999999995,
          4.928999999999999,
          4.873499999999999,
          4.795999999999999,
          4.737,
          4.661499999999999,
          4.585,
          4.5424999999999995,
          4.5264999999999995,
          4.505,
          4.493499999999999,
          4.486999999999999,
          4.4704999999999995,
          4.4449999999999985,
          4.405999999999999,
          4.365499999999999,
          4.307999999999998,
          4.257999999999998,
          4.191499999999999,
          4.134999999999999,
          4.0699999999999985,
          4.006499999999999,
          3.947499999999999,
          3.8919999999999986,
          3.847499999999999,
          3.8099999999999987,
          3.7844999999999986,
          3.7399999999999984,
          3.6994999999999982,
          3.6519999999999984,
          3.599499999999998,
          3.5529999999999986,
          3.5239999999999987,
          3.504999999999999,
          3.4849999999999985,
          3.4874999999999985,
          3.5024999999999986,
          3.537999999999998,
          3.5774999999999983,
          3.628499999999998,
          3.696499999999998,
          3.764499999999998,
          3.823999999999998,
          3.895999999999998,
          3.945499999999998,
          3.984999999999997,
          4.030999999999997,
          4.082499999999998,
          4.140999999999997,
          4.185999999999997,
          4.229499999999996,
          4.280499999999996,
          4.305999999999996,
          4.3334999999999955,
          4.369499999999996,
          4.388499999999995,
          4.395499999999996,
          4.373999999999996,
          4.354999999999996,
          4.318999999999996,
          4.277499999999996,
          4.234499999999996
         ],
         "yaxis": "y2"
        },
        {
         "legendgroup": "BOLL(Close,20)",
         "line": {
          "color": "rgba(128, 128, 128, 1.0)",
          "dash": "solid",
          "shape": "linear",
          "width": 1.3
         },
         "mode": "lines",
         "name": "UPPER(Close,20)",
         "showlegend": false,
         "text": "",
         "type": "scatter",
         "x": [
          "2021-01-04",
          "2021-01-05",
          "2021-01-06",
          "2021-01-07",
          "2021-01-08",
          "2021-01-11",
          "2021-01-12",
          "2021-01-13",
          "2021-01-14",
          "2021-01-15",
          "2021-01-19",
          "2021-01-20",
          "2021-01-21",
          "2021-01-22",
          "2021-01-25",
          "2021-01-26",
          "2021-01-27",
          "2021-01-28",
          "2021-01-29",
          "2021-02-01",
          "2021-02-02",
          "2021-02-03",
          "2021-02-04",
          "2021-02-05",
          "2021-02-08",
          "2021-02-09",
          "2021-02-10",
          "2021-02-11",
          "2021-02-12",
          "2021-02-16",
          "2021-02-17",
          "2021-02-18",
          "2021-02-19",
          "2021-02-22",
          "2021-02-23",
          "2021-02-24",
          "2021-02-25",
          "2021-02-26",
          "2021-03-01",
          "2021-03-02",
          "2021-03-03",
          "2021-03-04",
          "2021-03-05",
          "2021-03-08",
          "2021-03-09",
          "2021-03-10",
          "2021-03-11",
          "2021-03-12",
          "2021-03-15",
          "2021-03-16",
          "2021-03-17",
          "2021-03-18",
          "2021-03-19",
          "2021-03-22",
          "2021-03-23",
          "2021-03-24",
          "2021-03-25",
          "2021-03-26",
          "2021-03-29",
          "2021-03-30",
          "2021-03-31",
          "2021-04-01",
          "2021-04-05",
          "2021-04-06",
          "2021-04-07",
          "2021-04-08",
          "2021-04-09",
          "2021-04-12",
          "2021-04-13",
          "2021-04-14",
          "2021-04-15",
          "2021-04-16",
          "2021-04-19",
          "2021-04-20",
          "2021-04-21",
          "2021-04-22",
          "2021-04-23",
          "2021-04-26",
          "2021-04-27",
          "2021-04-28",
          "2021-04-29",
          "2021-04-30",
          "2021-05-03",
          "2021-05-04",
          "2021-05-05",
          "2021-05-06",
          "2021-05-07",
          "2021-05-10",
          "2021-05-11",
          "2021-05-12",
          "2021-05-13",
          "2021-05-14",
          "2021-05-17",
          "2021-05-18",
          "2021-05-19",
          "2021-05-20",
          "2021-05-21",
          "2021-05-24",
          "2021-05-25",
          "2021-05-26",
          "2021-05-27",
          "2021-05-28",
          "2021-06-01",
          "2021-06-02",
          "2021-06-03",
          "2021-06-04",
          "2021-06-07",
          "2021-06-08",
          "2021-06-09",
          "2021-06-10",
          "2021-06-11",
          "2021-06-14",
          "2021-06-15",
          "2021-06-16",
          "2021-06-17",
          "2021-06-18",
          "2021-06-21",
          "2021-06-22",
          "2021-06-23",
          "2021-06-24",
          "2021-06-25",
          "2021-06-28",
          "2021-06-29",
          "2021-06-30",
          "2021-07-01",
          "2021-07-02",
          "2021-07-06",
          "2021-07-07",
          "2021-07-08"
         ],
         "y": [
          "",
          "",
          "",
          "",
          "",
          "",
          "",
          "",
          "",
          "",
          "",
          "",
          "",
          "",
          "",
          "",
          "",
          "",
          "",
          8.974079538579316,
          8.955440151357058,
          8.94388862144598,
          9.187801153900253,
          9.228594780867683,
          9.177890831744822,
          9.221156866807133,
          9.151585154021811,
          9.145945789055435,
          9.146017058832872,
          9.130613838838697,
          9.12077529833884,
          9.151819070700254,
          9.176034705315548,
          9.244443274853225,
          9.355365343884,
          9.332974595301357,
          9.408110632605812,
          9.475811783300497,
          9.499413958020964,
          9.539249092931474,
          9.582120066648976,
          9.60754920154105,
          9.35741060731969,
          9.23769574357828,
          9.017576130693358,
          8.681282369497495,
          8.398922988387367,
          8.187778074480375,
          7.938352678405551,
          7.651006111340422,
          7.353998027562699,
          7.151045804271837,
          6.900566442733473,
          6.721364751241976,
          6.647536913490511,
          6.577493092250168,
          6.51867162370449,
          6.472620156312108,
          6.355857821763531,
          6.251925318654272,
          6.219162325032244,
          6.203602964618894,
          6.205960981078496,
          6.205375028220046,
          6.135602909116721,
          6.058696409820915,
          5.950619669712872,
          5.833022919141366,
          5.710924750720627,
          5.639192668867827,
          5.517705582192949,
          5.450570709807221,
          5.321492822927517,
          5.2089939270959915,
          5.136748751742411,
          5.14458788337824,
          5.120262032325333,
          5.108309341435079,
          5.10735982767223,
          5.087913109164737,
          5.064626372990457,
          4.994500324196167,
          4.95421760722156,
          4.867947365947574,
          4.82652903457778,
          4.779279944501294,
          4.718004920084004,
          4.737280419235263,
          4.702511947870868,
          4.700763076990999,
          4.737286622208268,
          4.717850806465901,
          4.706049810645563,
          4.695080497323174,
          4.6438164694927675,
          4.596641073222719,
          4.510581449405479,
          4.3940995350191745,
          4.281057256279415,
          4.160516837334712,
          4.077253164439119,
          3.9858413973137767,
          3.9991279487037383,
          4.070854040884317,
          4.245690089769492,
          4.364683520366692,
          4.545939801553072,
          4.6968004811713495,
          4.841835406893982,
          4.906149906922643,
          4.952636172010051,
          4.979052381989342,
          4.975789159152838,
          4.9964429035422295,
          5.0038691185576125,
          5.013839287069896,
          4.9807829892493,
          4.9173639706404995,
          4.839162877347661,
          4.808348170306789,
          4.778461263837474,
          4.722739146665393,
          4.703679147052744,
          4.692181647561918,
          4.7079334947971265,
          4.743112843059105,
          4.732452727521285,
          4.728644742790405,
          4.6840366035094245
         ],
         "yaxis": "y2"
        },
        {
         "fill": "tonexty",
         "fillcolor": "rgba(128, 128, 128, 0.1)",
         "legendgroup": "BOLL(Close,20)",
         "line": {
          "color": "rgba(128, 128, 128, 0.8999999999999999)",
          "dash": "solid",
          "shape": "linear",
          "width": 1.3
         },
         "mode": "lines",
         "name": "LOWER(Close,20)",
         "showlegend": false,
         "text": "",
         "type": "scatter",
         "x": [
          "2021-01-04",
          "2021-01-05",
          "2021-01-06",
          "2021-01-07",
          "2021-01-08",
          "2021-01-11",
          "2021-01-12",
          "2021-01-13",
          "2021-01-14",
          "2021-01-15",
          "2021-01-19",
          "2021-01-20",
          "2021-01-21",
          "2021-01-22",
          "2021-01-25",
          "2021-01-26",
          "2021-01-27",
          "2021-01-28",
          "2021-01-29",
          "2021-02-01",
          "2021-02-02",
          "2021-02-03",
          "2021-02-04",
          "2021-02-05",
          "2021-02-08",
          "2021-02-09",
          "2021-02-10",
          "2021-02-11",
          "2021-02-12",
          "2021-02-16",
          "2021-02-17",
          "2021-02-18",
          "2021-02-19",
          "2021-02-22",
          "2021-02-23",
          "2021-02-24",
          "2021-02-25",
          "2021-02-26",
          "2021-03-01",
          "2021-03-02",
          "2021-03-03",
          "2021-03-04",
          "2021-03-05",
          "2021-03-08",
          "2021-03-09",
          "2021-03-10",
          "2021-03-11",
          "2021-03-12",
          "2021-03-15",
          "2021-03-16",
          "2021-03-17",
          "2021-03-18",
          "2021-03-19",
          "2021-03-22",
          "2021-03-23",
          "2021-03-24",
          "2021-03-25",
          "2021-03-26",
          "2021-03-29",
          "2021-03-30",
          "2021-03-31",
          "2021-04-01",
          "2021-04-05",
          "2021-04-06",
          "2021-04-07",
          "2021-04-08",
          "2021-04-09",
          "2021-04-12",
          "2021-04-13",
          "2021-04-14",
          "2021-04-15",
          "2021-04-16",
          "2021-04-19",
          "2021-04-20",
          "2021-04-21",
          "2021-04-22",
          "2021-04-23",
          "2021-04-26",
          "2021-04-27",
          "2021-04-28",
          "2021-04-29",
          "2021-04-30",
          "2021-05-03",
          "2021-05-04",
          "2021-05-05",
          "2021-05-06",
          "2021-05-07",
          "2021-05-10",
          "2021-05-11",
          "2021-05-12",
          "2021-05-13",
          "2021-05-14",
          "2021-05-17",
          "2021-05-18",
          "2021-05-19",
          "2021-05-20",
          "2021-05-21",
          "2021-05-24",
          "2021-05-25",
          "2021-05-26",
          "2021-05-27",
          "2021-05-28",
          "2021-06-01",
          "2021-06-02",
          "2021-06-03",
          "2021-06-04",
          "2021-06-07",
          "2021-06-08",
          "2021-06-09",
          "2021-06-10",
          "2021-06-11",
          "2021-06-14",
          "2021-06-15",
          "2021-06-16",
          "2021-06-17",
          "2021-06-18",
          "2021-06-21",
          "2021-06-22",
          "2021-06-23",
          "2021-06-24",
          "2021-06-25",
          "2021-06-28",
          "2021-06-29",
          "2021-06-30",
          "2021-07-01",
          "2021-07-02",
          "2021-07-06",
          "2021-07-07",
          "2021-07-08"
         ],
         "y": [
          "",
          "",
          "",
          "",
          "",
          "",
          "",
          "",
          "",
          "",
          "",
          "",
          "",
          "",
          "",
          "",
          "",
          "",
          "",
          6.313920461420684,
          6.4755598486429395,
          6.6291113785540166,
          6.668198846099741,
          6.8024052191323126,
          7.032109168255172,
          7.148843133192864,
          7.1704148459781845,
          7.15305421094456,
          7.155982941167125,
          7.2093861611613,
          7.235224701661155,
          7.177180929299739,
          7.05096529468445,
          6.855556725146768,
          6.574634656115992,
          6.4020254046986365,
          6.155889367394181,
          5.920188216699495,
          5.772586041979027,
          5.582750907068517,
          5.304879933351016,
          5.003450798458944,
          4.810589392680305,
          4.549304256421715,
          4.493423869306637,
          4.5207176305025,
          4.54807701161263,
          4.550221925519622,
          4.580647321594449,
          4.6259938886595755,
          4.7190019724373,
          4.731954195728163,
          4.812433557266524,
          4.848635248758021,
          4.786463086509486,
          4.636506907749831,
          4.542328376295508,
          4.433379843687891,
          4.348142178236466,
          4.304074681345726,
          4.240837674967754,
          4.212397035381103,
          4.184039018921501,
          4.194624971779953,
          4.1633970908832785,
          4.151303590179084,
          4.1493803302871255,
          4.139977080858633,
          4.147075249279371,
          4.107807331132171,
          4.0742944178070495,
          4.023429290192779,
          4.001507177072481,
          3.9610060729040084,
          3.9482512482575873,
          3.9084121166217587,
          3.889737967674667,
          3.8786906585649197,
          3.866640172327768,
          3.853086890835262,
          3.82537362700954,
          3.8174996758038304,
          3.7767823927784385,
          3.748052634052423,
          3.689470965422217,
          3.6037200554987034,
          3.551995079915994,
          3.4027195807647344,
          3.3104880521291298,
          3.1942369230089986,
          3.046713377791729,
          2.977149193534097,
          2.9139501893544346,
          2.873919502676824,
          2.8361835305072294,
          2.802358926777277,
          2.7934185505945175,
          2.8049004649808222,
          2.824942743720582,
          2.8874831626652853,
          2.9327468355608795,
          2.9841586026862204,
          2.9758720512962586,
          2.93414595911568,
          2.830309910230504,
          2.7903164796333044,
          2.7110601984469245,
          2.6961995188286467,
          2.687164593106014,
          2.741850093077353,
          2.8393638279899456,
          2.911947618010654,
          2.994210840847156,
          3.0655570964577645,
          3.1611308814423835,
          3.2681607129300994,
          3.391217010750695,
          3.5416360293594926,
          3.7218371226523312,
          3.8036518296932025,
          3.888538736162517,
          4.0162608533345985,
          4.073320852947246,
          4.098818352438074,
          4.040066505202866,
          3.966887156940887,
          3.905547272478708,
          3.8263552572095874,
          3.784963396490568
         ],
         "yaxis": "y2"
        },
        {
         "legendgroup": " SMA([10])",
         "line": {
          "color": "rgba(0, 128, 0, 1.0)",
          "dash": "solid",
          "shape": "linear",
          "width": 2
         },
         "mode": "lines",
         "name": " SMA([10])",
         "showlegend": true,
         "text": "",
         "type": "scatter",
         "x": [
          "2021-01-04",
          "2021-01-05",
          "2021-01-06",
          "2021-01-07",
          "2021-01-08",
          "2021-01-11",
          "2021-01-12",
          "2021-01-13",
          "2021-01-14",
          "2021-01-15",
          "2021-01-19",
          "2021-01-20",
          "2021-01-21",
          "2021-01-22",
          "2021-01-25",
          "2021-01-26",
          "2021-01-27",
          "2021-01-28",
          "2021-01-29",
          "2021-02-01",
          "2021-02-02",
          "2021-02-03",
          "2021-02-04",
          "2021-02-05",
          "2021-02-08",
          "2021-02-09",
          "2021-02-10",
          "2021-02-11",
          "2021-02-12",
          "2021-02-16",
          "2021-02-17",
          "2021-02-18",
          "2021-02-19",
          "2021-02-22",
          "2021-02-23",
          "2021-02-24",
          "2021-02-25",
          "2021-02-26",
          "2021-03-01",
          "2021-03-02",
          "2021-03-03",
          "2021-03-04",
          "2021-03-05",
          "2021-03-08",
          "2021-03-09",
          "2021-03-10",
          "2021-03-11",
          "2021-03-12",
          "2021-03-15",
          "2021-03-16",
          "2021-03-17",
          "2021-03-18",
          "2021-03-19",
          "2021-03-22",
          "2021-03-23",
          "2021-03-24",
          "2021-03-25",
          "2021-03-26",
          "2021-03-29",
          "2021-03-30",
          "2021-03-31",
          "2021-04-01",
          "2021-04-05",
          "2021-04-06",
          "2021-04-07",
          "2021-04-08",
          "2021-04-09",
          "2021-04-12",
          "2021-04-13",
          "2021-04-14",
          "2021-04-15",
          "2021-04-16",
          "2021-04-19",
          "2021-04-20",
          "2021-04-21",
          "2021-04-22",
          "2021-04-23",
          "2021-04-26",
          "2021-04-27",
          "2021-04-28",
          "2021-04-29",
          "2021-04-30",
          "2021-05-03",
          "2021-05-04",
          "2021-05-05",
          "2021-05-06",
          "2021-05-07",
          "2021-05-10",
          "2021-05-11",
          "2021-05-12",
          "2021-05-13",
          "2021-05-14",
          "2021-05-17",
          "2021-05-18",
          "2021-05-19",
          "2021-05-20",
          "2021-05-21",
          "2021-05-24",
          "2021-05-25",
          "2021-05-26",
          "2021-05-27",
          "2021-05-28",
          "2021-06-01",
          "2021-06-02",
          "2021-06-03",
          "2021-06-04",
          "2021-06-07",
          "2021-06-08",
          "2021-06-09",
          "2021-06-10",
          "2021-06-11",
          "2021-06-14",
          "2021-06-15",
          "2021-06-16",
          "2021-06-17",
          "2021-06-18",
          "2021-06-21",
          "2021-06-22",
          "2021-06-23",
          "2021-06-24",
          "2021-06-25",
          "2021-06-28",
          "2021-06-29",
          "2021-06-30",
          "2021-07-01",
          "2021-07-02",
          "2021-07-06",
          "2021-07-07",
          "2021-07-08"
         ],
         "y": [
          "",
          "",
          "",
          "",
          "",
          "",
          "",
          "",
          "",
          7.332999999999998,
          7.433999999999999,
          7.517999999999999,
          7.6819999999999995,
          7.803999999999999,
          7.945,
          8.084999999999999,
          7.996999999999998,
          7.966999999999997,
          7.944999999999998,
          7.954999999999998,
          7.996999999999998,
          8.054999999999998,
          8.173999999999998,
          8.226999999999999,
          8.264999999999997,
          8.284999999999998,
          8.325,
          8.331999999999999,
          8.357,
          8.385,
          8.358999999999998,
          8.274,
          8.052999999999999,
          7.872999999999999,
          7.664999999999999,
          7.449999999999998,
          7.238999999999999,
          7.063999999999998,
          6.914999999999999,
          6.737,
          6.5280000000000005,
          6.337000000000001,
          6.115,
          5.914,
          5.845999999999999,
          5.751999999999999,
          5.707999999999998,
          5.673999999999998,
          5.603999999999997,
          5.539999999999997,
          5.544999999999997,
          5.545999999999998,
          5.597999999999998,
          5.655999999999998,
          5.587999999999998,
          5.461999999999998,
          5.352999999999999,
          5.231999999999998,
          5.099999999999999,
          5.015999999999999,
          4.914999999999999,
          4.869999999999999,
          4.791999999999999,
          4.743999999999999,
          4.7109999999999985,
          4.747999999999999,
          4.746999999999999,
          4.741,
          4.758,
          4.731,
          4.677,
          4.604,
          4.531000000000001,
          4.426,
          4.3740000000000006,
          4.305000000000001,
          4.263,
          4.246,
          4.215999999999999,
          4.21,
          4.212999999999999,
          4.207999999999999,
          4.199999999999998,
          4.189999999999999,
          4.141999999999998,
          4.0779999999999985,
          4.006999999999999,
          3.8939999999999984,
          3.7969999999999984,
          3.684999999999998,
          3.570999999999998,
          3.4869999999999983,
          3.419999999999999,
          3.378999999999999,
          3.3379999999999996,
          3.3209999999999993,
          3.2969999999999993,
          3.304999999999999,
          3.308999999999999,
          3.3629999999999987,
          3.438999999999999,
          3.482999999999999,
          3.554999999999999,
          3.625999999999999,
          3.7379999999999987,
          3.8339999999999987,
          3.9599999999999995,
          4.087999999999999,
          4.22,
          4.285,
          4.353,
          4.4079999999999995,
          4.415,
          4.435999999999999,
          4.427,
          4.447999999999999,
          4.411999999999998,
          4.370999999999999,
          4.340999999999999,
          4.327,
          4.313999999999999,
          4.3309999999999995,
          4.362,
          4.3549999999999995,
          4.321,
          4.261999999999999,
          4.225999999999999,
          4.183999999999999,
          4.127999999999998
         ],
         "yaxis": "y2"
        },
        {
         "line": {
          "color": "rgba(55, 128, 191, 1.0)",
          "dash": "solid",
          "shape": "linear",
          "width": 1.3
         },
         "mode": "lines",
         "name": " MACD([12,26])",
         "text": "",
         "type": "scatter",
         "x": [
          "2021-01-04",
          "2021-01-05",
          "2021-01-06",
          "2021-01-07",
          "2021-01-08",
          "2021-01-11",
          "2021-01-12",
          "2021-01-13",
          "2021-01-14",
          "2021-01-15",
          "2021-01-19",
          "2021-01-20",
          "2021-01-21",
          "2021-01-22",
          "2021-01-25",
          "2021-01-26",
          "2021-01-27",
          "2021-01-28",
          "2021-01-29",
          "2021-02-01",
          "2021-02-02",
          "2021-02-03",
          "2021-02-04",
          "2021-02-05",
          "2021-02-08",
          "2021-02-09",
          "2021-02-10",
          "2021-02-11",
          "2021-02-12",
          "2021-02-16",
          "2021-02-17",
          "2021-02-18",
          "2021-02-19",
          "2021-02-22",
          "2021-02-23",
          "2021-02-24",
          "2021-02-25",
          "2021-02-26",
          "2021-03-01",
          "2021-03-02",
          "2021-03-03",
          "2021-03-04",
          "2021-03-05",
          "2021-03-08",
          "2021-03-09",
          "2021-03-10",
          "2021-03-11",
          "2021-03-12",
          "2021-03-15",
          "2021-03-16",
          "2021-03-17",
          "2021-03-18",
          "2021-03-19",
          "2021-03-22",
          "2021-03-23",
          "2021-03-24",
          "2021-03-25",
          "2021-03-26",
          "2021-03-29",
          "2021-03-30",
          "2021-03-31",
          "2021-04-01",
          "2021-04-05",
          "2021-04-06",
          "2021-04-07",
          "2021-04-08",
          "2021-04-09",
          "2021-04-12",
          "2021-04-13",
          "2021-04-14",
          "2021-04-15",
          "2021-04-16",
          "2021-04-19",
          "2021-04-20",
          "2021-04-21",
          "2021-04-22",
          "2021-04-23",
          "2021-04-26",
          "2021-04-27",
          "2021-04-28",
          "2021-04-29",
          "2021-04-30",
          "2021-05-03",
          "2021-05-04",
          "2021-05-05",
          "2021-05-06",
          "2021-05-07",
          "2021-05-10",
          "2021-05-11",
          "2021-05-12",
          "2021-05-13",
          "2021-05-14",
          "2021-05-17",
          "2021-05-18",
          "2021-05-19",
          "2021-05-20",
          "2021-05-21",
          "2021-05-24",
          "2021-05-25",
          "2021-05-26",
          "2021-05-27",
          "2021-05-28",
          "2021-06-01",
          "2021-06-02",
          "2021-06-03",
          "2021-06-04",
          "2021-06-07",
          "2021-06-08",
          "2021-06-09",
          "2021-06-10",
          "2021-06-11",
          "2021-06-14",
          "2021-06-15",
          "2021-06-16",
          "2021-06-17",
          "2021-06-18",
          "2021-06-21",
          "2021-06-22",
          "2021-06-23",
          "2021-06-24",
          "2021-06-25",
          "2021-06-28",
          "2021-06-29",
          "2021-06-30",
          "2021-07-01",
          "2021-07-02",
          "2021-07-06",
          "2021-07-07",
          "2021-07-08"
         ],
         "y": [
          0,
          0.010370370370369919,
          0.013590798775982904,
          0.03909294868036994,
          0.042673345913945226,
          0.0840805135936531,
          0.24639005506814016,
          0.3133118889291415,
          0.34302772014298455,
          0.3336822577590386,
          0.32574855067464714,
          0.3126295659142304,
          0.35781976798610593,
          0.37877710843573986,
          0.3900824081220824,
          0.4327850513735241,
          0.41025538381982596,
          0.37676056868436714,
          0.3334610916559102,
          0.2925459903754275,
          0.2858740906214834,
          0.28696164391259327,
          0.3922358051074779,
          0.4072256943045254,
          0.40156562807081997,
          0.41648648070172634,
          0.3883306076267763,
          0.32435286538712216,
          0.27212696630605837,
          0.2273103562988883,
          0.1752482218910032,
          0.0949687921196869,
          0.030191816747632494,
          -0.051216831384293116,
          -0.1495145832667486,
          -0.20647704319440674,
          -0.28066156828651145,
          -0.34435985354914056,
          -0.36800540634978507,
          -0.406268954483056,
          -0.47070599128851764,
          -0.5389605814775429,
          -0.6118214646002551,
          -0.6754951312679047,
          -0.6466868059360866,
          -0.6191396928591795,
          -0.5825242658859997,
          -0.5479962331761179,
          -0.5210811507603852,
          -0.5132008878903918,
          -0.4852240336430702,
          -0.4841000135502336,
          -0.46254586659943264,
          -0.4491624652379862,
          -0.46307390331391307,
          -0.5173569513413314,
          -0.5324521376723146,
          -0.5485813903513206,
          -0.5701233246114956,
          -0.5613584773838651,
          -0.545701021836476,
          -0.5088673911730064,
          -0.48537816610991236,
          -0.4462868568313061,
          -0.4281237301106735,
          -0.40183497008612523,
          -0.385433976105797,
          -0.3825507588721404,
          -0.37274139199252776,
          -0.3767626413946248,
          -0.39476490071086,
          -0.40117960643485073,
          -0.41280161682903405,
          -0.42757325896887544,
          -0.40954450840642753,
          -0.3971340114312172,
          -0.3701214111066937,
          -0.3391557395007938,
          -0.31820935018562135,
          -0.2949811608340127,
          -0.285386640278376,
          -0.2778081795549747,
          -0.28226598748330733,
          -0.2945076775982889,
          -0.3063265780861144,
          -0.3312407983761636,
          -0.3398061755449935,
          -0.3705647340043896,
          -0.3848563141762309,
          -0.4004425229812205,
          -0.42165174614203904,
          -0.41272277002995095,
          -0.40102374008424135,
          -0.3785128335446202,
          -0.3621465924261744,
          -0.3451970121490313,
          -0.32638811578204985,
          -0.3103254406708018,
          -0.2918110890517802,
          -0.24286894930409408,
          -0.19776762671768378,
          -0.16496439532698925,
          -0.11504773944736302,
          -0.06665095504654595,
          -0.0008511843046341561,
          0.03794750997241492,
          0.09343996263993226,
          0.1350543917938003,
          0.17170325347510662,
          0.17612383452484703,
          0.18396190988262173,
          0.17284972493634765,
          0.1462193837398491,
          0.14283413768857756,
          0.14174502311634463,
          0.15044449149289818,
          0.1356028272125016,
          0.11764308651176325,
          0.11659037699965502,
          0.1048642897522809,
          0.10166163689747432,
          0.10676882754516193,
          0.10476712417745038,
          0.0908368195540028,
          0.060540007446697075,
          0.02733834545440139,
          -0.0005813423794984729,
          -0.03202176626782993,
          -0.053098773402360244
         ],
         "yaxis": "y3"
        },
        {
         "line": {
          "color": "rgba(219, 64, 82, 1.0)",
          "dash": "solid",
          "shape": "linear",
          "width": 1.3
         },
         "mode": "lines",
         "name": "MACD SIGNAL(9)",
         "text": "",
         "type": "scatter",
         "x": [
          "2021-01-04",
          "2021-01-05",
          "2021-01-06",
          "2021-01-07",
          "2021-01-08",
          "2021-01-11",
          "2021-01-12",
          "2021-01-13",
          "2021-01-14",
          "2021-01-15",
          "2021-01-19",
          "2021-01-20",
          "2021-01-21",
          "2021-01-22",
          "2021-01-25",
          "2021-01-26",
          "2021-01-27",
          "2021-01-28",
          "2021-01-29",
          "2021-02-01",
          "2021-02-02",
          "2021-02-03",
          "2021-02-04",
          "2021-02-05",
          "2021-02-08",
          "2021-02-09",
          "2021-02-10",
          "2021-02-11",
          "2021-02-12",
          "2021-02-16",
          "2021-02-17",
          "2021-02-18",
          "2021-02-19",
          "2021-02-22",
          "2021-02-23",
          "2021-02-24",
          "2021-02-25",
          "2021-02-26",
          "2021-03-01",
          "2021-03-02",
          "2021-03-03",
          "2021-03-04",
          "2021-03-05",
          "2021-03-08",
          "2021-03-09",
          "2021-03-10",
          "2021-03-11",
          "2021-03-12",
          "2021-03-15",
          "2021-03-16",
          "2021-03-17",
          "2021-03-18",
          "2021-03-19",
          "2021-03-22",
          "2021-03-23",
          "2021-03-24",
          "2021-03-25",
          "2021-03-26",
          "2021-03-29",
          "2021-03-30",
          "2021-03-31",
          "2021-04-01",
          "2021-04-05",
          "2021-04-06",
          "2021-04-07",
          "2021-04-08",
          "2021-04-09",
          "2021-04-12",
          "2021-04-13",
          "2021-04-14",
          "2021-04-15",
          "2021-04-16",
          "2021-04-19",
          "2021-04-20",
          "2021-04-21",
          "2021-04-22",
          "2021-04-23",
          "2021-04-26",
          "2021-04-27",
          "2021-04-28",
          "2021-04-29",
          "2021-04-30",
          "2021-05-03",
          "2021-05-04",
          "2021-05-05",
          "2021-05-06",
          "2021-05-07",
          "2021-05-10",
          "2021-05-11",
          "2021-05-12",
          "2021-05-13",
          "2021-05-14",
          "2021-05-17",
          "2021-05-18",
          "2021-05-19",
          "2021-05-20",
          "2021-05-21",
          "2021-05-24",
          "2021-05-25",
          "2021-05-26",
          "2021-05-27",
          "2021-05-28",
          "2021-06-01",
          "2021-06-02",
          "2021-06-03",
          "2021-06-04",
          "2021-06-07",
          "2021-06-08",
          "2021-06-09",
          "2021-06-10",
          "2021-06-11",
          "2021-06-14",
          "2021-06-15",
          "2021-06-16",
          "2021-06-17",
          "2021-06-18",
          "2021-06-21",
          "2021-06-22",
          "2021-06-23",
          "2021-06-24",
          "2021-06-25",
          "2021-06-28",
          "2021-06-29",
          "2021-06-30",
          "2021-07-01",
          "2021-07-02",
          "2021-07-06",
          "2021-07-07",
          "2021-07-08"
         ],
         "y": [
          0,
          0.002074074074073984,
          0.004377419014455769,
          0.011320524947638605,
          0.017591089140899928,
          0.030888974031450564,
          0.07398919023878849,
          0.1218537299768591,
          0.1660885280100842,
          0.1996072739598751,
          0.22483552930282952,
          0.2423943366251097,
          0.26547942289730897,
          0.28813896000499517,
          0.3085276496284126,
          0.3333791299774349,
          0.34875438074591314,
          0.35435561833360396,
          0.35017671299806524,
          0.3386505684735377,
          0.32809527290312684,
          0.31986854710502016,
          0.33434199870551173,
          0.3489187378253145,
          0.3594481158744156,
          0.37085578883987774,
          0.3743507525972575,
          0.3643511751552304,
          0.345906333385396,
          0.3221871379680945,
          0.29279935475267627,
          0.2532332422260784,
          0.20862495713038925,
          0.1566565994274528,
          0.09542236288861251,
          0.035042481672008664,
          -0.02809832831969536,
          -0.09135063336558441,
          -0.14668158796242453,
          -0.19859906126655086,
          -0.2530204472709442,
          -0.31020847411226393,
          -0.37053107220986214,
          -0.4315238840214707,
          -0.4745564684043939,
          -0.503473113295351,
          -0.5192833438134807,
          -0.5250259216860083,
          -0.5242369675008837,
          -0.5220297515787853,
          -0.5146686079916423,
          -0.5085548891033606,
          -0.499353084602575,
          -0.4893149607296573,
          -0.4840667492465085,
          -0.4907247896654731,
          -0.49907025926684145,
          -0.5089724854837373,
          -0.521202653309289,
          -0.5292338181242043,
          -0.5325272588666586,
          -0.5277952853279282,
          -0.5193118614843251,
          -0.5047068605537213,
          -0.48939023446511176,
          -0.4718791815893145,
          -0.45459014049261104,
          -0.44018226416851697,
          -0.4266940897333191,
          -0.4167078000655803,
          -0.41231922019463624,
          -0.4100912974426792,
          -0.4106333613199502,
          -0.4140213408497353,
          -0.4131259743610738,
          -0.40992758177510247,
          -0.4019663476414207,
          -0.38940422601329533,
          -0.3751652508477606,
          -0.35912843284501106,
          -0.3443800743316841,
          -0.33106569537634223,
          -0.3213057537977353,
          -0.31594613855784603,
          -0.3140222264634997,
          -0.3174659408460325,
          -0.3219339877858247,
          -0.3316601370295377,
          -0.34229937245887637,
          -0.3539280025633452,
          -0.367472751279084,
          -0.3765227550292574,
          -0.3814229520402542,
          -0.3808409283411275,
          -0.3771020611581369,
          -0.3707210513563158,
          -0.3618544642414626,
          -0.3515486595273305,
          -0.3396011454322205,
          -0.32025470620659524,
          -0.2957572903088129,
          -0.26959871131244817,
          -0.23868851693943113,
          -0.2042810045608541,
          -0.1635950405096101,
          -0.1232865304132051,
          -0.07994123180257764,
          -0.03694210708330205,
          0.004786965028379685,
          0.039054338927673155,
          0.06803585311866286,
          0.08899862748219983,
          0.1004427787337297,
          0.10892105052469928,
          0.11548584504302836,
          0.12247757433300233,
          0.1251026249089022,
          0.12361071722947442,
          0.12220664918351054,
          0.11873817729726462,
          0.11532286921730656,
          0.11361206088287763,
          0.1118430735417922,
          0.10764182274423433,
          0.09822145968472687,
          0.08404483683866179,
          0.06711960099502974,
          0.04729132754245781,
          0.0272133073534942
         ],
         "yaxis": "y3"
        },
        {
         "marker": {
          "color": [
           "#808080",
           "#17BECF",
           "#808080",
           "#17BECF",
           "#808080",
           "#17BECF",
           "#17BECF",
           "#808080",
           "#808080",
           "#808080",
           "#17BECF",
           "#808080",
           "#17BECF",
           "#808080",
           "#808080",
           "#17BECF",
           "#808080",
           "#808080",
           "#808080",
           "#808080",
           "#17BECF",
           "#17BECF",
           "#17BECF",
           "#808080",
           "#808080",
           "#17BECF",
           "#808080",
           "#808080",
           "#17BECF",
           "#808080",
           "#808080",
           "#808080",
           "#808080",
           "#808080",
           "#808080",
           "#17BECF",
           "#808080",
           "#808080",
           "#17BECF",
           "#808080",
           "#808080",
           "#808080",
           "#808080",
           "#808080",
           "#17BECF",
           "#808080",
           "#17BECF",
           "#808080",
           "#808080",
           "#808080",
           "#17BECF",
           "#808080",
           "#17BECF",
           "#808080",
           "#808080",
           "#808080",
           "#17BECF",
           "#808080",
           "#808080",
           "#17BECF",
           "#17BECF",
           "#17BECF",
           "#808080",
           "#17BECF",
           "#808080",
           "#17BECF",
           "#808080",
           "#808080",
           "#17BECF",
           "#808080",
           "#808080",
           "#17BECF",
           "#808080",
           "#808080",
           "#17BECF",
           "#808080",
           "#17BECF",
           "#17BECF",
           "#808080",
           "#17BECF",
           "#808080",
           "#808080",
           "#808080",
           "#808080",
           "#808080",
           "#808080",
           "#17BECF",
           "#808080",
           "#17BECF",
           "#808080",
           "#808080",
           "#17BECF",
           "#808080",
           "#17BECF",
           "#808080",
           "#808080",
           "#17BECF",
           "#808080",
           "#17BECF",
           "#17BECF",
           "#17BECF",
           "#808080",
           "#17BECF",
           "#17BECF",
           "#17BECF",
           "#808080",
           "#17BECF",
           "#808080",
           "#17BECF",
           "#808080",
           "#17BECF",
           "#808080",
           "#808080",
           "#17BECF",
           "#17BECF",
           "#17BECF",
           "#808080",
           "#808080",
           "#17BECF",
           "#808080",
           "#17BECF",
           "#17BECF",
           "#808080",
           "#808080",
           "#808080",
           "#808080",
           "#808080",
           "#808080",
           "#17BECF"
          ],
          "line": {
           "color": [
            "#808080",
            "#17BECF",
            "#808080",
            "#17BECF",
            "#808080",
            "#17BECF",
            "#17BECF",
            "#808080",
            "#808080",
            "#808080",
            "#17BECF",
            "#808080",
            "#17BECF",
            "#808080",
            "#808080",
            "#17BECF",
            "#808080",
            "#808080",
            "#808080",
            "#808080",
            "#17BECF",
            "#17BECF",
            "#17BECF",
            "#808080",
            "#808080",
            "#17BECF",
            "#808080",
            "#808080",
            "#17BECF",
            "#808080",
            "#808080",
            "#808080",
            "#808080",
            "#808080",
            "#808080",
            "#17BECF",
            "#808080",
            "#808080",
            "#17BECF",
            "#808080",
            "#808080",
            "#808080",
            "#808080",
            "#808080",
            "#17BECF",
            "#808080",
            "#17BECF",
            "#808080",
            "#808080",
            "#808080",
            "#17BECF",
            "#808080",
            "#17BECF",
            "#808080",
            "#808080",
            "#808080",
            "#17BECF",
            "#808080",
            "#808080",
            "#17BECF",
            "#17BECF",
            "#17BECF",
            "#808080",
            "#17BECF",
            "#808080",
            "#17BECF",
            "#808080",
            "#808080",
            "#17BECF",
            "#808080",
            "#808080",
            "#17BECF",
            "#808080",
            "#808080",
            "#17BECF",
            "#808080",
            "#17BECF",
            "#17BECF",
            "#808080",
            "#17BECF",
            "#808080",
            "#808080",
            "#808080",
            "#808080",
            "#808080",
            "#808080",
            "#17BECF",
            "#808080",
            "#17BECF",
            "#808080",
            "#808080",
            "#17BECF",
            "#808080",
            "#17BECF",
            "#808080",
            "#808080",
            "#17BECF",
            "#808080",
            "#17BECF",
            "#17BECF",
            "#17BECF",
            "#808080",
            "#17BECF",
            "#17BECF",
            "#17BECF",
            "#808080",
            "#17BECF",
            "#808080",
            "#17BECF",
            "#808080",
            "#17BECF",
            "#808080",
            "#808080",
            "#17BECF",
            "#17BECF",
            "#17BECF",
            "#808080",
            "#808080",
            "#17BECF",
            "#808080",
            "#17BECF",
            "#17BECF",
            "#808080",
            "#808080",
            "#808080",
            "#808080",
            "#808080",
            "#808080",
            "#17BECF"
           ],
           "width": 1
          }
         },
         "name": "Volume",
         "opacity": 0.8,
         "orientation": "v",
         "text": "",
         "type": "bar",
         "x": [
          "2021-01-04",
          "2021-01-05",
          "2021-01-06",
          "2021-01-07",
          "2021-01-08",
          "2021-01-11",
          "2021-01-12",
          "2021-01-13",
          "2021-01-14",
          "2021-01-15",
          "2021-01-19",
          "2021-01-20",
          "2021-01-21",
          "2021-01-22",
          "2021-01-25",
          "2021-01-26",
          "2021-01-27",
          "2021-01-28",
          "2021-01-29",
          "2021-02-01",
          "2021-02-02",
          "2021-02-03",
          "2021-02-04",
          "2021-02-05",
          "2021-02-08",
          "2021-02-09",
          "2021-02-10",
          "2021-02-11",
          "2021-02-12",
          "2021-02-16",
          "2021-02-17",
          "2021-02-18",
          "2021-02-19",
          "2021-02-22",
          "2021-02-23",
          "2021-02-24",
          "2021-02-25",
          "2021-02-26",
          "2021-03-01",
          "2021-03-02",
          "2021-03-03",
          "2021-03-04",
          "2021-03-05",
          "2021-03-08",
          "2021-03-09",
          "2021-03-10",
          "2021-03-11",
          "2021-03-12",
          "2021-03-15",
          "2021-03-16",
          "2021-03-17",
          "2021-03-18",
          "2021-03-19",
          "2021-03-22",
          "2021-03-23",
          "2021-03-24",
          "2021-03-25",
          "2021-03-26",
          "2021-03-29",
          "2021-03-30",
          "2021-03-31",
          "2021-04-01",
          "2021-04-05",
          "2021-04-06",
          "2021-04-07",
          "2021-04-08",
          "2021-04-09",
          "2021-04-12",
          "2021-04-13",
          "2021-04-14",
          "2021-04-15",
          "2021-04-16",
          "2021-04-19",
          "2021-04-20",
          "2021-04-21",
          "2021-04-22",
          "2021-04-23",
          "2021-04-26",
          "2021-04-27",
          "2021-04-28",
          "2021-04-29",
          "2021-04-30",
          "2021-05-03",
          "2021-05-04",
          "2021-05-05",
          "2021-05-06",
          "2021-05-07",
          "2021-05-10",
          "2021-05-11",
          "2021-05-12",
          "2021-05-13",
          "2021-05-14",
          "2021-05-17",
          "2021-05-18",
          "2021-05-19",
          "2021-05-20",
          "2021-05-21",
          "2021-05-24",
          "2021-05-25",
          "2021-05-26",
          "2021-05-27",
          "2021-05-28",
          "2021-06-01",
          "2021-06-02",
          "2021-06-03",
          "2021-06-04",
          "2021-06-07",
          "2021-06-08",
          "2021-06-09",
          "2021-06-10",
          "2021-06-11",
          "2021-06-14",
          "2021-06-15",
          "2021-06-16",
          "2021-06-17",
          "2021-06-18",
          "2021-06-21",
          "2021-06-22",
          "2021-06-23",
          "2021-06-24",
          "2021-06-25",
          "2021-06-28",
          "2021-06-29",
          "2021-06-30",
          "2021-07-01",
          "2021-07-02",
          "2021-07-06",
          "2021-07-07",
          "2021-07-08"
         ],
         "y": [
          15023700,
          8373900,
          17963700,
          17988100,
          16999300,
          27796500,
          54305500,
          26079200,
          14436100,
          19128100,
          13266500,
          12199700,
          30555400,
          15042800,
          31886300,
          22889500,
          20013800,
          9754400,
          16984500,
          12831000,
          15883000,
          14394600,
          40065600,
          24456500,
          11860500,
          22153200,
          25709300,
          19260300,
          10764100,
          11877700,
          13561800,
          11168900,
          9249400,
          10722600,
          15817400,
          7211400,
          7719800,
          10624300,
          6435800,
          5430900,
          9382900,
          12405200,
          13400100,
          8322700,
          17745200,
          10300300,
          8568900,
          6934500,
          8435900,
          7589600,
          6197400,
          5023900,
          4842500,
          5706700,
          7294000,
          11671600,
          8198500,
          6647200,
          5298600,
          5557300,
          3967800,
          9221800,
          5390600,
          4849100,
          4606200,
          3262900,
          4091000,
          3829400,
          3965700,
          4495900,
          6257700,
          4890400,
          4591000,
          4162100,
          9404400,
          5620700,
          2653900,
          5059600,
          4737000,
          5416200,
          4673600,
          2470800,
          5286800,
          5490100,
          2882700,
          5238600,
          2795000,
          4909400,
          5476500,
          5542700,
          4321100,
          4097000,
          3437100,
          4198900,
          4210100,
          2823900,
          2817500,
          2845500,
          2874100,
          7513300,
          5312300,
          3541600,
          6072600,
          7325900,
          13756400,
          5500900,
          5049900,
          6252600,
          8131600,
          5042400,
          3566000,
          5111700,
          4070100,
          3677300,
          4112200,
          6065900,
          2940500,
          2104900,
          5089100,
          3203000,
          3817200,
          5721900,
          4528200,
          2469200,
          4592200,
          4369400,
          2575800,
          3478000,
          4170200
         ],
         "yaxis": "y4"
        },
        {
         "close": [
          6.58,
          6.71,
          6.65,
          6.94,
          6.74,
          7.23,
          8.87,
          8.15,
          7.91,
          7.55,
          7.59,
          7.55,
          8.29,
          8.16,
          8.15,
          8.63,
          7.99,
          7.85,
          7.69,
          7.65,
          8.01,
          8.13,
          9.48,
          8.69,
          8.53,
          8.83,
          8.39,
          7.92,
          7.94,
          7.93,
          7.75,
          7.28,
          7.27,
          6.89,
          6.45,
          6.68,
          6.28,
          6.17,
          6.45,
          6.15,
          5.66,
          5.37,
          5.05,
          4.88,
          5.77,
          5.74,
          5.84,
          5.83,
          5.75,
          5.51,
          5.71,
          5.38,
          5.57,
          5.46,
          5.09,
          4.48,
          4.75,
          4.62,
          4.43,
          4.67,
          4.7,
          4.93,
          4.79,
          4.98,
          4.76,
          4.85,
          4.74,
          4.56,
          4.6,
          4.4,
          4.16,
          4.2,
          4.06,
          3.93,
          4.24,
          4.16,
          4.32,
          4.39,
          4.3,
          4.34,
          4.19,
          4.15,
          3.98,
          3.83,
          3.76,
          3.52,
          3.61,
          3.26,
          3.33,
          3.22,
          3.05,
          3.31,
          3.31,
          3.42,
          3.35,
          3.35,
          3.37,
          3.34,
          3.37,
          3.76,
          3.81,
          3.75,
          4.03,
          4.13,
          4.47,
          4.31,
          4.63,
          4.62,
          4.69,
          4.41,
          4.49,
          4.3,
          4.1,
          4.34,
          4.38,
          4.52,
          4.27,
          4.21,
          4.39,
          4.27,
          4.36,
          4.47,
          4.41,
          4.27,
          4.04,
          3.93,
          3.91,
          3.79,
          3.83
         ],
         "decreasing": {
          "line": {
           "color": "#808080"
          }
         },
         "high": [
          6.95,
          6.8,
          7.23,
          7.41,
          7.23,
          7.57,
          8.98,
          8.87,
          8.34,
          8.49,
          7.78,
          7.79,
          8.43,
          8.35,
          9.21,
          8.77,
          8.43,
          8.2,
          8.49,
          7.9,
          8.22,
          8.63,
          9.74,
          9.4,
          8.95,
          9.23,
          9.11,
          8.75,
          8.15,
          8.24,
          8,
          7.74,
          7.53,
          7.19,
          6.53,
          6.83,
          6.68,
          6.3,
          6.48,
          6.54,
          6.25,
          5.85,
          5.33,
          5.43,
          6.05,
          6.15,
          5.95,
          5.86,
          6.04,
          5.89,
          5.78,
          5.69,
          5.57,
          5.7,
          5.46,
          5.09,
          4.78,
          4.78,
          4.58,
          4.67,
          4.8,
          5.3,
          5.14,
          5.08,
          5.02,
          4.91,
          4.82,
          4.73,
          4.61,
          4.6,
          4.46,
          4.21,
          4.2,
          4.08,
          4.28,
          4.36,
          4.32,
          4.44,
          4.43,
          4.47,
          4.4,
          4.27,
          4.18,
          3.96,
          3.93,
          3.76,
          3.73,
          3.62,
          3.39,
          3.38,
          3.32,
          3.37,
          3.36,
          3.53,
          3.35,
          3.38,
          3.41,
          3.38,
          3.47,
          3.88,
          3.82,
          3.95,
          4.08,
          4.13,
          4.78,
          4.61,
          4.66,
          4.74,
          4.95,
          4.75,
          4.61,
          4.58,
          4.35,
          4.34,
          4.55,
          4.56,
          4.5,
          4.33,
          4.51,
          4.46,
          4.4,
          4.71,
          4.51,
          4.37,
          4.32,
          4.09,
          4.11,
          3.98,
          3.98
         ],
         "increasing": {
          "line": {
           "color": "#17BECF"
          }
         },
         "low": [
          6.26,
          6.4,
          6.5,
          6.81,
          6.56,
          6.66,
          7.13,
          7.87,
          7.61,
          7.46,
          7.26,
          7.08,
          7.22,
          7.77,
          7.52,
          7.93,
          7.7,
          7.7,
          7.63,
          7.16,
          7.38,
          8.06,
          7.98,
          8.33,
          8.47,
          8.09,
          8.16,
          7.67,
          7.85,
          7.77,
          7.33,
          7.2,
          7.21,
          6.81,
          5.3,
          6.37,
          6.16,
          5.76,
          6.05,
          6.14,
          5.61,
          5,
          4.34,
          4.82,
          5.19,
          5.57,
          5.75,
          5.62,
          5.65,
          5.37,
          5.24,
          5.32,
          5.25,
          5.45,
          5.02,
          4.46,
          4.28,
          4.41,
          4.35,
          4.24,
          4.63,
          4.86,
          4.72,
          4.69,
          4.74,
          4.69,
          4.62,
          4.46,
          4.4,
          4.37,
          4.04,
          3.94,
          3.94,
          3.87,
          3.79,
          4.1,
          4.13,
          4.18,
          4.25,
          4.24,
          4.07,
          4.1,
          3.96,
          3.72,
          3.71,
          3.46,
          3.51,
          3.26,
          3,
          3.15,
          2.97,
          3.12,
          3.2,
          3.26,
          3.18,
          3.25,
          3.27,
          3.22,
          3.27,
          3.33,
          3.57,
          3.73,
          3.84,
          3.82,
          3.97,
          4.22,
          4.25,
          4.48,
          4.64,
          4.38,
          4.39,
          4.23,
          4.1,
          4.03,
          4.27,
          4.24,
          4.25,
          4.16,
          4.16,
          4.26,
          4.26,
          4.37,
          4.27,
          4.25,
          4.02,
          3.87,
          3.84,
          3.69,
          3.62
         ],
         "name": "GS",
         "open": [
          6.38,
          6.57,
          6.8,
          6.89,
          7.12,
          6.67,
          7.35,
          8.73,
          8.34,
          8.17,
          7.64,
          7.67,
          7.58,
          8.05,
          8.38,
          8.25,
          8.13,
          8,
          7.95,
          7.88,
          7.74,
          8.22,
          8.18,
          9.24,
          8.82,
          8.52,
          8.79,
          8.51,
          7.95,
          8.08,
          7.94,
          7.53,
          7.45,
          7.14,
          6.24,
          6.59,
          6.6,
          6.17,
          6.22,
          6.45,
          6.21,
          5.56,
          5.32,
          5.19,
          5.21,
          6.05,
          5.94,
          5.7,
          5.94,
          5.85,
          5.39,
          5.62,
          5.41,
          5.64,
          5.46,
          5.06,
          4.31,
          4.69,
          4.54,
          4.4,
          4.77,
          4.99,
          5.13,
          4.75,
          5,
          4.83,
          4.8,
          4.71,
          4.57,
          4.52,
          4.46,
          4.05,
          4.17,
          4.01,
          3.86,
          4.25,
          4.19,
          4.35,
          4.4,
          4.28,
          4.4,
          4.11,
          4.15,
          3.96,
          3.87,
          3.71,
          3.58,
          3.6,
          3.02,
          3.38,
          3.26,
          3.12,
          3.26,
          3.33,
          3.24,
          3.38,
          3.38,
          3.37,
          3.32,
          3.37,
          3.8,
          3.88,
          3.91,
          4.12,
          4.1,
          4.55,
          4.38,
          4.7,
          4.75,
          4.72,
          4.45,
          4.5,
          4.35,
          4.06,
          4.28,
          4.34,
          4.43,
          4.25,
          4.17,
          4.42,
          4.29,
          4.39,
          4.46,
          4.32,
          4.3,
          4.09,
          3.96,
          3.98,
          3.63
         ],
         "showlegend": true,
         "type": "candlestick",
         "x": [
          "2021-01-04",
          "2021-01-05",
          "2021-01-06",
          "2021-01-07",
          "2021-01-08",
          "2021-01-11",
          "2021-01-12",
          "2021-01-13",
          "2021-01-14",
          "2021-01-15",
          "2021-01-19",
          "2021-01-20",
          "2021-01-21",
          "2021-01-22",
          "2021-01-25",
          "2021-01-26",
          "2021-01-27",
          "2021-01-28",
          "2021-01-29",
          "2021-02-01",
          "2021-02-02",
          "2021-02-03",
          "2021-02-04",
          "2021-02-05",
          "2021-02-08",
          "2021-02-09",
          "2021-02-10",
          "2021-02-11",
          "2021-02-12",
          "2021-02-16",
          "2021-02-17",
          "2021-02-18",
          "2021-02-19",
          "2021-02-22",
          "2021-02-23",
          "2021-02-24",
          "2021-02-25",
          "2021-02-26",
          "2021-03-01",
          "2021-03-02",
          "2021-03-03",
          "2021-03-04",
          "2021-03-05",
          "2021-03-08",
          "2021-03-09",
          "2021-03-10",
          "2021-03-11",
          "2021-03-12",
          "2021-03-15",
          "2021-03-16",
          "2021-03-17",
          "2021-03-18",
          "2021-03-19",
          "2021-03-22",
          "2021-03-23",
          "2021-03-24",
          "2021-03-25",
          "2021-03-26",
          "2021-03-29",
          "2021-03-30",
          "2021-03-31",
          "2021-04-01",
          "2021-04-05",
          "2021-04-06",
          "2021-04-07",
          "2021-04-08",
          "2021-04-09",
          "2021-04-12",
          "2021-04-13",
          "2021-04-14",
          "2021-04-15",
          "2021-04-16",
          "2021-04-19",
          "2021-04-20",
          "2021-04-21",
          "2021-04-22",
          "2021-04-23",
          "2021-04-26",
          "2021-04-27",
          "2021-04-28",
          "2021-04-29",
          "2021-04-30",
          "2021-05-03",
          "2021-05-04",
          "2021-05-05",
          "2021-05-06",
          "2021-05-07",
          "2021-05-10",
          "2021-05-11",
          "2021-05-12",
          "2021-05-13",
          "2021-05-14",
          "2021-05-17",
          "2021-05-18",
          "2021-05-19",
          "2021-05-20",
          "2021-05-21",
          "2021-05-24",
          "2021-05-25",
          "2021-05-26",
          "2021-05-27",
          "2021-05-28",
          "2021-06-01",
          "2021-06-02",
          "2021-06-03",
          "2021-06-04",
          "2021-06-07",
          "2021-06-08",
          "2021-06-09",
          "2021-06-10",
          "2021-06-11",
          "2021-06-14",
          "2021-06-15",
          "2021-06-16",
          "2021-06-17",
          "2021-06-18",
          "2021-06-21",
          "2021-06-22",
          "2021-06-23",
          "2021-06-24",
          "2021-06-25",
          "2021-06-28",
          "2021-06-29",
          "2021-06-30",
          "2021-07-01",
          "2021-07-02",
          "2021-07-06",
          "2021-07-07",
          "2021-07-08"
         ],
         "yaxis": "y2"
        }
       ],
       "layout": {
        "legend": {
         "bgcolor": "#F5F6F9",
         "font": {
          "color": "#4D5663"
         }
        },
        "margin": {
         "b": 30,
         "l": 30,
         "r": 30,
         "t": 30
        },
        "paper_bgcolor": "#F5F6F9",
        "plot_bgcolor": "#F5F6F9",
        "showlegend": true,
        "template": {
         "data": {
          "bar": [
           {
            "error_x": {
             "color": "#2a3f5f"
            },
            "error_y": {
             "color": "#2a3f5f"
            },
            "marker": {
             "line": {
              "color": "#E5ECF6",
              "width": 0.5
             }
            },
            "type": "bar"
           }
          ],
          "barpolar": [
           {
            "marker": {
             "line": {
              "color": "#E5ECF6",
              "width": 0.5
             }
            },
            "type": "barpolar"
           }
          ],
          "carpet": [
           {
            "aaxis": {
             "endlinecolor": "#2a3f5f",
             "gridcolor": "white",
             "linecolor": "white",
             "minorgridcolor": "white",
             "startlinecolor": "#2a3f5f"
            },
            "baxis": {
             "endlinecolor": "#2a3f5f",
             "gridcolor": "white",
             "linecolor": "white",
             "minorgridcolor": "white",
             "startlinecolor": "#2a3f5f"
            },
            "type": "carpet"
           }
          ],
          "choropleth": [
           {
            "colorbar": {
             "outlinewidth": 0,
             "ticks": ""
            },
            "type": "choropleth"
           }
          ],
          "contour": [
           {
            "colorbar": {
             "outlinewidth": 0,
             "ticks": ""
            },
            "colorscale": [
             [
              0,
              "#0d0887"
             ],
             [
              0.1111111111111111,
              "#46039f"
             ],
             [
              0.2222222222222222,
              "#7201a8"
             ],
             [
              0.3333333333333333,
              "#9c179e"
             ],
             [
              0.4444444444444444,
              "#bd3786"
             ],
             [
              0.5555555555555556,
              "#d8576b"
             ],
             [
              0.6666666666666666,
              "#ed7953"
             ],
             [
              0.7777777777777778,
              "#fb9f3a"
             ],
             [
              0.8888888888888888,
              "#fdca26"
             ],
             [
              1,
              "#f0f921"
             ]
            ],
            "type": "contour"
           }
          ],
          "contourcarpet": [
           {
            "colorbar": {
             "outlinewidth": 0,
             "ticks": ""
            },
            "type": "contourcarpet"
           }
          ],
          "heatmap": [
           {
            "colorbar": {
             "outlinewidth": 0,
             "ticks": ""
            },
            "colorscale": [
             [
              0,
              "#0d0887"
             ],
             [
              0.1111111111111111,
              "#46039f"
             ],
             [
              0.2222222222222222,
              "#7201a8"
             ],
             [
              0.3333333333333333,
              "#9c179e"
             ],
             [
              0.4444444444444444,
              "#bd3786"
             ],
             [
              0.5555555555555556,
              "#d8576b"
             ],
             [
              0.6666666666666666,
              "#ed7953"
             ],
             [
              0.7777777777777778,
              "#fb9f3a"
             ],
             [
              0.8888888888888888,
              "#fdca26"
             ],
             [
              1,
              "#f0f921"
             ]
            ],
            "type": "heatmap"
           }
          ],
          "heatmapgl": [
           {
            "colorbar": {
             "outlinewidth": 0,
             "ticks": ""
            },
            "colorscale": [
             [
              0,
              "#0d0887"
             ],
             [
              0.1111111111111111,
              "#46039f"
             ],
             [
              0.2222222222222222,
              "#7201a8"
             ],
             [
              0.3333333333333333,
              "#9c179e"
             ],
             [
              0.4444444444444444,
              "#bd3786"
             ],
             [
              0.5555555555555556,
              "#d8576b"
             ],
             [
              0.6666666666666666,
              "#ed7953"
             ],
             [
              0.7777777777777778,
              "#fb9f3a"
             ],
             [
              0.8888888888888888,
              "#fdca26"
             ],
             [
              1,
              "#f0f921"
             ]
            ],
            "type": "heatmapgl"
           }
          ],
          "histogram": [
           {
            "marker": {
             "colorbar": {
              "outlinewidth": 0,
              "ticks": ""
             }
            },
            "type": "histogram"
           }
          ],
          "histogram2d": [
           {
            "colorbar": {
             "outlinewidth": 0,
             "ticks": ""
            },
            "colorscale": [
             [
              0,
              "#0d0887"
             ],
             [
              0.1111111111111111,
              "#46039f"
             ],
             [
              0.2222222222222222,
              "#7201a8"
             ],
             [
              0.3333333333333333,
              "#9c179e"
             ],
             [
              0.4444444444444444,
              "#bd3786"
             ],
             [
              0.5555555555555556,
              "#d8576b"
             ],
             [
              0.6666666666666666,
              "#ed7953"
             ],
             [
              0.7777777777777778,
              "#fb9f3a"
             ],
             [
              0.8888888888888888,
              "#fdca26"
             ],
             [
              1,
              "#f0f921"
             ]
            ],
            "type": "histogram2d"
           }
          ],
          "histogram2dcontour": [
           {
            "colorbar": {
             "outlinewidth": 0,
             "ticks": ""
            },
            "colorscale": [
             [
              0,
              "#0d0887"
             ],
             [
              0.1111111111111111,
              "#46039f"
             ],
             [
              0.2222222222222222,
              "#7201a8"
             ],
             [
              0.3333333333333333,
              "#9c179e"
             ],
             [
              0.4444444444444444,
              "#bd3786"
             ],
             [
              0.5555555555555556,
              "#d8576b"
             ],
             [
              0.6666666666666666,
              "#ed7953"
             ],
             [
              0.7777777777777778,
              "#fb9f3a"
             ],
             [
              0.8888888888888888,
              "#fdca26"
             ],
             [
              1,
              "#f0f921"
             ]
            ],
            "type": "histogram2dcontour"
           }
          ],
          "mesh3d": [
           {
            "colorbar": {
             "outlinewidth": 0,
             "ticks": ""
            },
            "type": "mesh3d"
           }
          ],
          "parcoords": [
           {
            "line": {
             "colorbar": {
              "outlinewidth": 0,
              "ticks": ""
             }
            },
            "type": "parcoords"
           }
          ],
          "pie": [
           {
            "automargin": true,
            "type": "pie"
           }
          ],
          "scatter": [
           {
            "marker": {
             "colorbar": {
              "outlinewidth": 0,
              "ticks": ""
             }
            },
            "type": "scatter"
           }
          ],
          "scatter3d": [
           {
            "line": {
             "colorbar": {
              "outlinewidth": 0,
              "ticks": ""
             }
            },
            "marker": {
             "colorbar": {
              "outlinewidth": 0,
              "ticks": ""
             }
            },
            "type": "scatter3d"
           }
          ],
          "scattercarpet": [
           {
            "marker": {
             "colorbar": {
              "outlinewidth": 0,
              "ticks": ""
             }
            },
            "type": "scattercarpet"
           }
          ],
          "scattergeo": [
           {
            "marker": {
             "colorbar": {
              "outlinewidth": 0,
              "ticks": ""
             }
            },
            "type": "scattergeo"
           }
          ],
          "scattergl": [
           {
            "marker": {
             "colorbar": {
              "outlinewidth": 0,
              "ticks": ""
             }
            },
            "type": "scattergl"
           }
          ],
          "scattermapbox": [
           {
            "marker": {
             "colorbar": {
              "outlinewidth": 0,
              "ticks": ""
             }
            },
            "type": "scattermapbox"
           }
          ],
          "scatterpolar": [
           {
            "marker": {
             "colorbar": {
              "outlinewidth": 0,
              "ticks": ""
             }
            },
            "type": "scatterpolar"
           }
          ],
          "scatterpolargl": [
           {
            "marker": {
             "colorbar": {
              "outlinewidth": 0,
              "ticks": ""
             }
            },
            "type": "scatterpolargl"
           }
          ],
          "scatterternary": [
           {
            "marker": {
             "colorbar": {
              "outlinewidth": 0,
              "ticks": ""
             }
            },
            "type": "scatterternary"
           }
          ],
          "surface": [
           {
            "colorbar": {
             "outlinewidth": 0,
             "ticks": ""
            },
            "colorscale": [
             [
              0,
              "#0d0887"
             ],
             [
              0.1111111111111111,
              "#46039f"
             ],
             [
              0.2222222222222222,
              "#7201a8"
             ],
             [
              0.3333333333333333,
              "#9c179e"
             ],
             [
              0.4444444444444444,
              "#bd3786"
             ],
             [
              0.5555555555555556,
              "#d8576b"
             ],
             [
              0.6666666666666666,
              "#ed7953"
             ],
             [
              0.7777777777777778,
              "#fb9f3a"
             ],
             [
              0.8888888888888888,
              "#fdca26"
             ],
             [
              1,
              "#f0f921"
             ]
            ],
            "type": "surface"
           }
          ],
          "table": [
           {
            "cells": {
             "fill": {
              "color": "#EBF0F8"
             },
             "line": {
              "color": "white"
             }
            },
            "header": {
             "fill": {
              "color": "#C8D4E3"
             },
             "line": {
              "color": "white"
             }
            },
            "type": "table"
           }
          ]
         },
         "layout": {
          "annotationdefaults": {
           "arrowcolor": "#2a3f5f",
           "arrowhead": 0,
           "arrowwidth": 1
          },
          "coloraxis": {
           "colorbar": {
            "outlinewidth": 0,
            "ticks": ""
           }
          },
          "colorscale": {
           "diverging": [
            [
             0,
             "#8e0152"
            ],
            [
             0.1,
             "#c51b7d"
            ],
            [
             0.2,
             "#de77ae"
            ],
            [
             0.3,
             "#f1b6da"
            ],
            [
             0.4,
             "#fde0ef"
            ],
            [
             0.5,
             "#f7f7f7"
            ],
            [
             0.6,
             "#e6f5d0"
            ],
            [
             0.7,
             "#b8e186"
            ],
            [
             0.8,
             "#7fbc41"
            ],
            [
             0.9,
             "#4d9221"
            ],
            [
             1,
             "#276419"
            ]
           ],
           "sequential": [
            [
             0,
             "#0d0887"
            ],
            [
             0.1111111111111111,
             "#46039f"
            ],
            [
             0.2222222222222222,
             "#7201a8"
            ],
            [
             0.3333333333333333,
             "#9c179e"
            ],
            [
             0.4444444444444444,
             "#bd3786"
            ],
            [
             0.5555555555555556,
             "#d8576b"
            ],
            [
             0.6666666666666666,
             "#ed7953"
            ],
            [
             0.7777777777777778,
             "#fb9f3a"
            ],
            [
             0.8888888888888888,
             "#fdca26"
            ],
            [
             1,
             "#f0f921"
            ]
           ],
           "sequentialminus": [
            [
             0,
             "#0d0887"
            ],
            [
             0.1111111111111111,
             "#46039f"
            ],
            [
             0.2222222222222222,
             "#7201a8"
            ],
            [
             0.3333333333333333,
             "#9c179e"
            ],
            [
             0.4444444444444444,
             "#bd3786"
            ],
            [
             0.5555555555555556,
             "#d8576b"
            ],
            [
             0.6666666666666666,
             "#ed7953"
            ],
            [
             0.7777777777777778,
             "#fb9f3a"
            ],
            [
             0.8888888888888888,
             "#fdca26"
            ],
            [
             1,
             "#f0f921"
            ]
           ]
          },
          "colorway": [
           "#636efa",
           "#EF553B",
           "#00cc96",
           "#ab63fa",
           "#FFA15A",
           "#19d3f3",
           "#FF6692",
           "#B6E880",
           "#FF97FF",
           "#FECB52"
          ],
          "font": {
           "color": "#2a3f5f"
          },
          "geo": {
           "bgcolor": "white",
           "lakecolor": "white",
           "landcolor": "#E5ECF6",
           "showlakes": true,
           "showland": true,
           "subunitcolor": "white"
          },
          "hoverlabel": {
           "align": "left"
          },
          "hovermode": "closest",
          "mapbox": {
           "style": "light"
          },
          "paper_bgcolor": "white",
          "plot_bgcolor": "#E5ECF6",
          "polar": {
           "angularaxis": {
            "gridcolor": "white",
            "linecolor": "white",
            "ticks": ""
           },
           "bgcolor": "#E5ECF6",
           "radialaxis": {
            "gridcolor": "white",
            "linecolor": "white",
            "ticks": ""
           }
          },
          "scene": {
           "xaxis": {
            "backgroundcolor": "#E5ECF6",
            "gridcolor": "white",
            "gridwidth": 2,
            "linecolor": "white",
            "showbackground": true,
            "ticks": "",
            "zerolinecolor": "white"
           },
           "yaxis": {
            "backgroundcolor": "#E5ECF6",
            "gridcolor": "white",
            "gridwidth": 2,
            "linecolor": "white",
            "showbackground": true,
            "ticks": "",
            "zerolinecolor": "white"
           },
           "zaxis": {
            "backgroundcolor": "#E5ECF6",
            "gridcolor": "white",
            "gridwidth": 2,
            "linecolor": "white",
            "showbackground": true,
            "ticks": "",
            "zerolinecolor": "white"
           }
          },
          "shapedefaults": {
           "line": {
            "color": "#2a3f5f"
           }
          },
          "ternary": {
           "aaxis": {
            "gridcolor": "white",
            "linecolor": "white",
            "ticks": ""
           },
           "baxis": {
            "gridcolor": "white",
            "linecolor": "white",
            "ticks": ""
           },
           "bgcolor": "#E5ECF6",
           "caxis": {
            "gridcolor": "white",
            "linecolor": "white",
            "ticks": ""
           }
          },
          "title": {
           "x": 0.05
          },
          "xaxis": {
           "automargin": true,
           "gridcolor": "white",
           "linecolor": "white",
           "ticks": "",
           "title": {
            "standoff": 15
           },
           "zerolinecolor": "white",
           "zerolinewidth": 2
          },
          "yaxis": {
           "automargin": true,
           "gridcolor": "white",
           "linecolor": "white",
           "ticks": "",
           "title": {
            "standoff": 15
           },
           "zerolinecolor": "white",
           "zerolinewidth": 2
          }
         }
        },
        "title": {
         "font": {
          "color": "#4D5663"
         },
         "text": "SOLO | Quant Figure"
        },
        "xaxis": {
         "anchor": "y2",
         "gridcolor": "#E1E5ED",
         "rangeselector": {
          "bgcolor": "rgba(150, 200, 250, 1)",
          "buttons": [
           {
            "count": 1,
            "label": "1m",
            "step": "month",
            "stepmode": "backward"
           },
           {
            "count": 1,
            "label": "1y",
            "step": "year",
            "stepmode": "backward"
           }
          ],
          "font": {
           "size": 13
          },
          "visible": false,
          "x": 0,
          "y": 0.9
         },
         "rangeslider": {
          "visible": false
         },
         "showgrid": true,
         "tickfont": {
          "color": "#4D5663"
         },
         "title": {
          "font": {
           "color": "#4D5663"
          },
          "text": ""
         },
         "zerolinecolor": "#E1E5ED"
        },
        "yaxis": {
         "gridcolor": "#E1E5ED",
         "showgrid": true,
         "showticklabels": false,
         "tickfont": {
          "color": "#4D5663"
         },
         "title": {
          "font": {
           "color": "#4D5663"
          },
          "text": ""
         },
         "zerolinecolor": "#E1E5ED"
        },
        "yaxis2": {
         "domain": [
          0.46,
          0.9
         ],
         "gridcolor": "#E1E5ED",
         "showgrid": true,
         "tickfont": {
          "color": "#4D5663"
         },
         "title": {
          "font": {
           "color": "#4D5663"
          },
          "text": ""
         },
         "zerolinecolor": "#E1E5ED"
        },
        "yaxis3": {
         "domain": [
          0.23,
          0.38
         ],
         "gridcolor": "#E1E5ED",
         "showgrid": true,
         "tickfont": {
          "color": "#4D5663"
         },
         "title": {
          "font": {
           "color": "#4D5663"
          },
          "text": ""
         },
         "zerolinecolor": "#E1E5ED"
        },
        "yaxis4": {
         "domain": [
          0,
          0.15
         ],
         "gridcolor": "#E1E5ED",
         "showgrid": true,
         "tickfont": {
          "color": "#4D5663"
         },
         "title": {
          "font": {
           "color": "#4D5663"
          },
          "text": ""
         },
         "zerolinecolor": "#E1E5ED"
        }
       }
      },
      "text/html": [
       "<div>                            <div id=\"39dfd361-4d8f-48b0-8ccf-17fc669e3cff\" class=\"plotly-graph-div\" style=\"height:525px; width:100%;\"></div>            <script type=\"text/javascript\">                require([\"plotly\"], function(Plotly) {                    window.PLOTLYENV=window.PLOTLYENV || {};\n",
       "                    window.PLOTLYENV.BASE_URL='https://plotly.com';                                    if (document.getElementById(\"39dfd361-4d8f-48b0-8ccf-17fc669e3cff\")) {                    Plotly.newPlot(                        \"39dfd361-4d8f-48b0-8ccf-17fc669e3cff\",                        [{\"legendgroup\": \"BOLL(Close,20)\", \"line\": {\"color\": \"rgba(255, 0, 255, 1.0)\", \"dash\": \"solid\", \"shape\": \"linear\", \"width\": 1.3}, \"mode\": \"lines\", \"name\": \"BOLL(Close,20)\", \"showlegend\": true, \"text\": \"\", \"type\": \"scatter\", \"x\": [\"2021-01-04\", \"2021-01-05\", \"2021-01-06\", \"2021-01-07\", \"2021-01-08\", \"2021-01-11\", \"2021-01-12\", \"2021-01-13\", \"2021-01-14\", \"2021-01-15\", \"2021-01-19\", \"2021-01-20\", \"2021-01-21\", \"2021-01-22\", \"2021-01-25\", \"2021-01-26\", \"2021-01-27\", \"2021-01-28\", \"2021-01-29\", \"2021-02-01\", \"2021-02-02\", \"2021-02-03\", \"2021-02-04\", \"2021-02-05\", \"2021-02-08\", \"2021-02-09\", \"2021-02-10\", \"2021-02-11\", \"2021-02-12\", \"2021-02-16\", \"2021-02-17\", \"2021-02-18\", \"2021-02-19\", \"2021-02-22\", \"2021-02-23\", \"2021-02-24\", \"2021-02-25\", \"2021-02-26\", \"2021-03-01\", \"2021-03-02\", \"2021-03-03\", \"2021-03-04\", \"2021-03-05\", \"2021-03-08\", \"2021-03-09\", \"2021-03-10\", \"2021-03-11\", \"2021-03-12\", \"2021-03-15\", \"2021-03-16\", \"2021-03-17\", \"2021-03-18\", \"2021-03-19\", \"2021-03-22\", \"2021-03-23\", \"2021-03-24\", \"2021-03-25\", \"2021-03-26\", \"2021-03-29\", \"2021-03-30\", \"2021-03-31\", \"2021-04-01\", \"2021-04-05\", \"2021-04-06\", \"2021-04-07\", \"2021-04-08\", \"2021-04-09\", \"2021-04-12\", \"2021-04-13\", \"2021-04-14\", \"2021-04-15\", \"2021-04-16\", \"2021-04-19\", \"2021-04-20\", \"2021-04-21\", \"2021-04-22\", \"2021-04-23\", \"2021-04-26\", \"2021-04-27\", \"2021-04-28\", \"2021-04-29\", \"2021-04-30\", \"2021-05-03\", \"2021-05-04\", \"2021-05-05\", \"2021-05-06\", \"2021-05-07\", \"2021-05-10\", \"2021-05-11\", \"2021-05-12\", \"2021-05-13\", \"2021-05-14\", \"2021-05-17\", \"2021-05-18\", \"2021-05-19\", \"2021-05-20\", \"2021-05-21\", \"2021-05-24\", \"2021-05-25\", \"2021-05-26\", \"2021-05-27\", \"2021-05-28\", \"2021-06-01\", \"2021-06-02\", \"2021-06-03\", \"2021-06-04\", \"2021-06-07\", \"2021-06-08\", \"2021-06-09\", \"2021-06-10\", \"2021-06-11\", \"2021-06-14\", \"2021-06-15\", \"2021-06-16\", \"2021-06-17\", \"2021-06-18\", \"2021-06-21\", \"2021-06-22\", \"2021-06-23\", \"2021-06-24\", \"2021-06-25\", \"2021-06-28\", \"2021-06-29\", \"2021-06-30\", \"2021-07-01\", \"2021-07-02\", \"2021-07-06\", \"2021-07-07\", \"2021-07-08\"], \"y\": [\"\", \"\", \"\", \"\", \"\", \"\", \"\", \"\", \"\", \"\", \"\", \"\", \"\", \"\", \"\", \"\", \"\", \"\", \"\", 7.644, 7.715499999999999, 7.786499999999998, 7.927999999999997, 8.015499999999998, 8.104999999999997, 8.184999999999999, 8.160999999999998, 8.149499999999998, 8.150999999999998, 8.169999999999998, 8.177999999999997, 8.164499999999997, 8.113499999999998, 8.049999999999997, 7.964999999999996, 7.867499999999997, 7.7819999999999965, 7.697999999999996, 7.635999999999996, 7.5609999999999955, 7.443499999999996, 7.305499999999997, 7.083999999999998, 6.893499999999998, 6.755499999999998, 6.600999999999997, 6.473499999999999, 6.368999999999999, 6.2595, 6.138499999999999, 6.036499999999999, 5.9415, 5.856499999999999, 5.784999999999998, 5.716999999999999, 5.606999999999999, 5.530499999999999, 5.452999999999999, 5.3519999999999985, 5.277999999999999, 5.229999999999999, 5.207999999999998, 5.1949999999999985, 5.199999999999999, 5.1495, 5.1049999999999995, 5.049999999999999, 4.9864999999999995, 4.928999999999999, 4.873499999999999, 4.795999999999999, 4.737, 4.661499999999999, 4.585, 4.5424999999999995, 4.5264999999999995, 4.505, 4.493499999999999, 4.486999999999999, 4.4704999999999995, 4.4449999999999985, 4.405999999999999, 4.365499999999999, 4.307999999999998, 4.257999999999998, 4.191499999999999, 4.134999999999999, 4.0699999999999985, 4.006499999999999, 3.947499999999999, 3.8919999999999986, 3.847499999999999, 3.8099999999999987, 3.7844999999999986, 3.7399999999999984, 3.6994999999999982, 3.6519999999999984, 3.599499999999998, 3.5529999999999986, 3.5239999999999987, 3.504999999999999, 3.4849999999999985, 3.4874999999999985, 3.5024999999999986, 3.537999999999998, 3.5774999999999983, 3.628499999999998, 3.696499999999998, 3.764499999999998, 3.823999999999998, 3.895999999999998, 3.945499999999998, 3.984999999999997, 4.030999999999997, 4.082499999999998, 4.140999999999997, 4.185999999999997, 4.229499999999996, 4.280499999999996, 4.305999999999996, 4.3334999999999955, 4.369499999999996, 4.388499999999995, 4.395499999999996, 4.373999999999996, 4.354999999999996, 4.318999999999996, 4.277499999999996, 4.234499999999996], \"yaxis\": \"y2\"}, {\"legendgroup\": \"BOLL(Close,20)\", \"line\": {\"color\": \"rgba(128, 128, 128, 1.0)\", \"dash\": \"solid\", \"shape\": \"linear\", \"width\": 1.3}, \"mode\": \"lines\", \"name\": \"UPPER(Close,20)\", \"showlegend\": false, \"text\": \"\", \"type\": \"scatter\", \"x\": [\"2021-01-04\", \"2021-01-05\", \"2021-01-06\", \"2021-01-07\", \"2021-01-08\", \"2021-01-11\", \"2021-01-12\", \"2021-01-13\", \"2021-01-14\", \"2021-01-15\", \"2021-01-19\", \"2021-01-20\", \"2021-01-21\", \"2021-01-22\", \"2021-01-25\", \"2021-01-26\", \"2021-01-27\", \"2021-01-28\", \"2021-01-29\", \"2021-02-01\", \"2021-02-02\", \"2021-02-03\", \"2021-02-04\", \"2021-02-05\", \"2021-02-08\", \"2021-02-09\", \"2021-02-10\", \"2021-02-11\", \"2021-02-12\", \"2021-02-16\", \"2021-02-17\", \"2021-02-18\", \"2021-02-19\", \"2021-02-22\", \"2021-02-23\", \"2021-02-24\", \"2021-02-25\", \"2021-02-26\", \"2021-03-01\", \"2021-03-02\", \"2021-03-03\", \"2021-03-04\", \"2021-03-05\", \"2021-03-08\", \"2021-03-09\", \"2021-03-10\", \"2021-03-11\", \"2021-03-12\", \"2021-03-15\", \"2021-03-16\", \"2021-03-17\", \"2021-03-18\", \"2021-03-19\", \"2021-03-22\", \"2021-03-23\", \"2021-03-24\", \"2021-03-25\", \"2021-03-26\", \"2021-03-29\", \"2021-03-30\", \"2021-03-31\", \"2021-04-01\", \"2021-04-05\", \"2021-04-06\", \"2021-04-07\", \"2021-04-08\", \"2021-04-09\", \"2021-04-12\", \"2021-04-13\", \"2021-04-14\", \"2021-04-15\", \"2021-04-16\", \"2021-04-19\", \"2021-04-20\", \"2021-04-21\", \"2021-04-22\", \"2021-04-23\", \"2021-04-26\", \"2021-04-27\", \"2021-04-28\", \"2021-04-29\", \"2021-04-30\", \"2021-05-03\", \"2021-05-04\", \"2021-05-05\", \"2021-05-06\", \"2021-05-07\", \"2021-05-10\", \"2021-05-11\", \"2021-05-12\", \"2021-05-13\", \"2021-05-14\", \"2021-05-17\", \"2021-05-18\", \"2021-05-19\", \"2021-05-20\", \"2021-05-21\", \"2021-05-24\", \"2021-05-25\", \"2021-05-26\", \"2021-05-27\", \"2021-05-28\", \"2021-06-01\", \"2021-06-02\", \"2021-06-03\", \"2021-06-04\", \"2021-06-07\", \"2021-06-08\", \"2021-06-09\", \"2021-06-10\", \"2021-06-11\", \"2021-06-14\", \"2021-06-15\", \"2021-06-16\", \"2021-06-17\", \"2021-06-18\", \"2021-06-21\", \"2021-06-22\", \"2021-06-23\", \"2021-06-24\", \"2021-06-25\", \"2021-06-28\", \"2021-06-29\", \"2021-06-30\", \"2021-07-01\", \"2021-07-02\", \"2021-07-06\", \"2021-07-07\", \"2021-07-08\"], \"y\": [\"\", \"\", \"\", \"\", \"\", \"\", \"\", \"\", \"\", \"\", \"\", \"\", \"\", \"\", \"\", \"\", \"\", \"\", \"\", 8.974079538579316, 8.955440151357058, 8.94388862144598, 9.187801153900253, 9.228594780867683, 9.177890831744822, 9.221156866807133, 9.151585154021811, 9.145945789055435, 9.146017058832872, 9.130613838838697, 9.12077529833884, 9.151819070700254, 9.176034705315548, 9.244443274853225, 9.355365343884, 9.332974595301357, 9.408110632605812, 9.475811783300497, 9.499413958020964, 9.539249092931474, 9.582120066648976, 9.60754920154105, 9.35741060731969, 9.23769574357828, 9.017576130693358, 8.681282369497495, 8.398922988387367, 8.187778074480375, 7.938352678405551, 7.651006111340422, 7.353998027562699, 7.151045804271837, 6.900566442733473, 6.721364751241976, 6.647536913490511, 6.577493092250168, 6.51867162370449, 6.472620156312108, 6.355857821763531, 6.251925318654272, 6.219162325032244, 6.203602964618894, 6.205960981078496, 6.205375028220046, 6.135602909116721, 6.058696409820915, 5.950619669712872, 5.833022919141366, 5.710924750720627, 5.639192668867827, 5.517705582192949, 5.450570709807221, 5.321492822927517, 5.2089939270959915, 5.136748751742411, 5.14458788337824, 5.120262032325333, 5.108309341435079, 5.10735982767223, 5.087913109164737, 5.064626372990457, 4.994500324196167, 4.95421760722156, 4.867947365947574, 4.82652903457778, 4.779279944501294, 4.718004920084004, 4.737280419235263, 4.702511947870868, 4.700763076990999, 4.737286622208268, 4.717850806465901, 4.706049810645563, 4.695080497323174, 4.6438164694927675, 4.596641073222719, 4.510581449405479, 4.3940995350191745, 4.281057256279415, 4.160516837334712, 4.077253164439119, 3.9858413973137767, 3.9991279487037383, 4.070854040884317, 4.245690089769492, 4.364683520366692, 4.545939801553072, 4.6968004811713495, 4.841835406893982, 4.906149906922643, 4.952636172010051, 4.979052381989342, 4.975789159152838, 4.9964429035422295, 5.0038691185576125, 5.013839287069896, 4.9807829892493, 4.9173639706404995, 4.839162877347661, 4.808348170306789, 4.778461263837474, 4.722739146665393, 4.703679147052744, 4.692181647561918, 4.7079334947971265, 4.743112843059105, 4.732452727521285, 4.728644742790405, 4.6840366035094245], \"yaxis\": \"y2\"}, {\"fill\": \"tonexty\", \"fillcolor\": \"rgba(128, 128, 128, 0.1)\", \"legendgroup\": \"BOLL(Close,20)\", \"line\": {\"color\": \"rgba(128, 128, 128, 0.8999999999999999)\", \"dash\": \"solid\", \"shape\": \"linear\", \"width\": 1.3}, \"mode\": \"lines\", \"name\": \"LOWER(Close,20)\", \"showlegend\": false, \"text\": \"\", \"type\": \"scatter\", \"x\": [\"2021-01-04\", \"2021-01-05\", \"2021-01-06\", \"2021-01-07\", \"2021-01-08\", \"2021-01-11\", \"2021-01-12\", \"2021-01-13\", \"2021-01-14\", \"2021-01-15\", \"2021-01-19\", \"2021-01-20\", \"2021-01-21\", \"2021-01-22\", \"2021-01-25\", \"2021-01-26\", \"2021-01-27\", \"2021-01-28\", \"2021-01-29\", \"2021-02-01\", \"2021-02-02\", \"2021-02-03\", \"2021-02-04\", \"2021-02-05\", \"2021-02-08\", \"2021-02-09\", \"2021-02-10\", \"2021-02-11\", \"2021-02-12\", \"2021-02-16\", \"2021-02-17\", \"2021-02-18\", \"2021-02-19\", \"2021-02-22\", \"2021-02-23\", \"2021-02-24\", \"2021-02-25\", \"2021-02-26\", \"2021-03-01\", \"2021-03-02\", \"2021-03-03\", \"2021-03-04\", \"2021-03-05\", \"2021-03-08\", \"2021-03-09\", \"2021-03-10\", \"2021-03-11\", \"2021-03-12\", \"2021-03-15\", \"2021-03-16\", \"2021-03-17\", \"2021-03-18\", \"2021-03-19\", \"2021-03-22\", \"2021-03-23\", \"2021-03-24\", \"2021-03-25\", \"2021-03-26\", \"2021-03-29\", \"2021-03-30\", \"2021-03-31\", \"2021-04-01\", \"2021-04-05\", \"2021-04-06\", \"2021-04-07\", \"2021-04-08\", \"2021-04-09\", \"2021-04-12\", \"2021-04-13\", \"2021-04-14\", \"2021-04-15\", \"2021-04-16\", \"2021-04-19\", \"2021-04-20\", \"2021-04-21\", \"2021-04-22\", \"2021-04-23\", \"2021-04-26\", \"2021-04-27\", \"2021-04-28\", \"2021-04-29\", \"2021-04-30\", \"2021-05-03\", \"2021-05-04\", \"2021-05-05\", \"2021-05-06\", \"2021-05-07\", \"2021-05-10\", \"2021-05-11\", \"2021-05-12\", \"2021-05-13\", \"2021-05-14\", \"2021-05-17\", \"2021-05-18\", \"2021-05-19\", \"2021-05-20\", \"2021-05-21\", \"2021-05-24\", \"2021-05-25\", \"2021-05-26\", \"2021-05-27\", \"2021-05-28\", \"2021-06-01\", \"2021-06-02\", \"2021-06-03\", \"2021-06-04\", \"2021-06-07\", \"2021-06-08\", \"2021-06-09\", \"2021-06-10\", \"2021-06-11\", \"2021-06-14\", \"2021-06-15\", \"2021-06-16\", \"2021-06-17\", \"2021-06-18\", \"2021-06-21\", \"2021-06-22\", \"2021-06-23\", \"2021-06-24\", \"2021-06-25\", \"2021-06-28\", \"2021-06-29\", \"2021-06-30\", \"2021-07-01\", \"2021-07-02\", \"2021-07-06\", \"2021-07-07\", \"2021-07-08\"], \"y\": [\"\", \"\", \"\", \"\", \"\", \"\", \"\", \"\", \"\", \"\", \"\", \"\", \"\", \"\", \"\", \"\", \"\", \"\", \"\", 6.313920461420684, 6.4755598486429395, 6.6291113785540166, 6.668198846099741, 6.8024052191323126, 7.032109168255172, 7.148843133192864, 7.1704148459781845, 7.15305421094456, 7.155982941167125, 7.2093861611613, 7.235224701661155, 7.177180929299739, 7.05096529468445, 6.855556725146768, 6.574634656115992, 6.4020254046986365, 6.155889367394181, 5.920188216699495, 5.772586041979027, 5.582750907068517, 5.304879933351016, 5.003450798458944, 4.810589392680305, 4.549304256421715, 4.493423869306637, 4.5207176305025, 4.54807701161263, 4.550221925519622, 4.580647321594449, 4.6259938886595755, 4.7190019724373, 4.731954195728163, 4.812433557266524, 4.848635248758021, 4.786463086509486, 4.636506907749831, 4.542328376295508, 4.433379843687891, 4.348142178236466, 4.304074681345726, 4.240837674967754, 4.212397035381103, 4.184039018921501, 4.194624971779953, 4.1633970908832785, 4.151303590179084, 4.1493803302871255, 4.139977080858633, 4.147075249279371, 4.107807331132171, 4.0742944178070495, 4.023429290192779, 4.001507177072481, 3.9610060729040084, 3.9482512482575873, 3.9084121166217587, 3.889737967674667, 3.8786906585649197, 3.866640172327768, 3.853086890835262, 3.82537362700954, 3.8174996758038304, 3.7767823927784385, 3.748052634052423, 3.689470965422217, 3.6037200554987034, 3.551995079915994, 3.4027195807647344, 3.3104880521291298, 3.1942369230089986, 3.046713377791729, 2.977149193534097, 2.9139501893544346, 2.873919502676824, 2.8361835305072294, 2.802358926777277, 2.7934185505945175, 2.8049004649808222, 2.824942743720582, 2.8874831626652853, 2.9327468355608795, 2.9841586026862204, 2.9758720512962586, 2.93414595911568, 2.830309910230504, 2.7903164796333044, 2.7110601984469245, 2.6961995188286467, 2.687164593106014, 2.741850093077353, 2.8393638279899456, 2.911947618010654, 2.994210840847156, 3.0655570964577645, 3.1611308814423835, 3.2681607129300994, 3.391217010750695, 3.5416360293594926, 3.7218371226523312, 3.8036518296932025, 3.888538736162517, 4.0162608533345985, 4.073320852947246, 4.098818352438074, 4.040066505202866, 3.966887156940887, 3.905547272478708, 3.8263552572095874, 3.784963396490568], \"yaxis\": \"y2\"}, {\"legendgroup\": \" SMA([10])\", \"line\": {\"color\": \"rgba(0, 128, 0, 1.0)\", \"dash\": \"solid\", \"shape\": \"linear\", \"width\": 2}, \"mode\": \"lines\", \"name\": \" SMA([10])\", \"showlegend\": true, \"text\": \"\", \"type\": \"scatter\", \"x\": [\"2021-01-04\", \"2021-01-05\", \"2021-01-06\", \"2021-01-07\", \"2021-01-08\", \"2021-01-11\", \"2021-01-12\", \"2021-01-13\", \"2021-01-14\", \"2021-01-15\", \"2021-01-19\", \"2021-01-20\", \"2021-01-21\", \"2021-01-22\", \"2021-01-25\", \"2021-01-26\", \"2021-01-27\", \"2021-01-28\", \"2021-01-29\", \"2021-02-01\", \"2021-02-02\", \"2021-02-03\", \"2021-02-04\", \"2021-02-05\", \"2021-02-08\", \"2021-02-09\", \"2021-02-10\", \"2021-02-11\", \"2021-02-12\", \"2021-02-16\", \"2021-02-17\", \"2021-02-18\", \"2021-02-19\", \"2021-02-22\", \"2021-02-23\", \"2021-02-24\", \"2021-02-25\", \"2021-02-26\", \"2021-03-01\", \"2021-03-02\", \"2021-03-03\", \"2021-03-04\", \"2021-03-05\", \"2021-03-08\", \"2021-03-09\", \"2021-03-10\", \"2021-03-11\", \"2021-03-12\", \"2021-03-15\", \"2021-03-16\", \"2021-03-17\", \"2021-03-18\", \"2021-03-19\", \"2021-03-22\", \"2021-03-23\", \"2021-03-24\", \"2021-03-25\", \"2021-03-26\", \"2021-03-29\", \"2021-03-30\", \"2021-03-31\", \"2021-04-01\", \"2021-04-05\", \"2021-04-06\", \"2021-04-07\", \"2021-04-08\", \"2021-04-09\", \"2021-04-12\", \"2021-04-13\", \"2021-04-14\", \"2021-04-15\", \"2021-04-16\", \"2021-04-19\", \"2021-04-20\", \"2021-04-21\", \"2021-04-22\", \"2021-04-23\", \"2021-04-26\", \"2021-04-27\", \"2021-04-28\", \"2021-04-29\", \"2021-04-30\", \"2021-05-03\", \"2021-05-04\", \"2021-05-05\", \"2021-05-06\", \"2021-05-07\", \"2021-05-10\", \"2021-05-11\", \"2021-05-12\", \"2021-05-13\", \"2021-05-14\", \"2021-05-17\", \"2021-05-18\", \"2021-05-19\", \"2021-05-20\", \"2021-05-21\", \"2021-05-24\", \"2021-05-25\", \"2021-05-26\", \"2021-05-27\", \"2021-05-28\", \"2021-06-01\", \"2021-06-02\", \"2021-06-03\", \"2021-06-04\", \"2021-06-07\", \"2021-06-08\", \"2021-06-09\", \"2021-06-10\", \"2021-06-11\", \"2021-06-14\", \"2021-06-15\", \"2021-06-16\", \"2021-06-17\", \"2021-06-18\", \"2021-06-21\", \"2021-06-22\", \"2021-06-23\", \"2021-06-24\", \"2021-06-25\", \"2021-06-28\", \"2021-06-29\", \"2021-06-30\", \"2021-07-01\", \"2021-07-02\", \"2021-07-06\", \"2021-07-07\", \"2021-07-08\"], \"y\": [\"\", \"\", \"\", \"\", \"\", \"\", \"\", \"\", \"\", 7.332999999999998, 7.433999999999999, 7.517999999999999, 7.6819999999999995, 7.803999999999999, 7.945, 8.084999999999999, 7.996999999999998, 7.966999999999997, 7.944999999999998, 7.954999999999998, 7.996999999999998, 8.054999999999998, 8.173999999999998, 8.226999999999999, 8.264999999999997, 8.284999999999998, 8.325, 8.331999999999999, 8.357, 8.385, 8.358999999999998, 8.274, 8.052999999999999, 7.872999999999999, 7.664999999999999, 7.449999999999998, 7.238999999999999, 7.063999999999998, 6.914999999999999, 6.737, 6.5280000000000005, 6.337000000000001, 6.115, 5.914, 5.845999999999999, 5.751999999999999, 5.707999999999998, 5.673999999999998, 5.603999999999997, 5.539999999999997, 5.544999999999997, 5.545999999999998, 5.597999999999998, 5.655999999999998, 5.587999999999998, 5.461999999999998, 5.352999999999999, 5.231999999999998, 5.099999999999999, 5.015999999999999, 4.914999999999999, 4.869999999999999, 4.791999999999999, 4.743999999999999, 4.7109999999999985, 4.747999999999999, 4.746999999999999, 4.741, 4.758, 4.731, 4.677, 4.604, 4.531000000000001, 4.426, 4.3740000000000006, 4.305000000000001, 4.263, 4.246, 4.215999999999999, 4.21, 4.212999999999999, 4.207999999999999, 4.199999999999998, 4.189999999999999, 4.141999999999998, 4.0779999999999985, 4.006999999999999, 3.8939999999999984, 3.7969999999999984, 3.684999999999998, 3.570999999999998, 3.4869999999999983, 3.419999999999999, 3.378999999999999, 3.3379999999999996, 3.3209999999999993, 3.2969999999999993, 3.304999999999999, 3.308999999999999, 3.3629999999999987, 3.438999999999999, 3.482999999999999, 3.554999999999999, 3.625999999999999, 3.7379999999999987, 3.8339999999999987, 3.9599999999999995, 4.087999999999999, 4.22, 4.285, 4.353, 4.4079999999999995, 4.415, 4.435999999999999, 4.427, 4.447999999999999, 4.411999999999998, 4.370999999999999, 4.340999999999999, 4.327, 4.313999999999999, 4.3309999999999995, 4.362, 4.3549999999999995, 4.321, 4.261999999999999, 4.225999999999999, 4.183999999999999, 4.127999999999998], \"yaxis\": \"y2\"}, {\"line\": {\"color\": \"rgba(55, 128, 191, 1.0)\", \"dash\": \"solid\", \"shape\": \"linear\", \"width\": 1.3}, \"mode\": \"lines\", \"name\": \" MACD([12,26])\", \"text\": \"\", \"type\": \"scatter\", \"x\": [\"2021-01-04\", \"2021-01-05\", \"2021-01-06\", \"2021-01-07\", \"2021-01-08\", \"2021-01-11\", \"2021-01-12\", \"2021-01-13\", \"2021-01-14\", \"2021-01-15\", \"2021-01-19\", \"2021-01-20\", \"2021-01-21\", \"2021-01-22\", \"2021-01-25\", \"2021-01-26\", \"2021-01-27\", \"2021-01-28\", \"2021-01-29\", \"2021-02-01\", \"2021-02-02\", \"2021-02-03\", \"2021-02-04\", \"2021-02-05\", \"2021-02-08\", \"2021-02-09\", \"2021-02-10\", \"2021-02-11\", \"2021-02-12\", \"2021-02-16\", \"2021-02-17\", \"2021-02-18\", \"2021-02-19\", \"2021-02-22\", \"2021-02-23\", \"2021-02-24\", \"2021-02-25\", \"2021-02-26\", \"2021-03-01\", \"2021-03-02\", \"2021-03-03\", \"2021-03-04\", \"2021-03-05\", \"2021-03-08\", \"2021-03-09\", \"2021-03-10\", \"2021-03-11\", \"2021-03-12\", \"2021-03-15\", \"2021-03-16\", \"2021-03-17\", \"2021-03-18\", \"2021-03-19\", \"2021-03-22\", \"2021-03-23\", \"2021-03-24\", \"2021-03-25\", \"2021-03-26\", \"2021-03-29\", \"2021-03-30\", \"2021-03-31\", \"2021-04-01\", \"2021-04-05\", \"2021-04-06\", \"2021-04-07\", \"2021-04-08\", \"2021-04-09\", \"2021-04-12\", \"2021-04-13\", \"2021-04-14\", \"2021-04-15\", \"2021-04-16\", \"2021-04-19\", \"2021-04-20\", \"2021-04-21\", \"2021-04-22\", \"2021-04-23\", \"2021-04-26\", \"2021-04-27\", \"2021-04-28\", \"2021-04-29\", \"2021-04-30\", \"2021-05-03\", \"2021-05-04\", \"2021-05-05\", \"2021-05-06\", \"2021-05-07\", \"2021-05-10\", \"2021-05-11\", \"2021-05-12\", \"2021-05-13\", \"2021-05-14\", \"2021-05-17\", \"2021-05-18\", \"2021-05-19\", \"2021-05-20\", \"2021-05-21\", \"2021-05-24\", \"2021-05-25\", \"2021-05-26\", \"2021-05-27\", \"2021-05-28\", \"2021-06-01\", \"2021-06-02\", \"2021-06-03\", \"2021-06-04\", \"2021-06-07\", \"2021-06-08\", \"2021-06-09\", \"2021-06-10\", \"2021-06-11\", \"2021-06-14\", \"2021-06-15\", \"2021-06-16\", \"2021-06-17\", \"2021-06-18\", \"2021-06-21\", \"2021-06-22\", \"2021-06-23\", \"2021-06-24\", \"2021-06-25\", \"2021-06-28\", \"2021-06-29\", \"2021-06-30\", \"2021-07-01\", \"2021-07-02\", \"2021-07-06\", \"2021-07-07\", \"2021-07-08\"], \"y\": [0.0, 0.010370370370369919, 0.013590798775982904, 0.03909294868036994, 0.042673345913945226, 0.0840805135936531, 0.24639005506814016, 0.3133118889291415, 0.34302772014298455, 0.3336822577590386, 0.32574855067464714, 0.3126295659142304, 0.35781976798610593, 0.37877710843573986, 0.3900824081220824, 0.4327850513735241, 0.41025538381982596, 0.37676056868436714, 0.3334610916559102, 0.2925459903754275, 0.2858740906214834, 0.28696164391259327, 0.3922358051074779, 0.4072256943045254, 0.40156562807081997, 0.41648648070172634, 0.3883306076267763, 0.32435286538712216, 0.27212696630605837, 0.2273103562988883, 0.1752482218910032, 0.0949687921196869, 0.030191816747632494, -0.051216831384293116, -0.1495145832667486, -0.20647704319440674, -0.28066156828651145, -0.34435985354914056, -0.36800540634978507, -0.406268954483056, -0.47070599128851764, -0.5389605814775429, -0.6118214646002551, -0.6754951312679047, -0.6466868059360866, -0.6191396928591795, -0.5825242658859997, -0.5479962331761179, -0.5210811507603852, -0.5132008878903918, -0.4852240336430702, -0.4841000135502336, -0.46254586659943264, -0.4491624652379862, -0.46307390331391307, -0.5173569513413314, -0.5324521376723146, -0.5485813903513206, -0.5701233246114956, -0.5613584773838651, -0.545701021836476, -0.5088673911730064, -0.48537816610991236, -0.4462868568313061, -0.4281237301106735, -0.40183497008612523, -0.385433976105797, -0.3825507588721404, -0.37274139199252776, -0.3767626413946248, -0.39476490071086, -0.40117960643485073, -0.41280161682903405, -0.42757325896887544, -0.40954450840642753, -0.3971340114312172, -0.3701214111066937, -0.3391557395007938, -0.31820935018562135, -0.2949811608340127, -0.285386640278376, -0.2778081795549747, -0.28226598748330733, -0.2945076775982889, -0.3063265780861144, -0.3312407983761636, -0.3398061755449935, -0.3705647340043896, -0.3848563141762309, -0.4004425229812205, -0.42165174614203904, -0.41272277002995095, -0.40102374008424135, -0.3785128335446202, -0.3621465924261744, -0.3451970121490313, -0.32638811578204985, -0.3103254406708018, -0.2918110890517802, -0.24286894930409408, -0.19776762671768378, -0.16496439532698925, -0.11504773944736302, -0.06665095504654595, -0.0008511843046341561, 0.03794750997241492, 0.09343996263993226, 0.1350543917938003, 0.17170325347510662, 0.17612383452484703, 0.18396190988262173, 0.17284972493634765, 0.1462193837398491, 0.14283413768857756, 0.14174502311634463, 0.15044449149289818, 0.1356028272125016, 0.11764308651176325, 0.11659037699965502, 0.1048642897522809, 0.10166163689747432, 0.10676882754516193, 0.10476712417745038, 0.0908368195540028, 0.060540007446697075, 0.02733834545440139, -0.0005813423794984729, -0.03202176626782993, -0.053098773402360244], \"yaxis\": \"y3\"}, {\"line\": {\"color\": \"rgba(219, 64, 82, 1.0)\", \"dash\": \"solid\", \"shape\": \"linear\", \"width\": 1.3}, \"mode\": \"lines\", \"name\": \"MACD SIGNAL(9)\", \"text\": \"\", \"type\": \"scatter\", \"x\": [\"2021-01-04\", \"2021-01-05\", \"2021-01-06\", \"2021-01-07\", \"2021-01-08\", \"2021-01-11\", \"2021-01-12\", \"2021-01-13\", \"2021-01-14\", \"2021-01-15\", \"2021-01-19\", \"2021-01-20\", \"2021-01-21\", \"2021-01-22\", \"2021-01-25\", \"2021-01-26\", \"2021-01-27\", \"2021-01-28\", \"2021-01-29\", \"2021-02-01\", \"2021-02-02\", \"2021-02-03\", \"2021-02-04\", \"2021-02-05\", \"2021-02-08\", \"2021-02-09\", \"2021-02-10\", \"2021-02-11\", \"2021-02-12\", \"2021-02-16\", \"2021-02-17\", \"2021-02-18\", \"2021-02-19\", \"2021-02-22\", \"2021-02-23\", \"2021-02-24\", \"2021-02-25\", \"2021-02-26\", \"2021-03-01\", \"2021-03-02\", \"2021-03-03\", \"2021-03-04\", \"2021-03-05\", \"2021-03-08\", \"2021-03-09\", \"2021-03-10\", \"2021-03-11\", \"2021-03-12\", \"2021-03-15\", \"2021-03-16\", \"2021-03-17\", \"2021-03-18\", \"2021-03-19\", \"2021-03-22\", \"2021-03-23\", \"2021-03-24\", \"2021-03-25\", \"2021-03-26\", \"2021-03-29\", \"2021-03-30\", \"2021-03-31\", \"2021-04-01\", \"2021-04-05\", \"2021-04-06\", \"2021-04-07\", \"2021-04-08\", \"2021-04-09\", \"2021-04-12\", \"2021-04-13\", \"2021-04-14\", \"2021-04-15\", \"2021-04-16\", \"2021-04-19\", \"2021-04-20\", \"2021-04-21\", \"2021-04-22\", \"2021-04-23\", \"2021-04-26\", \"2021-04-27\", \"2021-04-28\", \"2021-04-29\", \"2021-04-30\", \"2021-05-03\", \"2021-05-04\", \"2021-05-05\", \"2021-05-06\", \"2021-05-07\", \"2021-05-10\", \"2021-05-11\", \"2021-05-12\", \"2021-05-13\", \"2021-05-14\", \"2021-05-17\", \"2021-05-18\", \"2021-05-19\", \"2021-05-20\", \"2021-05-21\", \"2021-05-24\", \"2021-05-25\", \"2021-05-26\", \"2021-05-27\", \"2021-05-28\", \"2021-06-01\", \"2021-06-02\", \"2021-06-03\", \"2021-06-04\", \"2021-06-07\", \"2021-06-08\", \"2021-06-09\", \"2021-06-10\", \"2021-06-11\", \"2021-06-14\", \"2021-06-15\", \"2021-06-16\", \"2021-06-17\", \"2021-06-18\", \"2021-06-21\", \"2021-06-22\", \"2021-06-23\", \"2021-06-24\", \"2021-06-25\", \"2021-06-28\", \"2021-06-29\", \"2021-06-30\", \"2021-07-01\", \"2021-07-02\", \"2021-07-06\", \"2021-07-07\", \"2021-07-08\"], \"y\": [0.0, 0.002074074074073984, 0.004377419014455769, 0.011320524947638605, 0.017591089140899928, 0.030888974031450564, 0.07398919023878849, 0.1218537299768591, 0.1660885280100842, 0.1996072739598751, 0.22483552930282952, 0.2423943366251097, 0.26547942289730897, 0.28813896000499517, 0.3085276496284126, 0.3333791299774349, 0.34875438074591314, 0.35435561833360396, 0.35017671299806524, 0.3386505684735377, 0.32809527290312684, 0.31986854710502016, 0.33434199870551173, 0.3489187378253145, 0.3594481158744156, 0.37085578883987774, 0.3743507525972575, 0.3643511751552304, 0.345906333385396, 0.3221871379680945, 0.29279935475267627, 0.2532332422260784, 0.20862495713038925, 0.1566565994274528, 0.09542236288861251, 0.035042481672008664, -0.02809832831969536, -0.09135063336558441, -0.14668158796242453, -0.19859906126655086, -0.2530204472709442, -0.31020847411226393, -0.37053107220986214, -0.4315238840214707, -0.4745564684043939, -0.503473113295351, -0.5192833438134807, -0.5250259216860083, -0.5242369675008837, -0.5220297515787853, -0.5146686079916423, -0.5085548891033606, -0.499353084602575, -0.4893149607296573, -0.4840667492465085, -0.4907247896654731, -0.49907025926684145, -0.5089724854837373, -0.521202653309289, -0.5292338181242043, -0.5325272588666586, -0.5277952853279282, -0.5193118614843251, -0.5047068605537213, -0.48939023446511176, -0.4718791815893145, -0.45459014049261104, -0.44018226416851697, -0.4266940897333191, -0.4167078000655803, -0.41231922019463624, -0.4100912974426792, -0.4106333613199502, -0.4140213408497353, -0.4131259743610738, -0.40992758177510247, -0.4019663476414207, -0.38940422601329533, -0.3751652508477606, -0.35912843284501106, -0.3443800743316841, -0.33106569537634223, -0.3213057537977353, -0.31594613855784603, -0.3140222264634997, -0.3174659408460325, -0.3219339877858247, -0.3316601370295377, -0.34229937245887637, -0.3539280025633452, -0.367472751279084, -0.3765227550292574, -0.3814229520402542, -0.3808409283411275, -0.3771020611581369, -0.3707210513563158, -0.3618544642414626, -0.3515486595273305, -0.3396011454322205, -0.32025470620659524, -0.2957572903088129, -0.26959871131244817, -0.23868851693943113, -0.2042810045608541, -0.1635950405096101, -0.1232865304132051, -0.07994123180257764, -0.03694210708330205, 0.004786965028379685, 0.039054338927673155, 0.06803585311866286, 0.08899862748219983, 0.1004427787337297, 0.10892105052469928, 0.11548584504302836, 0.12247757433300233, 0.1251026249089022, 0.12361071722947442, 0.12220664918351054, 0.11873817729726462, 0.11532286921730656, 0.11361206088287763, 0.1118430735417922, 0.10764182274423433, 0.09822145968472687, 0.08404483683866179, 0.06711960099502974, 0.04729132754245781, 0.0272133073534942], \"yaxis\": \"y3\"}, {\"marker\": {\"color\": [\"#808080\", \"#17BECF\", \"#808080\", \"#17BECF\", \"#808080\", \"#17BECF\", \"#17BECF\", \"#808080\", \"#808080\", \"#808080\", \"#17BECF\", \"#808080\", \"#17BECF\", \"#808080\", \"#808080\", \"#17BECF\", \"#808080\", \"#808080\", \"#808080\", \"#808080\", \"#17BECF\", \"#17BECF\", \"#17BECF\", \"#808080\", \"#808080\", \"#17BECF\", \"#808080\", \"#808080\", \"#17BECF\", \"#808080\", \"#808080\", \"#808080\", \"#808080\", \"#808080\", \"#808080\", \"#17BECF\", \"#808080\", \"#808080\", \"#17BECF\", \"#808080\", \"#808080\", \"#808080\", \"#808080\", \"#808080\", \"#17BECF\", \"#808080\", \"#17BECF\", \"#808080\", \"#808080\", \"#808080\", \"#17BECF\", \"#808080\", \"#17BECF\", \"#808080\", \"#808080\", \"#808080\", \"#17BECF\", \"#808080\", \"#808080\", \"#17BECF\", \"#17BECF\", \"#17BECF\", \"#808080\", \"#17BECF\", \"#808080\", \"#17BECF\", \"#808080\", \"#808080\", \"#17BECF\", \"#808080\", \"#808080\", \"#17BECF\", \"#808080\", \"#808080\", \"#17BECF\", \"#808080\", \"#17BECF\", \"#17BECF\", \"#808080\", \"#17BECF\", \"#808080\", \"#808080\", \"#808080\", \"#808080\", \"#808080\", \"#808080\", \"#17BECF\", \"#808080\", \"#17BECF\", \"#808080\", \"#808080\", \"#17BECF\", \"#808080\", \"#17BECF\", \"#808080\", \"#808080\", \"#17BECF\", \"#808080\", \"#17BECF\", \"#17BECF\", \"#17BECF\", \"#808080\", \"#17BECF\", \"#17BECF\", \"#17BECF\", \"#808080\", \"#17BECF\", \"#808080\", \"#17BECF\", \"#808080\", \"#17BECF\", \"#808080\", \"#808080\", \"#17BECF\", \"#17BECF\", \"#17BECF\", \"#808080\", \"#808080\", \"#17BECF\", \"#808080\", \"#17BECF\", \"#17BECF\", \"#808080\", \"#808080\", \"#808080\", \"#808080\", \"#808080\", \"#808080\", \"#17BECF\"], \"line\": {\"color\": [\"#808080\", \"#17BECF\", \"#808080\", \"#17BECF\", \"#808080\", \"#17BECF\", \"#17BECF\", \"#808080\", \"#808080\", \"#808080\", \"#17BECF\", \"#808080\", \"#17BECF\", \"#808080\", \"#808080\", \"#17BECF\", \"#808080\", \"#808080\", \"#808080\", \"#808080\", \"#17BECF\", \"#17BECF\", \"#17BECF\", \"#808080\", \"#808080\", \"#17BECF\", \"#808080\", \"#808080\", \"#17BECF\", \"#808080\", \"#808080\", \"#808080\", \"#808080\", \"#808080\", \"#808080\", \"#17BECF\", \"#808080\", \"#808080\", \"#17BECF\", \"#808080\", \"#808080\", \"#808080\", \"#808080\", \"#808080\", \"#17BECF\", \"#808080\", \"#17BECF\", \"#808080\", \"#808080\", \"#808080\", \"#17BECF\", \"#808080\", \"#17BECF\", \"#808080\", \"#808080\", \"#808080\", \"#17BECF\", \"#808080\", \"#808080\", \"#17BECF\", \"#17BECF\", \"#17BECF\", \"#808080\", \"#17BECF\", \"#808080\", \"#17BECF\", \"#808080\", \"#808080\", \"#17BECF\", \"#808080\", \"#808080\", \"#17BECF\", \"#808080\", \"#808080\", \"#17BECF\", \"#808080\", \"#17BECF\", \"#17BECF\", \"#808080\", \"#17BECF\", \"#808080\", \"#808080\", \"#808080\", \"#808080\", \"#808080\", \"#808080\", \"#17BECF\", \"#808080\", \"#17BECF\", \"#808080\", \"#808080\", \"#17BECF\", \"#808080\", \"#17BECF\", \"#808080\", \"#808080\", \"#17BECF\", \"#808080\", \"#17BECF\", \"#17BECF\", \"#17BECF\", \"#808080\", \"#17BECF\", \"#17BECF\", \"#17BECF\", \"#808080\", \"#17BECF\", \"#808080\", \"#17BECF\", \"#808080\", \"#17BECF\", \"#808080\", \"#808080\", \"#17BECF\", \"#17BECF\", \"#17BECF\", \"#808080\", \"#808080\", \"#17BECF\", \"#808080\", \"#17BECF\", \"#17BECF\", \"#808080\", \"#808080\", \"#808080\", \"#808080\", \"#808080\", \"#808080\", \"#17BECF\"], \"width\": 1}}, \"name\": \"Volume\", \"opacity\": 0.8, \"orientation\": \"v\", \"text\": \"\", \"type\": \"bar\", \"x\": [\"2021-01-04\", \"2021-01-05\", \"2021-01-06\", \"2021-01-07\", \"2021-01-08\", \"2021-01-11\", \"2021-01-12\", \"2021-01-13\", \"2021-01-14\", \"2021-01-15\", \"2021-01-19\", \"2021-01-20\", \"2021-01-21\", \"2021-01-22\", \"2021-01-25\", \"2021-01-26\", \"2021-01-27\", \"2021-01-28\", \"2021-01-29\", \"2021-02-01\", \"2021-02-02\", \"2021-02-03\", \"2021-02-04\", \"2021-02-05\", \"2021-02-08\", \"2021-02-09\", \"2021-02-10\", \"2021-02-11\", \"2021-02-12\", \"2021-02-16\", \"2021-02-17\", \"2021-02-18\", \"2021-02-19\", \"2021-02-22\", \"2021-02-23\", \"2021-02-24\", \"2021-02-25\", \"2021-02-26\", \"2021-03-01\", \"2021-03-02\", \"2021-03-03\", \"2021-03-04\", \"2021-03-05\", \"2021-03-08\", \"2021-03-09\", \"2021-03-10\", \"2021-03-11\", \"2021-03-12\", \"2021-03-15\", \"2021-03-16\", \"2021-03-17\", \"2021-03-18\", \"2021-03-19\", \"2021-03-22\", \"2021-03-23\", \"2021-03-24\", \"2021-03-25\", \"2021-03-26\", \"2021-03-29\", \"2021-03-30\", \"2021-03-31\", \"2021-04-01\", \"2021-04-05\", \"2021-04-06\", \"2021-04-07\", \"2021-04-08\", \"2021-04-09\", \"2021-04-12\", \"2021-04-13\", \"2021-04-14\", \"2021-04-15\", \"2021-04-16\", \"2021-04-19\", \"2021-04-20\", \"2021-04-21\", \"2021-04-22\", \"2021-04-23\", \"2021-04-26\", \"2021-04-27\", \"2021-04-28\", \"2021-04-29\", \"2021-04-30\", \"2021-05-03\", \"2021-05-04\", \"2021-05-05\", \"2021-05-06\", \"2021-05-07\", \"2021-05-10\", \"2021-05-11\", \"2021-05-12\", \"2021-05-13\", \"2021-05-14\", \"2021-05-17\", \"2021-05-18\", \"2021-05-19\", \"2021-05-20\", \"2021-05-21\", \"2021-05-24\", \"2021-05-25\", \"2021-05-26\", \"2021-05-27\", \"2021-05-28\", \"2021-06-01\", \"2021-06-02\", \"2021-06-03\", \"2021-06-04\", \"2021-06-07\", \"2021-06-08\", \"2021-06-09\", \"2021-06-10\", \"2021-06-11\", \"2021-06-14\", \"2021-06-15\", \"2021-06-16\", \"2021-06-17\", \"2021-06-18\", \"2021-06-21\", \"2021-06-22\", \"2021-06-23\", \"2021-06-24\", \"2021-06-25\", \"2021-06-28\", \"2021-06-29\", \"2021-06-30\", \"2021-07-01\", \"2021-07-02\", \"2021-07-06\", \"2021-07-07\", \"2021-07-08\"], \"y\": [15023700, 8373900, 17963700, 17988100, 16999300, 27796500, 54305500, 26079200, 14436100, 19128100, 13266500, 12199700, 30555400, 15042800, 31886300, 22889500, 20013800, 9754400, 16984500, 12831000, 15883000, 14394600, 40065600, 24456500, 11860500, 22153200, 25709300, 19260300, 10764100, 11877700, 13561800, 11168900, 9249400, 10722600, 15817400, 7211400, 7719800, 10624300, 6435800, 5430900, 9382900, 12405200, 13400100, 8322700, 17745200, 10300300, 8568900, 6934500, 8435900, 7589600, 6197400, 5023900, 4842500, 5706700, 7294000, 11671600, 8198500, 6647200, 5298600, 5557300, 3967800, 9221800, 5390600, 4849100, 4606200, 3262900, 4091000, 3829400, 3965700, 4495900, 6257700, 4890400, 4591000, 4162100, 9404400, 5620700, 2653900, 5059600, 4737000, 5416200, 4673600, 2470800, 5286800, 5490100, 2882700, 5238600, 2795000, 4909400, 5476500, 5542700, 4321100, 4097000, 3437100, 4198900, 4210100, 2823900, 2817500, 2845500, 2874100, 7513300, 5312300, 3541600, 6072600, 7325900, 13756400, 5500900, 5049900, 6252600, 8131600, 5042400, 3566000, 5111700, 4070100, 3677300, 4112200, 6065900, 2940500, 2104900, 5089100, 3203000, 3817200, 5721900, 4528200, 2469200, 4592200, 4369400, 2575800, 3478000, 4170200], \"yaxis\": \"y4\"}, {\"close\": [6.58, 6.71, 6.65, 6.94, 6.74, 7.23, 8.87, 8.15, 7.91, 7.55, 7.59, 7.55, 8.29, 8.16, 8.15, 8.63, 7.99, 7.85, 7.69, 7.65, 8.01, 8.13, 9.48, 8.69, 8.53, 8.83, 8.39, 7.92, 7.94, 7.93, 7.75, 7.28, 7.27, 6.89, 6.45, 6.68, 6.28, 6.17, 6.45, 6.15, 5.66, 5.37, 5.05, 4.88, 5.77, 5.74, 5.84, 5.83, 5.75, 5.51, 5.71, 5.38, 5.57, 5.46, 5.09, 4.48, 4.75, 4.62, 4.43, 4.67, 4.7, 4.93, 4.79, 4.98, 4.76, 4.85, 4.74, 4.56, 4.6, 4.4, 4.16, 4.2, 4.06, 3.93, 4.24, 4.16, 4.32, 4.39, 4.3, 4.34, 4.19, 4.15, 3.98, 3.83, 3.76, 3.52, 3.61, 3.26, 3.33, 3.22, 3.05, 3.31, 3.31, 3.42, 3.35, 3.35, 3.37, 3.34, 3.37, 3.76, 3.81, 3.75, 4.03, 4.13, 4.47, 4.31, 4.63, 4.62, 4.69, 4.41, 4.49, 4.3, 4.1, 4.34, 4.38, 4.52, 4.27, 4.21, 4.39, 4.27, 4.36, 4.47, 4.41, 4.27, 4.04, 3.93, 3.91, 3.79, 3.83], \"decreasing\": {\"line\": {\"color\": \"#808080\"}}, \"high\": [6.95, 6.8, 7.23, 7.41, 7.23, 7.57, 8.98, 8.87, 8.34, 8.49, 7.78, 7.79, 8.43, 8.35, 9.21, 8.77, 8.43, 8.2, 8.49, 7.9, 8.22, 8.63, 9.74, 9.4, 8.95, 9.23, 9.11, 8.75, 8.15, 8.24, 8.0, 7.74, 7.53, 7.19, 6.53, 6.83, 6.68, 6.3, 6.48, 6.54, 6.25, 5.85, 5.33, 5.43, 6.05, 6.15, 5.95, 5.86, 6.04, 5.89, 5.78, 5.69, 5.57, 5.7, 5.46, 5.09, 4.78, 4.78, 4.58, 4.67, 4.8, 5.3, 5.14, 5.08, 5.02, 4.91, 4.82, 4.73, 4.61, 4.6, 4.46, 4.21, 4.2, 4.08, 4.28, 4.36, 4.32, 4.44, 4.43, 4.47, 4.4, 4.27, 4.18, 3.96, 3.93, 3.76, 3.73, 3.62, 3.39, 3.38, 3.32, 3.37, 3.36, 3.53, 3.35, 3.38, 3.41, 3.38, 3.47, 3.88, 3.82, 3.95, 4.08, 4.13, 4.78, 4.61, 4.66, 4.74, 4.95, 4.75, 4.61, 4.58, 4.35, 4.34, 4.55, 4.56, 4.5, 4.33, 4.51, 4.46, 4.4, 4.71, 4.51, 4.37, 4.32, 4.09, 4.11, 3.98, 3.98], \"increasing\": {\"line\": {\"color\": \"#17BECF\"}}, \"low\": [6.26, 6.4, 6.5, 6.81, 6.56, 6.66, 7.13, 7.87, 7.61, 7.46, 7.26, 7.08, 7.22, 7.77, 7.52, 7.93, 7.7, 7.7, 7.63, 7.16, 7.38, 8.06, 7.98, 8.33, 8.47, 8.09, 8.16, 7.67, 7.85, 7.77, 7.33, 7.2, 7.21, 6.81, 5.3, 6.37, 6.16, 5.76, 6.05, 6.14, 5.61, 5.0, 4.34, 4.82, 5.19, 5.57, 5.75, 5.62, 5.65, 5.37, 5.24, 5.32, 5.25, 5.45, 5.02, 4.46, 4.28, 4.41, 4.35, 4.24, 4.63, 4.86, 4.72, 4.69, 4.74, 4.69, 4.62, 4.46, 4.4, 4.37, 4.04, 3.94, 3.94, 3.87, 3.79, 4.1, 4.13, 4.18, 4.25, 4.24, 4.07, 4.1, 3.96, 3.72, 3.71, 3.46, 3.51, 3.26, 3.0, 3.15, 2.97, 3.12, 3.2, 3.26, 3.18, 3.25, 3.27, 3.22, 3.27, 3.33, 3.57, 3.73, 3.84, 3.82, 3.97, 4.22, 4.25, 4.48, 4.64, 4.38, 4.39, 4.23, 4.1, 4.03, 4.27, 4.24, 4.25, 4.16, 4.16, 4.26, 4.26, 4.37, 4.27, 4.25, 4.02, 3.87, 3.84, 3.69, 3.62], \"name\": \"GS\", \"open\": [6.38, 6.57, 6.8, 6.89, 7.12, 6.67, 7.35, 8.73, 8.34, 8.17, 7.64, 7.67, 7.58, 8.05, 8.38, 8.25, 8.13, 8.0, 7.95, 7.88, 7.74, 8.22, 8.18, 9.24, 8.82, 8.52, 8.79, 8.51, 7.95, 8.08, 7.94, 7.53, 7.45, 7.14, 6.24, 6.59, 6.6, 6.17, 6.22, 6.45, 6.21, 5.56, 5.32, 5.19, 5.21, 6.05, 5.94, 5.7, 5.94, 5.85, 5.39, 5.62, 5.41, 5.64, 5.46, 5.06, 4.31, 4.69, 4.54, 4.4, 4.77, 4.99, 5.13, 4.75, 5.0, 4.83, 4.8, 4.71, 4.57, 4.52, 4.46, 4.05, 4.17, 4.01, 3.86, 4.25, 4.19, 4.35, 4.4, 4.28, 4.4, 4.11, 4.15, 3.96, 3.87, 3.71, 3.58, 3.6, 3.02, 3.38, 3.26, 3.12, 3.26, 3.33, 3.24, 3.38, 3.38, 3.37, 3.32, 3.37, 3.8, 3.88, 3.91, 4.12, 4.1, 4.55, 4.38, 4.7, 4.75, 4.72, 4.45, 4.5, 4.35, 4.06, 4.28, 4.34, 4.43, 4.25, 4.17, 4.42, 4.29, 4.39, 4.46, 4.32, 4.3, 4.09, 3.96, 3.98, 3.63], \"showlegend\": true, \"type\": \"candlestick\", \"x\": [\"2021-01-04\", \"2021-01-05\", \"2021-01-06\", \"2021-01-07\", \"2021-01-08\", \"2021-01-11\", \"2021-01-12\", \"2021-01-13\", \"2021-01-14\", \"2021-01-15\", \"2021-01-19\", \"2021-01-20\", \"2021-01-21\", \"2021-01-22\", \"2021-01-25\", \"2021-01-26\", \"2021-01-27\", \"2021-01-28\", \"2021-01-29\", \"2021-02-01\", \"2021-02-02\", \"2021-02-03\", \"2021-02-04\", \"2021-02-05\", \"2021-02-08\", \"2021-02-09\", \"2021-02-10\", \"2021-02-11\", \"2021-02-12\", \"2021-02-16\", \"2021-02-17\", \"2021-02-18\", \"2021-02-19\", \"2021-02-22\", \"2021-02-23\", \"2021-02-24\", \"2021-02-25\", \"2021-02-26\", \"2021-03-01\", \"2021-03-02\", \"2021-03-03\", \"2021-03-04\", \"2021-03-05\", \"2021-03-08\", \"2021-03-09\", \"2021-03-10\", \"2021-03-11\", \"2021-03-12\", \"2021-03-15\", \"2021-03-16\", \"2021-03-17\", \"2021-03-18\", \"2021-03-19\", \"2021-03-22\", \"2021-03-23\", \"2021-03-24\", \"2021-03-25\", \"2021-03-26\", \"2021-03-29\", \"2021-03-30\", \"2021-03-31\", \"2021-04-01\", \"2021-04-05\", \"2021-04-06\", \"2021-04-07\", \"2021-04-08\", \"2021-04-09\", \"2021-04-12\", \"2021-04-13\", \"2021-04-14\", \"2021-04-15\", \"2021-04-16\", \"2021-04-19\", \"2021-04-20\", \"2021-04-21\", \"2021-04-22\", \"2021-04-23\", \"2021-04-26\", \"2021-04-27\", \"2021-04-28\", \"2021-04-29\", \"2021-04-30\", \"2021-05-03\", \"2021-05-04\", \"2021-05-05\", \"2021-05-06\", \"2021-05-07\", \"2021-05-10\", \"2021-05-11\", \"2021-05-12\", \"2021-05-13\", \"2021-05-14\", \"2021-05-17\", \"2021-05-18\", \"2021-05-19\", \"2021-05-20\", \"2021-05-21\", \"2021-05-24\", \"2021-05-25\", \"2021-05-26\", \"2021-05-27\", \"2021-05-28\", \"2021-06-01\", \"2021-06-02\", \"2021-06-03\", \"2021-06-04\", \"2021-06-07\", \"2021-06-08\", \"2021-06-09\", \"2021-06-10\", \"2021-06-11\", \"2021-06-14\", \"2021-06-15\", \"2021-06-16\", \"2021-06-17\", \"2021-06-18\", \"2021-06-21\", \"2021-06-22\", \"2021-06-23\", \"2021-06-24\", \"2021-06-25\", \"2021-06-28\", \"2021-06-29\", \"2021-06-30\", \"2021-07-01\", \"2021-07-02\", \"2021-07-06\", \"2021-07-07\", \"2021-07-08\"], \"yaxis\": \"y2\"}],                        {\"legend\": {\"bgcolor\": \"#F5F6F9\", \"font\": {\"color\": \"#4D5663\"}}, \"margin\": {\"b\": 30, \"l\": 30, \"r\": 30, \"t\": 30}, \"paper_bgcolor\": \"#F5F6F9\", \"plot_bgcolor\": \"#F5F6F9\", \"showlegend\": true, \"template\": {\"data\": {\"bar\": [{\"error_x\": {\"color\": \"#2a3f5f\"}, \"error_y\": {\"color\": \"#2a3f5f\"}, \"marker\": {\"line\": {\"color\": \"#E5ECF6\", \"width\": 0.5}}, \"type\": \"bar\"}], \"barpolar\": [{\"marker\": {\"line\": {\"color\": \"#E5ECF6\", \"width\": 0.5}}, \"type\": \"barpolar\"}], \"carpet\": [{\"aaxis\": {\"endlinecolor\": \"#2a3f5f\", \"gridcolor\": \"white\", \"linecolor\": \"white\", \"minorgridcolor\": \"white\", \"startlinecolor\": \"#2a3f5f\"}, \"baxis\": {\"endlinecolor\": \"#2a3f5f\", \"gridcolor\": \"white\", \"linecolor\": \"white\", \"minorgridcolor\": \"white\", \"startlinecolor\": \"#2a3f5f\"}, \"type\": \"carpet\"}], \"choropleth\": [{\"colorbar\": {\"outlinewidth\": 0, \"ticks\": \"\"}, \"type\": \"choropleth\"}], \"contour\": [{\"colorbar\": {\"outlinewidth\": 0, \"ticks\": \"\"}, \"colorscale\": [[0.0, \"#0d0887\"], [0.1111111111111111, \"#46039f\"], [0.2222222222222222, \"#7201a8\"], [0.3333333333333333, \"#9c179e\"], [0.4444444444444444, \"#bd3786\"], [0.5555555555555556, \"#d8576b\"], [0.6666666666666666, \"#ed7953\"], [0.7777777777777778, \"#fb9f3a\"], [0.8888888888888888, \"#fdca26\"], [1.0, \"#f0f921\"]], \"type\": \"contour\"}], \"contourcarpet\": [{\"colorbar\": {\"outlinewidth\": 0, \"ticks\": \"\"}, \"type\": \"contourcarpet\"}], \"heatmap\": [{\"colorbar\": {\"outlinewidth\": 0, \"ticks\": \"\"}, \"colorscale\": [[0.0, \"#0d0887\"], [0.1111111111111111, \"#46039f\"], [0.2222222222222222, \"#7201a8\"], [0.3333333333333333, \"#9c179e\"], [0.4444444444444444, \"#bd3786\"], [0.5555555555555556, \"#d8576b\"], [0.6666666666666666, \"#ed7953\"], [0.7777777777777778, \"#fb9f3a\"], [0.8888888888888888, \"#fdca26\"], [1.0, \"#f0f921\"]], \"type\": \"heatmap\"}], \"heatmapgl\": [{\"colorbar\": {\"outlinewidth\": 0, \"ticks\": \"\"}, \"colorscale\": [[0.0, \"#0d0887\"], [0.1111111111111111, \"#46039f\"], [0.2222222222222222, \"#7201a8\"], [0.3333333333333333, \"#9c179e\"], [0.4444444444444444, \"#bd3786\"], [0.5555555555555556, \"#d8576b\"], [0.6666666666666666, \"#ed7953\"], [0.7777777777777778, \"#fb9f3a\"], [0.8888888888888888, \"#fdca26\"], [1.0, \"#f0f921\"]], \"type\": \"heatmapgl\"}], \"histogram\": [{\"marker\": {\"colorbar\": {\"outlinewidth\": 0, \"ticks\": \"\"}}, \"type\": \"histogram\"}], \"histogram2d\": [{\"colorbar\": {\"outlinewidth\": 0, \"ticks\": \"\"}, \"colorscale\": [[0.0, \"#0d0887\"], [0.1111111111111111, \"#46039f\"], [0.2222222222222222, \"#7201a8\"], [0.3333333333333333, \"#9c179e\"], [0.4444444444444444, \"#bd3786\"], [0.5555555555555556, \"#d8576b\"], [0.6666666666666666, \"#ed7953\"], [0.7777777777777778, \"#fb9f3a\"], [0.8888888888888888, \"#fdca26\"], [1.0, \"#f0f921\"]], \"type\": \"histogram2d\"}], \"histogram2dcontour\": [{\"colorbar\": {\"outlinewidth\": 0, \"ticks\": \"\"}, \"colorscale\": [[0.0, \"#0d0887\"], [0.1111111111111111, \"#46039f\"], [0.2222222222222222, \"#7201a8\"], [0.3333333333333333, \"#9c179e\"], [0.4444444444444444, \"#bd3786\"], [0.5555555555555556, \"#d8576b\"], [0.6666666666666666, \"#ed7953\"], [0.7777777777777778, \"#fb9f3a\"], [0.8888888888888888, \"#fdca26\"], [1.0, \"#f0f921\"]], \"type\": \"histogram2dcontour\"}], \"mesh3d\": [{\"colorbar\": {\"outlinewidth\": 0, \"ticks\": \"\"}, \"type\": \"mesh3d\"}], \"parcoords\": [{\"line\": {\"colorbar\": {\"outlinewidth\": 0, \"ticks\": \"\"}}, \"type\": \"parcoords\"}], \"pie\": [{\"automargin\": true, \"type\": \"pie\"}], \"scatter\": [{\"marker\": {\"colorbar\": {\"outlinewidth\": 0, \"ticks\": \"\"}}, \"type\": \"scatter\"}], \"scatter3d\": [{\"line\": {\"colorbar\": {\"outlinewidth\": 0, \"ticks\": \"\"}}, \"marker\": {\"colorbar\": {\"outlinewidth\": 0, \"ticks\": \"\"}}, \"type\": \"scatter3d\"}], \"scattercarpet\": [{\"marker\": {\"colorbar\": {\"outlinewidth\": 0, \"ticks\": \"\"}}, \"type\": \"scattercarpet\"}], \"scattergeo\": [{\"marker\": {\"colorbar\": {\"outlinewidth\": 0, \"ticks\": \"\"}}, \"type\": \"scattergeo\"}], \"scattergl\": [{\"marker\": {\"colorbar\": {\"outlinewidth\": 0, \"ticks\": \"\"}}, \"type\": \"scattergl\"}], \"scattermapbox\": [{\"marker\": {\"colorbar\": {\"outlinewidth\": 0, \"ticks\": \"\"}}, \"type\": \"scattermapbox\"}], \"scatterpolar\": [{\"marker\": {\"colorbar\": {\"outlinewidth\": 0, \"ticks\": \"\"}}, \"type\": \"scatterpolar\"}], \"scatterpolargl\": [{\"marker\": {\"colorbar\": {\"outlinewidth\": 0, \"ticks\": \"\"}}, \"type\": \"scatterpolargl\"}], \"scatterternary\": [{\"marker\": {\"colorbar\": {\"outlinewidth\": 0, \"ticks\": \"\"}}, \"type\": \"scatterternary\"}], \"surface\": [{\"colorbar\": {\"outlinewidth\": 0, \"ticks\": \"\"}, \"colorscale\": [[0.0, \"#0d0887\"], [0.1111111111111111, \"#46039f\"], [0.2222222222222222, \"#7201a8\"], [0.3333333333333333, \"#9c179e\"], [0.4444444444444444, \"#bd3786\"], [0.5555555555555556, \"#d8576b\"], [0.6666666666666666, \"#ed7953\"], [0.7777777777777778, \"#fb9f3a\"], [0.8888888888888888, \"#fdca26\"], [1.0, \"#f0f921\"]], \"type\": \"surface\"}], \"table\": [{\"cells\": {\"fill\": {\"color\": \"#EBF0F8\"}, \"line\": {\"color\": \"white\"}}, \"header\": {\"fill\": {\"color\": \"#C8D4E3\"}, \"line\": {\"color\": \"white\"}}, \"type\": \"table\"}]}, \"layout\": {\"annotationdefaults\": {\"arrowcolor\": \"#2a3f5f\", \"arrowhead\": 0, \"arrowwidth\": 1}, \"coloraxis\": {\"colorbar\": {\"outlinewidth\": 0, \"ticks\": \"\"}}, \"colorscale\": {\"diverging\": [[0, \"#8e0152\"], [0.1, \"#c51b7d\"], [0.2, \"#de77ae\"], [0.3, \"#f1b6da\"], [0.4, \"#fde0ef\"], [0.5, \"#f7f7f7\"], [0.6, \"#e6f5d0\"], [0.7, \"#b8e186\"], [0.8, \"#7fbc41\"], [0.9, \"#4d9221\"], [1, \"#276419\"]], \"sequential\": [[0.0, \"#0d0887\"], [0.1111111111111111, \"#46039f\"], [0.2222222222222222, \"#7201a8\"], [0.3333333333333333, \"#9c179e\"], [0.4444444444444444, \"#bd3786\"], [0.5555555555555556, \"#d8576b\"], [0.6666666666666666, \"#ed7953\"], [0.7777777777777778, \"#fb9f3a\"], [0.8888888888888888, \"#fdca26\"], [1.0, \"#f0f921\"]], \"sequentialminus\": [[0.0, \"#0d0887\"], [0.1111111111111111, \"#46039f\"], [0.2222222222222222, \"#7201a8\"], [0.3333333333333333, \"#9c179e\"], [0.4444444444444444, \"#bd3786\"], [0.5555555555555556, \"#d8576b\"], [0.6666666666666666, \"#ed7953\"], [0.7777777777777778, \"#fb9f3a\"], [0.8888888888888888, \"#fdca26\"], [1.0, \"#f0f921\"]]}, \"colorway\": [\"#636efa\", \"#EF553B\", \"#00cc96\", \"#ab63fa\", \"#FFA15A\", \"#19d3f3\", \"#FF6692\", \"#B6E880\", \"#FF97FF\", \"#FECB52\"], \"font\": {\"color\": \"#2a3f5f\"}, \"geo\": {\"bgcolor\": \"white\", \"lakecolor\": \"white\", \"landcolor\": \"#E5ECF6\", \"showlakes\": true, \"showland\": true, \"subunitcolor\": \"white\"}, \"hoverlabel\": {\"align\": \"left\"}, \"hovermode\": \"closest\", \"mapbox\": {\"style\": \"light\"}, \"paper_bgcolor\": \"white\", \"plot_bgcolor\": \"#E5ECF6\", \"polar\": {\"angularaxis\": {\"gridcolor\": \"white\", \"linecolor\": \"white\", \"ticks\": \"\"}, \"bgcolor\": \"#E5ECF6\", \"radialaxis\": {\"gridcolor\": \"white\", \"linecolor\": \"white\", \"ticks\": \"\"}}, \"scene\": {\"xaxis\": {\"backgroundcolor\": \"#E5ECF6\", \"gridcolor\": \"white\", \"gridwidth\": 2, \"linecolor\": \"white\", \"showbackground\": true, \"ticks\": \"\", \"zerolinecolor\": \"white\"}, \"yaxis\": {\"backgroundcolor\": \"#E5ECF6\", \"gridcolor\": \"white\", \"gridwidth\": 2, \"linecolor\": \"white\", \"showbackground\": true, \"ticks\": \"\", \"zerolinecolor\": \"white\"}, \"zaxis\": {\"backgroundcolor\": \"#E5ECF6\", \"gridcolor\": \"white\", \"gridwidth\": 2, \"linecolor\": \"white\", \"showbackground\": true, \"ticks\": \"\", \"zerolinecolor\": \"white\"}}, \"shapedefaults\": {\"line\": {\"color\": \"#2a3f5f\"}}, \"ternary\": {\"aaxis\": {\"gridcolor\": \"white\", \"linecolor\": \"white\", \"ticks\": \"\"}, \"baxis\": {\"gridcolor\": \"white\", \"linecolor\": \"white\", \"ticks\": \"\"}, \"bgcolor\": \"#E5ECF6\", \"caxis\": {\"gridcolor\": \"white\", \"linecolor\": \"white\", \"ticks\": \"\"}}, \"title\": {\"x\": 0.05}, \"xaxis\": {\"automargin\": true, \"gridcolor\": \"white\", \"linecolor\": \"white\", \"ticks\": \"\", \"title\": {\"standoff\": 15}, \"zerolinecolor\": \"white\", \"zerolinewidth\": 2}, \"yaxis\": {\"automargin\": true, \"gridcolor\": \"white\", \"linecolor\": \"white\", \"ticks\": \"\", \"title\": {\"standoff\": 15}, \"zerolinecolor\": \"white\", \"zerolinewidth\": 2}}}, \"title\": {\"font\": {\"color\": \"#4D5663\"}, \"text\": \"SOLO | Quant Figure\"}, \"xaxis\": {\"anchor\": \"y2\", \"gridcolor\": \"#E1E5ED\", \"rangeselector\": {\"bgcolor\": \"rgba(150, 200, 250, 1)\", \"buttons\": [{\"count\": 1, \"label\": \"1m\", \"step\": \"month\", \"stepmode\": \"backward\"}, {\"count\": 1, \"label\": \"1y\", \"step\": \"year\", \"stepmode\": \"backward\"}], \"font\": {\"size\": 13}, \"visible\": false, \"x\": 0, \"y\": 0.9}, \"rangeslider\": {\"visible\": false}, \"showgrid\": true, \"tickfont\": {\"color\": \"#4D5663\"}, \"title\": {\"font\": {\"color\": \"#4D5663\"}, \"text\": \"\"}, \"zerolinecolor\": \"#E1E5ED\"}, \"yaxis\": {\"gridcolor\": \"#E1E5ED\", \"showgrid\": true, \"showticklabels\": false, \"tickfont\": {\"color\": \"#4D5663\"}, \"title\": {\"font\": {\"color\": \"#4D5663\"}, \"text\": \"\"}, \"zerolinecolor\": \"#E1E5ED\"}, \"yaxis2\": {\"domain\": [0.46, 0.9], \"gridcolor\": \"#E1E5ED\", \"showgrid\": true, \"tickfont\": {\"color\": \"#4D5663\"}, \"title\": {\"font\": {\"color\": \"#4D5663\"}, \"text\": \"\"}, \"zerolinecolor\": \"#E1E5ED\"}, \"yaxis3\": {\"domain\": [0.23, 0.38], \"gridcolor\": \"#E1E5ED\", \"showgrid\": true, \"tickfont\": {\"color\": \"#4D5663\"}, \"title\": {\"font\": {\"color\": \"#4D5663\"}, \"text\": \"\"}, \"zerolinecolor\": \"#E1E5ED\"}, \"yaxis4\": {\"domain\": [0.0, 0.15], \"gridcolor\": \"#E1E5ED\", \"showgrid\": true, \"tickfont\": {\"color\": \"#4D5663\"}, \"title\": {\"font\": {\"color\": \"#4D5663\"}, \"text\": \"\"}, \"zerolinecolor\": \"#E1E5ED\"}},                        {\"showLink\": true, \"linkText\": \"Export to plotly.com\", \"plotlyServerURL\": \"https://plotly.com\", \"responsive\": true}                    ).then(function(){\n",
       "                            \n",
       "var gd = document.getElementById('39dfd361-4d8f-48b0-8ccf-17fc669e3cff');\n",
       "var x = new MutationObserver(function (mutations, observer) {{\n",
       "        var display = window.getComputedStyle(gd).display;\n",
       "        if (!display || display === 'none') {{\n",
       "            console.log([gd, 'removed!']);\n",
       "            Plotly.purge(gd);\n",
       "            observer.disconnect();\n",
       "        }}\n",
       "}});\n",
       "\n",
       "// Listen for the removal of the full notebook cells\n",
       "var notebookContainer = gd.closest('#notebook-container');\n",
       "if (notebookContainer) {{\n",
       "    x.observe(notebookContainer, {childList: true});\n",
       "}}\n",
       "\n",
       "// Listen for the clearing of the current output cell\n",
       "var outputEl = gd.closest('.output');\n",
       "if (outputEl) {{\n",
       "    x.observe(outputEl, {childList: true});\n",
       "}}\n",
       "\n",
       "                        })                };                });            </script>        </div>"
      ]
     },
     "metadata": {},
     "output_type": "display_data"
    }
   ],
   "source": [
    "qf=cf.QuantFig(SOLO,title='SOLO | Quant Figure',legend='center',name='GS')\n",
    "qf.add_bollinger_bands(periods=20,boll_std=2,colors=['magenta','grey'],fill=True)\n",
    "qf.add_sma([10],width=2,color=['green'],legendgroup=True)\n",
    "qf.add_macd()\n",
    "qf.add_volume()\n",
    "qf.iplot()"
   ]
  },
  {
   "cell_type": "markdown",
   "metadata": {},
   "source": [
    "# Future Work\n",
    "This notebook provided an introduction into the analysis of stocks and trends that may be leveraged during investment. The notebook is merely an introduction and future work can dive deeper into statistical trends and investment analysis. \n",
    "\n",
    "For any additional questions, please reach out via email at santana2.miguel@gmail.com or on [LinkedIn.](https://www.linkedin.com/in/miguel-angel-santana-ii-mba-51467276/)"
   ]
  },
  {
   "cell_type": "code",
   "execution_count": null,
   "metadata": {},
   "outputs": [],
   "source": []
  }
 ],
 "metadata": {
  "kernelspec": {
   "display_name": "Python [conda env:learn-env] *",
   "language": "python",
   "name": "conda-env-learn-env-py"
  },
  "language_info": {
   "codemirror_mode": {
    "name": "ipython",
    "version": 3
   },
   "file_extension": ".py",
   "mimetype": "text/x-python",
   "name": "python",
   "nbconvert_exporter": "python",
   "pygments_lexer": "ipython3",
   "version": "3.6.13"
  },
  "toc": {
   "base_numbering": 1,
   "nav_menu": {},
   "number_sections": true,
   "sideBar": true,
   "skip_h1_title": false,
   "title_cell": "Table of Contents",
   "title_sidebar": "Contents",
   "toc_cell": false,
   "toc_position": {
    "height": "calc(100% - 180px)",
    "left": "10px",
    "top": "150px",
    "width": "165px"
   },
   "toc_section_display": true,
   "toc_window_display": true
  }
 },
 "nbformat": 4,
 "nbformat_minor": 2
}
